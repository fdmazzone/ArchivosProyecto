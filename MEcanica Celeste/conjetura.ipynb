{
 "cells": [
  {
   "cell_type": "markdown",
   "metadata": {},
   "source": [
    "<h1> Conjetura </h1>\n",
    "<h3>\n",
    "\n",
    "Creemos que $U<\\frac{m_i^2}{|q_i|}+\\frac{m_{i+1}^2}{|q_{i+1}|}$ donde $i=0$ o $i=1$ acorde a que el centro de masas $c$ satisface $c\\in [q_i,q_{i+1}]$\n",
    "\n",
    "</h3>\n",
    "<h4>\n",
    "Vamos a chequear la conjetura experimentalmente\n",
    "</h4>"
   ]
  },
  {
   "cell_type": "code",
   "execution_count": 1,
   "metadata": {
    "collapsed": false
   },
   "outputs": [
    {
     "name": "stderr",
     "output_type": "stream",
     "text": [
      "/home/fernando/anaconda2/lib/python2.7/site-packages/matplotlib/font_manager.py:273: UserWarning: Matplotlib is building the font cache using fc-list. This may take a moment.\n",
      "  warnings.warn('Matplotlib is building the font cache using fc-list. This may take a moment.')\n"
     ]
    }
   ],
   "source": [
    "from matplotlib.pyplot import *\n",
    "from mpl_toolkits.mplot3d import *\n",
    "from pylab import *\n",
    "from numpy import *\n"
   ]
  },
  {
   "cell_type": "markdown",
   "metadata": {},
   "source": [
    "<h4> Ahora programamos una función que como argumento tiene las masas $m=(m_0,m_1,m_2)$ y devuelve $\\frac{m_i^2}{|q_i|}+\\frac{m_{i+1}^2}{|q_{i+1}|}-U$ donde $i=0$ o $i=1$ acorde a que el centro de masas $c$ satisface $c\\in [q_i,q_{i+1}]$ </h4>"
   ]
  },
  {
   "cell_type": "code",
   "execution_count": 2,
   "metadata": {
    "collapsed": true
   },
   "outputs": [],
   "source": [
    "Cant_Cuerpos=3\n",
    "def func(m):\n",
    "    L=[m[0]+m[1],3*m[0]+2*m[1], 3*m[0]+m[1], -(m[1]+3*m[2]), -(2*m[1]+3*m[2]), -(m[1]+m[2])]\n",
    "    sol=roots(L)\n",
    "    for s in sol:\n",
    "        if s.imag==0 and s.real>0:\n",
    "            Solreal=s.real\n",
    "    x=array([0,1,1+Solreal])   \n",
    "    c=dot(m,x)/sum(m) \n",
    "    x=x-array([c,c,c])\n",
    "    U=sum([ sum([m[i]*m[j]/abs(x[i]-x[j]) for i in range(j) ]) for j in range(Cant_Cuerpos)])\n",
    "    if Solreal*m[2]>1:\n",
    "        IA=sum([m[i]**2/abs(x[i]) for i in [1,2]])\n",
    "    else:\n",
    "        IA=sum([m[i]**2/abs(x[i]) for i in [0,1]])\n",
    "    ret=IA-U\n",
    "    return  ret\n"
   ]
  },
  {
   "cell_type": "markdown",
   "metadata": {},
   "source": [
    "<h4> Ahora graficamos $(m_1,m_2)\\mapsto f(1,m_1,m_2)$ para un matriz de $m_1,m_2$. </h4>"
   ]
  },
  {
   "cell_type": "code",
   "execution_count": 4,
   "metadata": {
    "collapsed": true
   },
   "outputs": [],
   "source": [
    "M1=arange(0.01,5,.1)\n",
    "M2=arange(.01,5,.1)\n",
    "Z=zeros([shape(M1)[0],shape(M2)[0]])\n",
    "for  i in range(shape(M1)[0]):\n",
    "    for j in range(shape(M2)[0]):\n",
    "        Z[i,j]=func([1,M1[i],M2[j]])\n",
    "Z=minimum(Z,1000*ones(shape(Z)))\n",
    "Z=maximum(Z,-1000*ones(shape(Z)))\n",
    "X,Y=meshgrid(M1,M2)\n",
    "fig=figure()\n",
    "ax=Axes3D(fig)\n",
    "ax.plot_surface(X,Y,Z.transpose())\n",
    "xlabel('m1')\n",
    "ylabel('m2')\n",
    "show()"
   ]
  },
  {
   "cell_type": "markdown",
   "metadata": {},
   "source": [
    "<img src=\"https://raw.githubusercontent.com/fdmazzone/ArchivosProyecto/master/MEcanica%20Celeste/figure_1-1.png\" width=\"50%\" height=\"50%\"/>"
   ]
  },
  {
   "cell_type": "markdown",
   "metadata": {},
   "source": [
    "Graficamos curvas de nivel $f=k$ con $k=-2+ 0.1j$, con $j=0,\\ldots,20$ sólo las positivas son no vacías "
   ]
  },
  {
   "cell_type": "code",
   "execution_count": 5,
   "metadata": {
    "collapsed": true
   },
   "outputs": [],
   "source": [
    "fig=figure()\n",
    "V=[k for k in arange(-2,2,.3)]\n",
    "cp = contour(X, Y, Z.transpose(),V)\n",
    "clabel(cp, inline=True,fontsize=10)\n",
    "title('Contour Plot')\n",
    "xlabel('m1')\n",
    "ylabel('m2')\n",
    "\n",
    "show()"
   ]
  },
  {
   "cell_type": "markdown",
   "metadata": {},
   "source": [
    "<img src=\"https://raw.githubusercontent.com/fdmazzone/ArchivosProyecto/master/MEcanica%20Celeste/figure_1-2.png\" width=\"50%\" height=\"50%\"/>"
   ]
  },
  {
   "cell_type": "code",
   "execution_count": null,
   "metadata": {
    "collapsed": true
   },
   "outputs": [],
   "source": []
  }
 ],
 "metadata": {
  "kernelspec": {
   "display_name": "Python 2",
   "language": "python",
   "name": "python2"
  },
  "language_info": {
   "codemirror_mode": {
    "name": "ipython",
    "version": 2
   },
   "file_extension": ".py",
   "mimetype": "text/x-python",
   "name": "python",
   "nbconvert_exporter": "python",
   "pygments_lexer": "ipython2",
   "version": "2.7.11"
  }
 },
 "nbformat": 4,
 "nbformat_minor": 0
}
