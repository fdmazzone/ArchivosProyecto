{
 "cells": [
  {
   "cell_type": "code",
   "execution_count": 1,
   "metadata": {
    "collapsed": false
   },
   "outputs": [
    {
     "name": "stderr",
     "output_type": "stream",
     "text": [
      "/home/fernando/anaconda2/lib/python2.7/site-packages/matplotlib/font_manager.py:273: UserWarning: Matplotlib is building the font cache using fc-list. This may take a moment.\n",
      "  warnings.warn('Matplotlib is building the font cache using fc-list. This may take a moment.')\n"
     ]
    }
   ],
   "source": [
    "from matplotlib.pyplot import *\n",
    "from mpl_toolkits.mplot3d import *\n",
    "from pylab import *\n",
    "from numpy import *"
   ]
  },
  {
   "cell_type": "code",
   "execution_count": 72,
   "metadata": {
    "collapsed": true
   },
   "outputs": [],
   "source": [
    "#from sympy import *\n",
    "Cant_Cuerpos=3\n",
    "#r=Symbol('r')\n",
    "'''#m=symbols('m0:%s' %Cant_Cuerpos, positive=True)  \n",
    "x=symbols('x0:%s' %Cant_Cuerpos, real=True) #posiciones\n",
    "U=sum([ sum([m[i]*m[j]/abs(x[i]-x[j]) for i in range(j) ]) for j in range(Cant_Cuerpos)])\n",
    "IA=sum([m[j]*(x[j])**2 for j in range(Cant_Cuerpos)])*sum([m[j]/(x[j])*3 for j in range(Cant_Cuerpos)])'''\n",
    "\n",
    "def func(m,i,j):\n",
    "    #Polinomio=m[0]*r**5 + 3*m[0]*r**4 + 3*m[0]*r**3 + m[1]*r**5 + 2*m[1]*r**4 + m[1]*r**3 - m[1]*r**2 - 2*m[1]*r - m[1] - 3*m[2]*r**2 - 3*m[2]*r - m[2]\n",
    "    #L=[Polinomio.diff(r,i).subs(r,0)/factorial(i) for i in range(6)]\n",
    "    #L=L[::-1]\n",
    "    L=[m[0]+m[1],3*m[0]+2*m[1], 3*m[0]+m[1], -(m[1]+3*m[2]), -(2*m[1]+3*m[2]), -(m[1]+m[2])]\n",
    "    sol=roots(L)\n",
    "    for s in sol:\n",
    "        if s.imag==0 and s.real>0:\n",
    "            Solreal=s.real\n",
    "    x=array([0,1,1+Solreal])   \n",
    "    c=dot(m,x)/sum(m) \n",
    "    x=x-array([c,c,c])\n",
    "    #U=sum([ sum([m[i]*m[j]/abs(x[i]-x[j]) for i in range(j) ]) for j in range(Cant_Cuerpos)])\n",
    "    #IA=dot(m,x**2)*dot(m,1/abs(x)**3)\n",
    "    #ret=IA-U\n",
    "    #signo=sign(ret)\n",
    "    ret=m[i]**2/2/abs(x[i])+m[j]**2/2/abs(x[j])-m[i]*m[j]/abs(x[i]-x[j])+m[i]**2/2/abs(x[i])+m[i]*m[j]*(x[i]**2/abs(x[j]**3)+x[j]**2/abs(x[i]**3))\n",
    "    return  ret\n",
    "\n"
   ]
  },
  {
   "cell_type": "code",
   "execution_count": null,
   "metadata": {
    "collapsed": true
   },
   "outputs": [],
   "source": []
  },
  {
   "cell_type": "code",
   "execution_count": 96,
   "metadata": {
    "collapsed": false
   },
   "outputs": [
    {
     "name": "stderr",
     "output_type": "stream",
     "text": [
      "/home/fernando/anaconda2/lib/python2.7/site-packages/ipykernel/__main__.py:25: RuntimeWarning: divide by zero encountered in double_scalars\n"
     ]
    }
   ],
   "source": [
    "M1=arange(0.01,5,.05)\n",
    "M2=arange(1,100,.05)\n",
    "Z=zeros([shape(M1)[0],shape(M2)[0]])\n",
    "for  i in range(shape(M1)[0]):\n",
    "    for j in range(shape(M2)[0]):\n",
    "        Z[i,j]=func([1,M1[i],M2[j]],0,1)\n",
    "Z=minimum(Z,10*ones(shape(Z)))\n",
    "Z=maximum(Z,-10*ones(shape(Z)))"
   ]
  },
  {
   "cell_type": "code",
   "execution_count": 97,
   "metadata": {
    "collapsed": false
   },
   "outputs": [],
   "source": [
    "X,Y=meshgrid(M1,M2)\n",
    "fig=figure()\n",
    "ax=Axes3D(fig)\n",
    "ax.plot_surface(X,Y,Z.transpose())\n",
    "xlabel('m1')\n",
    "ylabel('m2')\n",
    "show()\n"
   ]
  },
  {
   "cell_type": "code",
   "execution_count": 98,
   "metadata": {
    "collapsed": false
   },
   "outputs": [],
   "source": [
    "fig=figure()\n",
    "V=[k for k in arange(-10,0,.01)]\n",
    "cp = contour(X, Y, Z.transpose(),V)\n",
    "clabel(cp, inline=True,fontsize=10)\n",
    "title('Contour Plot')\n",
    "xlabel('m1')\n",
    "ylabel('m2')\n",
    "show()"
   ]
  },
  {
   "cell_type": "code",
   "execution_count": 10,
   "metadata": {
    "collapsed": true
   },
   "outputs": [],
   "source": [
    "show()\n",
    "\n"
   ]
  },
  {
   "cell_type": "code",
   "execution_count": 3,
   "metadata": {
    "collapsed": false
   },
   "outputs": [
    {
     "data": {
      "text/plain": [
       "[-2, -1, 0, 1]"
      ]
     },
     "execution_count": 3,
     "metadata": {},
     "output_type": "execute_result"
    }
   ],
   "source": [
    "range(-2,2,1)\n"
   ]
  },
  {
   "cell_type": "code",
   "execution_count": 28,
   "metadata": {
    "collapsed": false
   },
   "outputs": [
    {
     "data": {
      "text/plain": [
       "array([0, 1, 1])"
      ]
     },
     "execution_count": 28,
     "metadata": {},
     "output_type": "execute_result"
    }
   ],
   "source": [
    "abs(array([0,1,-1]))   "
   ]
  },
  {
   "cell_type": "code",
   "execution_count": null,
   "metadata": {
    "collapsed": true
   },
   "outputs": [],
   "source": []
  }
 ],
 "metadata": {
  "kernelspec": {
   "display_name": "Python 2",
   "language": "python",
   "name": "python2"
  },
  "language_info": {
   "codemirror_mode": {
    "name": "ipython",
    "version": 2
   },
   "file_extension": ".py",
   "mimetype": "text/x-python",
   "name": "python",
   "nbconvert_exporter": "python",
   "pygments_lexer": "ipython2",
   "version": "2.7.11"
  }
 },
 "nbformat": 4,
 "nbformat_minor": 0
}
