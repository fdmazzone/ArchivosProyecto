{
 "cells": [
  {
   "cell_type": "markdown",
   "metadata": {},
   "source": [
    "<h2> ¿Cuando $q_1=c$ ? </h2>"
   ]
  },
  {
   "cell_type": "code",
   "execution_count": 1,
   "metadata": {
    "collapsed": true
   },
   "outputs": [],
   "source": [
    "from sympy import *\n",
    "init_printing() #muestra símbolos más agradab\n",
    "R=lambda n,d: Rational(n,d)"
   ]
  },
  {
   "cell_type": "code",
   "execution_count": 2,
   "metadata": {
    "collapsed": true
   },
   "outputs": [],
   "source": [
    "Cant_Cuerpos=3\n",
    "m=symbols('m0:%s' %Cant_Cuerpos, positive=True) #masas\n",
    "#x=symbols('x0:%s' %Cant_Cuerpos, real=True) #posiciones\n",
    "r=symbols('r')"
   ]
  },
  {
   "cell_type": "code",
   "execution_count": 3,
   "metadata": {
    "collapsed": false
   },
   "outputs": [
    {
     "data": {
      "image/png": "[encoded data removed]",
      "text/latex": [
       "$$- m_{1} - m_{2} + r^{5} \\left(m_{1} + 1\\right) + r^{4} \\left(2 m_{1} + 3\\right) + r^{3} \\left(m_{1} + 3\\right) + r^{2} \\left(- m_{1} - 3 m_{2}\\right) + r \\left(- 2 m_{1} - 3 m_{2}\\right)$$"
      ],
      "text/plain": [
       "            5             4               3             2                     \n",
       "-m₁ - m₂ + r ⋅(m₁ + 1) + r ⋅(2⋅m₁ + 3) + r ⋅(m₁ + 3) + r ⋅(-m₁ - 3⋅m₂) + r⋅(-2\n",
       "\n",
       "           \n",
       "⋅m₁ - 3⋅m₂)"
      ]
     },
     "execution_count": 3,
     "metadata": {},
     "output_type": "execute_result"
    }
   ],
   "source": [
    "f=r**5 + 3*r**4 + 3*r**3 + m[1]*r**5 + 2*m[1]*r**4 + m[1]*r**3 - m[1]*r**2 - 2*m[1]*r - m[1] - 3*m[2]*r**2 - 3*m[2]*r - m[2]\n",
    "f=f.collect(r)\n",
    "f"
   ]
  },
  {
   "cell_type": "markdown",
   "metadata": {},
   "source": [
    "Para que $q_1=c$ tiene que valer, como esta visto en otra notebook, que $rm_2=1$. Pero tiene que darse también que $f(m_1,m_2,r)=0$, donde $f$ es el polinomio de Euler de grado 5 "
   ]
  },
  {
   "cell_type": "code",
   "execution_count": 4,
   "metadata": {
    "collapsed": false
   },
   "outputs": [
    {
     "data": {
      "image/png": "[encoded data removed]",
      "text/latex": [
       "$$- m_{1} - \\frac{2 m_{1}}{m_{2}} - \\frac{m_{1}}{m_{2}^{2}} + \\frac{m_{1}}{m_{2}^{3}} + \\frac{2 m_{1}}{m_{2}^{4}} + \\frac{m_{1}}{m_{2}^{5}} - m_{2} - 3 - \\frac{3}{m_{2}} + \\frac{3}{m_{2}^{3}} + \\frac{3}{m_{2}^{4}} + \\frac{1}{m_{2}^{5}}$$"
      ],
      "text/plain": [
       "      2⋅m₁    m₁    m₁   2⋅m₁    m₁            3     3     3     1 \n",
       "-m₁ - ──── - ─── + ─── + ──── + ─── - m₂ - 3 - ── + ─── + ─── + ───\n",
       "       m₂      2     3     4      5            m₂     3     4     5\n",
       "             m₂    m₂    m₂     m₂                  m₂    m₂    m₂ "
      ]
     },
     "execution_count": 4,
     "metadata": {},
     "output_type": "execute_result"
    }
   ],
   "source": [
    "f.subs({r:m[2]**(-1)}).expand()\n"
   ]
  },
  {
   "cell_type": "code",
   "execution_count": 5,
   "metadata": {
    "collapsed": false
   },
   "outputs": [
    {
     "data": {
      "image/png": "[encoded data removed]",
      "text/latex": [
       "$$- \\frac{1}{m_{2}^{5}} \\left(m_{2} - 1\\right) \\left(m_{2} + 1\\right)^{2} \\left(m_{1} + m_{2} + 1\\right) \\left(m_{2}^{2} + m_{2} + 1\\right)$$"
      ],
      "text/plain": [
       "                  2               ⎛  2         ⎞ \n",
       "-(m₂ - 1)⋅(m₂ + 1) ⋅(m₁ + m₂ + 1)⋅⎝m₂  + m₂ + 1⎠ \n",
       "─────────────────────────────────────────────────\n",
       "                         5                       \n",
       "                       m₂                        "
      ]
     },
     "execution_count": 5,
     "metadata": {},
     "output_type": "execute_result"
    }
   ],
   "source": [
    "f.subs({r:m[2]**(-1)}).factor()"
   ]
  },
  {
   "cell_type": "markdown",
   "metadata": {},
   "source": [
    "La única solución con $m_1>0$ y $m_2>0$ es $m_2=1$ y $m_1>0$ cualquier masa positiva. Este resultado es físicamente evidente."
   ]
  },
  {
   "cell_type": "markdown",
   "metadata": {},
   "source": [
    "<h2> Demostración que $r(m_1,m_2)$ es concava respecto a $m[2]$ para $m[1]$ fijo</h2>\n",
    "Trataremos de ver que $\\frac{\\partial^2 r}{\\partial m_2^2}<0$. Calculamos la derivada siguiendo la derivación de una función implícita. En la expresión de $f$ sustiuyo $r$ por una función de $m_1,m_2$ que llamo $R(m_1,m_2)$. A la expresión que resulta $f_1$ la derivo respecto a $m_2$ y despejo $\\frac{\\partial R}{\\partial m_2}$ en función de $R$. "
   ]
  },
  {
   "cell_type": "code",
   "execution_count": 10,
   "metadata": {
    "collapsed": false
   },
   "outputs": [
    {
     "data": {
      "image/png": "[encoded data removed]",
      "text/latex": [
       "$$\\frac{3 R^{2}{\\left (m_{1},m_{2} \\right )} + 3 R{\\left (m_{1},m_{2} \\right )} + 1}{- 2 m_{1} - 3 m_{2} + \\left(- 2 m_{1} - 6 m_{2}\\right) R{\\left (m_{1},m_{2} \\right )} + \\left(3 m_{1} + 9\\right) R^{2}{\\left (m_{1},m_{2} \\right )} + \\left(5 m_{1} + 5\\right) R^{4}{\\left (m_{1},m_{2} \\right )} + \\left(8 m_{1} + 12\\right) R^{3}{\\left (m_{1},m_{2} \\right )}}$$"
      ],
      "text/plain": [
       "                                            2                                 \n",
       "                                         3⋅R (m₁, m₂) + 3⋅R(m₁, m₂) + 1       \n",
       "──────────────────────────────────────────────────────────────────────────────\n",
       "                                                      2                       \n",
       "-2⋅m₁ - 3⋅m₂ + (-2⋅m₁ - 6⋅m₂)⋅R(m₁, m₂) + (3⋅m₁ + 9)⋅R (m₁, m₂) + (5⋅m₁ + 5)⋅R\n",
       "\n",
       "                                  \n",
       "                                  \n",
       "──────────────────────────────────\n",
       "4                        3        \n",
       " (m₁, m₂) + (8⋅m₁ + 12)⋅R (m₁, m₂)"
      ]
     },
     "execution_count": 10,
     "metadata": {},
     "output_type": "execute_result"
    }
   ],
   "source": [
    "R=Function('R')(m[1],m[2])\n",
    "f1=f.subs(r,R)\n",
    "f1=f1.diff(m[2])\n",
    "r_m2=solve(f1,R.diff(m[2]))[0].collect(R)\n",
    "r_m2"
   ]
  },
  {
   "cell_type": "markdown",
   "metadata": {},
   "source": [
    "A la expresión que resulta la derivo respecto a $m_2$, aparece nuevamente $\\frac{\\partial R}{\\partial m_2}$ lo sustituyo por la expresión que había calculado antes  que lo ponía en función de $R$. Vuelvo a sustiruir $R$ por $r$ por simplicidad"
   ]
  },
  {
   "cell_type": "code",
   "execution_count": 11,
   "metadata": {
    "collapsed": false
   },
   "outputs": [
    {
     "data": {
      "image/png": "[encoded data removed]",
      "text/latex": [
       "$$- \\frac{2 \\left(3 r^{2} + 3 r + 1\\right) \\left(3 m_{1} r^{4} + 13 m_{1} r^{3} + 21 m_{1} r^{2} + 18 m_{1} r + 5 m_{1} + 27 m_{2} r^{2} + 27 m_{2} r + 6 m_{2} - 3 r^{4} + r^{3} + 18 r^{2} + 9 r\\right)}{\\left(5 m_{1} r^{4} + 8 m_{1} r^{3} + 3 m_{1} r^{2} - 2 m_{1} r - 2 m_{1} - 6 m_{2} r - 3 m_{2} + 5 r^{4} + 12 r^{3} + 9 r^{2}\\right)^{3}}$$"
      ],
      "text/plain": [
       "   ⎛   2          ⎞ ⎛      4          3          2                           2\n",
       "-2⋅⎝3⋅r  + 3⋅r + 1⎠⋅⎝3⋅m₁⋅r  + 13⋅m₁⋅r  + 21⋅m₁⋅r  + 18⋅m₁⋅r + 5⋅m₁ + 27⋅m₂⋅r \n",
       "──────────────────────────────────────────────────────────────────────────────\n",
       "                                                                              \n",
       "                    ⎛      4         3         2                              \n",
       "                    ⎝5⋅m₁⋅r  + 8⋅m₁⋅r  + 3⋅m₁⋅r  - 2⋅m₁⋅r - 2⋅m₁ - 6⋅m₂⋅r - 3⋅\n",
       "\n",
       "                       4    3       2      ⎞ \n",
       " + 27⋅m₂⋅r + 6⋅m₂ - 3⋅r  + r  + 18⋅r  + 9⋅r⎠ \n",
       "─────────────────────────────────────────────\n",
       "                         3                   \n",
       "        4       3      2⎞                    \n",
       "m₂ + 5⋅r  + 12⋅r  + 9⋅r ⎠                    "
      ]
     },
     "execution_count": 11,
     "metadata": {},
     "output_type": "execute_result"
    }
   ],
   "source": [
    "f2=r_m2.diff(m[2]).subs(R.diff(m[2]),r_m2).subs(R,r)\n",
    "f2.simplify().factor()\n"
   ]
  },
  {
   "cell_type": "markdown",
   "metadata": {},
   "source": [
    "Hay que demostrar que la expresión es negativa. Tomo los dos factores que no tienen un signo definido y los estudio por separado."
   ]
  },
  {
   "cell_type": "code",
   "execution_count": 12,
   "metadata": {
    "collapsed": false
   },
   "outputs": [
    {
     "data": {
      "image/png": "[encoded data removed]",
      "text/latex": [
       "$$- 2 m_{1} - 3 m_{2} + r^{4} \\left(5 m_{1} + 5\\right) + r^{3} \\left(8 m_{1} + 12\\right) + r^{2} \\left(3 m_{1} + 9\\right) + r \\left(- 2 m_{1} - 6 m_{2}\\right)$$"
      ],
      "text/plain": [
       "                4               3                2                            \n",
       "-2⋅m₁ - 3⋅m₂ + r ⋅(5⋅m₁ + 5) + r ⋅(8⋅m₁ + 12) + r ⋅(3⋅m₁ + 9) + r⋅(-2⋅m₁ - 6⋅m\n",
       "\n",
       "  \n",
       "₂)"
      ]
     },
     "execution_count": 12,
     "metadata": {},
     "output_type": "execute_result"
    }
   ],
   "source": [
    "num=(3*m[1]*r**4 + 13*m[1]*r**3 + 21*m[1]*r**2 + 18*m[1]*r + 5*m[1] + 27*m[2]*r**2 + 27*m[2]*r + 6*m[2] - 3*r**4 + r**3 + 18*r**2 + 9*r)\n",
    "dem=5*m[1]*r**4 + 8*m[1]*r**3 + 3*m[1]*r**2 - 2*m[1]*r - 2*m[1] - 6*m[2]*r - 3*m[2] + 5*r**4 + 12*r**3 + 9*r**2\n",
    "dem.collect(r)\n"
   ]
  },
  {
   "cell_type": "code",
   "execution_count": 13,
   "metadata": {
    "collapsed": false
   },
   "outputs": [
    {
     "data": {
      "image/png": "[encoded data removed]",
      "text/latex": [
       "$$5 m_{1} + 6 m_{2} + r^{4} \\left(3 m_{1} - 3\\right) + r^{3} \\left(13 m_{1} + 1\\right) + r^{2} \\left(21 m_{1} + 27 m_{2} + 18\\right) + r \\left(18 m_{1} + 27 m_{2} + 9\\right)$$"
      ],
      "text/plain": [
       "               4               3                2                             \n",
       "5⋅m₁ + 6⋅m₂ + r ⋅(3⋅m₁ - 3) + r ⋅(13⋅m₁ + 1) + r ⋅(21⋅m₁ + 27⋅m₂ + 18) + r⋅(18\n",
       "\n",
       "                \n",
       "⋅m₁ + 27⋅m₂ + 9)"
      ]
     },
     "execution_count": 13,
     "metadata": {},
     "output_type": "execute_result"
    }
   ],
   "source": [
    "num.collect(r)"
   ]
  },
  {
   "cell_type": "markdown",
   "metadata": {},
   "source": [
    "Creo que el teorema de Descartes implica que el cociente de estas expresiones cambian de signo. Ahora aquí nos hemos olvidado que $r=r(m_1,m_2)$, i.e. no se puede variar $r$ independientemente de $m_1,m_2$. La idea sería ver que si reemplazo $r$ por su expresión en $m_1,m_2$ quedan expresiones con signo definido. Claro que no tenemos una fórmula para $r$. Trato de usar la fórmula de Gastón\n",
    "$$ r^3=\\frac{m_2(3r^2+3r+1)+m_1(r+1)^2}{(r^2+3r+3)+m_1(r+1)^2}=:g$$\n",
    "Reemplazo $r^3$ por $g$ y $r^4$ por $rg$\n"
   ]
  },
  {
   "cell_type": "code",
   "execution_count": 15,
   "metadata": {
    "collapsed": false
   },
   "outputs": [
    {
     "data": {
      "image/png": "[encoded data removed]",
      "text/latex": [
       "$$\\frac{1}{m_{1} \\left(r + 1\\right)^{2} + r^{2} + 3 r + 3} \\left(3 m_{1} r \\left(m_{1} \\left(r + 1\\right)^{2} + m_{2} \\left(3 r^{2} + 3 r + 1\\right)\\right) + m_{1} \\left(r + 1\\right)^{2} + 13 m_{1} \\left(m_{1} \\left(r + 1\\right)^{2} + m_{2} \\left(3 r^{2} + 3 r + 1\\right)\\right) + m_{2} \\left(3 r^{2} + 3 r + 1\\right) - 3 r \\left(m_{1} \\left(r + 1\\right)^{2} + m_{2} \\left(3 r^{2} + 3 r + 1\\right)\\right) + \\left(m_{1} \\left(r + 1\\right)^{2} + r^{2} + 3 r + 3\\right) \\left(21 m_{1} r^{2} + 18 m_{1} r + 5 m_{1} + 27 m_{2} r^{2} + 27 m_{2} r + 6 m_{2} + 18 r^{2} + 9 r\\right)\\right)$$"
      ],
      "text/plain": [
       "       ⎛          2      ⎛   2          ⎞⎞             2         ⎛          2 \n",
       "3⋅m₁⋅r⋅⎝m₁⋅(r + 1)  + m₂⋅⎝3⋅r  + 3⋅r + 1⎠⎠ + m₁⋅(r + 1)  + 13⋅m₁⋅⎝m₁⋅(r + 1)  \n",
       "──────────────────────────────────────────────────────────────────────────────\n",
       "                                                                              \n",
       "                                                                              \n",
       "\n",
       "     ⎛   2          ⎞⎞      ⎛   2          ⎞       ⎛          2      ⎛   2    \n",
       "+ m₂⋅⎝3⋅r  + 3⋅r + 1⎠⎠ + m₂⋅⎝3⋅r  + 3⋅r + 1⎠ - 3⋅r⋅⎝m₁⋅(r + 1)  + m₂⋅⎝3⋅r  + 3\n",
       "──────────────────────────────────────────────────────────────────────────────\n",
       "                                                    2    2                    \n",
       "                                          m₁⋅(r + 1)  + r  + 3⋅r + 3          \n",
       "\n",
       "      ⎞⎞   ⎛          2    2          ⎞ ⎛       2                           2 \n",
       "⋅r + 1⎠⎠ + ⎝m₁⋅(r + 1)  + r  + 3⋅r + 3⎠⋅⎝21⋅m₁⋅r  + 18⋅m₁⋅r + 5⋅m₁ + 27⋅m₂⋅r  \n",
       "──────────────────────────────────────────────────────────────────────────────\n",
       "                                                                              \n",
       "                                                                              \n",
       "\n",
       "                       2      ⎞\n",
       "+ 27⋅m₂⋅r + 6⋅m₂ + 18⋅r  + 9⋅r⎠\n",
       "───────────────────────────────\n",
       "                               \n",
       "                               "
      ]
     },
     "execution_count": 15,
     "metadata": {},
     "output_type": "execute_result"
    }
   ],
   "source": [
    "g=(m[2]*(3*r**2+3*r+1)+m[1]*(r+1)**2)/((r**2+3*r+3)+m[1]*(r+1)**2)\n",
    "num.subs({r**4:g*r,r**3:g}).simplify()"
   ]
  },
  {
   "cell_type": "markdown",
   "metadata": {},
   "source": [
    "Me quedo con el segundo factor, el primero se ve que es positivo"
   ]
  },
  {
   "cell_type": "code",
   "execution_count": 16,
   "metadata": {
    "collapsed": false
   },
   "outputs": [
    {
     "data": {
      "image/png": "[encoded data removed]",
      "text/latex": [
       "$$18 m_{1}^{2} + 19 m_{1} m_{2} + 16 m_{1} + 19 m_{2} + r^{4} \\left(21 m_{1}^{2} + 27 m_{1} m_{2} + 39 m_{1} + 27 m_{2} + 18\\right) + r^{3} \\left(63 m_{1}^{2} + 90 m_{1} m_{2} + 123 m_{1} + 99 m_{2} + 63\\right) + r^{2} \\left(81 m_{1}^{2} + 135 m_{1} m_{2} + 153 m_{1} + 162 m_{2} + 81\\right) + r \\left(57 m_{1}^{2} + 81 m_{1} m_{2} + 77 m_{1} + 99 m_{2} + 27\\right)$$"
      ],
      "text/plain": [
       "     2                               4 ⎛     2                                \n",
       "18⋅m₁  + 19⋅m₁⋅m₂ + 16⋅m₁ + 19⋅m₂ + r ⋅⎝21⋅m₁  + 27⋅m₁⋅m₂ + 39⋅m₁ + 27⋅m₂ + 18\n",
       "\n",
       "⎞    3 ⎛     2                                 ⎞    2 ⎛     2                 \n",
       "⎠ + r ⋅⎝63⋅m₁  + 90⋅m₁⋅m₂ + 123⋅m₁ + 99⋅m₂ + 63⎠ + r ⋅⎝81⋅m₁  + 135⋅m₁⋅m₂ + 15\n",
       "\n",
       "                  ⎞     ⎛     2                                ⎞\n",
       "3⋅m₁ + 162⋅m₂ + 81⎠ + r⋅⎝57⋅m₁  + 81⋅m₁⋅m₂ + 77⋅m₁ + 99⋅m₂ + 27⎠"
      ]
     },
     "execution_count": 16,
     "metadata": {},
     "output_type": "execute_result"
    }
   ],
   "source": [
    "f3=(3*m[1]*r*(m[1]*(r + 1)**2 + m[2]*(3*r**2 + 3*r + 1)) + m[1]*(r + 1)**2 + 13*m[1]*(m[1]*(r + 1)**2 + m[2]*(3*r**2 + 3*r + 1)) + m[2]*(3*r**2 + 3*r + 1) - 3*r*(m[1]*(r + 1)**2 + m[2]*(3*r**2 + 3*r + 1)) + (m[1]*(r + 1)**2 + r**2 + 3*r + 3)*(21*m[1]*r**2 + 18*m[1]*r + 5*m[1] + 27*m[2]*r**2 + 27*m[2]*r + 6*m[2] + 18*r**2 + 9*r))\n",
    "f3.expand(r).collect(r)"
   ]
  },
  {
   "cell_type": "markdown",
   "metadata": {},
   "source": [
    "La expresión tiene sólo términos positivos. Hago lo mismo con \"dem\""
   ]
  },
  {
   "cell_type": "code",
   "execution_count": 17,
   "metadata": {
    "collapsed": false
   },
   "outputs": [
    {
     "data": {
      "image/png": "[encoded data removed]",
      "text/latex": [
       "$$\\frac{1}{m_{1} \\left(r + 1\\right)^{2} + r^{2} + 3 r + 3} \\left(5 m_{1} r \\left(m_{1} \\left(r + 1\\right)^{2} + m_{2} \\left(3 r^{2} + 3 r + 1\\right)\\right) + 12 m_{1} \\left(r + 1\\right)^{2} + 8 m_{1} \\left(m_{1} \\left(r + 1\\right)^{2} + m_{2} \\left(3 r^{2} + 3 r + 1\\right)\\right) + 12 m_{2} \\left(3 r^{2} + 3 r + 1\\right) + 5 r \\left(m_{1} \\left(r + 1\\right)^{2} + m_{2} \\left(3 r^{2} + 3 r + 1\\right)\\right) + \\left(m_{1} \\left(r + 1\\right)^{2} + r^{2} + 3 r + 3\\right) \\left(3 m_{1} r^{2} - 2 m_{1} r - 2 m_{1} - 6 m_{2} r - 3 m_{2} + 9 r^{2}\\right)\\right)$$"
      ],
      "text/plain": [
       "       ⎛          2      ⎛   2          ⎞⎞                2        ⎛          \n",
       "5⋅m₁⋅r⋅⎝m₁⋅(r + 1)  + m₂⋅⎝3⋅r  + 3⋅r + 1⎠⎠ + 12⋅m₁⋅(r + 1)  + 8⋅m₁⋅⎝m₁⋅(r + 1)\n",
       "──────────────────────────────────────────────────────────────────────────────\n",
       "                                                                              \n",
       "                                                                              \n",
       "\n",
       "2      ⎛   2          ⎞⎞         ⎛   2          ⎞       ⎛          2      ⎛   \n",
       "  + m₂⋅⎝3⋅r  + 3⋅r + 1⎠⎠ + 12⋅m₂⋅⎝3⋅r  + 3⋅r + 1⎠ + 5⋅r⋅⎝m₁⋅(r + 1)  + m₂⋅⎝3⋅r\n",
       "──────────────────────────────────────────────────────────────────────────────\n",
       "                                            2    2                            \n",
       "                                  m₁⋅(r + 1)  + r  + 3⋅r + 3                  \n",
       "\n",
       "2          ⎞⎞   ⎛          2    2          ⎞ ⎛      2                         \n",
       "  + 3⋅r + 1⎠⎠ + ⎝m₁⋅(r + 1)  + r  + 3⋅r + 3⎠⋅⎝3⋅m₁⋅r  - 2⋅m₁⋅r - 2⋅m₁ - 6⋅m₂⋅r\n",
       "──────────────────────────────────────────────────────────────────────────────\n",
       "                                                                              \n",
       "                                                                              \n",
       "\n",
       "             2⎞\n",
       " - 3⋅m₂ + 9⋅r ⎠\n",
       "───────────────\n",
       "               \n",
       "               "
      ]
     },
     "execution_count": 17,
     "metadata": {},
     "output_type": "execute_result"
    }
   ],
   "source": [
    "dem.subs({r**4:g*r,r**3:g}).simplify()"
   ]
  },
  {
   "cell_type": "code",
   "execution_count": 18,
   "metadata": {
    "collapsed": false
   },
   "outputs": [
    {
     "data": {
      "image/png": "[encoded data removed]",
      "text/latex": [
       "$$6 m_{1}^{2} + 5 m_{1} m_{2} + 6 m_{1} + 3 m_{2} + r^{4} \\left(3 m_{1}^{2} + 12 m_{1} + 9\\right) + r^{3} \\left(9 m_{1}^{2} + 9 m_{1} m_{2} + 30 m_{1} + 9 m_{2} + 27\\right) + r^{2} \\left(15 m_{1}^{2} + 24 m_{1} m_{2} + 32 m_{1} + 30 m_{2} + 27\\right) + r \\left(15 m_{1}^{2} + 17 m_{1} m_{2} + 17 m_{1} + 14 m_{2}\\right)$$"
      ],
      "text/plain": [
       "    2                            4 ⎛    2            ⎞    3 ⎛    2            \n",
       "6⋅m₁  + 5⋅m₁⋅m₂ + 6⋅m₁ + 3⋅m₂ + r ⋅⎝3⋅m₁  + 12⋅m₁ + 9⎠ + r ⋅⎝9⋅m₁  + 9⋅m₁⋅m₂ +\n",
       "\n",
       "                  ⎞    2 ⎛     2                                ⎞     ⎛     2 \n",
       " 30⋅m₁ + 9⋅m₂ + 27⎠ + r ⋅⎝15⋅m₁  + 24⋅m₁⋅m₂ + 32⋅m₁ + 30⋅m₂ + 27⎠ + r⋅⎝15⋅m₁  \n",
       "\n",
       "                          ⎞\n",
       "+ 17⋅m₁⋅m₂ + 17⋅m₁ + 14⋅m₂⎠"
      ]
     },
     "execution_count": 18,
     "metadata": {},
     "output_type": "execute_result"
    }
   ],
   "source": [
    "f4=(5*m[1]*r*(m[1]*(r + 1)**2 + m[2]*(3*r**2 + 3*r + 1)) + 12*m[1]*(r + 1)**2 + 8*m[1]*(m[1]*(r + 1)**2 + m[2]*(3*r**2 + 3*r + 1)) + 12*m[2]*(3*r**2 + 3*r + 1) + 5*r*(m[1]*(r + 1)**2 + m[2]*(3*r**2 + 3*r + 1)) + (m[1]*(r + 1)**2 + r**2 + 3*r + 3)*(3*m[1]*r**2 - 2*m[1]*r - 2*m[1] - 6*m[2]*r - 3*m[2] + 9*r**2))\n",
    "f4.expand(r).collect(r)"
   ]
  },
  {
   "cell_type": "markdown",
   "metadata": {
    "collapsed": true
   },
   "source": [
    "También aparecen sólo términos positivos. Por consiguiente se llega a lo que quería."
   ]
  },
  {
   "cell_type": "code",
   "execution_count": null,
   "metadata": {
    "collapsed": true
   },
   "outputs": [],
   "source": []
  }
 ],
 "metadata": {
  "kernelspec": {
   "display_name": "Python [Root]",
   "language": "python",
   "name": "Python [Root]"
  },
  "language_info": {
   "codemirror_mode": {
    "name": "ipython",
    "version": 2
   },
   "file_extension": ".py",
   "mimetype": "text/x-python",
   "name": "python",
   "nbconvert_exporter": "python",
   "pygments_lexer": "ipython2",
   "version": "2.7.11"
  }
 },
 "nbformat": 4,
 "nbformat_minor": 0
}
