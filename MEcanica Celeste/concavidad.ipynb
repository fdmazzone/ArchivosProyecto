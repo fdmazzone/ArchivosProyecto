{
 "cells": [
  {
   "cell_type": "markdown",
   "metadata": {},
   "source": [
    "<h1> Demostración de la conjetura para $m_2\\geq 1$ </h4>\n"
   ]
  },
  {
   "cell_type": "code",
   "execution_count": 1,
   "metadata": {
    "collapsed": false
   },
   "outputs": [
    {
     "name": "stderr",
     "output_type": "stream",
     "text": [
      "/home/fernando/anaconda2/lib/python2.7/site-packages/matplotlib/font_manager.py:273: UserWarning: Matplotlib is building the font cache using fc-list. This may take a moment.\n",
      "  warnings.warn('Matplotlib is building the font cache using fc-list. This may take a moment.')\n"
     ]
    }
   ],
   "source": [
    "from sympy import *\n",
    "init_printing() #muestra símbolos más agradab\n",
    "import matplotlib.pyplot as plt\n",
    "from mpl_toolkits.mplot3d import Axes3D\n",
    "from matplotlib import cm\n",
    "import numpy as np\n",
    "R=lambda n,d: Rational(n,d)"
   ]
  },
  {
   "cell_type": "markdown",
   "metadata": {},
   "source": [
    "<h2> 1. ¿Cuando $q_1=c$ ? </h2>\n",
    "\n",
    "Lo que viene en esta sección en realidad no es necesario para la demostración de la conjetura. Vamos a demostrar que la única forma que la masa del medio en una configuración central colineal este sobre el centro de masas es que las masas de los extremos sean iguales.\n",
    "\n",
    "<b> Teorema </b> Supogamos una configuración central colineal de masas $1$,$m_1$ y $m_2$ en posiciones $0,1,1+r$, con $r>0$. Si $c$ es el centro de masa, $c=1$ si y solo si $m_2=1$.\n",
    "\n",
    "<b>Dem.</b>\n"
   ]
  },
  {
   "cell_type": "code",
   "execution_count": 2,
   "metadata": {
    "collapsed": false
   },
   "outputs": [
    {
     "data": {
      "image/png": "[encoded data removed]",
      "text/latex": [
       "$$\\left [ - \\frac{m_{1} + m_{2} \\left(r + 1\\right)}{m_{1} + m_{2} + 1}, \\quad \\frac{- m_{2} r + 1}{m_{1} + m_{2} + 1}, \\quad \\frac{m_{1} r + r + 1}{m_{1} + m_{2} + 1}\\right ]$$"
      ],
      "text/plain": [
       "⎡-(m₁ + m₂⋅(r + 1))    -m₂⋅r + 1   m₁⋅r + r + 1⎤\n",
       "⎢───────────────────, ───────────, ────────────⎥\n",
       "⎣    m₁ + m₂ + 1      m₁ + m₂ + 1  m₁ + m₂ + 1 ⎦"
      ]
     },
     "execution_count": 2,
     "metadata": {},
     "output_type": "execute_result"
    }
   ],
   "source": [
    "m=symbols('m0:%s' %3, positive=True) #masas\n",
    "var('r')#r \n",
    "m=[1,m[1],m[2]]# la masa m0 es 1\n",
    "x=[0,1,1+r]#posiciones\n",
    "c=sum([m[j]*x[j]/sum(m) for j in range(3)]) #centro masas\n",
    "q=[(h-c).simplify() for h in x] #coordenadas varicentricas\n",
    "solve(c-1)#hallamos cuando Se tiene que dar m2=1/r\n",
    "q"
   ]
  },
  {
   "cell_type": "markdown",
   "metadata": {},
   "source": [
    "Hasta aquí hemos probado que $m_2=1/r$. Pero $r$ debe satisfacer la ecuación de Euler"
   ]
  },
  {
   "cell_type": "code",
   "execution_count": 3,
   "metadata": {
    "collapsed": false
   },
   "outputs": [
    {
     "data": {
      "image/png": "[encoded data removed]",
      "text/latex": [
       "$$m_{1} r^{5} + 2 m_{1} r^{4} + m_{1} r^{3} - m_{1} r^{2} - 2 m_{1} r - m_{1} - 3 m_{2} r^{2} - 3 m_{2} r - m_{2} + r^{5} + 3 r^{4} + 3 r^{3}$$"
      ],
      "text/plain": [
       "    5         4       3       2                       2                  5    \n",
       "m₁⋅r  + 2⋅m₁⋅r  + m₁⋅r  - m₁⋅r  - 2⋅m₁⋅r - m₁ - 3⋅m₂⋅r  - 3⋅m₂⋅r - m₂ + r  + 3\n",
       "\n",
       "  4      3\n",
       "⋅r  + 3⋅r "
      ]
     },
     "execution_count": 3,
     "metadata": {},
     "output_type": "execute_result"
    }
   ],
   "source": [
    "f=r**5 + 3*r**4 + 3*r**3 + m[1]*r**5 + 2*m[1]*r**4 + m[1]*r**3 - m[1]*r**2 - 2*m[1]*r - m[1] - 3*m[2]*r**2 - 3*m[2]*r - m[2]\n",
    "f"
   ]
  },
  {
   "cell_type": "markdown",
   "metadata": {},
   "source": [
    "El polinomio $f$ depende de $m_1,m_2$ y $r$ ($f=f(m_1,m_2,r)$). Se debe cumplir $f(m_1,m_2,\\frac{1}{m_2})=0$"
   ]
  },
  {
   "cell_type": "code",
   "execution_count": 4,
   "metadata": {
    "collapsed": false
   },
   "outputs": [
    {
     "data": {
      "image/png": "[encoded data removed]",
      "text/latex": [
       "$$- \\frac{1}{m_{2}^{5}} \\left(m_{2} - 1\\right) \\left(m_{2} + 1\\right)^{2} \\left(m_{1} + m_{2} + 1\\right) \\left(m_{2}^{2} + m_{2} + 1\\right)$$"
      ],
      "text/plain": [
       "                  2               ⎛  2         ⎞ \n",
       "-(m₂ - 1)⋅(m₂ + 1) ⋅(m₁ + m₂ + 1)⋅⎝m₂  + m₂ + 1⎠ \n",
       "─────────────────────────────────────────────────\n",
       "                         5                       \n",
       "                       m₂                        "
      ]
     },
     "execution_count": 4,
     "metadata": {},
     "output_type": "execute_result"
    }
   ],
   "source": [
    "f.subs({r:m[2]**(-1)}).factor()"
   ]
  },
  {
   "cell_type": "markdown",
   "metadata": {},
   "source": [
    "La única solución con $m_1>0$ y $m_2>0$ es $m_2=1$ y $m_1>0$ puede ser cualquier masa positiva. Este resultado es físicamente evidente."
   ]
  },
  {
   "cell_type": "markdown",
   "metadata": {},
   "source": [
    "<h2> 2. $r(m_1,m_2)$ es concava respecto a $m_2$ para $m_1$ fijo</h2>\n",
    "\n",
    "<b> Teorema 2.</b>  $r(m_1,m_2)$ es concava respecto a $m_2$ para $m_1$ \n",
    "\n",
    "<b>Dem.</b> Veamos que $\\frac{\\partial^2 r}{\\partial m_2^2}<0$. Calculamos la derivada siguiendo la derivación de una función implícita. En la expresión de $f$ sustituyo $r$ por una función de $m_1,m_2$ que llamo $R(m_1,m_2)$. A la expresión que resulta $f_1$ la derivo respecto a $m_2$ y despejo $\\frac{\\partial R}{\\partial m_2}$ en función de $R$. "
   ]
  },
  {
   "cell_type": "code",
   "execution_count": 5,
   "metadata": {
    "collapsed": false
   },
   "outputs": [
    {
     "data": {
      "image/png": "[encoded data removed]",
      "text/latex": [
       "$$\\frac{3 R^{2}{\\left (m_{1},m_{2} \\right )} + 3 R{\\left (m_{1},m_{2} \\right )} + 1}{- 2 m_{1} - 3 m_{2} + \\left(- 2 m_{1} - 6 m_{2}\\right) R{\\left (m_{1},m_{2} \\right )} + \\left(3 m_{1} + 9\\right) R^{2}{\\left (m_{1},m_{2} \\right )} + \\left(5 m_{1} + 5\\right) R^{4}{\\left (m_{1},m_{2} \\right )} + \\left(8 m_{1} + 12\\right) R^{3}{\\left (m_{1},m_{2} \\right )}}$$"
      ],
      "text/plain": [
       "                                            2                                 \n",
       "                                         3⋅R (m₁, m₂) + 3⋅R(m₁, m₂) + 1       \n",
       "──────────────────────────────────────────────────────────────────────────────\n",
       "                                                      2                       \n",
       "-2⋅m₁ - 3⋅m₂ + (-2⋅m₁ - 6⋅m₂)⋅R(m₁, m₂) + (3⋅m₁ + 9)⋅R (m₁, m₂) + (5⋅m₁ + 5)⋅R\n",
       "\n",
       "                                  \n",
       "                                  \n",
       "──────────────────────────────────\n",
       "4                        3        \n",
       " (m₁, m₂) + (8⋅m₁ + 12)⋅R (m₁, m₂)"
      ]
     },
     "execution_count": 5,
     "metadata": {},
     "output_type": "execute_result"
    }
   ],
   "source": [
    "R=Function('R')(m[1],m[2])\n",
    "f1=f.subs(r,R)\n",
    "f1=f1.diff(m[2])\n",
    "r_m2=solve(f1,R.diff(m[2]))[0].collect(R)\n",
    "r_m2\n"
   ]
  },
  {
   "cell_type": "markdown",
   "metadata": {},
   "source": [
    "La expresión  <b>r_m2</b> es la derivada $\\partial r/\\partial m_2$ escrita en función de $R(m_1,m_2)$. En la celda debajo derivo <b>r_m2</b> respecto a $m_2$, aparece nuevamente $\\frac{\\partial R}{\\partial m_2}$ lo sustituyo por <b>r_m2</b>. Por último, vuelvo a sustiruir $R$ por $r$ por simplicidad"
   ]
  },
  {
   "cell_type": "code",
   "execution_count": 6,
   "metadata": {
    "collapsed": false
   },
   "outputs": [
    {
     "data": {
      "image/png": "[encoded data removed]",
      "text/latex": [
       "$$- \\frac{2 \\left(3 r^{2} + 3 r + 1\\right) \\left(3 m_{1} r^{4} + 13 m_{1} r^{3} + 21 m_{1} r^{2} + 18 m_{1} r + 5 m_{1} + 27 m_{2} r^{2} + 27 m_{2} r + 6 m_{2} - 3 r^{4} + r^{3} + 18 r^{2} + 9 r\\right)}{\\left(5 m_{1} r^{4} + 8 m_{1} r^{3} + 3 m_{1} r^{2} - 2 m_{1} r - 2 m_{1} - 6 m_{2} r - 3 m_{2} + 5 r^{4} + 12 r^{3} + 9 r^{2}\\right)^{3}}$$"
      ],
      "text/plain": [
       "   ⎛   2          ⎞ ⎛      4          3          2                           2\n",
       "-2⋅⎝3⋅r  + 3⋅r + 1⎠⋅⎝3⋅m₁⋅r  + 13⋅m₁⋅r  + 21⋅m₁⋅r  + 18⋅m₁⋅r + 5⋅m₁ + 27⋅m₂⋅r \n",
       "──────────────────────────────────────────────────────────────────────────────\n",
       "                                                                              \n",
       "                    ⎛      4         3         2                              \n",
       "                    ⎝5⋅m₁⋅r  + 8⋅m₁⋅r  + 3⋅m₁⋅r  - 2⋅m₁⋅r - 2⋅m₁ - 6⋅m₂⋅r - 3⋅\n",
       "\n",
       "                       4    3       2      ⎞ \n",
       " + 27⋅m₂⋅r + 6⋅m₂ - 3⋅r  + r  + 18⋅r  + 9⋅r⎠ \n",
       "─────────────────────────────────────────────\n",
       "                         3                   \n",
       "        4       3      2⎞                    \n",
       "m₂ + 5⋅r  + 12⋅r  + 9⋅r ⎠                    "
      ]
     },
     "execution_count": 6,
     "metadata": {},
     "output_type": "execute_result"
    }
   ],
   "source": [
    "f2=r_m2.diff(m[2]).subs(R.diff(m[2]),r_m2).subs(R,r)\n",
    "f2.simplify().factor()\n"
   ]
  },
  {
   "cell_type": "markdown",
   "metadata": {},
   "source": [
    "Hay que demostrar que la expresión es negativa. Tomo los dos factores que no tienen un signo definido y los estudio por separado."
   ]
  },
  {
   "cell_type": "code",
   "execution_count": 7,
   "metadata": {
    "collapsed": false
   },
   "outputs": [],
   "source": [
    "num=(3*m[1]*r**4 + 13*m[1]*r**3 + 21*m[1]*r**2 + 18*m[1]*r + 5*m[1] + 27*m[2]*r**2 + 27*m[2]*r + 6*m[2] - 3*r**4 + r**3 + 18*r**2 + 9*r)\n",
    "dem=5*m[1]*r**4 + 8*m[1]*r**3 + 3*m[1]*r**2 - 2*m[1]*r - 2*m[1] - 6*m[2]*r - 3*m[2] + 5*r**4 + 12*r**3 + 9*r**2\n"
   ]
  },
  {
   "cell_type": "markdown",
   "metadata": {},
   "source": [
    "Creo que el teorema de Descartes implica que el cociente de estas expresiones cambian de signo. Ahora aquí nos hemos olvidado que $r=r(m_1,m_2)$, i.e. no se puede variar $r$ independientemente de $m_1,m_2$, sino que  $m_1,m_2,r$ estan relacionados por la ecuación de Euler. La idea sería ver que si reemplazo $r$ por su expresión en $m_1,m_2$ quedan expresiones con signo definido. Claro que no disponemos de una fórmula para $r$. Trato de usar la fórmula de Gastón\n",
    "$$ r^3=\\frac{m_2(3r^2+3r+1)+m_1(r+1)^2}{(r^2+3r+3)+m_1(r+1)^2}=:g$$\n",
    "La utilizo para reemplazar $r^3$ por $g$ y $r^4$ por $rg$\n"
   ]
  },
  {
   "cell_type": "code",
   "execution_count": 8,
   "metadata": {
    "collapsed": false
   },
   "outputs": [
    {
     "data": {
      "image/png": "[encoded data removed]",
      "text/latex": [
       "$$- \\frac{2 \\left(3 r^{2} + 3 r + 1\\right) \\left(m_{1} r^{2} + 2 m_{1} r + m_{1} + r^{2} + 3 r + 3\\right)^{2} \\left(21 m_{1}^{2} r^{4} + 63 m_{1}^{2} r^{3} + 81 m_{1}^{2} r^{2} + 57 m_{1}^{2} r + 18 m_{1}^{2} + 27 m_{1} m_{2} r^{4} + 90 m_{1} m_{2} r^{3} + 135 m_{1} m_{2} r^{2} + 81 m_{1} m_{2} r + 19 m_{1} m_{2} + 39 m_{1} r^{4} + 123 m_{1} r^{3} + 153 m_{1} r^{2} + 77 m_{1} r + 16 m_{1} + 27 m_{2} r^{4} + 99 m_{2} r^{3} + 162 m_{2} r^{2} + 99 m_{2} r + 19 m_{2} + 18 r^{4} + 63 r^{3} + 81 r^{2} + 27 r\\right)}{\\left(3 m_{1}^{2} r^{4} + 9 m_{1}^{2} r^{3} + 15 m_{1}^{2} r^{2} + 15 m_{1}^{2} r + 6 m_{1}^{2} + 9 m_{1} m_{2} r^{3} + 24 m_{1} m_{2} r^{2} + 17 m_{1} m_{2} r + 5 m_{1} m_{2} + 12 m_{1} r^{4} + 30 m_{1} r^{3} + 32 m_{1} r^{2} + 17 m_{1} r + 6 m_{1} + 9 m_{2} r^{3} + 30 m_{2} r^{2} + 14 m_{2} r + 3 m_{2} + 9 r^{4} + 27 r^{3} + 27 r^{2}\\right)^{3}}$$"
      ],
      "text/plain": [
       "                                                        2                     \n",
       "   ⎛   2          ⎞ ⎛    2                  2          ⎞  ⎛     2  4        2 \n",
       "-2⋅⎝3⋅r  + 3⋅r + 1⎠⋅⎝m₁⋅r  + 2⋅m₁⋅r + m₁ + r  + 3⋅r + 3⎠ ⋅⎝21⋅m₁ ⋅r  + 63⋅m₁ ⋅\n",
       "──────────────────────────────────────────────────────────────────────────────\n",
       "                                                                              \n",
       "                                                    ⎛    2  4       2  3      \n",
       "                                                    ⎝3⋅m₁ ⋅r  + 9⋅m₁ ⋅r  + 15⋅\n",
       "\n",
       "                                                                              \n",
       " 3        2  2        2          2             4             3              2 \n",
       "r  + 81⋅m₁ ⋅r  + 57⋅m₁ ⋅r + 18⋅m₁  + 27⋅m₁⋅m₂⋅r  + 90⋅m₁⋅m₂⋅r  + 135⋅m₁⋅m₂⋅r  \n",
       "──────────────────────────────────────────────────────────────────────────────\n",
       "                                                                              \n",
       "  2  2        2         2            3             2                          \n",
       "m₁ ⋅r  + 15⋅m₁ ⋅r + 6⋅m₁  + 9⋅m₁⋅m₂⋅r  + 24⋅m₁⋅m₂⋅r  + 17⋅m₁⋅m₂⋅r + 5⋅m₁⋅m₂ + \n",
       "\n",
       "                                                                              \n",
       "                                 4           3           2                    \n",
       "+ 81⋅m₁⋅m₂⋅r + 19⋅m₁⋅m₂ + 39⋅m₁⋅r  + 123⋅m₁⋅r  + 153⋅m₁⋅r  + 77⋅m₁⋅r + 16⋅m₁ +\n",
       "──────────────────────────────────────────────────────────────────────────────\n",
       "                                                                              \n",
       "       4          3          2                          3          2          \n",
       "12⋅m₁⋅r  + 30⋅m₁⋅r  + 32⋅m₁⋅r  + 17⋅m₁⋅r + 6⋅m₁ + 9⋅m₂⋅r  + 30⋅m₂⋅r  + 14⋅m₂⋅r\n",
       "\n",
       "                                                                              \n",
       "        4          3           2                         4       3       2    \n",
       " 27⋅m₂⋅r  + 99⋅m₂⋅r  + 162⋅m₂⋅r  + 99⋅m₂⋅r + 19⋅m₂ + 18⋅r  + 63⋅r  + 81⋅r  + 2\n",
       "──────────────────────────────────────────────────────────────────────────────\n",
       "                               3                                              \n",
       "             4       3       2⎞                                               \n",
       " + 3⋅m₂ + 9⋅r  + 27⋅r  + 27⋅r ⎠                                               \n",
       "\n",
       "     \n",
       "   ⎞ \n",
       "7⋅r⎠ \n",
       "─────\n",
       "     \n",
       "     \n",
       "     "
      ]
     },
     "execution_count": 8,
     "metadata": {},
     "output_type": "execute_result"
    }
   ],
   "source": [
    "g=(m[2]*(3*r**2+3*r+1)+m[1]*(r+1)**2)/((r**2+3*r+3)+m[1]*(r+1)**2)\n",
    "num.collect(r).subs({r**4:g*r,r**3:g}).factor().collect(r)\n",
    "f2.simplify().factor().subs({r**4:g*r,r**3:g}).factor()"
   ]
  },
  {
   "cell_type": "markdown",
   "metadata": {},
   "source": [
    "La expresión tiene sólo términos positivos. Hago lo mismo con \"dem\""
   ]
  },
  {
   "cell_type": "code",
   "execution_count": 9,
   "metadata": {
    "collapsed": false
   },
   "outputs": [
    {
     "data": {
      "image/png": "[encoded data removed]",
      "text/latex": [
       "$$\\frac{1}{m_{1} r^{2} + 2 m_{1} r + m_{1} + r^{2} + 3 r + 3} \\left(3 m_{1}^{2} r^{4} + 9 m_{1}^{2} r^{3} + 15 m_{1}^{2} r^{2} + 15 m_{1}^{2} r + 6 m_{1}^{2} + 9 m_{1} m_{2} r^{3} + 24 m_{1} m_{2} r^{2} + 17 m_{1} m_{2} r + 5 m_{1} m_{2} + 12 m_{1} r^{4} + 30 m_{1} r^{3} + 32 m_{1} r^{2} + 17 m_{1} r + 6 m_{1} + 9 m_{2} r^{3} + 30 m_{2} r^{2} + 14 m_{2} r + 3 m_{2} + 9 r^{4} + 27 r^{3} + 27 r^{2}\\right)$$"
      ],
      "text/plain": [
       "    2  4       2  3        2  2        2         2            3             2 \n",
       "3⋅m₁ ⋅r  + 9⋅m₁ ⋅r  + 15⋅m₁ ⋅r  + 15⋅m₁ ⋅r + 6⋅m₁  + 9⋅m₁⋅m₂⋅r  + 24⋅m₁⋅m₂⋅r  \n",
       "──────────────────────────────────────────────────────────────────────────────\n",
       "                                                                              \n",
       "                                                                              \n",
       "\n",
       "                                4          3          2                       \n",
       "+ 17⋅m₁⋅m₂⋅r + 5⋅m₁⋅m₂ + 12⋅m₁⋅r  + 30⋅m₁⋅r  + 32⋅m₁⋅r  + 17⋅m₁⋅r + 6⋅m₁ + 9⋅m\n",
       "──────────────────────────────────────────────────────────────────────────────\n",
       "               2                  2                                           \n",
       "           m₁⋅r  + 2⋅m₁⋅r + m₁ + r  + 3⋅r + 3                                 \n",
       "\n",
       "   3          2                       4       3       2\n",
       "₂⋅r  + 30⋅m₂⋅r  + 14⋅m₂⋅r + 3⋅m₂ + 9⋅r  + 27⋅r  + 27⋅r \n",
       "───────────────────────────────────────────────────────\n",
       "                                                       \n",
       "                                                       "
      ]
     },
     "execution_count": 9,
     "metadata": {},
     "output_type": "execute_result"
    }
   ],
   "source": [
    "dem.subs({r**4:g*r,r**3:g}).factor()"
   ]
  },
  {
   "cell_type": "markdown",
   "metadata": {
    "collapsed": true
   },
   "source": [
    "También aparecen sólo términos positivos. Por consiguiente se llega a lo que quería. $\\square$"
   ]
  },
  {
   "cell_type": "markdown",
   "metadata": {
    "collapsed": true
   },
   "source": [
    "<h3> Demostración conjetura para $m_2>1$. </h3> \n",
    "\n",
    "Recordemos \n",
    "\n",
    "$$U<\\frac{m_i^2}{|q_i|}+\\frac{m_{i+1}^2}{|q_{i+1}|}$$ \n",
    "donde $i=0$ o $i=1$ acorde a que el centro de masas $c$ satisface $c\\in [q_i,q_{i+1}]$\n",
    "\n",
    "\n",
    "Teniendo en cuenta que $r$ es concava respecto a $m_2$ y que $r>1$ cuando $m_2>1$, vamos usar como cotas de $r$, la constante $1$ y la recta tangente respecto a la variable $m_2$, con $m_1$ fijo. Evaluemos $\\left.\\frac{\\partial r}{\\partial m_2}\\right|_{m_2=1}$ (notar que $\\forall m_1>0: r(m_1,1)=1$).\n"
   ]
  },
  {
   "cell_type": "code",
   "execution_count": 10,
   "metadata": {
    "collapsed": false
   },
   "outputs": [
    {
     "data": {
      "image/png": "[encoded data removed]",
      "text/latex": [
       "$$\\frac{7}{12 m_{1} + 17}$$"
      ],
      "text/plain": [
       "    7     \n",
       "──────────\n",
       "12⋅m₁ + 17"
      ]
     },
     "execution_count": 10,
     "metadata": {},
     "output_type": "execute_result"
    }
   ],
   "source": [
    "r_m2.subs({R:1,m[2]:1})"
   ]
  },
  {
   "cell_type": "markdown",
   "metadata": {},
   "source": [
    "Luego por concavidad si $m_2>1$\n",
    "$$r(m_1,m_2)\\leq \\frac{7}{12m_1+17}(m_2-1)+1\\leq m_2.$$\n",
    "        "
   ]
  },
  {
   "cell_type": "code",
   "execution_count": 11,
   "metadata": {
    "collapsed": false
   },
   "outputs": [],
   "source": [
    "var('r',positive=True) #introducimos la suposicion r>0\n",
    "x=[0,1,1+r]#posiciones\n",
    "c=sum([m[j]*x[j]/sum(m) for j in range(3)]) #centro masas\n",
    "q=[(h-c).simplify() for h in x] #coordenadas varicentricas\n",
    "U=sum([ sum([m[i]*m[j]/abs(x[i]-x[j]) for i in range(j) ]) for j in range(3)]) #potencial\n",
    "Q=[m[i]**2/abs(q[i]) for i in range(3)]\n"
   ]
  },
  {
   "cell_type": "markdown",
   "metadata": {},
   "source": [
    "Supongamos $m_2>1$. Entonces $r>1$ y $c>1$, es decir $c$ estra entre la segunda y tercer masas. Entoces $q_1<0$ y $q_2>0$"
   ]
  },
  {
   "cell_type": "code",
   "execution_count": 12,
   "metadata": {
    "collapsed": false
   },
   "outputs": [
    {
     "data": {
      "image/png": "[encoded data removed]",
      "text/latex": [
       "$$\\left [ - \\frac{m_{1} + m_{2} \\left(r + 1\\right)}{m_{1} + m_{2} + 1}, \\quad \\frac{- m_{2} r + 1}{m_{1} + m_{2} + 1}, \\quad \\frac{m_{1} r + r + 1}{m_{1} + m_{2} + 1}\\right ]$$"
      ],
      "text/plain": [
       "⎡-(m₁ + m₂⋅(r + 1))    -m₂⋅r + 1   m₁⋅r + r + 1⎤\n",
       "⎢───────────────────, ───────────, ────────────⎥\n",
       "⎣    m₁ + m₂ + 1      m₁ + m₂ + 1  m₁ + m₂ + 1 ⎦"
      ]
     },
     "execution_count": 12,
     "metadata": {},
     "output_type": "execute_result"
    }
   ],
   "source": [
    "q"
   ]
  },
  {
   "cell_type": "code",
   "execution_count": 13,
   "metadata": {
    "collapsed": false
   },
   "outputs": [],
   "source": [
    "Q=m[1]**2/(-q[1])+m[2]**2/q[2]"
   ]
  },
  {
   "cell_type": "code",
   "execution_count": 14,
   "metadata": {
    "collapsed": false
   },
   "outputs": [
    {
     "data": {
      "image/png": "[encoded data removed]",
      "text/latex": [
       "$$- \\frac{m_{1}^{2} \\left(m_{1} + m_{2} + 1\\right)}{- m_{2} r + 1} - \\frac{m_{1} m_{2}}{r} - m_{1} + \\frac{m_{2}^{2} \\left(m_{1} + m_{2} + 1\\right)}{m_{1} r + r + 1} - \\frac{m_{2}}{r + 1}$$"
      ],
      "text/plain": [
       "    2                                2                      \n",
       "  m₁ ⋅(m₁ + m₂ + 1)   m₁⋅m₂        m₂ ⋅(m₁ + m₂ + 1)     m₂ \n",
       "- ───────────────── - ───── - m₁ + ───────────────── - ─────\n",
       "      -m₂⋅r + 1         r             m₁⋅r + r + 1     r + 1"
      ]
     },
     "execution_count": 14,
     "metadata": {},
     "output_type": "execute_result"
    }
   ],
   "source": [
    "Exp=-U+Q\n",
    "Exp"
   ]
  },
  {
   "cell_type": "markdown",
   "metadata": {},
   "source": [
    "Ahora sabemos que $1<r<\\frac{7}{12m_1+17}(m_2-1)+1$, acotamos $r$ en cada termino de  <b>Exp</b> por el correspondiente valor para acotar por debajo <b>Exp</b> "
   ]
  },
  {
   "cell_type": "code",
   "execution_count": 15,
   "metadata": {
    "collapsed": false
   },
   "outputs": [
    {
     "data": {
      "image/png": "[encoded data removed]",
      "text/latex": [
       "$$\\frac{1}{2 \\left(m_{2} - 1\\right) \\left(12 m_{1} + 7 m_{2} + 17\\right) \\left(12 m_{1}^{2} + 7 m_{1} m_{2} + 34 m_{1} + 7 m_{2} + 27\\right)} \\left(288 m_{1}^{6} + 456 m_{1}^{5} m_{2} + 1512 m_{1}^{5} - 120 m_{1}^{4} m_{2}^{2} + 1798 m_{1}^{4} m_{2} + 3316 m_{1}^{4} - 48 m_{1}^{3} m_{2}^{3} - 1250 m_{1}^{3} m_{2}^{2} + 2928 m_{1}^{3} m_{2} + 3946 m_{1}^{3} + 358 m_{1}^{2} m_{2}^{4} - 402 m_{1}^{2} m_{2}^{3} - 3016 m_{1}^{2} m_{2}^{2} + 2650 m_{1}^{2} m_{2} + 2722 m_{1}^{2} + 168 m_{1} m_{2}^{5} + 907 m_{1} m_{2}^{4} - 836 m_{1} m_{2}^{3} - 2675 m_{1} m_{2}^{2} + 1518 m_{1} m_{2} + 918 m_{1} + 238 m_{2}^{5} + 529 m_{2}^{4} - 497 m_{2}^{3} - 729 m_{2}^{2} + 459 m_{2}\\right)$$"
      ],
      "text/plain": [
       "      6         5             5         4   2          4             4        \n",
       "288⋅m₁  + 456⋅m₁ ⋅m₂ + 1512⋅m₁  - 120⋅m₁ ⋅m₂  + 1798⋅m₁ ⋅m₂ + 3316⋅m₁  - 48⋅m₁\n",
       "──────────────────────────────────────────────────────────────────────────────\n",
       "                                                                              \n",
       "                                                                              \n",
       "\n",
       "3   3          3   2          3             3         2   4         2   3     \n",
       " ⋅m₂  - 1250⋅m₁ ⋅m₂  + 2928⋅m₁ ⋅m₂ + 3946⋅m₁  + 358⋅m₁ ⋅m₂  - 402⋅m₁ ⋅m₂  - 30\n",
       "──────────────────────────────────────────────────────────────────────────────\n",
       "                                                                            ⎛ \n",
       "                                             2⋅(m₂ - 1)⋅(12⋅m₁ + 7⋅m₂ + 17)⋅⎝1\n",
       "\n",
       "     2   2          2             2            5            4            3    \n",
       "16⋅m₁ ⋅m₂  + 2650⋅m₁ ⋅m₂ + 2722⋅m₁  + 168⋅m₁⋅m₂  + 907⋅m₁⋅m₂  - 836⋅m₁⋅m₂  - 2\n",
       "──────────────────────────────────────────────────────────────────────────────\n",
       "    2                              ⎞                                          \n",
       "2⋅m₁  + 7⋅m₁⋅m₂ + 34⋅m₁ + 7⋅m₂ + 27⎠                                          \n",
       "\n",
       "         2                               5         4         3         2      \n",
       "675⋅m₁⋅m₂  + 1518⋅m₁⋅m₂ + 918⋅m₁ + 238⋅m₂  + 529⋅m₂  - 497⋅m₂  - 729⋅m₂  + 459\n",
       "──────────────────────────────────────────────────────────────────────────────\n",
       "                                                                              \n",
       "                                                                              \n",
       "\n",
       "   \n",
       "⋅m₂\n",
       "───\n",
       "   \n",
       "   "
      ]
     },
     "execution_count": 15,
     "metadata": {},
     "output_type": "execute_result"
    }
   ],
   "source": [
    "Rem=7/(12*m[1]+17)*(m[2]-1)+1\n",
    "Exp2=m[1]**2*(m[1] + m[2] + 1)/(m[2]*Rem- 1) - m[1]*m[2] - m[1] + m[2]**2*(m[1]+ m[2] + 1)/(m[1] *Rem+ Rem + 1) - m[2]/2\n",
    "Exp2.factor().simplify()"
   ]
  },
  {
   "cell_type": "markdown",
   "metadata": {},
   "source": [
    "<h3>Experimento numérico</h3> Habría que ver que el segundo factor es positivo. Vamos a hacer primero un experimento numérico que confirme la aseveración. "
   ]
  },
  {
   "cell_type": "code",
   "execution_count": 16,
   "metadata": {
    "collapsed": false
   },
   "outputs": [],
   "source": [
    "M1=np.arange(0,1,.01)\n",
    "M2=np.arange(1,1.2,.01)\n",
    "X,Y=np.meshgrid(M1,M2)\n",
    "#Z=12*X*Y-12*X+7*Y**2-17\n",
    "Z=288*X**6 + 456*X**5*Y + 1512*X**5 - 120*X**4*Y**2 + 1798*X**4*Y + 3316*X**4 - 48*X**3*Y**3 - 1250*X**3*Y**2 + 2928*X**3*Y + 3946*X**3 + 358*X**2*Y**4 - 402*X**2*Y**3 - 3016*X**2*Y**2 + 2650*X**2*Y + 2722*X**2 + 168*X*Y**5 + 907*X*Y**4 - 836*X*Y**3 - 2675*X*Y**2 + 1518*X*Y + 918*X + 238*Y**5 + 529*Y**4 - 497*Y**3 - 729*Y**2 + 459*Y\n"
   ]
  },
  {
   "cell_type": "code",
   "execution_count": 17,
   "metadata": {
    "collapsed": false
   },
   "outputs": [],
   "source": [
    "fig=plt.figure()\n",
    "ax=Axes3D(fig)\n",
    "Z=np.minimum(Z,100*np.ones(np.shape(Z)))\n",
    "Z=np.maximum(Z,-1*np.ones(np.shape(Z)))\n",
    "ax.plot_surface(X,Y,Z,rstride=1, cstride=1, cmap=cm.coolwarm,linewidth=0, antialiased=False)\n",
    "#V=[k for k in [-20,0,20]]#np.arange(-20,20,1)]\n",
    "#cp = plt.contour(X, Y, Z,V)\n",
    "#plt.clabel(cp, inline=True,fontsize=10)\n",
    "plt.xlabel('m1')\n",
    "plt.ylabel('m2')\n",
    "plt.show()\n",
    "\n",
    "\n",
    "\n",
    "\n",
    "\n",
    "\n",
    "#fig = plt.figure()\n",
    "\n",
    "#ax = fig.add_subplot(111, projection='3d')"
   ]
  },
  {
   "cell_type": "markdown",
   "metadata": {},
   "source": [
    "<img src=\"https://raw.githubusercontent.com/fdmazzone/ArchivosProyecto/master/MEcanica%20Celeste/CotaSustTang.png\" width=\"50%\" height=\"50%\"/>"
   ]
  },
  {
   "cell_type": "code",
   "execution_count": 18,
   "metadata": {
    "collapsed": false
   },
   "outputs": [],
   "source": [
    "fig=plt.figure()\n",
    "V=[k**2-10 for k in range(200)]#np.arange(-20,20,1)]\n",
    "cp = plt.contour(X, Y, Z,V)\n",
    "plt.clabel(cp, inline=True,fontsize=10)\n",
    "plt.xlabel('m1')\n",
    "plt.ylabel('m2')\n",
    "plt.show()"
   ]
  },
  {
   "cell_type": "markdown",
   "metadata": {},
   "source": [
    "<img src=\"https://raw.githubusercontent.com/fdmazzone/ArchivosProyecto/master/MEcanica%20Celeste/CotaSustTangNivel.png\" width=\"50%\" height=\"50%\"/>"
   ]
  },
  {
   "cell_type": "markdown",
   "metadata": {},
   "source": [
    "Tomamos ese monstruoso segundo factor. Tiene términos positivos y negativos, pero se ve mejor si tomamos dos variables nuevas $s$ y $\\alpha$, positivas y sustituímos $m_1=s$ y $m_2=1+\\alpha s$, expandimos la expresión y luego agrupamos de acuerdo con potencias de $s$."
   ]
  },
  {
   "cell_type": "code",
   "execution_count": 19,
   "metadata": {
    "collapsed": false
   },
   "outputs": [
    {
     "data": {
      "image/png": "[encoded data removed]",
      "text/latex": [
       "$$816 \\alpha s + s^{6} \\left(168 \\alpha^{5} + 358 \\alpha^{4} - 48 \\alpha^{3} - 120 \\alpha^{2} + 456 \\alpha + 288\\right) + s^{5} \\left(238 \\alpha^{5} + 1747 \\alpha^{4} + 1030 \\alpha^{3} - 1394 \\alpha^{2} + 1558 \\alpha + 1968\\right) + s^{4} \\left(1719 \\alpha^{4} + 4472 \\alpha^{3} - 2074 \\alpha^{2} + 284 \\alpha + 4994\\right) + s^{3} \\left(3999 \\alpha^{3} + 1939 \\alpha^{2} - 3156 \\alpha + 5576\\right) + s^{2} \\left(3334 \\alpha^{2} - 1872 \\alpha + 2312\\right)$$"
      ],
      "text/plain": [
       "           6 ⎛     5        4       3        2              ⎞    5 ⎛     5    \n",
       "816⋅α⋅s + s ⋅⎝168⋅α  + 358⋅α  - 48⋅α  - 120⋅α  + 456⋅α + 288⎠ + s ⋅⎝238⋅α  + 1\n",
       "\n",
       "     4         3         2                ⎞    4 ⎛      4         3         2 \n",
       "747⋅α  + 1030⋅α  - 1394⋅α  + 1558⋅α + 1968⎠ + s ⋅⎝1719⋅α  + 4472⋅α  - 2074⋅α  \n",
       "\n",
       "              ⎞    3 ⎛      3         2                ⎞    2 ⎛      2        \n",
       "+ 284⋅α + 4994⎠ + s ⋅⎝3999⋅α  + 1939⋅α  - 3156⋅α + 5576⎠ + s ⋅⎝3334⋅α  - 1872⋅\n",
       "\n",
       "        ⎞\n",
       "α + 2312⎠"
      ]
     },
     "execution_count": 19,
     "metadata": {},
     "output_type": "execute_result"
    }
   ],
   "source": [
    "Monstruo=288*m[1]**6 + 456*m[1]**5*m[2] + 1512*m[1]**5+ 1798*m[1]**4*m[2] + 3316*m[1]**4 + 2928*m[1]**3*m[2] + 3946*m[1]**3 + 358*m[1]**2*m[2]**4+ 2650*m[1]**2*m[2] + 2722*m[1]**2 + 168*m[1]*m[2]**5 + 907*m[1]*m[2]**4  + 1518*m[1]*m[2] + 918*m[1] + 238*m[2]**5 + 529*m[2]**4 - 497*m[2]**3 - 729*m[2]**2 + 459*m[2] - 120*m[1]**4*m[2]**2  - 3016*m[1]**2*m[2]**2 - 48*m[1]**3*m[2]**3  - 402*m[1]**2*m[2]**3- 836*m[1]*m[2]**3 - 1250*m[1]**3*m[2]**2- 2675*m[1]*m[2]**2\n",
    "var('alpha,s',positive=True)\n",
    "Monstruo.subs({m[1]:s,m[2]:alpha*s+1}).expand().collect(s)"
   ]
  },
  {
   "cell_type": "markdown",
   "metadata": {
    "collapsed": false
   },
   "source": [
    "En la expresión que resulta, todos los polinomios en $\\alpha$ que acompañan a potencias de $s$ son positivos para $\\alpha>0$. Lo razono con uno de ellos, en los otros es igual. Supongamos el de $s^4$: \n",
    "$$p(\\alpha)=1719\\alpha^4+4472\\alpha^3-2074\\alpha^2+284\\alpha+4994$$\n",
    "El caso es que cuando $\\alpha\\leq 1$ el término $-2074\\alpha^2$ es dominado por el 4994. En cambio cuando $\\alpha\\geq 1$ el término $-2074\\alpha^2$ lo domina el  $4472\\alpha^3$. En todos los polinomios que corresponden a distintas potencias de $\\alpha$ se aplica un razonamiento similar.  \n",
    "\n",
    "\n"
   ]
  },
  {
   "cell_type": "markdown",
   "metadata": {
    "collapsed": true
   },
   "source": [
    "<h2> Estimación por debajo de $r(m_1,m_2)$</h2>\n",
    "Vamos a buscar una recta $l=(1-c(m_1))m_2+c(m_1)$ que acote por debajo a $r$.  Tratamos estimar $c(m_1)$.\n",
    "Usamos la fórmula de Gastón para resolver numéricamente la ecuación de Euler. "
   ]
  },
  {
   "cell_type": "code",
   "execution_count": 20,
   "metadata": {
    "collapsed": false
   },
   "outputs": [],
   "source": [
    "var('r')\n",
    "def SolEu(m1,m2,iter):\n",
    "    SolEu=1.0\n",
    "    h=lambda r: ((m1*(r+1)**2+m2*(3*r**2+3*r+1))/(m1*(r+1)**2.0+r**2.0+3.0*r+3.0))**(1.0/3.0)\n",
    "    for j in range(iter):\n",
    "        SolEu=h(SolEu)\n",
    "    return SolEu"
   ]
  },
  {
   "cell_type": "markdown",
   "metadata": {},
   "source": [
    "Estimamos una recto por debajo de $r(m_1,m_2)$ para $m_1$ fijo. La buscamos que pase por $(1,1)$ y $(0,y_0)$. Tratemos de estimar $y_0$. "
   ]
  },
  {
   "cell_type": "code",
   "execution_count": 21,
   "metadata": {
    "collapsed": false
   },
   "outputs": [],
   "source": [
    "m1=np.arange(0,10,0.1)\n",
    "m2=np.zeros(np.shape(m1))\n",
    "r_aprox=SolEu(m1,m2,20)\n",
    "plt.plot(m1,r_aprox)\n",
    "plt.plot(m1,m1/(m1+1))\n",
    "plt.show()\n"
   ]
  },
  {
   "cell_type": "markdown",
   "metadata": {},
   "source": [
    "<img src=\"https://raw.githubusercontent.com/fdmazzone/ArchivosProyecto/master/MEcanica%20Celeste/r_corte_m1.png\" width=\"50%\" height=\"50%\"/>\n",
    "\n",
    "Se parece a $m_1\\mapsto m_1/(m_1+1)$."
   ]
  },
  {
   "cell_type": "code",
   "execution_count": 22,
   "metadata": {
    "collapsed": false
   },
   "outputs": [
    {
     "data": {
      "image/png": "[encoded data removed]",
      "text/latex": [
       "$$- \\frac{m_{1}^{2} \\left(m_{1} + m_{2} + 1\\right)}{- m_{2} r + 1} - \\frac{m_{1} m_{2}}{r} - m_{1} + \\frac{m_{2}^{2} \\left(m_{1} + m_{2} + 1\\right)}{m_{1} r + r + 1} - \\frac{m_{2}}{r + 1}$$"
      ],
      "text/plain": [
       "    2                                2                      \n",
       "  m₁ ⋅(m₁ + m₂ + 1)   m₁⋅m₂        m₂ ⋅(m₁ + m₂ + 1)     m₂ \n",
       "- ───────────────── - ───── - m₁ + ───────────────── - ─────\n",
       "      -m₂⋅r + 1         r             m₁⋅r + r + 1     r + 1"
      ]
     },
     "execution_count": 22,
     "metadata": {},
     "output_type": "execute_result"
    }
   ],
   "source": [
    "Exp"
   ]
  },
  {
   "cell_type": "code",
   "execution_count": 23,
   "metadata": {
    "collapsed": false
   },
   "outputs": [
    {
     "data": {
      "image/png": "[encoded data removed]",
      "text/latex": [
       "$$\\left ( \\frac{m_{1}^{2} \\left(m_{1} + m_{2} + 1\\right)}{- m_{2} r + 1} - \\frac{m_{1} m_{2}}{r} - m_{1} - \\frac{m_{2}}{r + 1} + \\frac{m_{1} + m_{2} + 1}{m_{1} + m_{2} \\left(r + 1\\right)}, \\quad \\frac{m_{1}}{m_{1} + 1} + m_{2} \\left(- \\frac{m_{1}}{m_{1} + 1} + 1\\right)\\right )$$"
      ],
      "text/plain": [
       "⎛  2                                                                          \n",
       "⎜m₁ ⋅(m₁ + m₂ + 1)   m₁⋅m₂          m₂      m₁ + m₂ + 1      m₁        ⎛    m₁\n",
       "⎜───────────────── - ───── - m₁ - ───── + ───────────────, ────── + m₂⋅⎜- ────\n",
       "⎝    -m₂⋅r + 1         r          r + 1   m₁ + m₂⋅(r + 1)  m₁ + 1      ⎝  m₁ +\n",
       "\n",
       "       ⎞\n",
       "      ⎞⎟\n",
       "── + 1⎟⎟\n",
       " 1    ⎠⎠"
      ]
     },
     "execution_count": 23,
     "metadata": {},
     "output_type": "execute_result"
    }
   ],
   "source": [
    "m=symbols('m0:%s' %3, positive=True) #masas\n",
    "var('r')#r \n",
    "m=[1,m[1],m[2]]#\n",
    "ord_or=m[1]/(m[1]+1)\n",
    "Rem=(1-ord_or)*m[2]+ord_or\n",
    "Q=m[0]**2/(-q[0])+m[1]**2/q[1]\n",
    "Exp3=Q-U\n",
    "Exp3, Rem"
   ]
  },
  {
   "cell_type": "code",
   "execution_count": 24,
   "metadata": {
    "collapsed": false
   },
   "outputs": [
    {
     "data": {
      "image/png": "[encoded data removed]",
      "text/latex": [
       "$$- \\frac{1}{\\left(m_{1} + m_{2}\\right) \\left(m_{1} + 2 m_{2}\\right) \\left(m_{2} - 1\\right) \\left(2 m_{1} + m_{2} + 1\\right)} \\left(2 m_{1}^{6} + 7 m_{1}^{5} m_{2} + 3 m_{1}^{5} + 9 m_{1}^{4} m_{2}^{2} + 10 m_{1}^{4} m_{2} - m_{1}^{4} + 7 m_{1}^{3} m_{2}^{3} + 15 m_{1}^{3} m_{2}^{2} - 9 m_{1}^{3} m_{2} + m_{1}^{3} + 2 m_{1}^{2} m_{2}^{4} + 17 m_{1}^{2} m_{2}^{3} - 15 m_{1}^{2} m_{2}^{2} - 3 m_{1}^{2} m_{2} + 3 m_{1}^{2} + 6 m_{1} m_{2}^{4} - 3 m_{1} m_{2}^{3} - 8 m_{1} m_{2}^{2} + 4 m_{1} m_{2} + m_{1} + m_{2}^{4} - 3 m_{2}^{3} + m_{2}^{2} + m_{2}\\right)$$"
      ],
      "text/plain": [
       " ⎛    6       5          5       4   2        4        4       3   3        3 \n",
       "-⎝2⋅m₁  + 7⋅m₁ ⋅m₂ + 3⋅m₁  + 9⋅m₁ ⋅m₂  + 10⋅m₁ ⋅m₂ - m₁  + 7⋅m₁ ⋅m₂  + 15⋅m₁ ⋅\n",
       "──────────────────────────────────────────────────────────────────────────────\n",
       "                                                                              \n",
       "\n",
       "  2       3        3       2   4        2   3        2   2       2          2 \n",
       "m₂  - 9⋅m₁ ⋅m₂ + m₁  + 2⋅m₁ ⋅m₂  + 17⋅m₁ ⋅m₂  - 15⋅m₁ ⋅m₂  - 3⋅m₁ ⋅m₂ + 3⋅m₁  \n",
       "──────────────────────────────────────────────────────────────────────────────\n",
       "              (m₁ + m₂)⋅(m₁ + 2⋅m₂)⋅(m₂ - 1)⋅(2⋅m₁ + m₂ + 1)                  \n",
       "\n",
       "         4          3          2                    4       3     2     ⎞ \n",
       "+ 6⋅m₁⋅m₂  - 3⋅m₁⋅m₂  - 8⋅m₁⋅m₂  + 4⋅m₁⋅m₂ + m₁ + m₂  - 3⋅m₂  + m₂  + m₂⎠ \n",
       "──────────────────────────────────────────────────────────────────────────\n",
       "                                                                          "
      ]
     },
     "execution_count": 24,
     "metadata": {},
     "output_type": "execute_result"
    }
   ],
   "source": [
    "Expr3=m[1]**2*(m[1] + m[2] + 1)/(-m[2]*Rem + 1) - m[1]*m[2]/Rem - m[1] - m[2]/(Rem + 1) + (m[1] + m[2] + 1)/(m[1] + m[2]*(2))\n",
    "Expr3.factor()"
   ]
  },
  {
   "cell_type": "code",
   "execution_count": 25,
   "metadata": {
    "collapsed": false
   },
   "outputs": [],
   "source": [
    "M1=np.arange(0,.3,.01)\n",
    "M2=np.arange(0,1,.01)\n",
    "m1,m2=np.meshgrid(M1,M2)\n",
    "#Z=12*X*Y-12*X+7*Y**2-17\n",
    "Z=(2*m1**6 + 7*m1**5*m2 + 3*m1**5 + 9*m1**4*m2**2 + 10*m1**4*m2 - m1**4 + 7*m1**3*m2**3 + 15*m1**3*m2**2 - 9*m1**3*m2 + m1**3 + 2*m1**2*m2**4 + 17*m1**2*m2**3 - 15*m1**2*m2**2 - 3*m1**2*m2 + 3*m1**2 + 6*m1*m2**4 - 3*m1*m2**3 - 8*m1*m2**2 + 4*m1*m2 + m1 + m2**4 - 3*m2**3 + m2**2 + m2)"
   ]
  },
  {
   "cell_type": "code",
   "execution_count": 26,
   "metadata": {
    "collapsed": true
   },
   "outputs": [],
   "source": [
    "fig=plt.figure()\n",
    "ax=Axes3D(fig)\n",
    "Z=np.minimum(Z,100*np.ones(np.shape(Z)))\n",
    "Z=np.maximum(Z,-10*np.ones(np.shape(Z)))\n",
    "ax.plot_surface(m1,m2,Z,rstride=1, cstride=1, cmap=cm.coolwarm,linewidth=0, antialiased=False)\n",
    "plt.xlabel('m1')\n",
    "plt.ylabel('m2')\n",
    "plt.show()\n"
   ]
  },
  {
   "cell_type": "code",
   "execution_count": 27,
   "metadata": {
    "collapsed": false
   },
   "outputs": [],
   "source": [
    "fig=plt.figure()\n",
    "V=[.1*k for k in range(-10,100)]#[k**2-10 for k in range(200)]#np.arange(-20,20,1)]\n",
    "cp = plt.contour(m1, m2, Z,V)\n",
    "plt.clabel(cp, inline=True,fontsize=10)\n",
    "plt.xlabel('m1')\n",
    "plt.ylabel('m2')\n",
    "plt.show()"
   ]
  },
  {
   "cell_type": "code",
   "execution_count": 28,
   "metadata": {
    "collapsed": true
   },
   "outputs": [],
   "source": [
    "P=2*m[1]**6 + 7*m[1]**5*m[2] + 3*m[1]**5 + 9*m[1]**4*m[2]**2 + 10*m[1]**4*m[2] - m[1]**4 + 7*m[1]**3*m[2]**3 + 15*m[1]**3*m[2]**2 - 9*m[1]**3*m[2] + m[1]**3 + 2*m[1]**2*m[2]**4 + 17*m[1]**2*m[2]**3 - 15*m[1]**2*m[2]**2 - 3*m[1]**2*m[2] + 3*m[1]**2 + 6*m[1]*m[2]**4 - 3*m[1]*m[2]**3 - 8*m[1]*m[2]**2 + 4*m[1]*m[2] + m[1] + m[2]**4 - 3*m[2]**3 + m[2]**2 + m[2]"
   ]
  },
  {
   "cell_type": "code",
   "execution_count": 29,
   "metadata": {
    "collapsed": false
   },
   "outputs": [
    {
     "data": {
      "image/png": "[encoded data removed]",
      "text/latex": [
       "$$2 m_{1}^{6} + m_{1}^{5} \\left(7 m_{2} + 3\\right) + m_{1}^{4} \\left(9 m_{2}^{2} + 10 m_{2} - 1\\right) + m_{1}^{3} \\left(7 m_{2}^{3} + 15 m_{2}^{2} - 9 m_{2} + 1\\right) + m_{1}^{2} \\left(2 m_{2}^{4} + 17 m_{2}^{3} - 15 m_{2}^{2} - 3 m_{2} + 3\\right) + m_{1} \\left(6 m_{2}^{4} - 3 m_{2}^{3} - 8 m_{2}^{2} + 4 m_{2} + 1\\right) + m_{2}^{4} - 3 m_{2}^{3} + m_{2}^{2} + m_{2}$$"
      ],
      "text/plain": [
       "    6     5                4 ⎛    2            ⎞     3 ⎛    3        2        \n",
       "2⋅m₁  + m₁ ⋅(7⋅m₂ + 3) + m₁ ⋅⎝9⋅m₂  + 10⋅m₂ - 1⎠ + m₁ ⋅⎝7⋅m₂  + 15⋅m₂  - 9⋅m₂ \n",
       "\n",
       "   ⎞     2 ⎛    4        3        2           ⎞      ⎛    4       3       2   \n",
       "+ 1⎠ + m₁ ⋅⎝2⋅m₂  + 17⋅m₂  - 15⋅m₂  - 3⋅m₂ + 3⎠ + m₁⋅⎝6⋅m₂  - 3⋅m₂  - 8⋅m₂  + \n",
       "\n",
       "        ⎞     4       3     2     \n",
       "4⋅m₂ + 1⎠ + m₂  - 3⋅m₂  + m₂  + m₂"
      ]
     },
     "execution_count": 29,
     "metadata": {},
     "output_type": "execute_result"
    }
   ],
   "source": [
    "P.collect(m[1])"
   ]
  },
  {
   "cell_type": "markdown",
   "metadata": {
    "collapsed": true
   },
   "source": [
    "<h2> Demostración de la desigualdad </h2>\n",
    "\n",
    "Para $m_1< 1$ agrupamos en potencias de $m_1$"
   ]
  },
  {
   "cell_type": "code",
   "execution_count": 47,
   "metadata": {
    "collapsed": false
   },
   "outputs": [
    {
     "data": {
      "image/png": "[encoded data removed]",
      "text/latex": [
       "$$2 m_{1}^{6} + m_{1}^{5} \\left(7 m_{2} + 3\\right) + m_{1}^{4} \\left(9 m_{2}^{2} + 10 m_{2} - 1\\right) + m_{1}^{3} \\left(7 m_{2}^{3} + 15 m_{2}^{2} - 9 m_{2} + 1\\right) + m_{1}^{2} \\left(2 m_{2}^{4} + 17 m_{2}^{3} - 15 m_{2}^{2} - 3 m_{2} + 3\\right) + m_{1} \\left(6 m_{2}^{4} - 3 m_{2}^{3} - 8 m_{2}^{2} + 4 m_{2} + 1\\right) + m_{2}^{4} - 3 m_{2}^{3} + m_{2}^{2} + m_{2}$$"
      ],
      "text/plain": [
       "    6     5                4 ⎛    2            ⎞     3 ⎛    3        2        \n",
       "2⋅m₁  + m₁ ⋅(7⋅m₂ + 3) + m₁ ⋅⎝9⋅m₂  + 10⋅m₂ - 1⎠ + m₁ ⋅⎝7⋅m₂  + 15⋅m₂  - 9⋅m₂ \n",
       "\n",
       "   ⎞     2 ⎛    4        3        2           ⎞      ⎛    4       3       2   \n",
       "+ 1⎠ + m₁ ⋅⎝2⋅m₂  + 17⋅m₂  - 15⋅m₂  - 3⋅m₂ + 3⎠ + m₁⋅⎝6⋅m₂  - 3⋅m₂  - 8⋅m₂  + \n",
       "\n",
       "        ⎞     4       3     2     \n",
       "4⋅m₂ + 1⎠ + m₂  - 3⋅m₂  + m₂  + m₂"
      ]
     },
     "execution_count": 47,
     "metadata": {},
     "output_type": "execute_result"
    }
   ],
   "source": [
    "P.collect(m[1])"
   ]
  },
  {
   "cell_type": "markdown",
   "metadata": {},
   "source": [
    "Vamos a ver que si uno de los coeficientes que acompañan a $m_1$ es negativo, los otros restantes son positivos. Recolectemos los polinomios, llamamos $p_i$ al polinomio que acompaña a $m_1^i$. "
   ]
  },
  {
   "cell_type": "code",
   "execution_count": 153,
   "metadata": {
    "collapsed": false
   },
   "outputs": [
    {
     "data": {
      "image/png": "[encoded data removed]",
      "text/latex": [
       "$$\\left [ \\operatorname{Poly}{\\left( m_{2}^{4} - 3 m_{2}^{3} + m_{2}^{2} + m_{2}, m_{2}, domain=\\mathbb{Q} \\right)}, \\quad \\operatorname{Poly}{\\left( 6 m_{2}^{4} - 3 m_{2}^{3} - 8 m_{2}^{2} + 4 m_{2} + 1, m_{2}, domain=\\mathbb{Q} \\right)}, \\quad \\operatorname{Poly}{\\left( 2 m_{2}^{4} + 17 m_{2}^{3} - 15 m_{2}^{2} - 3 m_{2} + 3, m_{2}, domain=\\mathbb{Q} \\right)}, \\quad \\operatorname{Poly}{\\left( 7 m_{2}^{3} + 15 m_{2}^{2} - 9 m_{2} + 1, m_{2}, domain=\\mathbb{Q} \\right)}, \\quad \\operatorname{Poly}{\\left( 9 m_{2}^{2} + 10 m_{2} - 1, m_{2}, domain=\\mathbb{Q} \\right)}, \\quad \\operatorname{Poly}{\\left( 7 m_{2} + 3, m_{2}, domain=\\mathbb{Q} \\right)}, \\quad \\operatorname{Poly}{\\left( 2, m_{2}, domain=\\mathbb{Q} \\right)}\\right ]$$"
      ],
      "text/plain": [
       "[Poly(m2**4 - 3*m2**3 + m2**2 + m2, m2, domain='QQ'), Poly(6*m2**4 - 3*m2**3 -\n",
       " 8*m2**2 + 4*m2 + 1, m2, domain='QQ'), Poly(2*m2**4 + 17*m2**3 - 15*m2**2 - 3*\n",
       "m2 + 3, m2, domain='QQ'), Poly(7*m2**3 + 15*m2**2 - 9*m2 + 1, m2, domain='QQ')\n",
       ", Poly(9*m2**2 + 10*m2 - 1, m2, domain='QQ'), Poly(7*m2 + 3, m2, domain='QQ'),\n",
       " Poly(2, m2, domain='QQ')]"
      ]
     },
     "execution_count": 153,
     "metadata": {},
     "output_type": "execute_result"
    }
   ],
   "source": [
    "p=[]\n",
    "p.append(poly(P.subs(m[1],0),m[2],domain='QQ'))\n",
    "for k in range(1,7):\n",
    "    p.append(poly(P.coeff(m[1]**k),m[2],domain='QQ'))\n",
    "p"
   ]
  },
  {
   "cell_type": "markdown",
   "metadata": {},
   "source": [
    "<h2> Regiones de negatividad de los polinomios $p_i$. </h2>"
   ]
  },
  {
   "cell_type": "code",
   "execution_count": 126,
   "metadata": {
    "collapsed": false
   },
   "outputs": [
    {
     "data": {
      "text/plain": [
       "array([-1.2034391 ,  0.09232799])"
      ]
     },
     "execution_count": 126,
     "metadata": {},
     "output_type": "execute_result"
    }
   ],
   "source": [
    "[N(k) for k in list(roots(p[4],m[2]))]\n",
    "np.roots(p[4].coeffs())"
   ]
  },
  {
   "cell_type": "markdown",
   "metadata": {},
   "source": [
    "llamemos $x_{4,1}$ a la única raíz  positiva de $p_4$ "
   ]
  },
  {
   "cell_type": "code",
   "execution_count": 154,
   "metadata": {
    "collapsed": false
   },
   "outputs": [
    {
     "data": {
      "text/plain": [
       "array([-2.64864429,  0.35298958,  0.15279757])"
      ]
     },
     "execution_count": 154,
     "metadata": {},
     "output_type": "execute_result"
    }
   ],
   "source": [
    "np.roots(p[3].coeffs())"
   ]
  },
  {
   "cell_type": "markdown",
   "metadata": {},
   "source": [
    "llamemos $x_{3,1}$ y $x_{3,2}$  a la dos raices (en orden)  positivas de $p_3$ "
   ]
  },
  {
   "cell_type": "code",
   "execution_count": 128,
   "metadata": {
    "collapsed": false
   },
   "outputs": [
    {
     "data": {
      "text/plain": [
       "array([-9.28821575, -0.44220006,  0.73041581,  0.5       ])"
      ]
     },
     "execution_count": 128,
     "metadata": {},
     "output_type": "execute_result"
    }
   ],
   "source": [
    "np.roots(p[2].coeffs())"
   ]
  },
  {
   "cell_type": "markdown",
   "metadata": {},
   "source": [
    "llamemos $x_{2,1}$ y $x_{2,2}$  a las dos raices (en orden)  positivas de $p_2$ "
   ]
  },
  {
   "cell_type": "code",
   "execution_count": 155,
   "metadata": {
    "collapsed": false
   },
   "outputs": [
    {
     "data": {
      "text/plain": [
       "array([-1.11382825,  1.        ,  0.80070595, -0.18687769])"
      ]
     },
     "execution_count": 155,
     "metadata": {},
     "output_type": "execute_result"
    }
   ],
   "source": [
    "np.roots(p[1].coeffs())"
   ]
  },
  {
   "cell_type": "markdown",
   "metadata": {},
   "source": [
    "llamemos $x_{1,1}$ a la raíz  en $(0,1)$  de $p_1$ "
   ]
  },
  {
   "cell_type": "code",
   "execution_count": 156,
   "metadata": {
    "collapsed": false
   },
   "outputs": [
    {
     "data": {
      "text/plain": [
       "array([ 2.41421356,  1.        , -0.41421356])"
      ]
     },
     "execution_count": 156,
     "metadata": {},
     "output_type": "execute_result"
    }
   ],
   "source": [
    "np.roots(p[0].coeffs())"
   ]
  },
  {
   "cell_type": "markdown",
   "metadata": {},
   "source": [
    "Entonces $p_0\\geq 0$ en $[0,1]$"
   ]
  },
  {
   "cell_type": "markdown",
   "metadata": {},
   "source": [
    "Entonces\n",
    "\n",
    "$$0<x_{4,1}<x_{3,1}<x_{3,2}<x_{2,1}<x_{2,2}<x_{1,1}<1.$$\n",
    "\n",
    "<h2> Analisis de $P$ por regiones de positividad de los $p_i$ </h2>\n",
    "\n",
    "Escribimos $P(m_1,m_2)=\\sum_{i=0}^6 p_i(m_2) m_1^i$ y consideramos los siguientes casos\n",
    "\n",
    "1) $0<m_1<\\frac12$ y $x_{1,1} \\leq m_2\\leq 1$. \n",
    "\n",
    "$$P(m_1,m_2) \\geq p_0(m_2)+\\frac12p_1(m_2)=4 m_{2}^{4} - \\frac{9 m_{2}^{3}}{2} - 3 m_{2}^{2} + 3 m_{2} + \\frac{1}{2}$$\n",
    "\n"
   ]
  },
  {
   "cell_type": "code",
   "execution_count": 137,
   "metadata": {
    "collapsed": false
   },
   "outputs": [
    {
     "data": {
      "text/plain": [
       "array([ 1.06086593,  1.        , -0.78594709, -0.14991884])"
      ]
     },
     "execution_count": 137,
     "metadata": {},
     "output_type": "execute_result"
    }
   ],
   "source": [
    "np.roots((p[0]+p[1]/2).coeffs())"
   ]
  },
  {
   "cell_type": "markdown",
   "metadata": {},
   "source": [
    "$P\\geq 0$ en $[0,\\frac12]\\times [x_{1,1},1]$\n",
    "\n",
    "\n",
    "2) $\\frac12 \\leq m_1\\leq 1$ y $x_{1,1} \\leq m_2 \\leq 1$. \n",
    "$$P(m_1,m_2) \\geq p_0(m_2)+p_1(m_2)+(\\frac12)^2p_2(m_2)=$$\n",
    "\n"
   ]
  },
  {
   "cell_type": "code",
   "execution_count": 138,
   "metadata": {
    "collapsed": false
   },
   "outputs": [
    {
     "data": {
      "text/plain": [
       "array([-1.20850466+0.j        ,  0.84998736+0.15963079j,\n",
       "        0.84998736-0.15963079j, -0.25813672+0.j        ])"
      ]
     },
     "execution_count": 138,
     "metadata": {},
     "output_type": "execute_result"
    }
   ],
   "source": [
    "np.roots((p[0]+p[1]+p[2]/4).coeffs())"
   ]
  },
  {
   "cell_type": "markdown",
   "metadata": {},
   "source": [
    "$P\\geq 0$ en $[\\frac12,1]\\times [x_{1,1},1]$\n",
    "\n",
    "\n",
    "3) $0 \\leq m_1\\leq 1$ y $x_{2,1} \\leq m_2 \\leq  x_{2,2}$. \n",
    "$$P(m_1,m_2) \\geq p_0(m_2)+p_2(m_2)$$\n"
   ]
  },
  {
   "cell_type": "code",
   "execution_count": 142,
   "metadata": {
    "collapsed": false
   },
   "outputs": [
    {
     "data": {
      "text/plain": [
       "(array([-5.48871857+0.j        , -0.44509005+0.j        ,\n",
       "         0.63357098+0.08902221j,  0.63357098-0.08902221j]),\n",
       " Poly(3*m2**4 + 14*m2**3 - 14*m2**2 - 2*m2 + 3, m2, domain='ZZ'))"
      ]
     },
     "execution_count": 142,
     "metadata": {},
     "output_type": "execute_result"
    }
   ],
   "source": [
    "np.roots((p[0]+p[2]).coeffs()), (p[0]+p[2]).simplify()"
   ]
  },
  {
   "cell_type": "markdown",
   "metadata": {},
   "source": [
    "$P\\geq 0$ en $[0,1]\\times [x_{2,1},x_{2,2}]$\n",
    "\n",
    "\n",
    "4) $(m_1,m_2)\\in [0,1]\\times [x_{3,1}, x_{3,2}]$. \n",
    "$$P(m_1,m_2) \\geq p_0(m_2)+p_3(m_2)$$"
   ]
  },
  {
   "cell_type": "code",
   "execution_count": 143,
   "metadata": {
    "collapsed": false
   },
   "outputs": [
    {
     "data": {
      "text/plain": [
       "(array([-2.22925156+3.60819685j, -2.22925156-3.60819685j,\n",
       "         0.22925156+0.05508482j,  0.22925156-0.05508482j]),\n",
       " Poly(m2**4 + 4*m2**3 + 16*m2**2 - 8*m2 + 1, m2, domain='ZZ'))"
      ]
     },
     "execution_count": 143,
     "metadata": {},
     "output_type": "execute_result"
    }
   ],
   "source": [
    "np.roots((p[0]+p[3]).coeffs()), (p[0]+p[3]).simplify()"
   ]
  },
  {
   "cell_type": "markdown",
   "metadata": {},
   "source": [
    "$P\\geq 0$ en $[0,1]\\times [x_{3,1}, x_{3,2}]$ (Los últimos 3 términos son un cuadrado prefecto)\n",
    "\n",
    "\n",
    "5) $(m_1,m_2)\\in [0,1]\\times [0, x_{4,1}]$. \n",
    "$$P(m_1,m_2) \\geq p_0(m_2)+p_1(m_2)+p_4(m_2)$$"
   ]
  },
  {
   "cell_type": "code",
   "execution_count": 146,
   "metadata": {
    "collapsed": false
   },
   "outputs": [
    {
     "data": {
      "text/plain": [
       "(array([ 0.92857143+1.13164139j,  0.92857143-1.13164139j, -1.00000000+0.j        ]),\n",
       " Poly(7*m2**4 - 6*m2**3 + 2*m2**2 + 15*m2, m2, domain='ZZ'))"
      ]
     },
     "execution_count": 146,
     "metadata": {},
     "output_type": "execute_result"
    }
   ],
   "source": [
    "np.roots((p[0]+p[1]+p[4]).coeffs()), (p[0]+p[1]+p[4]).simplify()"
   ]
  },
  {
   "cell_type": "markdown",
   "metadata": {},
   "source": [
    "$P\\geq 0$ en $[0,1]\\times [0, x_{4,1}]$ ($-6m_2^3+15m_2$ es claramente positivo)\n",
    "\n",
    "\n",
    "6) $(m_1,m_2)\\in [1,+\\infty)\\times [0, 1]$. \n",
    "                  \n",
    "Recolectamos potencias de $m_2$ "
   ]
  },
  {
   "cell_type": "code",
   "execution_count": 150,
   "metadata": {
    "collapsed": false
   },
   "outputs": [
    {
     "data": {
      "image/png": "[encoded data removed]",
      "text/latex": [
       "$$2 m_{1}^{6} + 3 m_{1}^{5} - m_{1}^{4} + m_{1}^{3} + 3 m_{1}^{2} + m_{1} + m_{2}^{4} \\left(2 m_{1}^{2} + 6 m_{1} + 1\\right) + m_{2}^{3} \\left(7 m_{1}^{3} + 17 m_{1}^{2} - 3 m_{1} - 3\\right) + m_{2}^{2} \\left(9 m_{1}^{4} + 15 m_{1}^{3} - 15 m_{1}^{2} - 8 m_{1} + 1\\right) + m_{2} \\left(7 m_{1}^{5} + 10 m_{1}^{4} - 9 m_{1}^{3} - 3 m_{1}^{2} + 4 m_{1} + 1\\right)$$"
      ],
      "text/plain": [
       "    6       5     4     3       2          4 ⎛    2           ⎞     3 ⎛    3  \n",
       "2⋅m₁  + 3⋅m₁  - m₁  + m₁  + 3⋅m₁  + m₁ + m₂ ⋅⎝2⋅m₁  + 6⋅m₁ + 1⎠ + m₂ ⋅⎝7⋅m₁  +\n",
       "\n",
       "      2           ⎞     2 ⎛    4        3        2           ⎞      ⎛    5    \n",
       " 17⋅m₁  - 3⋅m₁ - 3⎠ + m₂ ⋅⎝9⋅m₁  + 15⋅m₁  - 15⋅m₁  - 8⋅m₁ + 1⎠ + m₂⋅⎝7⋅m₁  + 1\n",
       "\n",
       "    4       3       2           ⎞\n",
       "0⋅m₁  - 9⋅m₁  - 3⋅m₁  + 4⋅m₁ + 1⎠"
      ]
     },
     "execution_count": 150,
     "metadata": {},
     "output_type": "execute_result"
    }
   ],
   "source": [
    "P.collect(m[2])"
   ]
  },
  {
   "cell_type": "markdown",
   "metadata": {},
   "source": [
    "Como $m_1\\geq 1$ es facil ver que todos los coeficientes son mayores que cero"
   ]
  },
  {
   "cell_type": "code",
   "execution_count": null,
   "metadata": {
    "collapsed": true
   },
   "outputs": [],
   "source": []
  }
 ],
 "metadata": {
  "kernelspec": {
   "display_name": "Python 2",
   "language": "python",
   "name": "python2"
  },
  "language_info": {
   "codemirror_mode": {
    "name": "ipython",
    "version": 2
   },
   "file_extension": ".py",
   "mimetype": "text/x-python",
   "name": "python",
   "nbconvert_exporter": "python",
   "pygments_lexer": "ipython2",
   "version": "2.7.11"
  }
 },
 "nbformat": 4,
 "nbformat_minor": 0
}
