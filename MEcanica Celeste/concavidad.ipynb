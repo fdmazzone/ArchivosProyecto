{
 "cells": [
  {
   "cell_type": "markdown",
   "metadata": {},
   "source": [
    "<h1> Demostración de la conjetura para $m_2\\geq 1$ </h4>\n"
   ]
  },
  {
   "cell_type": "code",
   "execution_count": 1,
   "metadata": {
    "collapsed": false
   },
   "outputs": [
    {
     "name": "stderr",
     "output_type": "stream",
     "text": [
      "/home/fernando/anaconda2/lib/python2.7/site-packages/matplotlib/font_manager.py:273: UserWarning: Matplotlib is building the font cache using fc-list. This may take a moment.\n",
      "  warnings.warn('Matplotlib is building the font cache using fc-list. This may take a moment.')\n"
     ]
    }
   ],
   "source": [
    "from sympy import *\n",
    "init_printing() #muestra símbolos más agradab\n",
    "import matplotlib.pyplot as plt\n",
    "from mpl_toolkits.mplot3d import Axes3D\n",
    "from matplotlib import cm\n",
    "import numpy as np\n",
    "R=lambda n,d: Rational(n,d)"
   ]
  },
  {
   "cell_type": "markdown",
   "metadata": {},
   "source": [
    "<h2> 1. ¿Cuando $q_1=c$ ? </h2>\n",
    "\n",
    "Lo que viene en esta sección en realidad no es necesario para la demostración de la conjetura. Vamos a demostrar que la única forma que la masa del medio en una configuración central colineal este sobre el centro de masas es que las masas de los extremos sean iguales.\n",
    "\n",
    "<b> Teorema </b> Supogamos una configuración central colineal de masas $1$,$m_1$ y $m_2$ en posiciones $0,1,1+r$, con $r>0$. Si $c$ es el centro de masa, $c=1$ si y solo si $m_2=1$.\n",
    "\n",
    "<b>Dem.</b>\n"
   ]
  },
  {
   "cell_type": "code",
   "execution_count": 2,
   "metadata": {
    "collapsed": false
   },
   "outputs": [
    {
     "data": {
      "image/png": "iVBORw0KGgoAAAANSUhEUgAAAeEAAAAyBAMAAACZuX4IAAAAMFBMVEX///8AAAAAAAAAAAAAAAAA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\nvBMJy38b33L/KP8P7WoJoe9FErUAAAAASUVORK5CYII=\n",
      "text/latex": [
       "$$\\left [ - \\frac{m_{1} + m_{2} \\left(r + 1\\right)}{m_{1} + m_{2} + 1}, \\quad \\frac{- m_{2} r + 1}{m_{1} + m_{2} + 1}, \\quad \\frac{m_{1} r + r + 1}{m_{1} + m_{2} + 1}\\right ]$$"
      ],
      "text/plain": [
       "⎡-(m₁ + m₂⋅(r + 1))    -m₂⋅r + 1   m₁⋅r + r + 1⎤\n",
       "⎢───────────────────, ───────────, ────────────⎥\n",
       "⎣    m₁ + m₂ + 1      m₁ + m₂ + 1  m₁ + m₂ + 1 ⎦"
      ]
     },
     "execution_count": 2,
     "metadata": {},
     "output_type": "execute_result"
    }
   ],
   "source": [
    "m=symbols('m0:%s' %3, positive=True) #masas\n",
    "var('r')#r \n",
    "m=[1,m[1],m[2]]# la masa m0 es 1\n",
    "x=[0,1,1+r]#posiciones\n",
    "c=sum([m[j]*x[j]/sum(m) for j in range(3)]) #centro masas\n",
    "q=[(h-c).simplify() for h in x] #coordenadas varicentricas\n",
    "solve(c-1)#hallamos cuando Se tiene que dar m2=1/r\n",
    "q"
   ]
  },
  {
   "cell_type": "markdown",
   "metadata": {},
   "source": [
    "Hasta aquí hemos probado que $m_2=1/r$. Pero $r$ debe satisfacer la ecuación de Euler"
   ]
  },
  {
   "cell_type": "code",
   "execution_count": 3,
   "metadata": {
    "collapsed": false
   },
   "outputs": [],
   "source": [
    "f=r**5 + 3*r**4 + 3*r**3 + m[1]*r**5 + 2*m[1]*r**4 + m[1]*r**3 - m[1]*r**2 - 2*m[1]*r - m[1] - 3*m[2]*r**2 - 3*m[2]*r - m[2]\n"
   ]
  },
  {
   "cell_type": "markdown",
   "metadata": {},
   "source": [
    "El polinomio $f$ depende de $m_1,m_2$ y $r$ ($f=f(m_1,m_2,r)$). Se debe cumplir $f(m_1,m_2,\\frac{1}{m_2})=0$"
   ]
  },
  {
   "cell_type": "code",
   "execution_count": 4,
   "metadata": {
    "collapsed": false
   },
   "outputs": [
    {
     "data": {
      "image/png": "iVBORw0KGgoAAAANSUhEUgAAAe4AAAAwBAMAAAAleoSOAAAAMFBMVEX///8AAAAAAAAAAAAAAAAA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\nH1flCeC1v6DYAAAAAElFTkSuQmCC\n",
      "text/latex": [
       "$$- \\frac{1}{m_{2}^{5}} \\left(m_{2} - 1\\right) \\left(m_{2} + 1\\right)^{2} \\left(m_{1} + m_{2} + 1\\right) \\left(m_{2}^{2} + m_{2} + 1\\right)$$"
      ],
      "text/plain": [
       "                  2               ⎛  2         ⎞ \n",
       "-(m₂ - 1)⋅(m₂ + 1) ⋅(m₁ + m₂ + 1)⋅⎝m₂  + m₂ + 1⎠ \n",
       "─────────────────────────────────────────────────\n",
       "                         5                       \n",
       "                       m₂                        "
      ]
     },
     "execution_count": 4,
     "metadata": {},
     "output_type": "execute_result"
    }
   ],
   "source": [
    "f.subs({r:m[2]**(-1)}).factor()"
   ]
  },
  {
   "cell_type": "markdown",
   "metadata": {},
   "source": [
    "La única solución con $m_1>0$ y $m_2>0$ es $m_2=1$ y $m_1>0$ puede ser cualquier masa positiva. Este resultado es físicamente evidente."
   ]
  },
  {
   "cell_type": "markdown",
   "metadata": {},
   "source": [
    "<h2> 2. $r(m_1,m_2)$ es concava respecto a $m_2$ para $m_1$ fijo</h2>\n",
    "\n",
    "<b> Teorema 2.</b>  $r(m_1,m_2)$ es concava respecto a $m_2$ para $m_1$ \n",
    "\n",
    "<b>Dem.</b> Veamos que $\\frac{\\partial^2 r}{\\partial m_2^2}<0$. Calculamos la derivada siguiendo la derivación de una función implícita. En la expresión de $f$ sustituyo $r$ por una función de $m_1,m_2$ que llamo $R(m_1,m_2)$. A la expresión que resulta $f_1$ la derivo respecto a $m_2$ y despejo $\\frac{\\partial R}{\\partial m_2}$ en función de $R$. "
   ]
  },
  {
   "cell_type": "code",
   "execution_count": 5,
   "metadata": {
    "collapsed": false
   },
   "outputs": [
    {
     "data": {
      "image/png": "iVBORw0KGgoAAAANSUhEUgAABCQAAAA0BAMAAACgIfSyAAAAMFBMVEX///8AAAAAAAAAAAAAAAAA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\n6a+rU+o9Q+z0v3ZFX4NK5BCTAAAAAElFTkSuQmCC\n",
      "text/latex": [
       "$$\\frac{3 R^{2}{\\left (m_{1},m_{2} \\right )} + 3 R{\\left (m_{1},m_{2} \\right )} + 1}{- 2 m_{1} - 3 m_{2} + \\left(- 2 m_{1} - 6 m_{2}\\right) R{\\left (m_{1},m_{2} \\right )} + \\left(3 m_{1} + 9\\right) R^{2}{\\left (m_{1},m_{2} \\right )} + \\left(5 m_{1} + 5\\right) R^{4}{\\left (m_{1},m_{2} \\right )} + \\left(8 m_{1} + 12\\right) R^{3}{\\left (m_{1},m_{2} \\right )}}$$"
      ],
      "text/plain": [
       "                                            2                                 \n",
       "                                         3⋅R (m₁, m₂) + 3⋅R(m₁, m₂) + 1       \n",
       "──────────────────────────────────────────────────────────────────────────────\n",
       "                                                      2                       \n",
       "-2⋅m₁ - 3⋅m₂ + (-2⋅m₁ - 6⋅m₂)⋅R(m₁, m₂) + (3⋅m₁ + 9)⋅R (m₁, m₂) + (5⋅m₁ + 5)⋅R\n",
       "\n",
       "                                  \n",
       "                                  \n",
       "──────────────────────────────────\n",
       "4                        3        \n",
       " (m₁, m₂) + (8⋅m₁ + 12)⋅R (m₁, m₂)"
      ]
     },
     "execution_count": 5,
     "metadata": {},
     "output_type": "execute_result"
    }
   ],
   "source": [
    "R=Function('R')(m[1],m[2])\n",
    "f1=f.subs(r,R)\n",
    "f1=f1.diff(m[2])\n",
    "r_m2=solve(f1,R.diff(m[2]))[0].collect(R)\n",
    "r_m2\n"
   ]
  },
  {
   "cell_type": "markdown",
   "metadata": {},
   "source": [
    "La expresión  <b>r_m2</b> es la derivada $\\partial r/\\partial m_2$ escrita en función de $R(m_1,m_2)$. En la celda debajo derivo <b>r_m2</b> respecto a $m_2$, aparece nuevamente $\\frac{\\partial R}{\\partial m_2}$ lo sustituyo por <b>r_m2</b>. Por último, vuelvo a sustiruir $R$ por $r$ por simplicidad"
   ]
  },
  {
   "cell_type": "code",
   "execution_count": 6,
   "metadata": {
    "collapsed": false
   },
   "outputs": [
    {
     "data": {
      "image/png": "iVBORw0KGgoAAAANSUhEUgAABAAAAAA4BAMAAACRVZdjAAAAMFBMVEX///8AAAAAAAAAAAAAAAAA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\n",
      "text/latex": [
       "$$- \\frac{2 \\left(3 r^{2} + 3 r + 1\\right) \\left(3 m_{1} r^{4} + 13 m_{1} r^{3} + 21 m_{1} r^{2} + 18 m_{1} r + 5 m_{1} + 27 m_{2} r^{2} + 27 m_{2} r + 6 m_{2} - 3 r^{4} + r^{3} + 18 r^{2} + 9 r\\right)}{\\left(5 m_{1} r^{4} + 8 m_{1} r^{3} + 3 m_{1} r^{2} - 2 m_{1} r - 2 m_{1} - 6 m_{2} r - 3 m_{2} + 5 r^{4} + 12 r^{3} + 9 r^{2}\\right)^{3}}$$"
      ],
      "text/plain": [
       "   ⎛   2          ⎞ ⎛      4          3          2                           2\n",
       "-2⋅⎝3⋅r  + 3⋅r + 1⎠⋅⎝3⋅m₁⋅r  + 13⋅m₁⋅r  + 21⋅m₁⋅r  + 18⋅m₁⋅r + 5⋅m₁ + 27⋅m₂⋅r \n",
       "──────────────────────────────────────────────────────────────────────────────\n",
       "                                                                              \n",
       "                    ⎛      4         3         2                              \n",
       "                    ⎝5⋅m₁⋅r  + 8⋅m₁⋅r  + 3⋅m₁⋅r  - 2⋅m₁⋅r - 2⋅m₁ - 6⋅m₂⋅r - 3⋅\n",
       "\n",
       "                       4    3       2      ⎞ \n",
       " + 27⋅m₂⋅r + 6⋅m₂ - 3⋅r  + r  + 18⋅r  + 9⋅r⎠ \n",
       "─────────────────────────────────────────────\n",
       "                         3                   \n",
       "        4       3      2⎞                    \n",
       "m₂ + 5⋅r  + 12⋅r  + 9⋅r ⎠                    "
      ]
     },
     "execution_count": 6,
     "metadata": {},
     "output_type": "execute_result"
    }
   ],
   "source": [
    "f2=r_m2.diff(m[2]).subs(R.diff(m[2]),r_m2).subs(R,r)\n",
    "f2.simplify().factor()\n"
   ]
  },
  {
   "cell_type": "markdown",
   "metadata": {},
   "source": [
    "Hay que demostrar que la expresión es negativa. Tomo los dos factores que no tienen un signo definido y los estudio por separado."
   ]
  },
  {
   "cell_type": "code",
   "execution_count": 7,
   "metadata": {
    "collapsed": false
   },
   "outputs": [],
   "source": [
    "num=(3*m[1]*r**4 + 13*m[1]*r**3 + 21*m[1]*r**2 + 18*m[1]*r + 5*m[1] + 27*m[2]*r**2 + 27*m[2]*r + 6*m[2] - 3*r**4 + r**3 + 18*r**2 + 9*r)\n",
    "dem=5*m[1]*r**4 + 8*m[1]*r**3 + 3*m[1]*r**2 - 2*m[1]*r - 2*m[1] - 6*m[2]*r - 3*m[2] + 5*r**4 + 12*r**3 + 9*r**2\n"
   ]
  },
  {
   "cell_type": "markdown",
   "metadata": {},
   "source": [
    "Creo que el teorema de Descartes implica que el cociente de estas expresiones cambian de signo. Ahora aquí nos hemos olvidado que $r=r(m_1,m_2)$, i.e. no se puede variar $r$ independientemente de $m_1,m_2$, sino que  $m_1,m_2,r$ estan relacionados por la ecuación de Euler. La idea sería ver que si reemplazo $r$ por su expresión en $m_1,m_2$ quedan expresiones con signo definido. Claro que no disponemos de una fórmula para $r$. Trato de usar la fórmula de Gastón\n",
    "$$ r^3=\\frac{m_2(3r^2+3r+1)+m_1(r+1)^2}{(r^2+3r+3)+m_1(r+1)^2}=:g$$\n",
    "La utilizo para reemplazar $r^3$ por $g$ y $r^4$ por $rg$\n"
   ]
  },
  {
   "cell_type": "code",
   "execution_count": 8,
   "metadata": {
    "collapsed": false
   },
   "outputs": [
    {
     "data": {
      "image/png": "iVBORw0KGgoAAAANSUhEUgAACmkAAAA/BAMAAADz1KNnAAAAMFBMVEX///8AAAAAAAAAAAAAAAAA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\npKESikpCHnDdqhmoGbjADPw//qE/eY1iCzoAAAAASUVORK5CYII=\n",
      "text/latex": [
       "$$- \\frac{2 \\left(3 r^{2} + 3 r + 1\\right) \\left(m_{1} r^{2} + 2 m_{1} r + m_{1} + r^{2} + 3 r + 3\\right)^{2} \\left(21 m_{1}^{2} r^{4} + 63 m_{1}^{2} r^{3} + 81 m_{1}^{2} r^{2} + 57 m_{1}^{2} r + 18 m_{1}^{2} + 27 m_{1} m_{2} r^{4} + 90 m_{1} m_{2} r^{3} + 135 m_{1} m_{2} r^{2} + 81 m_{1} m_{2} r + 19 m_{1} m_{2} + 39 m_{1} r^{4} + 123 m_{1} r^{3} + 153 m_{1} r^{2} + 77 m_{1} r + 16 m_{1} + 27 m_{2} r^{4} + 99 m_{2} r^{3} + 162 m_{2} r^{2} + 99 m_{2} r + 19 m_{2} + 18 r^{4} + 63 r^{3} + 81 r^{2} + 27 r\\right)}{\\left(3 m_{1}^{2} r^{4} + 9 m_{1}^{2} r^{3} + 15 m_{1}^{2} r^{2} + 15 m_{1}^{2} r + 6 m_{1}^{2} + 9 m_{1} m_{2} r^{3} + 24 m_{1} m_{2} r^{2} + 17 m_{1} m_{2} r + 5 m_{1} m_{2} + 12 m_{1} r^{4} + 30 m_{1} r^{3} + 32 m_{1} r^{2} + 17 m_{1} r + 6 m_{1} + 9 m_{2} r^{3} + 30 m_{2} r^{2} + 14 m_{2} r + 3 m_{2} + 9 r^{4} + 27 r^{3} + 27 r^{2}\\right)^{3}}$$"
      ],
      "text/plain": [
       "                                                        2                     \n",
       "   ⎛   2          ⎞ ⎛    2                  2          ⎞  ⎛     2  4        2 \n",
       "-2⋅⎝3⋅r  + 3⋅r + 1⎠⋅⎝m₁⋅r  + 2⋅m₁⋅r + m₁ + r  + 3⋅r + 3⎠ ⋅⎝21⋅m₁ ⋅r  + 63⋅m₁ ⋅\n",
       "──────────────────────────────────────────────────────────────────────────────\n",
       "                                                                              \n",
       "                                                    ⎛    2  4       2  3      \n",
       "                                                    ⎝3⋅m₁ ⋅r  + 9⋅m₁ ⋅r  + 15⋅\n",
       "\n",
       "                                                                              \n",
       " 3        2  2        2          2             4             3              2 \n",
       "r  + 81⋅m₁ ⋅r  + 57⋅m₁ ⋅r + 18⋅m₁  + 27⋅m₁⋅m₂⋅r  + 90⋅m₁⋅m₂⋅r  + 135⋅m₁⋅m₂⋅r  \n",
       "──────────────────────────────────────────────────────────────────────────────\n",
       "                                                                              \n",
       "  2  2        2         2            3             2                          \n",
       "m₁ ⋅r  + 15⋅m₁ ⋅r + 6⋅m₁  + 9⋅m₁⋅m₂⋅r  + 24⋅m₁⋅m₂⋅r  + 17⋅m₁⋅m₂⋅r + 5⋅m₁⋅m₂ + \n",
       "\n",
       "                                                                              \n",
       "                                 4           3           2                    \n",
       "+ 81⋅m₁⋅m₂⋅r + 19⋅m₁⋅m₂ + 39⋅m₁⋅r  + 123⋅m₁⋅r  + 153⋅m₁⋅r  + 77⋅m₁⋅r + 16⋅m₁ +\n",
       "──────────────────────────────────────────────────────────────────────────────\n",
       "                                                                              \n",
       "       4          3          2                          3          2          \n",
       "12⋅m₁⋅r  + 30⋅m₁⋅r  + 32⋅m₁⋅r  + 17⋅m₁⋅r + 6⋅m₁ + 9⋅m₂⋅r  + 30⋅m₂⋅r  + 14⋅m₂⋅r\n",
       "\n",
       "                                                                              \n",
       "        4          3           2                         4       3       2    \n",
       " 27⋅m₂⋅r  + 99⋅m₂⋅r  + 162⋅m₂⋅r  + 99⋅m₂⋅r + 19⋅m₂ + 18⋅r  + 63⋅r  + 81⋅r  + 2\n",
       "──────────────────────────────────────────────────────────────────────────────\n",
       "                               3                                              \n",
       "             4       3       2⎞                                               \n",
       " + 3⋅m₂ + 9⋅r  + 27⋅r  + 27⋅r ⎠                                               \n",
       "\n",
       "     \n",
       "   ⎞ \n",
       "7⋅r⎠ \n",
       "─────\n",
       "     \n",
       "     \n",
       "     "
      ]
     },
     "execution_count": 8,
     "metadata": {},
     "output_type": "execute_result"
    }
   ],
   "source": [
    "g=(m[2]*(3*r**2+3*r+1)+m[1]*(r+1)**2)/((r**2+3*r+3)+m[1]*(r+1)**2)\n",
    "num.collect(r).subs({r**4:g*r,r**3:g}).factor().collect(r)\n",
    "f2.simplify().factor().subs({r**4:g*r,r**3:g}).factor()"
   ]
  },
  {
   "cell_type": "markdown",
   "metadata": {},
   "source": [
    "La expresión tiene sólo términos positivos. Hago lo mismo con \"dem\""
   ]
  },
  {
   "cell_type": "code",
   "execution_count": 9,
   "metadata": {
    "collapsed": false
   },
   "outputs": [
    {
     "data": {
      "image/png": "iVBORw0KGgoAAAANSUhEUgAACBMAAAAtBAMAAAAEzaxnAAAAMFBMVEX///8AAAAAAAAAAAAAAAAA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\nZuMp1CkCKQKrLwL/BxS2Gc6QO6eOAAAAAElFTkSuQmCC\n",
      "text/latex": [
       "$$\\frac{1}{m_{1} r^{2} + 2 m_{1} r + m_{1} + r^{2} + 3 r + 3} \\left(3 m_{1}^{2} r^{4} + 9 m_{1}^{2} r^{3} + 15 m_{1}^{2} r^{2} + 15 m_{1}^{2} r + 6 m_{1}^{2} + 9 m_{1} m_{2} r^{3} + 24 m_{1} m_{2} r^{2} + 17 m_{1} m_{2} r + 5 m_{1} m_{2} + 12 m_{1} r^{4} + 30 m_{1} r^{3} + 32 m_{1} r^{2} + 17 m_{1} r + 6 m_{1} + 9 m_{2} r^{3} + 30 m_{2} r^{2} + 14 m_{2} r + 3 m_{2} + 9 r^{4} + 27 r^{3} + 27 r^{2}\\right)$$"
      ],
      "text/plain": [
       "    2  4       2  3        2  2        2         2            3             2 \n",
       "3⋅m₁ ⋅r  + 9⋅m₁ ⋅r  + 15⋅m₁ ⋅r  + 15⋅m₁ ⋅r + 6⋅m₁  + 9⋅m₁⋅m₂⋅r  + 24⋅m₁⋅m₂⋅r  \n",
       "──────────────────────────────────────────────────────────────────────────────\n",
       "                                                                              \n",
       "                                                                              \n",
       "\n",
       "                                4          3          2                       \n",
       "+ 17⋅m₁⋅m₂⋅r + 5⋅m₁⋅m₂ + 12⋅m₁⋅r  + 30⋅m₁⋅r  + 32⋅m₁⋅r  + 17⋅m₁⋅r + 6⋅m₁ + 9⋅m\n",
       "──────────────────────────────────────────────────────────────────────────────\n",
       "               2                  2                                           \n",
       "           m₁⋅r  + 2⋅m₁⋅r + m₁ + r  + 3⋅r + 3                                 \n",
       "\n",
       "   3          2                       4       3       2\n",
       "₂⋅r  + 30⋅m₂⋅r  + 14⋅m₂⋅r + 3⋅m₂ + 9⋅r  + 27⋅r  + 27⋅r \n",
       "───────────────────────────────────────────────────────\n",
       "                                                       \n",
       "                                                       "
      ]
     },
     "execution_count": 9,
     "metadata": {},
     "output_type": "execute_result"
    }
   ],
   "source": [
    "dem.subs({r**4:g*r,r**3:g}).factor()"
   ]
  },
  {
   "cell_type": "markdown",
   "metadata": {
    "collapsed": true
   },
   "source": [
    "También aparecen sólo términos positivos. Por consiguiente se llega a lo que quería. $\\square$"
   ]
  },
  {
   "cell_type": "markdown",
   "metadata": {
    "collapsed": true
   },
   "source": [
    "<h3> Demostración conjetura para $m_2>1$. </h3> \n",
    "\n",
    "Recordemos \n",
    "\n",
    "$$U<\\frac{m_i^2}{|q_i|}+\\frac{m_{i+1}^2}{|q_{i+1}|}$$ \n",
    "donde $i=0$ o $i=1$ acorde a que el centro de masas $c$ satisface $c\\in [q_i,q_{i+1}]$\n",
    "\n",
    "\n",
    "Teniendo en cuenta que $r$ es concava respecto a $m_2$ y que $r>1$ cuando $m_2>1$, vamos usar como cotas de $r$, la constante $1$ y la recta tangente respecto a la variable $m_2$, con $m_1$ fijo. Evaluemos $\\left.\\frac{\\partial r}{\\partial m_2}\\right|_{m_2=1}$ (notar que $\\forall m_1>0: r(m_1,1)=1$).\n"
   ]
  },
  {
   "cell_type": "code",
   "execution_count": 10,
   "metadata": {
    "collapsed": false
   },
   "outputs": [
    {
     "data": {
      "image/png": "iVBORw0KGgoAAAANSUhEUgAAAF8AAAAuBAMAAAC8HNiiAAAAMFBMVEX///8AAAAAAAAAAAAAAAAA\nAAAAAAAAAAAAAAAAAAAAAAAAAAAAAAAAAAAAAAAAAAAv3aB7AAAAD3RSTlMAMt2rmYlmIkR2uxDN\nVO+L8+I6AAAACXBIWXMAAA7EAAAOxAGVKw4bAAABwElEQVRIDe2TPUvDUBSG3/QraZOIiKsYEBcH\nyaCDLhaLCOIQkQiCoP9AB8HJj0lwUnBQQTCCg05mc2wHxw6uLtbFwUGsKCh0qCc3VVN6T7G4dPAO\nt+nznufce/MBSEfXkOs60oSBy9Vq1WYyKZ4E4tKAg7SdGS5juLbHBBzOcAHH57iA4XqZCTicLnAJ\nw2MeE3A439Jjoy69Wa4Vw0utChs3TKd/3CZ3gL72Vkarb32bnPLv2zB8YHXqtHkjKlL6JlyXqtRL\nH7qNxa1mRlCUotv/CuhnYz7iPjruZcJVCEVRYgWwg/8nVG0h/iITbr8gFSWBZGdNMCq/EKh2R/gk\n04hVtNm1oxFt/lzA2hRdgZAncCjsOsnMBfKHuKvVip96IbkUEQbQEytg08EyoHgioKleyIdYrJDw\n4Oe3UPIxCiVnyYXjiLBP1yVgHHgEzFBYKBYHi8VrUSW6DvwIZhZrmAb6ob3rXwLFdVvS6bEFI5C7\ngQM8QP9AorDOCcrbt6D2uzlL/UCqDMNxOMEMhdxz35JBr4mlWUjbMIc7JUJQBPUpXKFxrh2agu8z\nNBZFyY+wHcX8tXnPZ7JEHX/dk3HBPgEvEqfirjOqZAAAAABJRU5ErkJggg==\n",
      "text/latex": [
       "$$\\frac{7}{12 m_{1} + 17}$$"
      ],
      "text/plain": [
       "    7     \n",
       "──────────\n",
       "12⋅m₁ + 17"
      ]
     },
     "execution_count": 10,
     "metadata": {},
     "output_type": "execute_result"
    }
   ],
   "source": [
    "r_m2.subs({R:1,m[2]:1})"
   ]
  },
  {
   "cell_type": "markdown",
   "metadata": {},
   "source": [
    "Luego por concavidad si $m_2>1$\n",
    "$$r(m_1,m_2)\\leq \\frac{7}{12m_1+17}(m_2-1)+1\\leq m_2.$$\n",
    "        "
   ]
  },
  {
   "cell_type": "code",
   "execution_count": 11,
   "metadata": {
    "collapsed": false
   },
   "outputs": [],
   "source": [
    "var('r',positive=True) #introducimos la suposicion r>0\n",
    "x=[0,1,1+r]#posiciones\n",
    "c=sum([m[j]*x[j]/sum(m) for j in range(3)]) #centro masas\n",
    "q=[(h-c).simplify() for h in x] #coordenadas varicentricas\n",
    "U=sum([ sum([m[i]*m[j]/abs(x[i]-x[j]) for i in range(j) ]) for j in range(3)]) #potencial\n",
    "Q=[m[i]**2/abs(q[i]) for i in range(3)]\n"
   ]
  },
  {
   "cell_type": "markdown",
   "metadata": {},
   "source": [
    "Supongamos $m_2>1$. Entonces $r>1$ y $c>1$, es decir $c$ estra entre la segunda y tercer masas. Entoces $q_1<0$ y $q_2>0$"
   ]
  },
  {
   "cell_type": "code",
   "execution_count": 12,
   "metadata": {
    "collapsed": false
   },
   "outputs": [
    {
     "data": {
      "image/png": "iVBORw0KGgoAAAANSUhEUgAAAeEAAAAyBAMAAACZuX4IAAAAMFBMVEX///8AAAAAAAAAAAAAAAAA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\nvBMJy38b33L/KP8P7WoJoe9FErUAAAAASUVORK5CYII=\n",
      "text/latex": [
       "$$\\left [ - \\frac{m_{1} + m_{2} \\left(r + 1\\right)}{m_{1} + m_{2} + 1}, \\quad \\frac{- m_{2} r + 1}{m_{1} + m_{2} + 1}, \\quad \\frac{m_{1} r + r + 1}{m_{1} + m_{2} + 1}\\right ]$$"
      ],
      "text/plain": [
       "⎡-(m₁ + m₂⋅(r + 1))    -m₂⋅r + 1   m₁⋅r + r + 1⎤\n",
       "⎢───────────────────, ───────────, ────────────⎥\n",
       "⎣    m₁ + m₂ + 1      m₁ + m₂ + 1  m₁ + m₂ + 1 ⎦"
      ]
     },
     "execution_count": 12,
     "metadata": {},
     "output_type": "execute_result"
    }
   ],
   "source": [
    "q"
   ]
  },
  {
   "cell_type": "code",
   "execution_count": 13,
   "metadata": {
    "collapsed": false
   },
   "outputs": [],
   "source": [
    "Q=m[1]**2/(-q[1])+m[2]**2/q[2]"
   ]
  },
  {
   "cell_type": "code",
   "execution_count": 14,
   "metadata": {
    "collapsed": false
   },
   "outputs": [
    {
     "data": {
      "image/png": "iVBORw0KGgoAAAANSUhEUgAAAk4AAAAyBAMAAABYCElVAAAAMFBMVEX///8AAAAAAAAAAAAAAAAA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\nwVZyEEy7sRCM8h/deWeheuObAAAAAABJRU5ErkJggg==\n",
      "text/latex": [
       "$$- \\frac{m_{1}^{2} \\left(m_{1} + m_{2} + 1\\right)}{- m_{2} r + 1} - \\frac{m_{1} m_{2}}{r} - m_{1} + \\frac{m_{2}^{2} \\left(m_{1} + m_{2} + 1\\right)}{m_{1} r + r + 1} - \\frac{m_{2}}{r + 1}$$"
      ],
      "text/plain": [
       "    2                                2                      \n",
       "  m₁ ⋅(m₁ + m₂ + 1)   m₁⋅m₂        m₂ ⋅(m₁ + m₂ + 1)     m₂ \n",
       "- ───────────────── - ───── - m₁ + ───────────────── - ─────\n",
       "      -m₂⋅r + 1         r             m₁⋅r + r + 1     r + 1"
      ]
     },
     "execution_count": 14,
     "metadata": {},
     "output_type": "execute_result"
    }
   ],
   "source": [
    "Exp=-U+Q\n",
    "Exp"
   ]
  },
  {
   "cell_type": "markdown",
   "metadata": {},
   "source": [
    "Ahora sabemos que $1<r<\\frac{7}{12m_1+17}(m_2-1)+1$, acotamos $r$ en cada termino de  <b>Exp</b> por el correspondiente valor para acotar por debajo <b>Exp</b> "
   ]
  },
  {
   "cell_type": "code",
   "execution_count": 15,
   "metadata": {
    "collapsed": false
   },
   "outputs": [
    {
     "data": {
      "image/png": "iVBORw0KGgoAAAANSUhEUgAADO8AAAAwBAMAAAABLKK3AAAAMFBMVEX///8AAAAAAAAAAAAAAAAA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\n",
      "text/latex": [
       "$$\\frac{1}{2 \\left(m_{2} - 1\\right) \\left(12 m_{1} + 7 m_{2} + 17\\right) \\left(12 m_{1}^{2} + 7 m_{1} m_{2} + 34 m_{1} + 7 m_{2} + 27\\right)} \\left(288 m_{1}^{6} + 456 m_{1}^{5} m_{2} + 1512 m_{1}^{5} - 120 m_{1}^{4} m_{2}^{2} + 1798 m_{1}^{4} m_{2} + 3316 m_{1}^{4} - 48 m_{1}^{3} m_{2}^{3} - 1250 m_{1}^{3} m_{2}^{2} + 2928 m_{1}^{3} m_{2} + 3946 m_{1}^{3} + 358 m_{1}^{2} m_{2}^{4} - 402 m_{1}^{2} m_{2}^{3} - 3016 m_{1}^{2} m_{2}^{2} + 2650 m_{1}^{2} m_{2} + 2722 m_{1}^{2} + 168 m_{1} m_{2}^{5} + 907 m_{1} m_{2}^{4} - 836 m_{1} m_{2}^{3} - 2675 m_{1} m_{2}^{2} + 1518 m_{1} m_{2} + 918 m_{1} + 238 m_{2}^{5} + 529 m_{2}^{4} - 497 m_{2}^{3} - 729 m_{2}^{2} + 459 m_{2}\\right)$$"
      ],
      "text/plain": [
       "      6         5             5         4   2          4             4        \n",
       "288⋅m₁  + 456⋅m₁ ⋅m₂ + 1512⋅m₁  - 120⋅m₁ ⋅m₂  + 1798⋅m₁ ⋅m₂ + 3316⋅m₁  - 48⋅m₁\n",
       "──────────────────────────────────────────────────────────────────────────────\n",
       "                                                                              \n",
       "                                                                              \n",
       "\n",
       "3   3          3   2          3             3         2   4         2   3     \n",
       " ⋅m₂  - 1250⋅m₁ ⋅m₂  + 2928⋅m₁ ⋅m₂ + 3946⋅m₁  + 358⋅m₁ ⋅m₂  - 402⋅m₁ ⋅m₂  - 30\n",
       "──────────────────────────────────────────────────────────────────────────────\n",
       "                                                                            ⎛ \n",
       "                                             2⋅(m₂ - 1)⋅(12⋅m₁ + 7⋅m₂ + 17)⋅⎝1\n",
       "\n",
       "     2   2          2             2            5            4            3    \n",
       "16⋅m₁ ⋅m₂  + 2650⋅m₁ ⋅m₂ + 2722⋅m₁  + 168⋅m₁⋅m₂  + 907⋅m₁⋅m₂  - 836⋅m₁⋅m₂  - 2\n",
       "──────────────────────────────────────────────────────────────────────────────\n",
       "    2                              ⎞                                          \n",
       "2⋅m₁  + 7⋅m₁⋅m₂ + 34⋅m₁ + 7⋅m₂ + 27⎠                                          \n",
       "\n",
       "         2                               5         4         3         2      \n",
       "675⋅m₁⋅m₂  + 1518⋅m₁⋅m₂ + 918⋅m₁ + 238⋅m₂  + 529⋅m₂  - 497⋅m₂  - 729⋅m₂  + 459\n",
       "──────────────────────────────────────────────────────────────────────────────\n",
       "                                                                              \n",
       "                                                                              \n",
       "\n",
       "   \n",
       "⋅m₂\n",
       "───\n",
       "   \n",
       "   "
      ]
     },
     "execution_count": 15,
     "metadata": {},
     "output_type": "execute_result"
    }
   ],
   "source": [
    "Rem=7/(12*m[1]+17)*(m[2]-1)+1\n",
    "Exp2=m[1]**2*(m[1] + m[2] + 1)/(m[2]*Rem- 1) - m[1]*m[2] - m[1] + m[2]**2*(m[1]+ m[2] + 1)/(m[1] *Rem+ Rem + 1) - m[2]/2\n",
    "Exp2.factor().simplify()"
   ]
  },
  {
   "cell_type": "code",
   "execution_count": 114,
   "metadata": {
    "collapsed": false
   },
   "outputs": [
    {
     "data": {
      "image/png": "iVBORw0KGgoAAAANSUhEUgAAAwYAAAAzBAMAAADftwJkAAAAMFBMVEX///8AAAAAAAAAAAAAAAAA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\n",
      "text/latex": [
       "$$\\frac{1}{\\left(m_{1} + 1\\right)^{4}} \\left(m_{1} + m_{2}\\right) \\left(m_{2} - 1\\right) \\left(m_{1} + m_{2} + 1\\right) \\left(5 m_{1}^{2} + 5 m_{1} m_{2} + 5 m_{1} + m_{2}^{2} + 3 m_{2} + 1\\right)$$"
      ],
      "text/plain": [
       "                                 ⎛    2                      2           ⎞\n",
       "(m₁ + m₂)⋅(m₂ - 1)⋅(m₁ + m₂ + 1)⋅⎝5⋅m₁  + 5⋅m₁⋅m₂ + 5⋅m₁ + m₂  + 3⋅m₂ + 1⎠\n",
       "──────────────────────────────────────────────────────────────────────────\n",
       "                                        4                                 \n",
       "                                (m₁ + 1)                                  "
      ]
     },
     "execution_count": 114,
     "metadata": {},
     "output_type": "execute_result"
    }
   ],
   "source": [
    "f.subs(r,Rem).factor()"
   ]
  },
  {
   "cell_type": "markdown",
   "metadata": {},
   "source": [
    "<h3>Experimento numérico</h3> Habría que ver que el segundo factor es positivo. Vamos a hacer primero un experimento numérico que confirme la aseveración. "
   ]
  },
  {
   "cell_type": "code",
   "execution_count": 16,
   "metadata": {
    "collapsed": false
   },
   "outputs": [],
   "source": [
    "M1=np.arange(0,1,.01)\n",
    "M2=np.arange(1,1.2,.01)\n",
    "X,Y=np.meshgrid(M1,M2)\n",
    "#Z=12*X*Y-12*X+7*Y**2-17\n",
    "Z=288*X**6 + 456*X**5*Y + 1512*X**5 - 120*X**4*Y**2 + 1798*X**4*Y + 3316*X**4 - 48*X**3*Y**3 - 1250*X**3*Y**2 + 2928*X**3*Y + 3946*X**3 + 358*X**2*Y**4 - 402*X**2*Y**3 - 3016*X**2*Y**2 + 2650*X**2*Y + 2722*X**2 + 168*X*Y**5 + 907*X*Y**4 - 836*X*Y**3 - 2675*X*Y**2 + 1518*X*Y + 918*X + 238*Y**5 + 529*Y**4 - 497*Y**3 - 729*Y**2 + 459*Y\n"
   ]
  },
  {
   "cell_type": "code",
   "execution_count": 17,
   "metadata": {
    "collapsed": false
   },
   "outputs": [],
   "source": [
    "fig=plt.figure()\n",
    "ax=Axes3D(fig)\n",
    "Z=np.minimum(Z,100*np.ones(np.shape(Z)))\n",
    "Z=np.maximum(Z,-1*np.ones(np.shape(Z)))\n",
    "ax.plot_surface(X,Y,Z,rstride=1, cstride=1, cmap=cm.coolwarm,linewidth=0, antialiased=False)\n",
    "#V=[k for k in [-20,0,20]]#np.arange(-20,20,1)]\n",
    "#cp = plt.contour(X, Y, Z,V)\n",
    "#plt.clabel(cp, inline=True,fontsize=10)\n",
    "plt.xlabel('m1')\n",
    "plt.ylabel('m2')\n",
    "plt.show()\n",
    "\n",
    "\n",
    "\n",
    "\n",
    "\n",
    "\n",
    "#fig = plt.figure()\n",
    "\n",
    "#ax = fig.add_subplot(111, projection='3d')"
   ]
  },
  {
   "cell_type": "markdown",
   "metadata": {},
   "source": [
    "<img src=\"https://raw.githubusercontent.com/fdmazzone/ArchivosProyecto/master/MEcanica%20Celeste/CotaSustTang.png\" width=\"50%\" height=\"50%\"/>"
   ]
  },
  {
   "cell_type": "code",
   "execution_count": 18,
   "metadata": {
    "collapsed": false
   },
   "outputs": [],
   "source": [
    "fig=plt.figure()\n",
    "V=[k**2-10 for k in range(200)]#np.arange(-20,20,1)]\n",
    "cp = plt.contour(X, Y, Z,V)\n",
    "plt.clabel(cp, inline=True,fontsize=10)\n",
    "plt.xlabel('m1')\n",
    "plt.ylabel('m2')\n",
    "plt.show()"
   ]
  },
  {
   "cell_type": "markdown",
   "metadata": {},
   "source": [
    "<img src=\"https://raw.githubusercontent.com/fdmazzone/ArchivosProyecto/master/MEcanica%20Celeste/CotaSustTangNivel.png\" width=\"50%\" height=\"50%\"/>"
   ]
  },
  {
   "cell_type": "markdown",
   "metadata": {},
   "source": [
    "Tomamos ese monstruoso segundo factor. Tiene términos positivos y negativos, pero se ve mejor si tomamos dos variables nuevas $s$ y $\\alpha$, positivas y sustituímos $m_1=s$ y $m_2=1+\\alpha s$, expandimos la expresión y luego agrupamos de acuerdo con potencias de $s$."
   ]
  },
  {
   "cell_type": "code",
   "execution_count": 19,
   "metadata": {
    "collapsed": false
   },
   "outputs": [
    {
     "data": {
      "image/png": "iVBORw0KGgoAAAANSUhEUgAACDwAAAAcBAMAAAB1vSAyAAAAMFBMVEX///8AAAAAAAAAAAAAAAAA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\n",
      "text/latex": [
       "$$816 \\alpha s + s^{6} \\left(168 \\alpha^{5} + 358 \\alpha^{4} - 48 \\alpha^{3} - 120 \\alpha^{2} + 456 \\alpha + 288\\right) + s^{5} \\left(238 \\alpha^{5} + 1747 \\alpha^{4} + 1030 \\alpha^{3} - 1394 \\alpha^{2} + 1558 \\alpha + 1968\\right) + s^{4} \\left(1719 \\alpha^{4} + 4472 \\alpha^{3} - 2074 \\alpha^{2} + 284 \\alpha + 4994\\right) + s^{3} \\left(3999 \\alpha^{3} + 1939 \\alpha^{2} - 3156 \\alpha + 5576\\right) + s^{2} \\left(3334 \\alpha^{2} - 1872 \\alpha + 2312\\right)$$"
      ],
      "text/plain": [
       "           6 ⎛     5        4       3        2              ⎞    5 ⎛     5    \n",
       "816⋅α⋅s + s ⋅⎝168⋅α  + 358⋅α  - 48⋅α  - 120⋅α  + 456⋅α + 288⎠ + s ⋅⎝238⋅α  + 1\n",
       "\n",
       "     4         3         2                ⎞    4 ⎛      4         3         2 \n",
       "747⋅α  + 1030⋅α  - 1394⋅α  + 1558⋅α + 1968⎠ + s ⋅⎝1719⋅α  + 4472⋅α  - 2074⋅α  \n",
       "\n",
       "              ⎞    3 ⎛      3         2                ⎞    2 ⎛      2        \n",
       "+ 284⋅α + 4994⎠ + s ⋅⎝3999⋅α  + 1939⋅α  - 3156⋅α + 5576⎠ + s ⋅⎝3334⋅α  - 1872⋅\n",
       "\n",
       "        ⎞\n",
       "α + 2312⎠"
      ]
     },
     "execution_count": 19,
     "metadata": {},
     "output_type": "execute_result"
    }
   ],
   "source": [
    "Monstruo=288*m[1]**6 + 456*m[1]**5*m[2] + 1512*m[1]**5+ 1798*m[1]**4*m[2] + 3316*m[1]**4 + 2928*m[1]**3*m[2] + 3946*m[1]**3 + 358*m[1]**2*m[2]**4+ 2650*m[1]**2*m[2] + 2722*m[1]**2 + 168*m[1]*m[2]**5 + 907*m[1]*m[2]**4  + 1518*m[1]*m[2] + 918*m[1] + 238*m[2]**5 + 529*m[2]**4 - 497*m[2]**3 - 729*m[2]**2 + 459*m[2] - 120*m[1]**4*m[2]**2  - 3016*m[1]**2*m[2]**2 - 48*m[1]**3*m[2]**3  - 402*m[1]**2*m[2]**3- 836*m[1]*m[2]**3 - 1250*m[1]**3*m[2]**2- 2675*m[1]*m[2]**2\n",
    "var('alpha,s',positive=True)\n",
    "Monstruo.subs({m[1]:s,m[2]:alpha*s+1}).expand().collect(s)"
   ]
  },
  {
   "cell_type": "markdown",
   "metadata": {
    "collapsed": false
   },
   "source": [
    "En la expresión que resulta, todos los polinomios en $\\alpha$ que acompañan a potencias de $s$ son positivos para $\\alpha>0$. Lo razono con uno de ellos, en los otros es igual. Supongamos el de $s^4$: \n",
    "$$p(\\alpha)=1719\\alpha^4+4472\\alpha^3-2074\\alpha^2+284\\alpha+4994$$\n",
    "El caso es que cuando $\\alpha\\leq 1$ el término $-2074\\alpha^2$ es dominado por el 4994. En cambio cuando $\\alpha\\geq 1$ el término $-2074\\alpha^2$ lo domina el  $4472\\alpha^3$. En todos los polinomios que corresponden a distintas potencias de $\\alpha$ se aplica un razonamiento similar.  \n",
    "\n",
    "\n"
   ]
  },
  {
   "cell_type": "markdown",
   "metadata": {
    "collapsed": true
   },
   "source": [
    "<h2> Estimación por debajo de $r(m_1,m_2)$</h2>\n",
    "Vamos a buscar una recta $l=(1-c(m_1))m_2+c(m_1)$ que acote por debajo a $r$.  Tratamos estimar $c(m_1)$.\n",
    "Usamos la fórmula de Gastón para resolver numéricamente la ecuación de Euler. "
   ]
  },
  {
   "cell_type": "code",
   "execution_count": 20,
   "metadata": {
    "collapsed": false
   },
   "outputs": [],
   "source": [
    "var('r')\n",
    "def SolEu(m1,m2,iter):\n",
    "    SolEu=1.0\n",
    "    h=lambda r: ((m1*(r+1)**2+m2*(3*r**2+3*r+1))/(m1*(r+1)**2.0+r**2.0+3.0*r+3.0))**(1.0/3.0)\n",
    "    for j in range(iter):\n",
    "        SolEu=h(SolEu)\n",
    "    return SolEu"
   ]
  },
  {
   "cell_type": "markdown",
   "metadata": {},
   "source": [
    "Estimamos una recto por debajo de $r(m_1,m_2)$ para $m_1$ fijo. La buscamos que pase por $(1,1)$ y $(0,y_0)$. Tratemos de estimar $y_0$. "
   ]
  },
  {
   "cell_type": "code",
   "execution_count": 21,
   "metadata": {
    "collapsed": false
   },
   "outputs": [],
   "source": [
    "m1=np.arange(0,10,0.1)\n",
    "m2=np.zeros(np.shape(m1))\n",
    "r_aprox=SolEu(m1,m2,20)\n",
    "plt.plot(m1,r_aprox)\n",
    "plt.plot(m1,m1/(m1+1))\n",
    "plt.show()\n"
   ]
  },
  {
   "cell_type": "markdown",
   "metadata": {},
   "source": [
    "<img src=\"https://raw.githubusercontent.com/fdmazzone/ArchivosProyecto/master/MEcanica%20Celeste/r_corte_m1.png\" width=\"50%\" height=\"50%\"/>\n",
    "\n",
    "Se parece a $m_1\\mapsto m_1/(m_1+1)$."
   ]
  },
  {
   "cell_type": "code",
   "execution_count": 22,
   "metadata": {
    "collapsed": false
   },
   "outputs": [
    {
     "data": {
      "image/png": "iVBORw0KGgoAAAANSUhEUgAAAk4AAAAyBAMAAABYCElVAAAAMFBMVEX///8AAAAAAAAAAAAAAAAA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\nwVZyEEy7sRCM8h/deWeheuObAAAAAABJRU5ErkJggg==\n",
      "text/latex": [
       "$$- \\frac{m_{1}^{2} \\left(m_{1} + m_{2} + 1\\right)}{- m_{2} r + 1} - \\frac{m_{1} m_{2}}{r} - m_{1} + \\frac{m_{2}^{2} \\left(m_{1} + m_{2} + 1\\right)}{m_{1} r + r + 1} - \\frac{m_{2}}{r + 1}$$"
      ],
      "text/plain": [
       "    2                                2                      \n",
       "  m₁ ⋅(m₁ + m₂ + 1)   m₁⋅m₂        m₂ ⋅(m₁ + m₂ + 1)     m₂ \n",
       "- ───────────────── - ───── - m₁ + ───────────────── - ─────\n",
       "      -m₂⋅r + 1         r             m₁⋅r + r + 1     r + 1"
      ]
     },
     "execution_count": 22,
     "metadata": {},
     "output_type": "execute_result"
    }
   ],
   "source": [
    "Exp"
   ]
  },
  {
   "cell_type": "code",
<<<<<<< HEAD
   "execution_count": 67,
=======
   "execution_count": 23,
>>>>>>> origin/master
   "metadata": {
    "collapsed": false
   },
   "outputs": [
    {
     "data": {
      "image/png": "iVBORw0KGgoAAAANSUhEUgAAAioAAAA0BAMAAABWXQ5CAAAAMFBMVEX///8AAAAAAAAAAAAAAAAA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\n",
      "text/latex": [
       "$$\\frac{m_{1}^{2} \\left(m_{1} + m_{2} + 1\\right)}{- m_{2} r + 1} - \\frac{m_{1} m_{2}}{r} - m_{1} - \\frac{m_{2}}{r + 1} + \\frac{m_{1} + m_{2} + 1}{m_{1} + m_{2} \\left(r + 1\\right)}$$"
      ],
      "text/plain": [
       "  2                                                     \n",
       "m₁ ⋅(m₁ + m₂ + 1)   m₁⋅m₂          m₂      m₁ + m₂ + 1  \n",
       "───────────────── - ───── - m₁ - ───── + ───────────────\n",
       "    -m₂⋅r + 1         r          r + 1   m₁ + m₂⋅(r + 1)"
      ]
     },
<<<<<<< HEAD
     "execution_count": 67,
=======
     "execution_count": 23,
>>>>>>> origin/master
     "metadata": {},
     "output_type": "execute_result"
    }
   ],
   "source": [
    "m=symbols('m0:%s' %3, positive=True) #masas\n",
    "var('r')#r \n",
    "m=[1,m[1],m[2]]#\n",
    "ord_or=m[1]/(m[1]+1)\n",
    "Rem=(1-ord_or)*m[2]+ord_or\n",
    "Q=m[0]**2/(-q[0])+m[1]**2/q[1]\n",
    "Exp3=Q-U\n",
    "Exp3"
   ]
  },
  {
   "cell_type": "code",
   "execution_count": 73,
   "metadata": {
    "collapsed": false
   },
   "outputs": [
    {
     "data": {
      "image/png": "iVBORw0KGgoAAAANSUhEUgAAAQwAAAAyBAMAAABbpfjJAAAAMFBMVEX///8AAAAAAAAAAAAAAAAA\nAAAAAAAAAAAAAAAAAAAAAAAAAAAAAAAAAAAAAAAAAAAv3aB7AAAAD3RSTlMARImrIna7EFTvMt3N\nZpneUCSWAAAACXBIWXMAAA7EAAAOxAGVKw4bAAAD8ElEQVRYCa2Zz2sTQRTHX7ZpdvOT0KtCAurF\ngwaxiqg0BxVPNlL02ijoRag5CQWhAUEsPaRVxEOL7Uk8iC3+OEhFgxdBc+hfYAMFRVpoalsritbZ\nHzM7k8zuzsxmD+2b9+Mz353p7tvdAoQ/tGwIhl4IUcyUHmJGsoO9sgUe+Vq480nXPbiS7vGKZEFb\n+tW2sdpQn1KrI1WjVWKGMGLNEMVmqTEZEmCV10LuCcALWkbf0bNDpb7LWdonYr/jJsnQakUKkb9e\n0rez5go9obyBZnqLmyJDSzZdRKL6FqI/IN2C5yddb7CVLPNypGjpHReh6xtg7EBPGWDC9QZb89xd\nlKLp29Q0RgsyCxAvScr4TiEoU4rWoAozdUjmIVesyK3GAwpBmVK04aJbGc/DWBbWolUpGYm/LoG2\npGiDaAvwMZiFZYAPmtym9PIvFJCixctYBMAegCGAOwflZMTQBc47pGh8iMyVQp8IT07ASX20ajTu\nko7zeVzvWJPrppx+tHP2HSO9QeVj88L7fmyS33qRmKyRo/662Igz8qPdWrFlJOgbB5fiOA2v2WpV\nvzKPGKH12jL0fx6J7W5S2B4Ynmv3CIwJzZEBmwJFZgou7Gic60VBAp2GaYBl/KSjPjYuJI1T+/rN\nSu+OjBmfqemQI8NtnPvhlBUfqNBpgjY+KbIa07AbcNhkp9BtnK9gvmiGBqz47UXz+ARyNCAy3liU\ngB9ao/F5ptFoojTSOKfM2zU6bBmmJXpQNDkZaAK8jG7jBPsZdL0rm7IoeA5Yhts44bVVergoSKDT\nMI2sxjQd9bFxods4taaV3p37huSVQrXhL7boZesvxOcEeCF8UpkTf05bcf/7RopsPC4k0Eg+MmcO\nauIyvGn+N/PoTSIjskQE2Maze3etYGBrI3U+NH5rc9qpPuJzb5rd3bUmCG70AjTjFxFLGWQHhslq\nUFHWjNfZcedIgMZ/7BEoJLPFWsT0MARoPS2I7DtzqT9y4AoFESgk2bhHOg41GnqS1GLXYOwioEe1\nRNlhychIsNuqRkMvCE+TdRjMo3eDxMqCggxgX5fUaOh1qYLekVB7OIb6hpKMdUe7/UuNdgMV1wBW\nAR5iGXQDFLhSIJdldCjRzCfiNfNzS2RLV1wN+uOEIs36sHAf0CeFTP28ogz64wSSoUJLFQCiG+an\nlVQ+rygDHtObokTLFQEiC9BbAOPIXKeMldmXS/QcfNt+/HFiSrQRBtx5pTBhr0GqyY2I04xHDMCY\ndIYd7ZRJax9Ef7d7rLE4bZS51qKrmyUuMMg5wUuQoLF7woMJ+TIFoTSvpHTZKyLp75fMZ9O79Y8M\nyDCby04SONKPmyn/AWjub3PXp2nqAAAAAElFTkSuQmCC\n",
      "text/latex": [
       "$$\\frac{m_{1}}{m_{1} + 1} + m_{2} \\left(- \\frac{m_{1}}{m_{1} + 1} + 1\\right)$$"
      ],
      "text/plain": [
       "  m₁        ⎛    m₁      ⎞\n",
       "────── + m₂⋅⎜- ────── + 1⎟\n",
       "m₁ + 1      ⎝  m₁ + 1    ⎠"
      ]
     },
     "execution_count": 73,
     "metadata": {},
     "output_type": "execute_result"
    }
   ],
   "source": [
    "f.subs(r,Rem).factor()\n",
    "Rem"
   ]
  },
  {
   "cell_type": "code",
<<<<<<< HEAD
   "execution_count": 76,
=======
   "execution_count": 24,
>>>>>>> origin/master
   "metadata": {
    "collapsed": false
   },
   "outputs": [
    {
     "data": {
      "image/png": "iVBORw0KGgoAAAANSUhEUgAACR4AAAAvBAMAAAB9dVkcAAAAMFBMVEX///8AAAAAAAAAAAAAAAAA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\n",
      "text/latex": [
       "$$- \\frac{1}{\\left(m_{1} + m_{2}\\right) \\left(m_{1} + 2 m_{2}\\right) \\left(m_{2} - 1\\right) \\left(2 m_{1} + m_{2} + 1\\right)} \\left(2 m_{1}^{6} + 7 m_{1}^{5} m_{2} + 3 m_{1}^{5} + 9 m_{1}^{4} m_{2}^{2} + 10 m_{1}^{4} m_{2} - m_{1}^{4} + 7 m_{1}^{3} m_{2}^{3} + 15 m_{1}^{3} m_{2}^{2} - 9 m_{1}^{3} m_{2} + m_{1}^{3} + 2 m_{1}^{2} m_{2}^{4} + 17 m_{1}^{2} m_{2}^{3} - 15 m_{1}^{2} m_{2}^{2} - 3 m_{1}^{2} m_{2} + 3 m_{1}^{2} + 6 m_{1} m_{2}^{4} - 3 m_{1} m_{2}^{3} - 8 m_{1} m_{2}^{2} + 4 m_{1} m_{2} + m_{1} + m_{2}^{4} - 3 m_{2}^{3} + m_{2}^{2} + m_{2}\\right)$$"
      ],
      "text/plain": [
       " ⎛    6       5          5       4   2        4        4       3   3        3 \n",
       "-⎝2⋅m₁  + 7⋅m₁ ⋅m₂ + 3⋅m₁  + 9⋅m₁ ⋅m₂  + 10⋅m₁ ⋅m₂ - m₁  + 7⋅m₁ ⋅m₂  + 15⋅m₁ ⋅\n",
       "──────────────────────────────────────────────────────────────────────────────\n",
       "                                                                              \n",
       "\n",
       "  2       3        3       2   4        2   3        2   2       2          2 \n",
       "m₂  - 9⋅m₁ ⋅m₂ + m₁  + 2⋅m₁ ⋅m₂  + 17⋅m₁ ⋅m₂  - 15⋅m₁ ⋅m₂  - 3⋅m₁ ⋅m₂ + 3⋅m₁  \n",
       "──────────────────────────────────────────────────────────────────────────────\n",
       "              (m₁ + m₂)⋅(m₁ + 2⋅m₂)⋅(m₂ - 1)⋅(2⋅m₁ + m₂ + 1)                  \n",
       "\n",
       "         4          3          2                    4       3     2     ⎞ \n",
       "+ 6⋅m₁⋅m₂  - 3⋅m₁⋅m₂  - 8⋅m₁⋅m₂  + 4⋅m₁⋅m₂ + m₁ + m₂  - 3⋅m₂  + m₂  + m₂⎠ \n",
       "──────────────────────────────────────────────────────────────────────────\n",
       "                                                                          "
      ]
     },
<<<<<<< HEAD
     "execution_count": 76,
     "metadata": {},
     "output_type": "execute_result"
    }
   ],
   "source": [
    "Expr3=m[1]**2*(m[1] + m[2] + 1)/(-m[2]*Rem + 1) - m[1]*m[2]/Rem - m[1] - m[2]/(Rem + 1) + (m[1] + m[2] + 1)/(m[1] + m[2]*2)\n",
    "Expr3.factor()\n",
    "                                                                                                    "
   ]
  },
  {
   "cell_type": "code",
   "execution_count": 81,
   "metadata": {
    "collapsed": false
   },
   "outputs": [
    {
     "data": {
      "image/png": "iVBORw0KGgoAAAANSUhEUgAABmsAAAAZBAMAAAAszge2AAAAMFBMVEX///8AAAAAAAAAAAAAAAAA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\n",
      "text/latex": [
       "$$2 m_{1}^{6} + 7 m_{1}^{5} m_{2} + 3 m_{1}^{5} + 9 m_{1}^{4} m_{2}^{2} + 10 m_{1}^{4} m_{2} - m_{1}^{4} + 7 m_{1}^{3} m_{2}^{3} + 15 m_{1}^{3} m_{2}^{2} - 9 m_{1}^{3} m_{2} + m_{1}^{3} + 2 m_{1}^{2} m_{2}^{4} + 17 m_{1}^{2} m_{2}^{3} - 15 m_{1}^{2} m_{2}^{2} - 3 m_{1}^{2} m_{2} + 3 m_{1}^{2} + 6 m_{1} m_{2}^{4} - 3 m_{1} m_{2}^{3} - 8 m_{1} m_{2}^{2} + 4 m_{1} m_{2} + m_{1} + m_{2}^{4} - 3 m_{2}^{3} + m_{2}^{2} + m_{2}$$"
      ],
      "text/plain": [
       "    6       5          5       4   2        4        4       3   3        3   \n",
       "2⋅m₁  + 7⋅m₁ ⋅m₂ + 3⋅m₁  + 9⋅m₁ ⋅m₂  + 10⋅m₁ ⋅m₂ - m₁  + 7⋅m₁ ⋅m₂  + 15⋅m₁ ⋅m₂\n",
       "\n",
       "2       3        3       2   4        2   3        2   2       2          2   \n",
       "  - 9⋅m₁ ⋅m₂ + m₁  + 2⋅m₁ ⋅m₂  + 17⋅m₁ ⋅m₂  - 15⋅m₁ ⋅m₂  - 3⋅m₁ ⋅m₂ + 3⋅m₁  + \n",
       "\n",
       "       4          3          2                    4       3     2     \n",
       "6⋅m₁⋅m₂  - 3⋅m₁⋅m₂  - 8⋅m₁⋅m₂  + 4⋅m₁⋅m₂ + m₁ + m₂  - 3⋅m₂  + m₂  + m₂"
      ]
     },
     "execution_count": 81,
=======
     "execution_count": 24,
>>>>>>> origin/master
     "metadata": {},
     "output_type": "execute_result"
    }
   ],
   "source": [
    "Pol=(2*m[1]**6 + 7*m[1]**5*m[2] + 3*m[1]**5 + 9*m[1]**4*m[2]**2 + 10*m[1]**4*m[2] - m[1]**4 + 7*m[1]**3*m[2]**3 + 15*m[1]**3*m[2]**2 - 9*m[1]**3*m[2] + m[1]**3 + 2*m[1]**2*m[2]**4 + 17*m[1]**2*m[2]**3 - 15*m[1]**2*m[2]**2 - 3*m[1]**2*m[2] + 3*m[1]**2 + 6*m[1]*m[2]**4 - 3*m[1]*m[2]**3 - 8*m[1]*m[2]**2 + 4*m[1]*m[2] + m[1] + m[2]**4 - 3*m[2]**3 + m[2]**2 + m[2])\n",
    "Pol"
   ]
  },
  {
   "cell_type": "code",
<<<<<<< HEAD
   "execution_count": 77,
=======
   "execution_count": 33,
>>>>>>> origin/master
   "metadata": {
    "collapsed": false
   },
   "outputs": [],
   "source": [
<<<<<<< HEAD
    "\n",
    "M1=np.arange(0,1,.1)\n",
=======
    "M1=np.arange(0,.3,.01)\n",
>>>>>>> origin/master
    "M2=np.arange(0,1,.01)\n",
    "m1,m2=np.meshgrid(M1,M2)\n",
    "#Z=12*X*Y-12*X+7*Y**2-17\n",
    "Z=(2*m1**6 + 7*m1**5*m2 + 3*m1**5 + 9*m1**4*m2**2 + 10*m1**4*m2 - m1**4 + 7*m1**3*m2**3 + 15*m1**3*m2**2 - 9*m1**3*m2 + m1**3 + 2*m1**2*m2**4 + 17*m1**2*m2**3 - 15*m1**2*m2**2 - 3*m1**2*m2 + 3*m1**2 + 6*m1*m2**4 - 3*m1*m2**3 - 8*m1*m2**2 + 4*m1*m2 + m1 + m2**4 - 3*m2**3 + m2**2 + m2)"
   ]
  },
  {
   "cell_type": "code",
<<<<<<< HEAD
   "execution_count": 78,
=======
   "execution_count": 34,
>>>>>>> origin/master
   "metadata": {
    "collapsed": true
   },
   "outputs": [],
   "source": [
    "fig=plt.figure()\n",
    "ax=Axes3D(fig)\n",
    "Z=np.minimum(Z,100*np.ones(np.shape(Z)))\n",
    "Z=np.maximum(Z,-10*np.ones(np.shape(Z)))\n",
    "ax.plot_surface(m1,m2,Z,rstride=1, cstride=1, cmap=cm.coolwarm,linewidth=0, antialiased=False)\n",
    "plt.xlabel('m1')\n",
    "plt.ylabel('m2')\n",
    "plt.show()\n"
   ]
  },
  {
   "cell_type": "code",
<<<<<<< HEAD
   "execution_count": 80,
=======
   "execution_count": 27,
>>>>>>> origin/master
   "metadata": {
    "collapsed": true
   },
   "outputs": [],
   "source": [
    "fig=plt.figure()\n",
    "V=[.1*k for k in range(-10,100)]#[k**2-10 for k in range(200)]#np.arange(-20,20,1)]\n",
    "cp = plt.contour(m1, m2, Z,V)\n",
    "plt.clabel(cp, inline=True,fontsize=10)\n",
    "plt.xlabel('m1')\n",
    "plt.ylabel('m2')\n",
    "plt.show()"
   ]
  },
  {
   "cell_type": "code",
<<<<<<< HEAD
   "execution_count": 99,
=======
   "execution_count": 28,
   "metadata": {
    "collapsed": true
   },
   "outputs": [],
   "source": [
    "P=2*m[1]**6 + 7*m[1]**5*m[2] + 3*m[1]**5 + 9*m[1]**4*m[2]**2 + 10*m[1]**4*m[2] - m[1]**4 + 7*m[1]**3*m[2]**3 + 15*m[1]**3*m[2]**2 - 9*m[1]**3*m[2] + m[1]**3 + 2*m[1]**2*m[2]**4 + 17*m[1]**2*m[2]**3 - 15*m[1]**2*m[2]**2 - 3*m[1]**2*m[2] + 3*m[1]**2 + 6*m[1]*m[2]**4 - 3*m[1]*m[2]**3 - 8*m[1]*m[2]**2 + 4*m[1]*m[2] + m[1] + m[2]**4 - 3*m[2]**3 + m[2]**2 + m[2]"
   ]
  },
  {
   "cell_type": "code",
   "execution_count": 35,
>>>>>>> origin/master
   "metadata": {
    "collapsed": false
   },
   "outputs": [
    {
     "data": {
      "image/png": "iVBORw0KGgoAAAANSUhEUgAABfcAAAAcBAMAAAA+dphjAAAAMFBMVEX///8AAAAAAAAAAAAAAAAA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\nDrb+dhcAAAAASUVORK5CYII=\n",
      "text/latex": [
       "$$2 m_{1}^{6} + m_{1}^{5} \\left(7 m_{2} + 3\\right) + m_{1}^{4} \\left(9 m_{2}^{2} + 10 m_{2} - 1\\right) + m_{1}^{3} \\left(7 m_{2}^{3} + 15 m_{2}^{2} - 9 m_{2} + 1\\right) + m_{1}^{2} \\left(2 m_{2}^{4} + 17 m_{2}^{3} - 15 m_{2}^{2} - 3 m_{2} + 3\\right) + m_{1} \\left(6 m_{2}^{4} - 3 m_{2}^{3} - 8 m_{2}^{2} + 4 m_{2} + 1\\right) + m_{2}^{4} - 3 m_{2}^{3} + m_{2}^{2} + m_{2}$$"
      ],
      "text/plain": [
       "    6     5                4 ⎛    2            ⎞     3 ⎛    3        2        \n",
       "2⋅m₁  + m₁ ⋅(7⋅m₂ + 3) + m₁ ⋅⎝9⋅m₂  + 10⋅m₂ - 1⎠ + m₁ ⋅⎝7⋅m₂  + 15⋅m₂  - 9⋅m₂ \n",
       "\n",
       "   ⎞     2 ⎛    4        3        2           ⎞      ⎛    4       3       2   \n",
       "+ 1⎠ + m₁ ⋅⎝2⋅m₂  + 17⋅m₂  - 15⋅m₂  - 3⋅m₂ + 3⎠ + m₁⋅⎝6⋅m₂  - 3⋅m₂  - 8⋅m₂  + \n",
       "\n",
       "        ⎞     4       3     2     \n",
       "4⋅m₂ + 1⎠ + m₂  - 3⋅m₂  + m₂  + m₂"
      ]
     },
<<<<<<< HEAD
     "execution_count": 99,
=======
     "execution_count": 35,
>>>>>>> origin/master
     "metadata": {},
     "output_type": "execute_result"
    }
   ],
   "source": [
<<<<<<< HEAD
    "Q=Pol.collect(m[1])\n",
    "Q"
=======
    "P.collect(m[1])"
>>>>>>> origin/master
   ]
  },
  {
   "cell_type": "code",
<<<<<<< HEAD
   "execution_count": 108,
=======
   "execution_count": 38,
>>>>>>> origin/master
   "metadata": {
    "collapsed": false
   },
   "outputs": [
    {
     "data": {
      "text/plain": [
<<<<<<< HEAD
       "<sympy.plotting.plot.Plot at 0x7f2355872b10>"
      ]
     },
     "execution_count": 108,
=======
       "<sympy.plotting.plot.Plot at 0x7fb45e160f50>"
      ]
     },
     "execution_count": 38,
>>>>>>> origin/master
     "metadata": {},
     "output_type": "execute_result"
    }
   ],
   "source": [
<<<<<<< HEAD
    "plot(Q.coeff(m[1]),(m[2],0,1))"
=======
    "plot(P.coeff(m[1]**2),(m[2],0,1))"
>>>>>>> origin/master
   ]
  },
  {
   "cell_type": "code",
<<<<<<< HEAD
   "execution_count": 111,
=======
   "execution_count": 45,
   "metadata": {
    "collapsed": false
   },
   "outputs": [],
   "source": [
    "Q=0\n",
    "for j in range(7):\n",
    "    for i in range(5):\n",
    "        Q=Q+(P.diff(m[1],j).diff(m[2],i)/factorial(j)/factorial(i)).subs({m[1]:0,m[2]:1})*m[1]**j*(m[2]-1)**i"
   ]
  },
  {
   "cell_type": "code",
   "execution_count": 47,
>>>>>>> origin/master
   "metadata": {
    "collapsed": false
   },
   "outputs": [
    {
     "data": {
<<<<<<< HEAD
      "text/plain": [
       "<sympy.plotting.plot.Plot at 0x7f23557a8850>"
      ]
     },
     "execution_count": 111,
=======
      "image/png": "iVBORw0KGgoAAAANSUhEUgAACtgAAAAbBAMAAAAO3QRAAAAAMFBMVEX///8AAAAAAAAAAAAAAAAA\nAAAAAAAAAAAAAAAAAAAAAAAAAAAAAAAAAAAAAAAAAAAv3aB7AAAAD3RSTlMAIpm7MhCriUTv3c12\nVGZoascqAAAACXBIWXMAAA7EAAAOxAGVKw4bAAAUmklEQVR4Ae1dfYwkx1V/s7uzM/s1N7aFkPmw\nh7vkLolRvImJCAi4xYhYIoKbhA/L8Um7MY4RwdjDGW4FnOJRABnMx12UGByC8RpLiYiJvIpjJcrF\n9trIPlBOZJWEoADhxgaBkJHv7LD+vluqXn28V9XV3VU97VMuR/8xU12v6/d+76Ne1fT07AKcw0dr\n1+vPNfatY++rk/KBt/brhDsrWJN1ajl0sE4HnGMJVasnz4fMXExPvTES7BzLphLf/Br8SskV33Li\nN8OuGjm1utPrNcKdHagTNZbHidFEhQmUa+c5llB1ehLOg8xc2MqNfJ5gnAQrzabVf8hT+44ffyZP\nlNY/df0lo9wRSYv1PbCvm4skBUloFZHSlr49cLJQTxrabHfq2SK4+nYrBbwSF/DmrYXFNg1tYtA5\nVeQASNv6lyVUGlqYWJqBYQzVW+LJoqEBWVlmBoYUdJVlZsHQ1050dYViW5ZgBWzLsmlueHHe6MPb\nK3mitP729vP5A5IW6zvh0mE+lJAkoVVDSl76LivSk4g2M2y8WARX226liFfpAu4ynF8uLLaJaDCx\n7sK7Z4lb/5KESkRzqZizVAPNuOx7iSezA0p6CjOzZKwvLstM//qzcv54erGFkgQr4l2STfAE7M8b\n/sc/mSdJ7G9/NX+2pS7WxdU0FS3fkHyk0r2VB9r8iNfhnKaiQfEno9p2K0W8yhZwx0CAny4utolo\ncM2Sh++cJm+wChMqGc3hok9SDQxhqL4ST+YPDEuKMzM8pqC3ODMLBr5moql/rFJsixOsmGxhNsFd\n+YN/P1+UJmkP869PXaz/Jh9KSFLR8sGKkIr3Vh5m84sbXo93moQGMFsCV9tuJZ9X2QLuGTgoLraJ\naPu/4MG7p8kbrMKESkZzyaizRANDELqvxJMFI0Oi0swMDSroK8vMgqGvkajVrFBsSxKsmGphNsHp\n47nf739Qi6ZGxQoA/qP4gvb3P5a7tTWL9c8UQwB0luQVrZ58zT0M2tiUC7djeumLpFz2BZlGi6V8\nINd4FJjdSiy5fLSiBV4t4HGUO93iYmvv/URSLvuCTG+wItFKEsp8kIgzNc+ZxfsdOSqKbbknNYFY\ntrvyCDv9sWglmQkQC+RoD5/EQT3pFtsoJ4vbCItZnXH6suWpsfOKJYvWeA5utyfwU9etrg7s6bvg\nK9i+yPYEGw8CTC9xyZyorO8+9DrqanYXGP93H/o+EoFerBvsAiY1TQl5vTx5yvSI9wt3/QDA/mNv\nYF1m6a9COYwkwac+vmd1lbTopS+WMuzbtGO/c/VHRXv12JLtAbOQRlLu9GioYNYDJ5xgdivR5DSa\ndDDAlQzb8MIuVwmAWsDjKO8HVmwRaO7xKR40jRZLeeo0Yykc0Dx+YMh69NY/Fi2TUG50zAeJOFOJ\nhuDFDr7faR36dSbRzTi2jidV+oMKnIcYy5ZlJgK5U9OARqLxzGys3kJJb3AgEshcj/PbnHjvUVDN\nDafYxjlZTCqWYIZDlL5AefoFaNF3LM3TsGNoDTm5ve18KbbclSJRTQuOi+ROfZ1d0NgrJu5D8B4c\nq/ub9BV68y/hYhKZxTqYMxYUIefEaXvQXjK9zRW4dQg9mN40PWDQKlEOI0nsjnAL/4pPLX1xlMVO\n89KRIdjowYkRXDt0PqHrhTTSy7fB7xo08T67CE44RdcuFMeRs0joYIB7bYdo8AXeU6K3g3GUv7zz\n8jdbXASa2d7esD3200oc5WuWGmfYWOGACYBfZT2gNlhxaIGE8qKjt2txphINwYsOvntufg4CN3ri\n2DqeVOmvA0e6sBXF1slMkEDu1LSYUWgAPDMvhAUeJQ0VCaSvVgZaFm4jCmph587nRjQuzslOglkO\nUfoC2fQ+gI8SgxdhB/J5l+wSW85pEr0FlofibH5AXdnWz+7eEp3HUNCURbT51pv70DkCrXV78WS3\nieUd5dNHYJoy0SzWCsCOcBsIiTze+Y2v9KUOqWi6DzNHFkbQIEUGrQrlMBJqmhDqVhgltfRFUr4H\n/ttSnhdL2xp8FiYXM2iRlKce+sbb5FgMF8DfL4IbTtD76Ehy2pXKwTD/YUbLLPCoyVOitoORlAEu\nlQ5QlBFo7uCjXJHeXMZRnu127rBo6IB/A/huBqc3WHFokEkoLzoaLdpUFhjipA1ET84N4AqSmFYk\nW+1JSn8dOAOj3yPZ8sxEIHdqGtBINCczv7QJL5vx9j0SyFyP89uc2He0PbomNWRxMrMlzskmwXCg\n4RBJPZtNfw5w8xJCyZeH9c72X+XJAIB9xrlHxXamK0W5x7y05xoUL2zg25f6MLlibnbJntmuMhrl\nO9ahpVwgRWax/pA8yT8EJDSPANy9vS0vQqCZNZj+39YiNNdEjzoMWhXKYSTU1BK7ryWjQ3wbrvZW\nkZSvOvZeORSB2nfC8nrnWQslGgYtkrLYFJ6SwzFc0Hh6EZxw2t1KJDnNC0A6GC55QEKrw/BSmhwl\nZgGPpAydvbjzRMoIxBZ0ocx8WomjPHXoYFcyJAfcAvAexRlf9QYrDi2bUG50zHYt1lTOy3IyBiLl\nk8jeynQjkq32JKW/DpwHF8mWZyYCuVPTgEaiOZn5B8PmK2a8fY8EMtfj/DYn9h1th1iof39+U45U\nyRLnZJNgqNFwiNSXKU/wSJ8X29+Bf0FYxQfaG3iGL7+hPpHdTj2hFhbbObRJOUJO3B0r0KY7H61+\nqyeHonx5EebpNobe9rTXpDz/wFrwkJUj0NyWKLbtb/ZbI9tvNlFVKIeRtEnwR6RDL31VKAuQE6PJ\nI4QlFyK1U4unjKNVuFpzi1449W4lnhzFTKy1rNgaXipR3ZzRC3gVygjkFluNFk/Zc8Dht8EHyKN6\ng5WIRgnlRsds1+JNpcBYTtpA5ckfst2sUZltuNjGs5UcKAP8qakYpqHpwha6jZAIhPObOUk1FdtE\nKAxKopNRneGQpo+ySYLc37/tvd/zxMZtfzuEzp7XI6wutpPi3osRtQ4MpEjctWofvOD4je1Db8cr\nvRcstqyYYvyXe9B+lUat7sFBSGJG7GzPkEgt1nI89XkaxCkWW/q2U+cHzG7BzWc+wEbqpb8K5TCS\n0bRISvTSV5Hyp2HHZw69IYOW4GX0jgrXk6LYioOFU+9WJDkbRxzgvpA/tYGyo9N9IMvLTB6uRC/g\n8V5G5TrDBND0M48tET2NFk+ZoUkHTG//14jQ9AYrEc2EeXbLjY7ZrsWbSoGx/tcGKk++ctVjQ2KL\npqi71vZy3cffKFzYS2xxZmQmTjxbCUcZ4E1NzSANzeTLXC9jpQDK9Gkd8o0VEtM7u5WxTbGtwikx\nJYiDaKXp4/GB9gswuGKj+epwgTZZeiqIPYIv+jGRDJM/Ast/B183BPg7+qizLrsobJcOYOqFzCiU\nt07B3Ku+aHJUrASz7Wmr1lhzeAAT2w9m6VWhHEbSmlqjjJJKlKd+qwfLD8PMpu8AiKeMXsBwNTew\n2AbCKcn5cbTeEw3ypzZQduyHBzJWmo9goZypQlmsqS/AZF/8DM6nF0/Zd8Dlr/THRaOEGjc6FBjf\nQCxDzVdG4tF2X5RoO7HFSI6ZS5QBwalZKTPhqr/KJqDIl4zlLClZITG9hwcZ2xTbKqmX6GTiIFpp\n+nh8YHZxavM+aLwAnVMGUi9IzVOQEX1K/AZodh1E/TwpSnzmj06hjxbWJBCFDYstjdJalPwL8E9n\nfNHsZrESLA7/rGGsIvnt+VPvfGnoo0EVymEkbdIyp6doVKT8m0vLWzBxxxiUUT3O6RZgsQ2EU5Cj\nOAZ+m0/+pJiJO/YPsEgbZ6Mm+dwDAWpRvJeJMj5AIU5/OIMWT5nQ0AGd1z1y57ho2gsiocaNjg1M\nhpIqttt9eOPP0ez7CTQm0XZii8WWcmlqEeHSAsMywJ2aldDMzrb1EeYAZaWgRX3ZpGSFBK0QL/ey\nfNSVR7FNs1BxSnQycRCtNH08PuLpoKZ4PEA8/M0eC1Bzan49K7oToL88lH914BdB/1a8+flPiuO+\nJUkIfTSFVZvCtjwQtxHsKHmZPJS8c/yq075oZlisBIvDPgQhIBAPJ3VW4OQdPhpUoRxG0iZ9kdHT\nLKpRhpk7dqxB58UxKKN+DNdXVbENhFOQoxDr3+ZfK2P2yc/gcPInxWxhSRTbDC8zeQJK4r1MlM2j\naZd/h5+B8ZQJDR3wn9B56edj0HjWkgMQTXtBJNS40bGBIf+jBvGCopcBTv6eZXvl+1GYaDuxxWJr\nYza1ew3h0gJDGQDO1KyGZvIFPkox0VYKWuSUbFKaQkJhEuGwtpm/UqHYplmoOKU42eEgfJqmj8dn\nfkXUvVMwsQYzGwBy1fnto0f/+ujRT6tthytCRXAC4E0AfwGB34obH7WOHv38x44e7WH8d/Rg4bQd\nBXKNJDlMb7kiAOEI8d1RvhI+NwjoCTGwLx9RMiNRkUASvrF9sZQDSKTpXgaolVSh3OjC5OmZdeic\nsfQSKQseNlzNARbbbDiVP20cA7/N1/4kA0XH1SCKrcfLJkZISaSXOWWxNq+A/DOZtw4tPczAaMoc\nTTlAPAm2b5PQ1H5MRsf25TsA0cgLMqHGiY52l+Jl1TtT7GOi2I5IpD6tVWaLk41ipj5gxqa/NJ5s\nx5RwpmY6mi0kFwDsZTFRVsp8sZZnY2IKCcYEX0Q4rG04jS3bKqmX4mSXQ3RBkcMsR/FnZ8TxZWh0\nJ9ZhdgCHu3296ugFaXkF/+iNI/qUGHIZwCeg/Wwz8Ftx9FF7TVzEbiPMij3nlh1l1khd8WFuxReJ\nLX6hEsyE26UOPBTQQg8uEJ/v4SYfTe76bV8s5TCS0tSUP2kwPtDWVKG8Ywsmz4jvuzsv+mgJlNED\ncpe0cMMNN//pRjCckpwNceC3+eRPHRPR8bUbbnjpxgwvnRihnIn3sqWskk8UnMv7lp7OwHjKFg0d\n8Pgp8cj1yKKx6Ni+QgcgGiXU5JjRocBY9c4UE08jnBxaEagylGg7sVXF1mQm6PKYFhjKAOEKNjWr\noal8ETdL9lJMtJWSlrU8GxNWSDAmIOe3zUczjRXbNAsVp0QnMw54GyHDRF2Arx51Fp+pHsx3Zwby\nFwuXNTa1I/Sc2tcTa7snkve1/wzEJ5+J9e8VM5yekVXaUFFnXZ5Q2OaPSLfaUToJUN75kPybtJ5I\n3rymvqwSLA5PSx14KEVXAjw60wV4C43UiqpQDiMpTVPPCbU1UJ5ZhNlnhQcnjvho8hY89WUdwLyM\nHsCPpCJWi/IXu9lwSn9SHOUtIPcgfyoD1Tdm8GHGQbtSJUZQSRXKCNQDuI/RUwUnnjKaQg4Qj09O\nsnxWvBPRKKHGjQ7xIv8rA5UnRSjeOK7txFYVWy8zE3OJMiA4NRPRlJUike5nMVEOkPlCTskkpZ/i\n8sfjj2bmhGJbJfUSU0JNGOSAX5BlmKgL8NWjzuLzXasH3i//LOxJgM+Kx/V5JsCJnnhU1RMdBBBf\nHnfEQwSDgbjRsMGUyCYqmujJJoVNbNTEU/F2FC+28w82H2aAStRaKVaCxWGn1IEHKmp8YnX3WvtB\n6GxkFFWhHEZSJi2IYusrqUK5M4ITG/CDcM2mjwbxlNEDek7vWIRgOCU5iqP+4wPKd/hK/mQxA/hm\nxkp9pzGopAplBLoQxLQmeioD4yl7DvjDPvwPQ6OEIg1FDkA0Sqhxo0OBIfV8ik0OmncxtpVsZ2zl\nKjlmLlEGBKdmpcx8BhZezVgp8oX1ZWLCCgnGBOc32aYrj2JbJfUSE4w4iFaaPhafR7a3X5Z/fUbc\nUvia+L0YzwS4eBMyInFpe03ea1v4pSV84gxpmJeJX375JvHpYyjPlSN23/3xEVx9/Ho2ihdbOLBr\nmBEJBaxPPtbmHAgJn7N9qGhue3t7Dd6xRzy0aulpRZUoB5GUSY27OD2lpApl+ODOt4u7OjsDvomn\njF5Qc7q19/lRMJySHIW41bOeUw3mTxYzuGX7powr1U4lqKQKZQRq7Lmuz+ipDIynjDaQA6auOzBk\naBSdOAcgGkuoMaNDvEi9M8UO7F5ibCvZztjKSGZilhYYlgGhqSnJkobM1OTznwLT3ikmue8Acc76\n/KTMAOH8zmhWbCtxWitSD2xOoB34omoMjsswoat86iw+dBG2nExwZUo0Kz6p26PTs03euBhPlCN4\nv247xdaVa9E9vDespHHEXlOm6NuaMnpBb6CsR2xDh9Px51NWyhvKn2WuVMWWjxPt1MTA4bVRLkYL\nJVSRAxCtzAvxCRWysnSKQXS4amYr4eqzHcnlO8BxovP3+3AgvqhCQufU0kVBsXWgwuUCGJTilOZk\n0ixaafpyPWp2tn/igKsTlSSOLfxP+7ARh7DdHrEu3tQTICTXImc6hJW0NixkCAiFGu3bmjIaGgoX\nCvTE5v40v8237lMN5c8yV0JIU2pi1Eu5GC2QUIUOQLQyL8QnVL67CjzpVJ6zyVYaX5/tuYEJ5EuO\nlaqQIJD3oouCYhsfD8Ypek54msVpmr5cj5pim1VgNjDiCyh7mN+K2w7VaK57Hd6pngBeL55q0STb\nPucouTY03Oszis5LyugLXWy5P81v8z1flfjTuNIbxZWM72WONj5lRAskVDUHcLTx5oCOCQJ6L19X\n53XZrj/81ROYhdrQtJWMlvlza5478guJVxQYlCcxiFmocZxcRZ9hwt4LMkGLLqKrzW/FqQdb3AxP\nhKcFE1eLGos0LkcJs5eu9VpG0XlJGX2hY8b9ebf6U2meq3j98EXy3LgyJKstMRC8NsqIFkioag7g\naPzvXuekZ8Ec0AYGPHnh/Tdi7/jhkjCNNz2/gXDjp3+taMZKRsv8uTWkSy/5TvS8zqA8iQHLQo3j\n5Cr6DBP2rlcd1mObWtQY2Z6cxpM5/abbrJHmnL0b0SWsL9jsdIPdbqdBOy8poytMOMf2p3Gl62B1\nVlti1EsZ0QzvsR3goI2VUCYmynnB13rYGuix2BoQ+14bWm1AYl0ZWXo5jUBNGsPJlfRlmJlVJyMQ\n/3ZGL7sBUVqXXXGzwwpE2YtLe+pDK0AqEJUSzF5QL9pZiVl9StAdtaUZotXrz1rQ6jUwm0L/3/Mt\n64H/AyrG8St2K71AAAAAAElFTkSuQmCC\n",
      "text/latex": [
       "$$2 m_{1}^{6} + 7 m_{1}^{5} \\left(m_{2} - 1\\right) + 10 m_{1}^{5} + 9 m_{1}^{4} \\left(m_{2} - 1\\right)^{2} + 28 m_{1}^{4} \\left(m_{2} - 1\\right) + 18 m_{1}^{4} + 7 m_{1}^{3} \\left(m_{2} - 1\\right)^{3} + 36 m_{1}^{3} \\left(m_{2} - 1\\right)^{2} + 42 m_{1}^{3} \\left(m_{2} - 1\\right) + 14 m_{1}^{3} + 2 m_{1}^{2} \\left(m_{2} - 1\\right)^{4} + 25 m_{1}^{2} \\left(m_{2} - 1\\right)^{3} + 48 m_{1}^{2} \\left(m_{2} - 1\\right)^{2} + 26 m_{1}^{2} \\left(m_{2} - 1\\right) + 4 m_{1}^{2} + 6 m_{1} \\left(m_{2} - 1\\right)^{4} + 21 m_{1} \\left(m_{2} - 1\\right)^{3} + 19 m_{1} \\left(m_{2} - 1\\right)^{2} + 3 m_{1} \\left(m_{2} - 1\\right) - 2 m_{2} + \\left(m_{2} - 1\\right)^{4} + \\left(m_{2} - 1\\right)^{3} - 2 \\left(m_{2} - 1\\right)^{2} + 2$$"
      ],
      "text/plain": [
       "    6       5                 5       4         2        4                 4  \n",
       "2⋅m₁  + 7⋅m₁ ⋅(m₂ - 1) + 10⋅m₁  + 9⋅m₁ ⋅(m₂ - 1)  + 28⋅m₁ ⋅(m₂ - 1) + 18⋅m₁  +\n",
       "\n",
       "     3         3        3         2        3                 3       2        \n",
       " 7⋅m₁ ⋅(m₂ - 1)  + 36⋅m₁ ⋅(m₂ - 1)  + 42⋅m₁ ⋅(m₂ - 1) + 14⋅m₁  + 2⋅m₁ ⋅(m₂ - 1\n",
       "\n",
       " 4        2         3        2         2        2                2            \n",
       ")  + 25⋅m₁ ⋅(m₂ - 1)  + 48⋅m₁ ⋅(m₂ - 1)  + 26⋅m₁ ⋅(m₂ - 1) + 4⋅m₁  + 6⋅m₁⋅(m₂ \n",
       "\n",
       "    4                 3                 2                                  4  \n",
       "- 1)  + 21⋅m₁⋅(m₂ - 1)  + 19⋅m₁⋅(m₂ - 1)  + 3⋅m₁⋅(m₂ - 1) - 2⋅m₂ + (m₂ - 1)  +\n",
       "\n",
       "         3             2    \n",
       " (m₂ - 1)  - 2⋅(m₂ - 1)  + 2"
      ]
     },
     "execution_count": 47,
>>>>>>> origin/master
     "metadata": {},
     "output_type": "execute_result"
    }
   ],
   "source": [
<<<<<<< HEAD
    "N=2*m[1]**6+3*m[1]**5-m[1]**4+0.2*m[1]**3+2.5*m[1]**2+m[1]\n",
    "plot(N,(m[1],0,0.1))"
=======
    "Q"
>>>>>>> origin/master
   ]
  },
  {
   "cell_type": "code",
   "execution_count": null,
   "metadata": {
    "collapsed": true
   },
   "outputs": [],
   "source": []
  }
 ],
 "metadata": {
  "kernelspec": {
   "display_name": "Python 2",
   "language": "python",
   "name": "python2"
  },
  "language_info": {
   "codemirror_mode": {
    "name": "ipython",
    "version": 2
   },
   "file_extension": ".py",
   "mimetype": "text/x-python",
   "name": "python",
   "nbconvert_exporter": "python",
   "pygments_lexer": "ipython2",
   "version": "2.7.11"
  }
 },
 "nbformat": 4,
 "nbformat_minor": 0
}
