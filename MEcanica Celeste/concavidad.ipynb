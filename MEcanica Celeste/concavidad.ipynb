{
 "cells": [
  {
   "cell_type": "markdown",
   "metadata": {},
   "source": [
    "<h1> Demostración de la conjetura para $m_2\\geq 1$ </h4>\n"
   ]
  },
  {
   "cell_type": "code",
   "execution_count": 1,
   "metadata": {
    "collapsed": false
   },
   "outputs": [
    {
     "name": "stderr",
     "output_type": "stream",
     "text": [
      "/home/fernando/anaconda2/lib/python2.7/site-packages/matplotlib/font_manager.py:273: UserWarning: Matplotlib is building the font cache using fc-list. This may take a moment.\n",
      "  warnings.warn('Matplotlib is building the font cache using fc-list. This may take a moment.')\n"
     ]
    }
   ],
   "source": [
    "from sympy import *\n",
    "init_printing() #muestra símbolos más agradab\n",
    "import matplotlib.pyplot as plt\n",
    "from mpl_toolkits.mplot3d import Axes3D\n",
    "from matplotlib import cm\n",
    "import numpy as np\n",
    "R=lambda n,d: Rational(n,d)"
   ]
  },
  {
   "cell_type": "markdown",
   "metadata": {},
   "source": [
    "<h2> 1. ¿Cuando $q_1=c$ ? </h2>\n",
    "\n",
    "Lo que viene en esta sección en realidad no es necesario para la demostración de la conjetura. Vamos a demostrar que la única forma que la masa del medio en una configuración central colineal este sobre el centro de masas es que las masas de los extremos sean iguales.\n",
    "\n",
    "<b> Teorema </b> Supogamos una configuración central colineal de masas $1$,$m_1$ y $m_2$ en posiciones $0,1,1+r$, con $r>0$. Si $c$ es el centro de masa, $c=1$ si y solo si $m_2=1$.\n",
    "\n",
    "<b>Dem.</b>\n"
   ]
  },
  {
   "cell_type": "code",
   "execution_count": 2,
   "metadata": {
    "collapsed": false
   },
   "outputs": [
    {
     "data": {
      "image/png": "[encoded data removed]",
      "text/latex": [
       "$$\\left [ - \\frac{m_{1} + m_{2} \\left(r + 1\\right)}{m_{1} + m_{2} + 1}, \\quad \\frac{- m_{2} r + 1}{m_{1} + m_{2} + 1}, \\quad \\frac{m_{1} r + r + 1}{m_{1} + m_{2} + 1}\\right ]$$"
      ],
      "text/plain": [
       "⎡-(m₁ + m₂⋅(r + 1))    -m₂⋅r + 1   m₁⋅r + r + 1⎤\n",
       "⎢───────────────────, ───────────, ────────────⎥\n",
       "⎣    m₁ + m₂ + 1      m₁ + m₂ + 1  m₁ + m₂ + 1 ⎦"
      ]
     },
     "execution_count": 2,
     "metadata": {},
     "output_type": "execute_result"
    }
   ],
   "source": [
    "m=symbols('m0:%s' %3, positive=True) #masas\n",
    "var('r')#r \n",
    "m=[1,m[1],m[2]]# la masa m0 es 1\n",
    "x=[0,1,1+r]#posiciones\n",
    "c=sum([m[j]*x[j]/sum(m) for j in range(3)]) #centro masas\n",
    "q=[(h-c).simplify() for h in x] #coordenadas varicentricas\n",
    "solve(c-1)#hallamos cuando Se tiene que dar m2=1/r\n",
    "q"
   ]
  },
  {
   "cell_type": "markdown",
   "metadata": {},
   "source": [
    "Hasta aquí hemos probado que $m_2=1/r$. Pero $r$ debe satisfacer la ecuación de Euler"
   ]
  },
  {
   "cell_type": "code",
   "execution_count": 3,
   "metadata": {
    "collapsed": false
   },
   "outputs": [],
   "source": [
    "f=r**5 + 3*r**4 + 3*r**3 + m[1]*r**5 + 2*m[1]*r**4 + m[1]*r**3 - m[1]*r**2 - 2*m[1]*r - m[1] - 3*m[2]*r**2 - 3*m[2]*r - m[2]\n"
   ]
  },
  {
   "cell_type": "markdown",
   "metadata": {},
   "source": [
    "El polinomio $f$ depende de $m_1,m_2$ y $r$ ($f=f(m_1,m_2,r)$). Se debe cumplir $f(m_1,m_2,\\frac{1}{m_2})=0$"
   ]
  },
  {
   "cell_type": "code",
   "execution_count": 4,
   "metadata": {
    "collapsed": false
   },
   "outputs": [
    {
     "data": {
      "image/png": "[encoded data removed]",
      "text/latex": [
       "$$- \\frac{1}{m_{2}^{5}} \\left(m_{2} - 1\\right) \\left(m_{2} + 1\\right)^{2} \\left(m_{1} + m_{2} + 1\\right) \\left(m_{2}^{2} + m_{2} + 1\\right)$$"
      ],
      "text/plain": [
       "                  2               ⎛  2         ⎞ \n",
       "-(m₂ - 1)⋅(m₂ + 1) ⋅(m₁ + m₂ + 1)⋅⎝m₂  + m₂ + 1⎠ \n",
       "─────────────────────────────────────────────────\n",
       "                         5                       \n",
       "                       m₂                        "
      ]
     },
     "execution_count": 4,
     "metadata": {},
     "output_type": "execute_result"
    }
   ],
   "source": [
    "f.subs({r:m[2]**(-1)}).factor()"
   ]
  },
  {
   "cell_type": "markdown",
   "metadata": {},
   "source": [
    "La única solución con $m_1>0$ y $m_2>0$ es $m_2=1$ y $m_1>0$ puede ser cualquier masa positiva. Este resultado es físicamente evidente."
   ]
  },
  {
   "cell_type": "markdown",
   "metadata": {},
   "source": [
    "<h2> 2. $r(m_1,m_2)$ es concava respecto a $m_2$ para $m_1$ fijo</h2>\n",
    "\n",
    "<b> Teorema 2.</b>  $r(m_1,m_2)$ es concava respecto a $m_2$ para $m_1$ \n",
    "\n",
    "<b>Dem.</b> Veamos que $\\frac{\\partial^2 r}{\\partial m_2^2}<0$. Calculamos la derivada siguiendo la derivación de una función implícita. En la expresión de $f$ sustituyo $r$ por una función de $m_1,m_2$ que llamo $R(m_1,m_2)$. A la expresión que resulta $f_1$ la derivo respecto a $m_2$ y despejo $\\frac{\\partial R}{\\partial m_2}$ en función de $R$. "
   ]
  },
  {
   "cell_type": "code",
   "execution_count": 5,
   "metadata": {
    "collapsed": false
   },
   "outputs": [
    {
     "data": {
      "image/png": "[encoded data removed]",
      "text/latex": [
       "$$\\frac{3 R^{2}{\\left (m_{1},m_{2} \\right )} + 3 R{\\left (m_{1},m_{2} \\right )} + 1}{- 2 m_{1} - 3 m_{2} + \\left(- 2 m_{1} - 6 m_{2}\\right) R{\\left (m_{1},m_{2} \\right )} + \\left(3 m_{1} + 9\\right) R^{2}{\\left (m_{1},m_{2} \\right )} + \\left(5 m_{1} + 5\\right) R^{4}{\\left (m_{1},m_{2} \\right )} + \\left(8 m_{1} + 12\\right) R^{3}{\\left (m_{1},m_{2} \\right )}}$$"
      ],
      "text/plain": [
       "                                            2                                 \n",
       "                                         3⋅R (m₁, m₂) + 3⋅R(m₁, m₂) + 1       \n",
       "──────────────────────────────────────────────────────────────────────────────\n",
       "                                                      2                       \n",
       "-2⋅m₁ - 3⋅m₂ + (-2⋅m₁ - 6⋅m₂)⋅R(m₁, m₂) + (3⋅m₁ + 9)⋅R (m₁, m₂) + (5⋅m₁ + 5)⋅R\n",
       "\n",
       "                                  \n",
       "                                  \n",
       "──────────────────────────────────\n",
       "4                        3        \n",
       " (m₁, m₂) + (8⋅m₁ + 12)⋅R (m₁, m₂)"
      ]
     },
     "execution_count": 5,
     "metadata": {},
     "output_type": "execute_result"
    }
   ],
   "source": [
    "R=Function('R')(m[1],m[2])\n",
    "f1=f.subs(r,R)\n",
    "f1=f1.diff(m[2])\n",
    "r_m2=solve(f1,R.diff(m[2]))[0].collect(R)\n",
    "r_m2\n"
   ]
  },
  {
   "cell_type": "markdown",
   "metadata": {},
   "source": [
    "La expresión  <b>r_m2</b> es la derivada $\\partial r/\\partial m_2$ escrita en función de $R(m_1,m_2)$. En la celda debajo derivo <b>r_m2</b> respecto a $m_2$, aparece nuevamente $\\frac{\\partial R}{\\partial m_2}$ lo sustituyo por <b>r_m2</b>. Por último, vuelvo a sustiruir $R$ por $r$ por simplicidad"
   ]
  },
  {
   "cell_type": "code",
   "execution_count": 6,
   "metadata": {
    "collapsed": false
   },
   "outputs": [
    {
     "data": {
      "image/png": "[encoded data removed]",
      "text/latex": [
       "$$- \\frac{2 \\left(3 r^{2} + 3 r + 1\\right) \\left(3 m_{1} r^{4} + 13 m_{1} r^{3} + 21 m_{1} r^{2} + 18 m_{1} r + 5 m_{1} + 27 m_{2} r^{2} + 27 m_{2} r + 6 m_{2} - 3 r^{4} + r^{3} + 18 r^{2} + 9 r\\right)}{\\left(5 m_{1} r^{4} + 8 m_{1} r^{3} + 3 m_{1} r^{2} - 2 m_{1} r - 2 m_{1} - 6 m_{2} r - 3 m_{2} + 5 r^{4} + 12 r^{3} + 9 r^{2}\\right)^{3}}$$"
      ],
      "text/plain": [
       "   ⎛   2          ⎞ ⎛      4          3          2                           2\n",
       "-2⋅⎝3⋅r  + 3⋅r + 1⎠⋅⎝3⋅m₁⋅r  + 13⋅m₁⋅r  + 21⋅m₁⋅r  + 18⋅m₁⋅r + 5⋅m₁ + 27⋅m₂⋅r \n",
       "──────────────────────────────────────────────────────────────────────────────\n",
       "                                                                              \n",
       "                    ⎛      4         3         2                              \n",
       "                    ⎝5⋅m₁⋅r  + 8⋅m₁⋅r  + 3⋅m₁⋅r  - 2⋅m₁⋅r - 2⋅m₁ - 6⋅m₂⋅r - 3⋅\n",
       "\n",
       "                       4    3       2      ⎞ \n",
       " + 27⋅m₂⋅r + 6⋅m₂ - 3⋅r  + r  + 18⋅r  + 9⋅r⎠ \n",
       "─────────────────────────────────────────────\n",
       "                         3                   \n",
       "        4       3      2⎞                    \n",
       "m₂ + 5⋅r  + 12⋅r  + 9⋅r ⎠                    "
      ]
     },
     "execution_count": 6,
     "metadata": {},
     "output_type": "execute_result"
    }
   ],
   "source": [
    "f2=r_m2.diff(m[2]).subs(R.diff(m[2]),r_m2).subs(R,r)\n",
    "f2.simplify().factor()\n"
   ]
  },
  {
   "cell_type": "markdown",
   "metadata": {},
   "source": [
    "Hay que demostrar que la expresión es negativa. Tomo los dos factores que no tienen un signo definido y los estudio por separado."
   ]
  },
  {
   "cell_type": "code",
   "execution_count": 7,
   "metadata": {
    "collapsed": false
   },
   "outputs": [],
   "source": [
    "num=(3*m[1]*r**4 + 13*m[1]*r**3 + 21*m[1]*r**2 + 18*m[1]*r + 5*m[1] + 27*m[2]*r**2 + 27*m[2]*r + 6*m[2] - 3*r**4 + r**3 + 18*r**2 + 9*r)\n",
    "dem=5*m[1]*r**4 + 8*m[1]*r**3 + 3*m[1]*r**2 - 2*m[1]*r - 2*m[1] - 6*m[2]*r - 3*m[2] + 5*r**4 + 12*r**3 + 9*r**2\n"
   ]
  },
  {
   "cell_type": "markdown",
   "metadata": {},
   "source": [
    "Creo que el teorema de Descartes implica que el cociente de estas expresiones cambian de signo. Ahora aquí nos hemos olvidado que $r=r(m_1,m_2)$, i.e. no se puede variar $r$ independientemente de $m_1,m_2$, sino que  $m_1,m_2,r$ estan relacionados por la ecuación de Euler. La idea sería ver que si reemplazo $r$ por su expresión en $m_1,m_2$ quedan expresiones con signo definido. Claro que no disponemos de una fórmula para $r$. Trato de usar la fórmula de Gastón\n",
    "$$ r^3=\\frac{m_2(3r^2+3r+1)+m_1(r+1)^2}{(r^2+3r+3)+m_1(r+1)^2}=:g$$\n",
    "La utilizo para reemplazar $r^3$ por $g$ y $r^4$ por $rg$\n"
   ]
  },
  {
   "cell_type": "code",
   "execution_count": 8,
   "metadata": {
    "collapsed": false
   },
   "outputs": [
    {
     "data": {
      "image/png": "[encoded data removed]",
      "text/latex": [
       "$$- \\frac{2 \\left(3 r^{2} + 3 r + 1\\right) \\left(m_{1} r^{2} + 2 m_{1} r + m_{1} + r^{2} + 3 r + 3\\right)^{2} \\left(21 m_{1}^{2} r^{4} + 63 m_{1}^{2} r^{3} + 81 m_{1}^{2} r^{2} + 57 m_{1}^{2} r + 18 m_{1}^{2} + 27 m_{1} m_{2} r^{4} + 90 m_{1} m_{2} r^{3} + 135 m_{1} m_{2} r^{2} + 81 m_{1} m_{2} r + 19 m_{1} m_{2} + 39 m_{1} r^{4} + 123 m_{1} r^{3} + 153 m_{1} r^{2} + 77 m_{1} r + 16 m_{1} + 27 m_{2} r^{4} + 99 m_{2} r^{3} + 162 m_{2} r^{2} + 99 m_{2} r + 19 m_{2} + 18 r^{4} + 63 r^{3} + 81 r^{2} + 27 r\\right)}{\\left(3 m_{1}^{2} r^{4} + 9 m_{1}^{2} r^{3} + 15 m_{1}^{2} r^{2} + 15 m_{1}^{2} r + 6 m_{1}^{2} + 9 m_{1} m_{2} r^{3} + 24 m_{1} m_{2} r^{2} + 17 m_{1} m_{2} r + 5 m_{1} m_{2} + 12 m_{1} r^{4} + 30 m_{1} r^{3} + 32 m_{1} r^{2} + 17 m_{1} r + 6 m_{1} + 9 m_{2} r^{3} + 30 m_{2} r^{2} + 14 m_{2} r + 3 m_{2} + 9 r^{4} + 27 r^{3} + 27 r^{2}\\right)^{3}}$$"
      ],
      "text/plain": [
       "                                                        2                     \n",
       "   ⎛   2          ⎞ ⎛    2                  2          ⎞  ⎛     2  4        2 \n",
       "-2⋅⎝3⋅r  + 3⋅r + 1⎠⋅⎝m₁⋅r  + 2⋅m₁⋅r + m₁ + r  + 3⋅r + 3⎠ ⋅⎝21⋅m₁ ⋅r  + 63⋅m₁ ⋅\n",
       "──────────────────────────────────────────────────────────────────────────────\n",
       "                                                                              \n",
       "                                                    ⎛    2  4       2  3      \n",
       "                                                    ⎝3⋅m₁ ⋅r  + 9⋅m₁ ⋅r  + 15⋅\n",
       "\n",
       "                                                                              \n",
       " 3        2  2        2          2             4             3              2 \n",
       "r  + 81⋅m₁ ⋅r  + 57⋅m₁ ⋅r + 18⋅m₁  + 27⋅m₁⋅m₂⋅r  + 90⋅m₁⋅m₂⋅r  + 135⋅m₁⋅m₂⋅r  \n",
       "──────────────────────────────────────────────────────────────────────────────\n",
       "                                                                              \n",
       "  2  2        2         2            3             2                          \n",
       "m₁ ⋅r  + 15⋅m₁ ⋅r + 6⋅m₁  + 9⋅m₁⋅m₂⋅r  + 24⋅m₁⋅m₂⋅r  + 17⋅m₁⋅m₂⋅r + 5⋅m₁⋅m₂ + \n",
       "\n",
       "                                                                              \n",
       "                                 4           3           2                    \n",
       "+ 81⋅m₁⋅m₂⋅r + 19⋅m₁⋅m₂ + 39⋅m₁⋅r  + 123⋅m₁⋅r  + 153⋅m₁⋅r  + 77⋅m₁⋅r + 16⋅m₁ +\n",
       "──────────────────────────────────────────────────────────────────────────────\n",
       "                                                                              \n",
       "       4          3          2                          3          2          \n",
       "12⋅m₁⋅r  + 30⋅m₁⋅r  + 32⋅m₁⋅r  + 17⋅m₁⋅r + 6⋅m₁ + 9⋅m₂⋅r  + 30⋅m₂⋅r  + 14⋅m₂⋅r\n",
       "\n",
       "                                                                              \n",
       "        4          3           2                         4       3       2    \n",
       " 27⋅m₂⋅r  + 99⋅m₂⋅r  + 162⋅m₂⋅r  + 99⋅m₂⋅r + 19⋅m₂ + 18⋅r  + 63⋅r  + 81⋅r  + 2\n",
       "──────────────────────────────────────────────────────────────────────────────\n",
       "                               3                                              \n",
       "             4       3       2⎞                                               \n",
       " + 3⋅m₂ + 9⋅r  + 27⋅r  + 27⋅r ⎠                                               \n",
       "\n",
       "     \n",
       "   ⎞ \n",
       "7⋅r⎠ \n",
       "─────\n",
       "     \n",
       "     \n",
       "     "
      ]
     },
     "execution_count": 8,
     "metadata": {},
     "output_type": "execute_result"
    }
   ],
   "source": [
    "g=(m[2]*(3*r**2+3*r+1)+m[1]*(r+1)**2)/((r**2+3*r+3)+m[1]*(r+1)**2)\n",
    "num.collect(r).subs({r**4:g*r,r**3:g}).factor().collect(r)\n",
    "f2.simplify().factor().subs({r**4:g*r,r**3:g}).factor()"
   ]
  },
  {
   "cell_type": "markdown",
   "metadata": {},
   "source": [
    "La expresión tiene sólo términos positivos. Hago lo mismo con \"dem\""
   ]
  },
  {
   "cell_type": "code",
   "execution_count": 9,
   "metadata": {
    "collapsed": false
   },
   "outputs": [
    {
     "data": {
      "image/png": "[encoded data removed]",
      "text/latex": [
       "$$\\frac{1}{m_{1} r^{2} + 2 m_{1} r + m_{1} + r^{2} + 3 r + 3} \\left(3 m_{1}^{2} r^{4} + 9 m_{1}^{2} r^{3} + 15 m_{1}^{2} r^{2} + 15 m_{1}^{2} r + 6 m_{1}^{2} + 9 m_{1} m_{2} r^{3} + 24 m_{1} m_{2} r^{2} + 17 m_{1} m_{2} r + 5 m_{1} m_{2} + 12 m_{1} r^{4} + 30 m_{1} r^{3} + 32 m_{1} r^{2} + 17 m_{1} r + 6 m_{1} + 9 m_{2} r^{3} + 30 m_{2} r^{2} + 14 m_{2} r + 3 m_{2} + 9 r^{4} + 27 r^{3} + 27 r^{2}\\right)$$"
      ],
      "text/plain": [
       "    2  4       2  3        2  2        2         2            3             2 \n",
       "3⋅m₁ ⋅r  + 9⋅m₁ ⋅r  + 15⋅m₁ ⋅r  + 15⋅m₁ ⋅r + 6⋅m₁  + 9⋅m₁⋅m₂⋅r  + 24⋅m₁⋅m₂⋅r  \n",
       "──────────────────────────────────────────────────────────────────────────────\n",
       "                                                                              \n",
       "                                                                              \n",
       "\n",
       "                                4          3          2                       \n",
       "+ 17⋅m₁⋅m₂⋅r + 5⋅m₁⋅m₂ + 12⋅m₁⋅r  + 30⋅m₁⋅r  + 32⋅m₁⋅r  + 17⋅m₁⋅r + 6⋅m₁ + 9⋅m\n",
       "──────────────────────────────────────────────────────────────────────────────\n",
       "               2                  2                                           \n",
       "           m₁⋅r  + 2⋅m₁⋅r + m₁ + r  + 3⋅r + 3                                 \n",
       "\n",
       "   3          2                       4       3       2\n",
       "₂⋅r  + 30⋅m₂⋅r  + 14⋅m₂⋅r + 3⋅m₂ + 9⋅r  + 27⋅r  + 27⋅r \n",
       "───────────────────────────────────────────────────────\n",
       "                                                       \n",
       "                                                       "
      ]
     },
     "execution_count": 9,
     "metadata": {},
     "output_type": "execute_result"
    }
   ],
   "source": [
    "dem.subs({r**4:g*r,r**3:g}).factor()"
   ]
  },
  {
   "cell_type": "markdown",
   "metadata": {
    "collapsed": true
   },
   "source": [
    "También aparecen sólo términos positivos. Por consiguiente se llega a lo que quería. $\\square$"
   ]
  },
  {
   "cell_type": "markdown",
   "metadata": {
    "collapsed": true
   },
   "source": [
    "<h3> Demostración conjetura para $m_2>1$. </h3> \n",
    "\n",
    "Recordemos \n",
    "\n",
    "$$U<\\frac{m_i^2}{|q_i|}+\\frac{m_{i+1}^2}{|q_{i+1}|}$$ \n",
    "donde $i=0$ o $i=1$ acorde a que el centro de masas $c$ satisface $c\\in [q_i,q_{i+1}]$\n",
    "\n",
    "\n",
    "Teniendo en cuenta que $r$ es concava respecto a $m_2$ y que $r>1$ cuando $m_2>1$, vamos usar como cotas de $r$, la constante $1$ y la recta tangente respecto a la variable $m_2$, con $m_1$ fijo. Evaluemos $\\left.\\frac{\\partial r}{\\partial m_2}\\right|_{m_2=1}$ (notar que $\\forall m_1>0: r(m_1,1)=1$).\n"
   ]
  },
  {
   "cell_type": "code",
   "execution_count": 10,
   "metadata": {
    "collapsed": false
   },
   "outputs": [
    {
     "data": {
      "image/png": "[encoded data removed]",
      "text/latex": [
       "$$\\frac{7}{12 m_{1} + 17}$$"
      ],
      "text/plain": [
       "    7     \n",
       "──────────\n",
       "12⋅m₁ + 17"
      ]
     },
     "execution_count": 10,
     "metadata": {},
     "output_type": "execute_result"
    }
   ],
   "source": [
    "r_m2.subs({R:1,m[2]:1})"
   ]
  },
  {
   "cell_type": "markdown",
   "metadata": {},
   "source": [
    "Luego por concavidad si $m_2>1$\n",
    "$$r(m_1,m_2)\\leq \\frac{7}{12m_1+17}(m_2-1)+1\\leq m_2.$$\n",
    "        "
   ]
  },
  {
   "cell_type": "code",
   "execution_count": 11,
   "metadata": {
    "collapsed": false
   },
   "outputs": [],
   "source": [
    "var('r',positive=True) #introducimos la suposicion r>0\n",
    "x=[0,1,1+r]#posiciones\n",
    "c=sum([m[j]*x[j]/sum(m) for j in range(3)]) #centro masas\n",
    "q=[(h-c).simplify() for h in x] #coordenadas varicentricas\n",
    "U=sum([ sum([m[i]*m[j]/abs(x[i]-x[j]) for i in range(j) ]) for j in range(3)]) #potencial\n",
    "Q=[m[i]**2/abs(q[i]) for i in range(3)]\n"
   ]
  },
  {
   "cell_type": "markdown",
   "metadata": {},
   "source": [
    "Supongamos $m_2>1$. Entonces $r>1$ y $c>1$, es decir $c$ estra entre la segunda y tercer masas. Entoces $q_1<0$ y $q_2>0$"
   ]
  },
  {
   "cell_type": "code",
   "execution_count": 12,
   "metadata": {
    "collapsed": false
   },
   "outputs": [
    {
     "data": {
      "image/png": "[encoded data removed]",
      "text/latex": [
       "$$\\left [ - \\frac{m_{1} + m_{2} \\left(r + 1\\right)}{m_{1} + m_{2} + 1}, \\quad \\frac{- m_{2} r + 1}{m_{1} + m_{2} + 1}, \\quad \\frac{m_{1} r + r + 1}{m_{1} + m_{2} + 1}\\right ]$$"
      ],
      "text/plain": [
       "⎡-(m₁ + m₂⋅(r + 1))    -m₂⋅r + 1   m₁⋅r + r + 1⎤\n",
       "⎢───────────────────, ───────────, ────────────⎥\n",
       "⎣    m₁ + m₂ + 1      m₁ + m₂ + 1  m₁ + m₂ + 1 ⎦"
      ]
     },
     "execution_count": 12,
     "metadata": {},
     "output_type": "execute_result"
    }
   ],
   "source": [
    "q"
   ]
  },
  {
   "cell_type": "code",
   "execution_count": 13,
   "metadata": {
    "collapsed": false
   },
   "outputs": [],
   "source": [
    "Q=m[1]**2/(-q[1])+m[2]**2/q[2]"
   ]
  },
  {
   "cell_type": "code",
   "execution_count": 14,
   "metadata": {
    "collapsed": false
   },
   "outputs": [
    {
     "data": {
      "image/png": "[encoded data removed]",
      "text/latex": [
       "$$- \\frac{m_{1}^{2} \\left(m_{1} + m_{2} + 1\\right)}{- m_{2} r + 1} - \\frac{m_{1} m_{2}}{r} - m_{1} + \\frac{m_{2}^{2} \\left(m_{1} + m_{2} + 1\\right)}{m_{1} r + r + 1} - \\frac{m_{2}}{r + 1}$$"
      ],
      "text/plain": [
       "    2                                2                      \n",
       "  m₁ ⋅(m₁ + m₂ + 1)   m₁⋅m₂        m₂ ⋅(m₁ + m₂ + 1)     m₂ \n",
       "- ───────────────── - ───── - m₁ + ───────────────── - ─────\n",
       "      -m₂⋅r + 1         r             m₁⋅r + r + 1     r + 1"
      ]
     },
     "execution_count": 14,
     "metadata": {},
     "output_type": "execute_result"
    }
   ],
   "source": [
    "Exp=-U+Q\n",
    "Exp"
   ]
  },
  {
   "cell_type": "markdown",
   "metadata": {},
   "source": [
    "Ahora sabemos que $1<r<\\frac{7}{12m_1+17}(m_2-1)+1$, acotamos $r$ en cada termino de  <b>Exp</b> por el correspondiente valor para acotar por debajo <b>Exp</b> "
   ]
  },
  {
   "cell_type": "code",
   "execution_count": 15,
   "metadata": {
    "collapsed": false
   },
   "outputs": [
    {
     "data": {
      "image/png": "[encoded data removed]",
      "text/latex": [
       "$$\\frac{1}{2 \\left(m_{2} - 1\\right) \\left(12 m_{1} + 7 m_{2} + 17\\right) \\left(12 m_{1}^{2} + 7 m_{1} m_{2} + 34 m_{1} + 7 m_{2} + 27\\right)} \\left(288 m_{1}^{6} + 456 m_{1}^{5} m_{2} + 1512 m_{1}^{5} - 120 m_{1}^{4} m_{2}^{2} + 1798 m_{1}^{4} m_{2} + 3316 m_{1}^{4} - 48 m_{1}^{3} m_{2}^{3} - 1250 m_{1}^{3} m_{2}^{2} + 2928 m_{1}^{3} m_{2} + 3946 m_{1}^{3} + 358 m_{1}^{2} m_{2}^{4} - 402 m_{1}^{2} m_{2}^{3} - 3016 m_{1}^{2} m_{2}^{2} + 2650 m_{1}^{2} m_{2} + 2722 m_{1}^{2} + 168 m_{1} m_{2}^{5} + 907 m_{1} m_{2}^{4} - 836 m_{1} m_{2}^{3} - 2675 m_{1} m_{2}^{2} + 1518 m_{1} m_{2} + 918 m_{1} + 238 m_{2}^{5} + 529 m_{2}^{4} - 497 m_{2}^{3} - 729 m_{2}^{2} + 459 m_{2}\\right)$$"
      ],
      "text/plain": [
       "      6         5             5         4   2          4             4        \n",
       "288⋅m₁  + 456⋅m₁ ⋅m₂ + 1512⋅m₁  - 120⋅m₁ ⋅m₂  + 1798⋅m₁ ⋅m₂ + 3316⋅m₁  - 48⋅m₁\n",
       "──────────────────────────────────────────────────────────────────────────────\n",
       "                                                                              \n",
       "                                                                              \n",
       "\n",
       "3   3          3   2          3             3         2   4         2   3     \n",
       " ⋅m₂  - 1250⋅m₁ ⋅m₂  + 2928⋅m₁ ⋅m₂ + 3946⋅m₁  + 358⋅m₁ ⋅m₂  - 402⋅m₁ ⋅m₂  - 30\n",
       "──────────────────────────────────────────────────────────────────────────────\n",
       "                                                                            ⎛ \n",
       "                                             2⋅(m₂ - 1)⋅(12⋅m₁ + 7⋅m₂ + 17)⋅⎝1\n",
       "\n",
       "     2   2          2             2            5            4            3    \n",
       "16⋅m₁ ⋅m₂  + 2650⋅m₁ ⋅m₂ + 2722⋅m₁  + 168⋅m₁⋅m₂  + 907⋅m₁⋅m₂  - 836⋅m₁⋅m₂  - 2\n",
       "──────────────────────────────────────────────────────────────────────────────\n",
       "    2                              ⎞                                          \n",
       "2⋅m₁  + 7⋅m₁⋅m₂ + 34⋅m₁ + 7⋅m₂ + 27⎠                                          \n",
       "\n",
       "         2                               5         4         3         2      \n",
       "675⋅m₁⋅m₂  + 1518⋅m₁⋅m₂ + 918⋅m₁ + 238⋅m₂  + 529⋅m₂  - 497⋅m₂  - 729⋅m₂  + 459\n",
       "──────────────────────────────────────────────────────────────────────────────\n",
       "                                                                              \n",
       "                                                                              \n",
       "\n",
       "   \n",
       "⋅m₂\n",
       "───\n",
       "   \n",
       "   "
      ]
     },
     "execution_count": 15,
     "metadata": {},
     "output_type": "execute_result"
    }
   ],
   "source": [
    "Rem=7/(12*m[1]+17)*(m[2]-1)+1\n",
    "Exp2=m[1]**2*(m[1] + m[2] + 1)/(m[2]*Rem- 1) - m[1]*m[2] - m[1] + m[2]**2*(m[1]+ m[2] + 1)/(m[1] *Rem+ Rem + 1) - m[2]/2\n",
    "Exp2.factor().simplify()"
   ]
  },
  {
   "cell_type": "markdown",
   "metadata": {},
   "source": [
    "<h3>Experimento numérico</h3> Habría que ver que el segundo factor es positivo. Vamos a hacer primero un experimento numérico que confirme la aseveración. "
   ]
  },
  {
   "cell_type": "code",
   "execution_count": 16,
   "metadata": {
    "collapsed": false
   },
   "outputs": [],
   "source": [
    "M1=np.arange(0,1,.01)\n",
    "M2=np.arange(1,1.2,.01)\n",
    "X,Y=np.meshgrid(M1,M2)\n",
    "#Z=12*X*Y-12*X+7*Y**2-17\n",
    "Z=288*X**6 + 456*X**5*Y + 1512*X**5 - 120*X**4*Y**2 + 1798*X**4*Y + 3316*X**4 - 48*X**3*Y**3 - 1250*X**3*Y**2 + 2928*X**3*Y + 3946*X**3 + 358*X**2*Y**4 - 402*X**2*Y**3 - 3016*X**2*Y**2 + 2650*X**2*Y + 2722*X**2 + 168*X*Y**5 + 907*X*Y**4 - 836*X*Y**3 - 2675*X*Y**2 + 1518*X*Y + 918*X + 238*Y**5 + 529*Y**4 - 497*Y**3 - 729*Y**2 + 459*Y\n"
   ]
  },
  {
   "cell_type": "code",
   "execution_count": 17,
   "metadata": {
    "collapsed": false
   },
   "outputs": [],
   "source": [
    "fig=plt.figure()\n",
    "ax=Axes3D(fig)\n",
    "Z=np.minimum(Z,100*np.ones(np.shape(Z)))\n",
    "Z=np.maximum(Z,-1*np.ones(np.shape(Z)))\n",
    "ax.plot_surface(X,Y,Z,rstride=1, cstride=1, cmap=cm.coolwarm,linewidth=0, antialiased=False)\n",
    "#V=[k for k in [-20,0,20]]#np.arange(-20,20,1)]\n",
    "#cp = plt.contour(X, Y, Z,V)\n",
    "#plt.clabel(cp, inline=True,fontsize=10)\n",
    "plt.xlabel('m1')\n",
    "plt.ylabel('m2')\n",
    "plt.show()\n",
    "\n",
    "\n",
    "\n",
    "\n",
    "\n",
    "\n",
    "#fig = plt.figure()\n",
    "\n",
    "#ax = fig.add_subplot(111, projection='3d')"
   ]
  },
  {
   "cell_type": "markdown",
   "metadata": {},
   "source": [
    "<img src=\"https://raw.githubusercontent.com/fdmazzone/ArchivosProyecto/master/MEcanica%20Celeste/CotaSustTang.png\" width=\"50%\" height=\"50%\"/>"
   ]
  },
  {
   "cell_type": "code",
   "execution_count": 18,
   "metadata": {
    "collapsed": false
   },
   "outputs": [],
   "source": [
    "fig=plt.figure()\n",
    "V=[k**2-10 for k in range(200)]#np.arange(-20,20,1)]\n",
    "cp = plt.contour(X, Y, Z,V)\n",
    "plt.clabel(cp, inline=True,fontsize=10)\n",
    "plt.xlabel('m1')\n",
    "plt.ylabel('m2')\n",
    "plt.show()"
   ]
  },
  {
   "cell_type": "markdown",
   "metadata": {},
   "source": [
    "<img src=\"https://raw.githubusercontent.com/fdmazzone/ArchivosProyecto/master/MEcanica%20Celeste/CotaSustTangNivel.png\" width=\"50%\" height=\"50%\"/>"
   ]
  },
  {
   "cell_type": "markdown",
   "metadata": {},
   "source": [
    "Tomamos ese monstruoso segundo factor. Tiene términos positivos y negativos, pero se ve mejor si tomamos dos variables nuevas $s$ y $\\alpha$, positivas y sustituímos $m_1=s$ y $m_2=1+\\alpha s$, expandimos la expresión y luego agrupamos de acuerdo con potencias de $s$."
   ]
  },
  {
   "cell_type": "code",
   "execution_count": 19,
   "metadata": {
    "collapsed": false
   },
   "outputs": [
    {
     "data": {
      "image/png": "[encoded data removed]",
      "text/latex": [
       "$$816 \\alpha s + s^{6} \\left(168 \\alpha^{5} + 358 \\alpha^{4} - 48 \\alpha^{3} - 120 \\alpha^{2} + 456 \\alpha + 288\\right) + s^{5} \\left(238 \\alpha^{5} + 1747 \\alpha^{4} + 1030 \\alpha^{3} - 1394 \\alpha^{2} + 1558 \\alpha + 1968\\right) + s^{4} \\left(1719 \\alpha^{4} + 4472 \\alpha^{3} - 2074 \\alpha^{2} + 284 \\alpha + 4994\\right) + s^{3} \\left(3999 \\alpha^{3} + 1939 \\alpha^{2} - 3156 \\alpha + 5576\\right) + s^{2} \\left(3334 \\alpha^{2} - 1872 \\alpha + 2312\\right)$$"
      ],
      "text/plain": [
       "           6 ⎛     5        4       3        2              ⎞    5 ⎛     5    \n",
       "816⋅α⋅s + s ⋅⎝168⋅α  + 358⋅α  - 48⋅α  - 120⋅α  + 456⋅α + 288⎠ + s ⋅⎝238⋅α  + 1\n",
       "\n",
       "     4         3         2                ⎞    4 ⎛      4         3         2 \n",
       "747⋅α  + 1030⋅α  - 1394⋅α  + 1558⋅α + 1968⎠ + s ⋅⎝1719⋅α  + 4472⋅α  - 2074⋅α  \n",
       "\n",
       "              ⎞    3 ⎛      3         2                ⎞    2 ⎛      2        \n",
       "+ 284⋅α + 4994⎠ + s ⋅⎝3999⋅α  + 1939⋅α  - 3156⋅α + 5576⎠ + s ⋅⎝3334⋅α  - 1872⋅\n",
       "\n",
       "        ⎞\n",
       "α + 2312⎠"
      ]
     },
     "execution_count": 19,
     "metadata": {},
     "output_type": "execute_result"
    }
   ],
   "source": [
    "Monstruo=288*m[1]**6 + 456*m[1]**5*m[2] + 1512*m[1]**5+ 1798*m[1]**4*m[2] + 3316*m[1]**4 + 2928*m[1]**3*m[2] + 3946*m[1]**3 + 358*m[1]**2*m[2]**4+ 2650*m[1]**2*m[2] + 2722*m[1]**2 + 168*m[1]*m[2]**5 + 907*m[1]*m[2]**4  + 1518*m[1]*m[2] + 918*m[1] + 238*m[2]**5 + 529*m[2]**4 - 497*m[2]**3 - 729*m[2]**2 + 459*m[2] - 120*m[1]**4*m[2]**2  - 3016*m[1]**2*m[2]**2 - 48*m[1]**3*m[2]**3  - 402*m[1]**2*m[2]**3- 836*m[1]*m[2]**3 - 1250*m[1]**3*m[2]**2- 2675*m[1]*m[2]**2\n",
    "var('alpha,s',positive=True)\n",
    "Monstruo.subs({m[1]:s,m[2]:alpha*s+1}).expand().collect(s)"
   ]
  },
  {
   "cell_type": "markdown",
   "metadata": {
    "collapsed": false
   },
   "source": [
    "En la expresión que resulta, todos los polinomios en $\\alpha$ que acompañan a potencias de $s$ son positivos para $\\alpha>0$. Lo razono con uno de ellos, en los otros es igual. Supongamos el de $s^4$: \n",
    "$$p(\\alpha)=1719\\alpha^4+4472\\alpha^3-2074\\alpha^2+284\\alpha+4994$$\n",
    "El caso es que cuando $\\alpha\\leq 1$ el término $-2074\\alpha^2$ es dominado por el 4994. En cambio cuando $\\alpha\\geq 1$ el término $-2074\\alpha^2$ lo domina el  $4472\\alpha^3$. En todos los polinomios que corresponden a distintas potencias de $\\alpha$ se aplica un razonamiento similar.  \n",
    "\n",
    "\n"
   ]
  },
  {
   "cell_type": "markdown",
   "metadata": {},
   "source": [
    "<h2>Estimación por debajo </h2>\n",
    "\n",
    "\n",
    "Usamos fórmula de Gastón y punto fijo para un algorítmo rápido de solución de la ecuación de euler."
   ]
  },
  {
   "cell_type": "markdown",
   "metadata": {},
   "source": [
    "<h2> La fórmula de Gastón es muy buena para resolver la ecuación de Euler por punto fijo en iteración </h2>"
   ]
  },
  {
   "cell_type": "code",
   "execution_count": 20,
   "metadata": {
    "collapsed": false
   },
   "outputs": [],
   "source": [
    "m=symbols('m0:%s' %3, positive=True) #masas\n",
    "var('r')#r \n",
    "m=[1,m[1],m[2]]#\n",
    "f=r**5 + 3*r**4 + 3*r**3 + m[1]*r**5 + 2*m[1]*r**4 + m[1]*r**3 - m[1]*r**2 - 2*m[1]*r - m[1] - 3*m[2]*r**2 - 3*m[2]*r - m[2]\n",
    "g=(m[2]*(3*r**2+3*r+1)+m[1]*(r+1)**2)/((r**2+3*r+3)+m[1]*(r+1)**2)\n",
    "\n",
    "def SolEul(m1,m2,iter):\n",
    "    sol=1.0\n",
    "    for j in range(iter):\n",
    "        sol=(g.subs({r:sol,m[1]:m1,m[2]:m2}))**Rational(1,3)\n",
    "    return sol"
   ]
  },
  {
   "cell_type": "code",
   "execution_count": 21,
   "metadata": {
    "collapsed": false
   },
   "outputs": [
    {
     "data": {
      "image/png": "[encoded data removed]",
      "text/latex": [
       "$$-3.90940186889566 \\cdot 10^{-7}$$"
      ],
      "text/plain": [
       "-3.90940186889566e-7"
      ]
     },
     "execution_count": 21,
     "metadata": {},
     "output_type": "execute_result"
    }
   ],
   "source": [
    "f.subs({r:SolEul(1,8,10), m[1]:1,m[2]:8})"
   ]
  },
  {
   "cell_type": "code",
   "execution_count": 22,
   "metadata": {
    "collapsed": false
   },
   "outputs": [
    {
     "data": {
      "image/png": "[encoded data removed]",
      "text/latex": [
       "$$\\frac{\\sqrt[3]{m_{1}} \\left(\\frac{1.5874010519682 \\sqrt[3]{m_{1}}}{\\sqrt[3]{4.0 m_{1} + 7.0}} + 1\\right)^{\\frac{2}{3}}}{\\sqrt[3]{\\frac{2.51984209978975 m_{1}^{\\frac{2}{3}}}{\\left(4.0 m_{1} + 7.0\\right)^{\\frac{2}{3}}} + \\frac{4.7622031559046 \\sqrt[3]{m_{1}}}{\\sqrt[3]{4.0 m_{1} + 7.0}} + m_{1} \\left(\\frac{1.5874010519682 \\sqrt[3]{m_{1}}}{\\sqrt[3]{4.0 m_{1} + 7.0}} + 1\\right)^{2} + 3}}$$"
      ],
      "text/plain": [
       "                                                                2/3           \n",
       "                                    ⎛                3 ____    ⎞              \n",
       "                             3 ____ ⎜1.5874010519682⋅╲╱ m₁     ⎟              \n",
       "                             ╲╱ m₁ ⋅⎜────────────────────── + 1⎟              \n",
       "                                    ⎜   3 ______________       ⎟              \n",
       "                                    ⎝   ╲╱ 4.0⋅m₁ + 7.0        ⎠              \n",
       "──────────────────────────────────────────────────────────────────────────────\n",
       "       _______________________________________________________________________\n",
       "      ╱                                                                       \n",
       "     ╱                     2/3                   3 ____      ⎛                \n",
       "    ╱   2.51984209978975⋅m₁      4.7622031559046⋅╲╱ m₁       ⎜1.5874010519682⋅\n",
       "   ╱    ────────────────────── + ────────────────────── + m₁⋅⎜────────────────\n",
       "3 ╱                     2/3         3 ______________         ⎜   3 ___________\n",
       "╲╱        (4.0⋅m₁ + 7.0)            ╲╱ 4.0⋅m₁ + 7.0          ⎝   ╲╱ 4.0⋅m₁ + 7\n",
       "\n",
       "                 \n",
       "                 \n",
       "                 \n",
       "                 \n",
       "                 \n",
       "                 \n",
       "─────────────────\n",
       "_________________\n",
       "           2     \n",
       "3 ____    ⎞      \n",
       "╲╱ m₁     ⎟      \n",
       "────── + 1⎟  + 3 \n",
       "___       ⎟      \n",
       ".0        ⎠      "
      ]
     },
     "execution_count": 22,
     "metadata": {},
     "output_type": "execute_result"
    }
   ],
   "source": [
    "SolEul(m[1],0,2)"
   ]
  },
  {
   "cell_type": "code",
   "execution_count": 23,
   "metadata": {
    "collapsed": false
   },
   "outputs": [
    {
     "data": {
      "image/png": "[encoded data removed]",
      "text/latex": [
       "$$- \\frac{2 m_{1} \\left(m_{1} r^{3} + 6 m_{1} r^{2} + 9 m_{1} r + 4 m_{1} + r^{3} + 6 r^{2} + 9 r + 3\\right)}{\\left(m_{1} r^{2} + 2 m_{1} r + m_{1} + r^{2} + 3 r + 3\\right)^{3}}$$"
      ],
      "text/plain": [
       "      ⎛    3         2                    3      2          ⎞ \n",
       "-2⋅m₁⋅⎝m₁⋅r  + 6⋅m₁⋅r  + 9⋅m₁⋅r + 4⋅m₁ + r  + 6⋅r  + 9⋅r + 3⎠ \n",
       "──────────────────────────────────────────────────────────────\n",
       "                                                3             \n",
       "            ⎛    2                  2          ⎞              \n",
       "            ⎝m₁⋅r  + 2⋅m₁⋅r + m₁ + r  + 3⋅r + 3⎠              "
      ]
     },
     "execution_count": 23,
     "metadata": {},
     "output_type": "execute_result"
    }
   ],
   "source": [
    "g.subs(m[2],0).diff(r,2).factor()"
   ]
  },
  {
   "cell_type": "code",
   "execution_count": 24,
   "metadata": {
    "collapsed": false
   },
   "outputs": [
    {
     "data": {
      "image/png": "[encoded data removed]",
      "text/latex": [
       "$$\\frac{1.5874010519682 \\sqrt[3]{m_{1}}}{\\sqrt[3]{4.0 m_{1} + 7.0}}$$"
      ],
      "text/plain": [
       "                3 ____\n",
       "1.5874010519682⋅╲╱ m₁ \n",
       "──────────────────────\n",
       "   3 ______________   \n",
       "   ╲╱ 4.0⋅m₁ + 7.0    "
      ]
     },
     "execution_count": 24,
     "metadata": {},
     "output_type": "execute_result"
    }
   ],
   "source": [
    "SolEul(m[1],0,1)"
   ]
  },
  {
   "cell_type": "code",
   "execution_count": 25,
   "metadata": {
    "collapsed": false
   },
   "outputs": [
    {
     "data": {
      "image/png": "[encoded data removed]",
      "text/latex": [
       "$$- \\frac{m_{1}^{2} \\left(m_{1} + m_{2} + 1\\right)}{- m_{2} r + 1} - \\frac{m_{1} m_{2}}{r} - m_{1} + \\frac{m_{2}^{2} \\left(m_{1} + m_{2} + 1\\right)}{m_{1} r + r + 1} - \\frac{m_{2}}{r + 1}$$"
      ],
      "text/plain": [
       "    2                                2                      \n",
       "  m₁ ⋅(m₁ + m₂ + 1)   m₁⋅m₂        m₂ ⋅(m₁ + m₂ + 1)     m₂ \n",
       "- ───────────────── - ───── - m₁ + ───────────────── - ─────\n",
       "      -m₂⋅r + 1         r             m₁⋅r + r + 1     r + 1"
      ]
     },
     "execution_count": 25,
     "metadata": {},
     "output_type": "execute_result"
    }
   ],
   "source": [
    "Exp"
   ]
  },
  {
   "cell_type": "code",
   "execution_count": 26,
   "metadata": {
    "collapsed": true
   },
   "outputs": [],
   "source": [
    "ord_or=m[1]/(4*m[1]+7)\n",
    "Rem=(1-ord_or)*m[2]+ord_or\n"
   ]
  },
  {
   "cell_type": "code",
   "execution_count": 27,
   "metadata": {
    "collapsed": false
   },
   "outputs": [
    {
     "data": {
      "image/png": "[encoded data removed]",
      "text/latex": [
       "$$\\frac{m_{1}^{2} \\left(m_{1} + m_{2} + 1\\right)}{- m_{2} r + 1} + \\frac{m_{1} + m_{2} + 1}{m_{1} + m_{2} \\left(r + 1\\right)}$$"
      ],
      "text/plain": [
       "  2                                \n",
       "m₁ ⋅(m₁ + m₂ + 1)     m₁ + m₂ + 1  \n",
       "───────────────── + ───────────────\n",
       "    -m₂⋅r + 1       m₁ + m₂⋅(r + 1)"
      ]
     },
     "execution_count": 27,
     "metadata": {},
     "output_type": "execute_result"
    }
   ],
   "source": [
    "Q=m[0]**2/(-q[0])+m[1]**2/q[1]\n",
    "Q"
   ]
  },
  {
   "cell_type": "code",
   "execution_count": 28,
   "metadata": {
    "collapsed": false
   },
   "outputs": [
    {
     "data": {
      "image/png": "[encoded data removed]",
      "text/latex": [
       "$$\\frac{m_{1}^{2} \\left(m_{1} + m_{2} + 1\\right)}{- m_{2} r + 1} - \\frac{m_{1} m_{2}}{r} - m_{1} - \\frac{m_{2}}{r + 1} + \\frac{m_{1} + m_{2} + 1}{m_{1} + m_{2} \\left(r + 1\\right)}$$"
      ],
      "text/plain": [
       "  2                                                     \n",
       "m₁ ⋅(m₁ + m₂ + 1)   m₁⋅m₂          m₂      m₁ + m₂ + 1  \n",
       "───────────────── - ───── - m₁ - ───── + ───────────────\n",
       "    -m₂⋅r + 1         r          r + 1   m₁ + m₂⋅(r + 1)"
      ]
     },
     "execution_count": 28,
     "metadata": {},
     "output_type": "execute_result"
    }
   ],
   "source": [
    "Exp3=Q-U\n",
    "Exp3"
   ]
  },
  {
   "cell_type": "code",
   "execution_count": 29,
   "metadata": {
    "collapsed": true
   },
   "outputs": [],
   "source": [
    "Expr3=m[1]**2*(m[1] + m[2] + 1)/(-m[2]*Rem + 1) - m[1]*m[2]/Rem - m[1] - m[2]/(Rem + 1) + (m[1] + m[2] + 1)/(m[1] + m[2]*(2))"
   ]
  },
  {
   "cell_type": "code",
   "execution_count": 30,
   "metadata": {
    "collapsed": false
   },
   "outputs": [
    {
     "data": {
      "image/png": "[encoded data removed]",
      "text/latex": [
       "$$- \\frac{1}{\\left(m_{1} + 2 m_{2}\\right) \\left(m_{2} - 1\\right) \\left(3 m_{1} m_{2} + m_{1} + 7 m_{2}\\right) \\left(3 m_{1} m_{2} + 4 m_{1} + 7 m_{2} + 7\\right) \\left(3 m_{1} m_{2} + 5 m_{1} + 7 m_{2} + 7\\right)} \\left(36 m_{1}^{7} m_{2}^{2} + 72 m_{1}^{7} m_{2} + 20 m_{1}^{7} + 108 m_{1}^{6} m_{2}^{3} + 483 m_{1}^{6} m_{2}^{2} + 510 m_{1}^{6} m_{2} + 83 m_{1}^{6} + 135 m_{1}^{5} m_{2}^{4} + 1044 m_{1}^{5} m_{2}^{3} + 2008 m_{1}^{5} m_{2}^{2} + 1097 m_{1}^{5} m_{2} + 92 m_{1}^{5} + 126 m_{1}^{4} m_{2}^{5} + 1161 m_{1}^{4} m_{2}^{4} + 3322 m_{1}^{4} m_{2}^{3} + 2962 m_{1}^{4} m_{2}^{2} + 501 m_{1}^{4} m_{2} + 6 m_{1}^{4} + 885 m_{1}^{3} m_{2}^{5} + 3381 m_{1}^{3} m_{2}^{4} + 3492 m_{1}^{3} m_{2}^{3} + 213 m_{1}^{3} m_{2}^{2} - 557 m_{1}^{3} m_{2} + 34 m_{1}^{3} + 2135 m_{1}^{2} m_{2}^{5} + 3619 m_{1}^{2} m_{2}^{4} - 1036 m_{1}^{2} m_{2}^{3} - 2324 m_{1}^{2} m_{2}^{2} + 238 m_{1}^{2} m_{2} + 112 m_{1}^{2} + 1911 m_{1} m_{2}^{5} + 490 m_{1} m_{2}^{4} - 3038 m_{1} m_{2}^{3} - 441 m_{1} m_{2}^{2} + 1029 m_{1} m_{2} + 49 m_{1} + 343 m_{2}^{5} - 686 m_{2}^{4} - 686 m_{2}^{3} + 686 m_{2}^{2} + 343 m_{2}\\right)$$"
      ],
      "text/plain": [
       " ⎛     7   2        7           7         6   3         6   2         6       \n",
       "-⎝36⋅m₁ ⋅m₂  + 72⋅m₁ ⋅m₂ + 20⋅m₁  + 108⋅m₁ ⋅m₂  + 483⋅m₁ ⋅m₂  + 510⋅m₁ ⋅m₂ + 8\n",
       "──────────────────────────────────────────────────────────────────────────────\n",
       "                                                                              \n",
       "\n",
       "    6         5   4          5   3          5   2          5           5      \n",
       "3⋅m₁  + 135⋅m₁ ⋅m₂  + 1044⋅m₁ ⋅m₂  + 2008⋅m₁ ⋅m₂  + 1097⋅m₁ ⋅m₂ + 92⋅m₁  + 126\n",
       "──────────────────────────────────────────────────────────────────────────────\n",
       "                                                                              \n",
       "\n",
       "   4   5          4   4          4   3          4   2         4          4    \n",
       "⋅m₁ ⋅m₂  + 1161⋅m₁ ⋅m₂  + 3322⋅m₁ ⋅m₂  + 2962⋅m₁ ⋅m₂  + 501⋅m₁ ⋅m₂ + 6⋅m₁  + 8\n",
       "──────────────────────────────────────────────────────────────────────────────\n",
       "                                                       (m₁ + 2⋅m₂)⋅(m₂ - 1)⋅(3\n",
       "\n",
       "     3   5          3   4          3   3         3   2         3           3  \n",
       "85⋅m₁ ⋅m₂  + 3381⋅m₁ ⋅m₂  + 3492⋅m₁ ⋅m₂  + 213⋅m₁ ⋅m₂  - 557⋅m₁ ⋅m₂ + 34⋅m₁  +\n",
       "──────────────────────────────────────────────────────────────────────────────\n",
       "⋅m₁⋅m₂ + m₁ + 7⋅m₂)⋅(3⋅m₁⋅m₂ + 4⋅m₁ + 7⋅m₂ + 7)⋅(3⋅m₁⋅m₂ + 5⋅m₁ + 7⋅m₂ + 7)   \n",
       "\n",
       "        2   5          2   4          2   3          2   2         2          \n",
       " 2135⋅m₁ ⋅m₂  + 3619⋅m₁ ⋅m₂  - 1036⋅m₁ ⋅m₂  - 2324⋅m₁ ⋅m₂  + 238⋅m₁ ⋅m₂ + 112⋅\n",
       "──────────────────────────────────────────────────────────────────────────────\n",
       "                                                                              \n",
       "\n",
       "  2             5            4             3            2                     \n",
       "m₁  + 1911⋅m₁⋅m₂  + 490⋅m₁⋅m₂  - 3038⋅m₁⋅m₂  - 441⋅m₁⋅m₂  + 1029⋅m₁⋅m₂ + 49⋅m₁\n",
       "──────────────────────────────────────────────────────────────────────────────\n",
       "                                                                              \n",
       "\n",
       "         5         4         3         2         ⎞ \n",
       " + 343⋅m₂  - 686⋅m₂  - 686⋅m₂  + 686⋅m₂  + 343⋅m₂⎠ \n",
       "───────────────────────────────────────────────────\n",
       "                                                   "
      ]
     },
     "execution_count": 30,
     "metadata": {},
     "output_type": "execute_result"
    }
   ],
   "source": [
    "Expr3.factor()"
   ]
  },
  {
   "cell_type": "code",
   "execution_count": 31,
   "metadata": {
    "collapsed": false
   },
   "outputs": [
    {
     "name": "stdout",
     "output_type": "stream",
     "text": [
      "-(36*m1**7*m2**2 + 72*m1**7*m2 + 20*m1**7 + 108*m1**6*m2**3 + 483*m1**6*m2**2 + 510*m1**6*m2 + 83*m1**6 + 135*m1**5*m2**4 + 1044*m1**5*m2**3 + 2008*m1**5*m2**2 + 1097*m1**5*m2 + 92*m1**5 + 126*m1**4*m2**5 + 1161*m1**4*m2**4 + 3322*m1**4*m2**3 + 2962*m1**4*m2**2 + 501*m1**4*m2 + 6*m1**4 + 885*m1**3*m2**5 + 3381*m1**3*m2**4 + 3492*m1**3*m2**3 + 213*m1**3*m2**2 - 557*m1**3*m2 + 34*m1**3 + 2135*m1**2*m2**5 + 3619*m1**2*m2**4 - 1036*m1**2*m2**3 - 2324*m1**2*m2**2 + 238*m1**2*m2 + 112*m1**2 + 1911*m1*m2**5 + 490*m1*m2**4 - 3038*m1*m2**3 - 441*m1*m2**2 + 1029*m1*m2 + 49*m1 + 343*m2**5 - 686*m2**4 - 686*m2**3 + 686*m2**2 + 343*m2)/((m1 + 2*m2)*(m2 - 1)*(3*m1*m2 + m1 + 7*m2)*(3*m1*m2 + 4*m1 + 7*m2 + 7)*(3*m1*m2 + 5*m1 + 7*m2 + 7))\n"
     ]
    }
   ],
   "source": [
    "print Expr3.factor()"
   ]
  },
  {
   "cell_type": "code",
   "execution_count": 34,
   "metadata": {
    "collapsed": false
   },
   "outputs": [],
   "source": [
    "M1=np.arange(0,10,.1)\n",
    "M2=np.arange(0,1,.01)\n",
    "m1,m2=np.meshgrid(M1,M2)\n",
    "#Z=12*X*Y-12*X+7*Y**2-17\n",
    "Z=(36*m1**7*m2**2 + 72*m1**7*m2 + 20*m1**7 + 108*m1**6*m2**3 + 483*m1**6*m2**2 + 510*m1**6*m2 + 83*m1**6 + 135*m1**5*m2**4 + 1044*m1**5*m2**3 + 2008*m1**5*m2**2 + 1097*m1**5*m2 + 92*m1**5 + 126*m1**4*m2**5 + 1161*m1**4*m2**4 + 3322*m1**4*m2**3 + 2962*m1**4*m2**2 + 501*m1**4*m2 + 6*m1**4 + 885*m1**3*m2**5 + 3381*m1**3*m2**4 + 3492*m1**3*m2**3 + 213*m1**3*m2**2 - 557*m1**3*m2 + 34*m1**3 + 2135*m1**2*m2**5 + 3619*m1**2*m2**4 - 1036*m1**2*m2**3 - 2324*m1**2*m2**2 + 238*m1**2*m2 + 112*m1**2 + 1911*m1*m2**5 + 490*m1*m2**4 - 3038*m1*m2**3 - 441*m1*m2**2 + 1029*m1*m2 + 49*m1 + 343*m2**5 - 686*m2**4 - 686*m2**3 + 686*m2**2 + 343*m2)"
   ]
  },
  {
   "cell_type": "code",
   "execution_count": 179,
   "metadata": {
    "collapsed": false
   },
   "outputs": [],
   "source": [
    "fig=plt.figure()\n",
    "ax=Axes3D(fig)\n",
    "Z=np.minimum(Z,100*np.ones(np.shape(Z)))\n",
    "Z=np.maximum(Z,-10*np.ones(np.shape(Z)))\n",
    "ax.plot_surface(m1,m2,Z,rstride=1, cstride=1, cmap=cm.coolwarm,linewidth=0, antialiased=False)\n",
    "#V=[k for k in [-20,0,20]]#np.arange(-20,20,1)]\n",
    "#cp = plt.contour(X, Y, Z,V)\n",
    "#plt.clabel(cp, inline=True,fontsize=10)\n",
    "plt.xlabel('m1')\n",
    "plt.ylabel('m2')\n",
    "plt.show()\n"
   ]
  },
  {
   "cell_type": "code",
   "execution_count": 43,
   "metadata": {
    "collapsed": false
   },
   "outputs": [],
   "source": [
    "fig=plt.figure()\n",
    "V=[.1*k for k in range(-10,10)]#[k**2-10 for k in range(200)]#np.arange(-20,20,1)]\n",
    "cp = plt.contour(m1, m2, Z,V)\n",
    "plt.clabel(cp, inline=True,fontsize=10)\n",
    "plt.xlabel('m1')\n",
    "plt.ylabel('m2')\n",
    "plt.show()"
   ]
  },
  {
   "cell_type": "code",
   "execution_count": 88,
   "metadata": {
    "collapsed": false
   },
   "outputs": [
    {
     "data": {
      "image/png": "[encoded data removed]",
      "text/latex": [
       "$$20 m_{1}^{7} + 83 m_{1}^{6} + 92 m_{1}^{5} + 6 m_{1}^{4} + 34 m_{1}^{3} + 112 m_{1}^{2} + 49 m_{1} + m_{2}^{5} \\left(126 m_{1}^{4} + 885 m_{1}^{3} + 2135 m_{1}^{2} + 1911 m_{1} + 343\\right) + m_{2}^{4} \\left(135 m_{1}^{5} + 1161 m_{1}^{4} + 3381 m_{1}^{3} + 3619 m_{1}^{2} + 490 m_{1} - 686\\right) + m_{2}^{3} \\left(108 m_{1}^{6} + 1044 m_{1}^{5} + 3322 m_{1}^{4} + 3492 m_{1}^{3} - 1036 m_{1}^{2} - 3038 m_{1} - 686\\right) + m_{2}^{2} \\left(36 m_{1}^{7} + 483 m_{1}^{6} + 2008 m_{1}^{5} + 2962 m_{1}^{4} + 213 m_{1}^{3} - 2324 m_{1}^{2} - 441 m_{1} + 686\\right) + m_{2} \\left(72 m_{1}^{7} + 510 m_{1}^{6} + 1097 m_{1}^{5} + 501 m_{1}^{4} - 557 m_{1}^{3} + 238 m_{1}^{2} + 1029 m_{1} + 343\\right)$$"
      ],
      "text/plain": [
       "     7        6        5       4        3         2             5 ⎛      4    \n",
       "20⋅m₁  + 83⋅m₁  + 92⋅m₁  + 6⋅m₁  + 34⋅m₁  + 112⋅m₁  + 49⋅m₁ + m₂ ⋅⎝126⋅m₁  + 8\n",
       "\n",
       "     3          2                ⎞     4 ⎛      5          4          3       \n",
       "85⋅m₁  + 2135⋅m₁  + 1911⋅m₁ + 343⎠ + m₂ ⋅⎝135⋅m₁  + 1161⋅m₁  + 3381⋅m₁  + 3619\n",
       "\n",
       "   2               ⎞     3 ⎛      6          5          4          3          \n",
       "⋅m₁  + 490⋅m₁ - 686⎠ + m₂ ⋅⎝108⋅m₁  + 1044⋅m₁  + 3322⋅m₁  + 3492⋅m₁  - 1036⋅m₁\n",
       "\n",
       "2                ⎞     2 ⎛     7         6          5          4         3    \n",
       "  - 3038⋅m₁ - 686⎠ + m₂ ⋅⎝36⋅m₁  + 483⋅m₁  + 2008⋅m₁  + 2962⋅m₁  + 213⋅m₁  - 2\n",
       "\n",
       "      2               ⎞      ⎛     7         6          5         4         3 \n",
       "324⋅m₁  - 441⋅m₁ + 686⎠ + m₂⋅⎝72⋅m₁  + 510⋅m₁  + 1097⋅m₁  + 501⋅m₁  - 557⋅m₁  \n",
       "\n",
       "        2                ⎞\n",
       "+ 238⋅m₁  + 1029⋅m₁ + 343⎠"
      ]
     },
     "execution_count": 88,
     "metadata": {},
     "output_type": "execute_result"
    }
   ],
   "source": [
    "Pol=(36*m[1]**7*m[2]**2 + 72*m[1]**7*m[2] + 20*m[1]**7 + 108*m[1]**6*m[2]**3 + 483*m[1]**6*m[2]**2 + 510*m[1]**6*m[2] + 83*m[1]**6 + 135*m[1]**5*m[2]**4 + 1044*m[1]**5*m[2]**3 + 2008*m[1]**5*m[2]**2 + 1097*m[1]**5*m[2] + 92*m[1]**5 + 126*m[1]**4*m[2]**5 + 1161*m[1]**4*m[2]**4 + 3322*m[1]**4*m[2]**3 + 2962*m[1]**4*m[2]**2 + 501*m[1]**4*m[2] + 6*m[1]**4 + 885*m[1]**3*m[2]**5 + 3381*m[1]**3*m[2]**4 + 3492*m[1]**3*m[2]**3 + 213*m[1]**3*m[2]**2 - 557*m[1]**3*m[2] + 34*m[1]**3 + 2135*m[1]**2*m[2]**5 + 3619*m[1]**2*m[2]**4 - 1036*m[1]**2*m[2]**3 - 2324*m[1]**2*m[2]**2 + 238*m[1]**2*m[2] + 112*m[1]**2 + 1911*m[1]*m[2]**5 + 490*m[1]*m[2]**4 - 3038*m[1]*m[2]**3 - 441*m[1]*m[2]**2 + 1029*m[1]*m[2] + 49*m[1] + 343*m[2]**5 - 686*m[2]**4 - 686*m[2]**3 + 686*m[2]**2 + 343*m[2])\n",
    "Pol.collect(m[2])"
   ]
  },
  {
   "cell_type": "code",
   "execution_count": 194,
   "metadata": {
    "collapsed": true
   },
   "outputs": [],
   "source": [
    "M1=np.arange(0,10,.1)\n",
    "M2=np.arange(0,1,.01)\n",
    "m1,m2=np.meshgrid(M1,M2)\n",
    "#Z=12*X*Y-12*X+7*Y**2-17\n",
    "Z=-1036*m1**2*m2**3+m2**3*m1**3*3492+m2**1*m1*(1029-350)"
   ]
  },
  {
   "cell_type": "code",
   "execution_count": 195,
   "metadata": {
    "collapsed": true
   },
   "outputs": [],
   "source": [
    "fig=plt.figure()\n",
    "ax=Axes3D(fig)\n",
    "Z=np.minimum(Z,100*np.ones(np.shape(Z)))\n",
    "Z=np.maximum(Z,-1000*np.ones(np.shape(Z)))\n",
    "ax.plot_surface(m1,m2,Z,rstride=1, cstride=1, cmap=cm.coolwarm,linewidth=0, antialiased=False)\n",
    "#V=[k for k in [-20,0,20]]#np.arange(-20,20,1)]\n",
    "#cp = plt.contour(X, Y, Z,V)\n",
    "#plt.clabel(cp, inline=True,fontsize=10)\n",
    "plt.xlabel('m1')\n",
    "plt.ylabel('m2')\n",
    "plt.show()\n"
   ]
  },
  {
   "cell_type": "code",
   "execution_count": 196,
   "metadata": {
    "collapsed": false
   },
   "outputs": [
    {
     "data": {
      "image/png": "[encoded data removed]",
      "text/latex": [
       "$$710$$"
      ],
      "text/plain": [
       "710"
      ]
     },
     "execution_count": 196,
     "metadata": {},
     "output_type": "execute_result"
    }
   ],
   "source": [
    "(1029-319)"
   ]
  },
  {
   "cell_type": "code",
   "execution_count": 198,
   "metadata": {
    "collapsed": false
   },
   "outputs": [
    {
     "data": {
      "image/png": "[encoded data removed]",
      "text/latex": [
       "$$1574.58565978482$$"
      ],
      "text/plain": [
       "1574.58565978482"
      ]
     },
     "execution_count": 198,
     "metadata": {},
     "output_type": "execute_result"
    }
   ],
   "source": [
    "sqrt(710.0*3492)"
   ]
  },
  {
   "cell_type": "code",
   "execution_count": 200,
   "metadata": {
    "collapsed": false
   },
   "outputs": [
    {
     "data": {
      "image/png": "[encoded data removed]",
      "text/latex": [
       "$$s^{9} \\left(36 m_{1}^{7} m_{2}^{2} + 108 m_{1}^{6} m_{2}^{3} + 135 m_{1}^{5} m_{2}^{4} + 126 m_{1}^{4} m_{2}^{5}\\right) + s^{8} \\left(72 m_{1}^{7} m_{2} + 483 m_{1}^{6} m_{2}^{2} + 1044 m_{1}^{5} m_{2}^{3} + 1161 m_{1}^{4} m_{2}^{4} + 885 m_{1}^{3} m_{2}^{5}\\right) + s^{7} \\left(20 m_{1}^{7} + 510 m_{1}^{6} m_{2} + 2008 m_{1}^{5} m_{2}^{2} + 3322 m_{1}^{4} m_{2}^{3} + 3381 m_{1}^{3} m_{2}^{4} + 2135 m_{1}^{2} m_{2}^{5}\\right) + s^{6} \\left(83 m_{1}^{6} + 1097 m_{1}^{5} m_{2} + 2962 m_{1}^{4} m_{2}^{2} + 3492 m_{1}^{3} m_{2}^{3} + 3619 m_{1}^{2} m_{2}^{4} + 1911 m_{1} m_{2}^{5}\\right) + s^{5} \\left(92 m_{1}^{5} + 501 m_{1}^{4} m_{2} + 213 m_{1}^{3} m_{2}^{2} - 1036 m_{1}^{2} m_{2}^{3} + 490 m_{1} m_{2}^{4} + 343 m_{2}^{5}\\right) + s^{4} \\left(6 m_{1}^{4} - 557 m_{1}^{3} m_{2} - 2324 m_{1}^{2} m_{2}^{2} - 3038 m_{1} m_{2}^{3} - 686 m_{2}^{4}\\right) + s^{3} \\left(34 m_{1}^{3} + 238 m_{1}^{2} m_{2} - 441 m_{1} m_{2}^{2} - 686 m_{2}^{3}\\right) + s^{2} \\left(112 m_{1}^{2} + 1029 m_{1} m_{2} + 686 m_{2}^{2}\\right) + s \\left(49 m_{1} + 343 m_{2}\\right)$$"
      ],
      "text/plain": [
       " 9 ⎛     7   2         6   3         5   4         4   5⎞    8 ⎛     7        \n",
       "s ⋅⎝36⋅m₁ ⋅m₂  + 108⋅m₁ ⋅m₂  + 135⋅m₁ ⋅m₂  + 126⋅m₁ ⋅m₂ ⎠ + s ⋅⎝72⋅m₁ ⋅m₂ + 48\n",
       "\n",
       "    6   2          5   3          4   4         3   5⎞    7 ⎛     7         6 \n",
       "3⋅m₁ ⋅m₂  + 1044⋅m₁ ⋅m₂  + 1161⋅m₁ ⋅m₂  + 885⋅m₁ ⋅m₂ ⎠ + s ⋅⎝20⋅m₁  + 510⋅m₁ ⋅\n",
       "\n",
       "            5   2          4   3          3   4          2   5⎞    6 ⎛     6  \n",
       "m₂ + 2008⋅m₁ ⋅m₂  + 3322⋅m₁ ⋅m₂  + 3381⋅m₁ ⋅m₂  + 2135⋅m₁ ⋅m₂ ⎠ + s ⋅⎝83⋅m₁  +\n",
       "\n",
       "        5             4   2          3   3          2   4             5⎞    5 \n",
       " 1097⋅m₁ ⋅m₂ + 2962⋅m₁ ⋅m₂  + 3492⋅m₁ ⋅m₂  + 3619⋅m₁ ⋅m₂  + 1911⋅m₁⋅m₂ ⎠ + s ⋅\n",
       "\n",
       "⎛     5         4            3   2          2   3            4         5⎞    4\n",
       "⎝92⋅m₁  + 501⋅m₁ ⋅m₂ + 213⋅m₁ ⋅m₂  - 1036⋅m₁ ⋅m₂  + 490⋅m₁⋅m₂  + 343⋅m₂ ⎠ + s \n",
       "\n",
       " ⎛    4         3             2   2             3         4⎞    3 ⎛     3     \n",
       "⋅⎝6⋅m₁  - 557⋅m₁ ⋅m₂ - 2324⋅m₁ ⋅m₂  - 3038⋅m₁⋅m₂  - 686⋅m₂ ⎠ + s ⋅⎝34⋅m₁  + 23\n",
       "\n",
       "    2               2         3⎞    2 ⎛      2                      2⎞        \n",
       "8⋅m₁ ⋅m₂ - 441⋅m₁⋅m₂  - 686⋅m₂ ⎠ + s ⋅⎝112⋅m₁  + 1029⋅m₁⋅m₂ + 686⋅m₂ ⎠ + s⋅(49\n",
       "\n",
       "             \n",
       "⋅m₁ + 343⋅m₂)"
      ]
     },
     "execution_count": 200,
     "metadata": {},
     "output_type": "execute_result"
    }
   ],
   "source": [
    "Pol.subs({m[1]:s*m[1],m[2]:s*m[2]}).expand().collect(s)"
   ]
  },
  {
   "cell_type": "code",
   "execution_count": 204,
   "metadata": {
    "collapsed": false
   },
   "outputs": [
    {
     "data": {
      "image/png": "[encoded data removed]",
      "text/latex": [
       "$$140 m_{1}^{6} + 498 m_{1}^{5} + 460 m_{1}^{4} + 24 m_{1}^{3} + 102 m_{1}^{2} + 224 m_{1} + 49$$"
      ],
      "text/plain": [
       "      6         5         4        3         2              \n",
       "140⋅m₁  + 498⋅m₁  + 460⋅m₁  + 24⋅m₁  + 102⋅m₁  + 224⋅m₁ + 49"
      ]
     },
     "execution_count": 204,
     "metadata": {},
     "output_type": "execute_result"
    }
   ],
   "source": [
    "Pol.diff(m[1]).subs({m[2]:0})"
   ]
  },
  {
   "cell_type": "code",
   "execution_count": 205,
   "metadata": {
    "collapsed": false
   },
   "outputs": [
    {
     "data": {
      "image/png": "[encoded data removed]",
      "text/latex": [
       "$$72 m_{1}^{7} + 648 m_{1}^{6} m_{2} + 966 m_{1}^{6} + 3132 m_{1}^{5} m_{2}^{2} + 9288 m_{1}^{5} m_{2} + 4856 m_{1}^{5} + 5760 m_{1}^{4} m_{2}^{3} + 28422 m_{1}^{4} m_{2}^{2} + 35232 m_{1}^{4} m_{2} + 8414 m_{1}^{4} + 2700 m_{1}^{3} m_{2}^{4} + 38580 m_{1}^{3} m_{2}^{3} + 80732 m_{1}^{3} m_{2}^{2} + 42892 m_{1}^{3} m_{2} + 2266 m_{1}^{3} + 1512 m_{1}^{2} m_{2}^{5} + 13932 m_{1}^{2} m_{2}^{4} + 82564 m_{1}^{2} m_{2}^{3} + 78972 m_{1}^{2} m_{2}^{2} - 204 m_{1}^{2} m_{2} - 4576 m_{1}^{2} + 5310 m_{1} m_{2}^{5} + 20286 m_{1} m_{2}^{4} + 59172 m_{1} m_{2}^{3} + 7158 m_{1} m_{2}^{2} - 21570 m_{1} m_{2} - 678 m_{1} + 4270 m_{2}^{5} + 7238 m_{2}^{4} + 4788 m_{2}^{3} - 12880 m_{2}^{2} - 3640 m_{2} + 1596$$"
      ],
      "text/plain": [
       "     7         6            6          5   2          5             5         \n",
       "72⋅m₁  + 648⋅m₁ ⋅m₂ + 966⋅m₁  + 3132⋅m₁ ⋅m₂  + 9288⋅m₁ ⋅m₂ + 4856⋅m₁  + 5760⋅m\n",
       "\n",
       " 4   3           4   2           4             4          3   4           3   \n",
       "₁ ⋅m₂  + 28422⋅m₁ ⋅m₂  + 35232⋅m₁ ⋅m₂ + 8414⋅m₁  + 2700⋅m₁ ⋅m₂  + 38580⋅m₁ ⋅m₂\n",
       "\n",
       "3           3   2           3             3          2   5           2   4    \n",
       "  + 80732⋅m₁ ⋅m₂  + 42892⋅m₁ ⋅m₂ + 2266⋅m₁  + 1512⋅m₁ ⋅m₂  + 13932⋅m₁ ⋅m₂  + 8\n",
       "\n",
       "       2   3           2   2         2             2             5            \n",
       "2564⋅m₁ ⋅m₂  + 78972⋅m₁ ⋅m₂  - 204⋅m₁ ⋅m₂ - 4576⋅m₁  + 5310⋅m₁⋅m₂  + 20286⋅m₁⋅\n",
       "\n",
       "  4              3             2                                 5          4 \n",
       "m₂  + 59172⋅m₁⋅m₂  + 7158⋅m₁⋅m₂  - 21570⋅m₁⋅m₂ - 678⋅m₁ + 4270⋅m₂  + 7238⋅m₂  \n",
       "\n",
       "         3           2                 \n",
       "+ 4788⋅m₂  - 12880⋅m₂  - 3640⋅m₂ + 1596"
      ]
     },
     "execution_count": 205,
     "metadata": {},
     "output_type": "execute_result"
    }
   ],
   "source": []
  },
  {
   "cell_type": "code",
   "execution_count": 206,
   "metadata": {
    "collapsed": false
   },
   "outputs": [
    {
     "data": {
      "image/png": "[encoded data removed]",
      "text/latex": [
       "$$7252.00785256$$"
      ],
      "text/plain": [
       "7252.00785256"
      ]
     },
     "execution_count": 206,
     "metadata": {},
     "output_type": "execute_result"
    }
   ],
   "source": [
    "(3038/4.0)**4/1911/490/49"
   ]
  },
  {
   "cell_type": "code",
   "execution_count": 218,
   "metadata": {
    "collapsed": false
   },
   "outputs": [
    {
     "data": {
      "image/png": "[encoded data removed]",
      "text/latex": [
       "$$s^{9} \\left(126 \\alpha^{5} + 135 \\alpha^{4} + 108 \\alpha^{3} + 36 \\alpha^{2}\\right) + s^{8} \\left(885 \\alpha^{5} + 1161 \\alpha^{4} + 1044 \\alpha^{3} + 483 \\alpha^{2} + 72 \\alpha\\right) + s^{7} \\left(2135 \\alpha^{5} + 3381 \\alpha^{4} + 3322 \\alpha^{3} + 2008 \\alpha^{2} + 510 \\alpha + 20\\right) + s^{6} \\left(1911 \\alpha^{5} + 3619 \\alpha^{4} + 3492 \\alpha^{3} + 2962 \\alpha^{2} + 1097 \\alpha + 83\\right) + s^{5} \\left(343 \\alpha^{5} + 490 \\alpha^{4} - 1036 \\alpha^{3} + 213 \\alpha^{2} + 501 \\alpha + 92\\right) + s^{4} \\left(- 686 \\alpha^{4} - 3038 \\alpha^{3} - 2324 \\alpha^{2} - 557 \\alpha + 6\\right) + s^{3} \\left(- 686 \\alpha^{3} - 441 \\alpha^{2} + 238 \\alpha + 34\\right) + s^{2} \\left(686 \\alpha^{2} + 1029 \\alpha + 112\\right) + s \\left(343 \\alpha + 49\\right)$$"
      ],
      "text/plain": [
       " 9 ⎛     5        4        3       2⎞    8 ⎛     5         4         3        \n",
       "s ⋅⎝126⋅α  + 135⋅α  + 108⋅α  + 36⋅α ⎠ + s ⋅⎝885⋅α  + 1161⋅α  + 1044⋅α  + 483⋅α\n",
       "\n",
       "2       ⎞    7 ⎛      5         4         3         2             ⎞    6 ⎛    \n",
       "  + 72⋅α⎠ + s ⋅⎝2135⋅α  + 3381⋅α  + 3322⋅α  + 2008⋅α  + 510⋅α + 20⎠ + s ⋅⎝1911\n",
       "\n",
       "  5         4         3         2              ⎞    5 ⎛     5        4        \n",
       "⋅α  + 3619⋅α  + 3492⋅α  + 2962⋅α  + 1097⋅α + 83⎠ + s ⋅⎝343⋅α  + 490⋅α  - 1036⋅\n",
       "\n",
       " 3        2             ⎞    4 ⎛       4         3         2            ⎞    3\n",
       "α  + 213⋅α  + 501⋅α + 92⎠ + s ⋅⎝- 686⋅α  - 3038⋅α  - 2324⋅α  - 557⋅α + 6⎠ + s \n",
       "\n",
       " ⎛       3        2             ⎞    2 ⎛     2               ⎞                \n",
       "⋅⎝- 686⋅α  - 441⋅α  + 238⋅α + 34⎠ + s ⋅⎝686⋅α  + 1029⋅α + 112⎠ + s⋅(343⋅α + 49\n",
       "\n",
       " \n",
       ")"
      ]
     },
     "execution_count": 218,
     "metadata": {},
     "output_type": "execute_result"
    }
   ],
   "source": [
    "Pol.subs({m[1]:s,m[2]:alpha*s}).expand().collect(s)"
   ]
  },
  {
   "cell_type": "code",
   "execution_count": 212,
   "metadata": {
    "collapsed": true
   },
   "outputs": [],
   "source": [
    "Expr=(-36*alpha**7*s**8 + 144*alpha**7*s**7 - 128*alpha**7*s**6 - 240*alpha**7*s**5 + 600*alpha**7*s**4 - 464*alpha**7*s**3 + 96*alpha**7*s**2 + 48*alpha**7*s - 20*alpha**7 + 108*alpha**6*s**9 - 57*alpha**6*s**8 - 825*alpha**6*s**7 + 1283*alpha**6*s**6 + 395*alpha**6*s**5 - 1963*alpha**6*s**4 + 1237*alpha**6*s**3 - 95*alpha**6*s**2 - 83*alpha**6*s - 135*alpha**5*s**10 - 504*alpha**5*s**9 + 1358*alpha**5*s**8 + 1211*alpha**5*s**7 - 3711*alpha**5*s**6 + 774*alpha**5*s**5 + 1828*alpha**5*s**4 - 729*alpha**5*s**3 - 92*alpha**5*s**2 + 126*alpha**4*s**11 + 783*alpha**4*s**10 + 217*alpha**4*s**9 - 3647*alpha**4*s**8 + 420*alpha**4*s**7 + 4067*alpha**4*s**6 - 1477*alpha**4*s**5 - 483*alpha**4*s**4 - 6*alpha**4*s**3 - 885*alpha**3*s**11 - 1611*alpha**3*s**10 + 2385*alpha**3*s**9 + 3390*alpha**3*s**8 - 2509*alpha**3*s**7 - 1361*alpha**3*s**6 + 625*alpha**3*s**5 - 34*alpha**3*s**4 + 2135*alpha**2*s**11 + 1484*alpha**2*s**10 - 4655*alpha**2*s**9 - 1288*alpha**2*s**8 + 2562*alpha**2*s**7 - 126*alpha**2*s**6 - 112*alpha**2*s**5 - 1911*alpha*s**11 - 490*alpha*s**10 + 3038*alpha*s**9 + 441*alpha*s**8 - 1029*alpha*s**7 - 49*alpha*s**6 + 343*s**11 - 343*s**10 - 1029*s**9 - 343*s**8)"
   ]
  },
  {
   "cell_type": "code",
   "execution_count": 215,
   "metadata": {
    "collapsed": false
   },
   "outputs": [
    {
     "data": {
      "image/png": "[encoded data removed]",
      "text/latex": [
       "$$\\alpha^{7} \\left(- 36 s^{8} + 144 s^{7} - 128 s^{6} - 240 s^{5} + 600 s^{4} - 464 s^{3} + 96 s^{2} + 48 s - 20\\right) + \\alpha^{6} \\left(108 s^{9} - 57 s^{8} - 825 s^{7} + 1283 s^{6} + 395 s^{5} - 1963 s^{4} + 1237 s^{3} - 95 s^{2} - 83 s\\right) + \\alpha^{5} \\left(- 135 s^{10} - 504 s^{9} + 1358 s^{8} + 1211 s^{7} - 3711 s^{6} + 774 s^{5} + 1828 s^{4} - 729 s^{3} - 92 s^{2}\\right) + \\alpha^{4} \\left(126 s^{11} + 783 s^{10} + 217 s^{9} - 3647 s^{8} + 420 s^{7} + 4067 s^{6} - 1477 s^{5} - 483 s^{4} - 6 s^{3}\\right) + \\alpha^{3} \\left(- 885 s^{11} - 1611 s^{10} + 2385 s^{9} + 3390 s^{8} - 2509 s^{7} - 1361 s^{6} + 625 s^{5} - 34 s^{4}\\right) + \\alpha^{2} \\left(2135 s^{11} + 1484 s^{10} - 4655 s^{9} - 1288 s^{8} + 2562 s^{7} - 126 s^{6} - 112 s^{5}\\right) + \\alpha \\left(- 1911 s^{11} - 490 s^{10} + 3038 s^{9} + 441 s^{8} - 1029 s^{7} - 49 s^{6}\\right) + 343 s^{11} - 343 s^{10} - 1029 s^{9} - 343 s^{8}$$"
      ],
      "text/plain": [
       " 7 ⎛      8        7        6        5        4        3       2            ⎞ \n",
       "α ⋅⎝- 36⋅s  + 144⋅s  - 128⋅s  - 240⋅s  + 600⋅s  - 464⋅s  + 96⋅s  + 48⋅s - 20⎠ \n",
       "\n",
       "   6 ⎛     9       8        7         6        5         4         3       2  \n",
       "+ α ⋅⎝108⋅s  - 57⋅s  - 825⋅s  + 1283⋅s  + 395⋅s  - 1963⋅s  + 1237⋅s  - 95⋅s  -\n",
       "\n",
       "     ⎞    5 ⎛       10        9         8         7         6        5        \n",
       " 83⋅s⎠ + α ⋅⎝- 135⋅s   - 504⋅s  + 1358⋅s  + 1211⋅s  - 3711⋅s  + 774⋅s  + 1828⋅\n",
       "\n",
       " 4        3       2⎞    4 ⎛     11        10        9         8        7      \n",
       "s  - 729⋅s  - 92⋅s ⎠ + α ⋅⎝126⋅s   + 783⋅s   + 217⋅s  - 3647⋅s  + 420⋅s  + 406\n",
       "\n",
       "   6         5        4      3⎞    3 ⎛       11         10         9         8\n",
       "7⋅s  - 1477⋅s  - 483⋅s  - 6⋅s ⎠ + α ⋅⎝- 885⋅s   - 1611⋅s   + 2385⋅s  + 3390⋅s \n",
       "\n",
       "         7         6        5       4⎞    2 ⎛      11         10         9    \n",
       " - 2509⋅s  - 1361⋅s  + 625⋅s  - 34⋅s ⎠ + α ⋅⎝2135⋅s   + 1484⋅s   - 4655⋅s  - 1\n",
       "\n",
       "     8         7        6        5⎞     ⎛        11        10         9       \n",
       "288⋅s  + 2562⋅s  - 126⋅s  - 112⋅s ⎠ + α⋅⎝- 1911⋅s   - 490⋅s   + 3038⋅s  + 441⋅\n",
       "\n",
       " 8         7       6⎞        11        10         9        8\n",
       "s  - 1029⋅s  - 49⋅s ⎠ + 343⋅s   - 343⋅s   - 1029⋅s  - 343⋅s "
      ]
     },
     "execution_count": 215,
     "metadata": {},
     "output_type": "execute_result"
    }
   ],
   "source": [
    "Expr.collect(alpha)"
   ]
  },
  {
   "cell_type": "code",
   "execution_count": 219,
   "metadata": {
    "collapsed": false
   },
   "outputs": [
    {
     "data": {
      "image/png": "[encoded data removed]",
      "text/latex": [
       "$$140 m_{1}^{6} + 498 m_{1}^{5} + 460 m_{1}^{4} + 24 m_{1}^{3} + 102 m_{1}^{2} + 224 m_{1} + m_{2}^{5} \\left(504 m_{1}^{3} + 2655 m_{1}^{2} + 4270 m_{1} + 1911\\right) + m_{2}^{4} \\left(675 m_{1}^{4} + 4644 m_{1}^{3} + 10143 m_{1}^{2} + 7238 m_{1} + 490\\right) + m_{2}^{3} \\left(648 m_{1}^{5} + 5220 m_{1}^{4} + 13288 m_{1}^{3} + 10476 m_{1}^{2} - 2072 m_{1} - 3038\\right) + m_{2}^{2} \\left(252 m_{1}^{6} + 2898 m_{1}^{5} + 10040 m_{1}^{4} + 11848 m_{1}^{3} + 639 m_{1}^{2} - 4648 m_{1} - 441\\right) + m_{2} \\left(504 m_{1}^{6} + 3060 m_{1}^{5} + 5485 m_{1}^{4} + 2004 m_{1}^{3} - 1671 m_{1}^{2} + 476 m_{1} + 1029\\right) + 49$$"
      ],
      "text/plain": [
       "      6         5         4        3         2              5 ⎛      3        \n",
       "140⋅m₁  + 498⋅m₁  + 460⋅m₁  + 24⋅m₁  + 102⋅m₁  + 224⋅m₁ + m₂ ⋅⎝504⋅m₁  + 2655⋅\n",
       "\n",
       "  2                 ⎞     4 ⎛      4          3           2                ⎞  \n",
       "m₁  + 4270⋅m₁ + 1911⎠ + m₂ ⋅⎝675⋅m₁  + 4644⋅m₁  + 10143⋅m₁  + 7238⋅m₁ + 490⎠ +\n",
       "\n",
       "   3 ⎛      5          4           3           2                 ⎞     2 ⎛    \n",
       " m₂ ⋅⎝648⋅m₁  + 5220⋅m₁  + 13288⋅m₁  + 10476⋅m₁  - 2072⋅m₁ - 3038⎠ + m₂ ⋅⎝252⋅\n",
       "\n",
       "  6          5           4           3         2                ⎞      ⎛      \n",
       "m₁  + 2898⋅m₁  + 10040⋅m₁  + 11848⋅m₁  + 639⋅m₁  - 4648⋅m₁ - 441⎠ + m₂⋅⎝504⋅m₁\n",
       "\n",
       "6          5          4          3          2                ⎞     \n",
       "  + 3060⋅m₁  + 5485⋅m₁  + 2004⋅m₁  - 1671⋅m₁  + 476⋅m₁ + 1029⎠ + 49"
      ]
     },
     "execution_count": 219,
     "metadata": {},
     "output_type": "execute_result"
    }
   ],
   "source": [
    "Pol.diff(m[1])"
   ]
  },
  {
   "cell_type": "code",
   "execution_count": 222,
   "metadata": {
    "collapsed": false
   },
   "outputs": [
    {
     "data": {
      "text/plain": [
       "<sympy.plotting.plot.Plot at 0x7fbb6af98410>"
      ]
     },
     "execution_count": 222,
     "metadata": {},
     "output_type": "execute_result"
    }
   ],
   "source": [
    "plot_implicit(Eq(Pol,1),(m[1],0,10),(m[2],0,10))"
   ]
  },
  {
   "cell_type": "code",
   "execution_count": 239,
   "metadata": {
    "collapsed": false
   },
   "outputs": [
    {
     "data": {
      "image/png": "[encoded data removed]",
      "text/latex": [
       "$$s^{9} \\left(36 m_{1}^{7} m_{2}^{2} + 108 m_{1}^{6} m_{2}^{3} + 135 m_{1}^{5} m_{2}^{4} + 126 m_{1}^{4} m_{2}^{5}\\right) + s^{8} \\left(72 m_{1}^{7} m_{2} + 483 m_{1}^{6} m_{2}^{2} + 1044 m_{1}^{5} m_{2}^{3} + 1161 m_{1}^{4} m_{2}^{4} + 885 m_{1}^{3} m_{2}^{5}\\right) + s^{7} \\left(20 m_{1}^{7} + 510 m_{1}^{6} m_{2} + 2008 m_{1}^{5} m_{2}^{2} + 3322 m_{1}^{4} m_{2}^{3} + 3381 m_{1}^{3} m_{2}^{4} + 2135 m_{1}^{2} m_{2}^{5}\\right) + s^{6} \\left(83 m_{1}^{6} + 1097 m_{1}^{5} m_{2} + 2962 m_{1}^{4} m_{2}^{2} + 3492 m_{1}^{3} m_{2}^{3} + 3619 m_{1}^{2} m_{2}^{4} + 1911 m_{1} m_{2}^{5}\\right) + s^{5} \\left(92 m_{1}^{5} + 501 m_{1}^{4} m_{2} + 213 m_{1}^{3} m_{2}^{2} - 1036 m_{1}^{2} m_{2}^{3} + 490 m_{1} m_{2}^{4} + 343 m_{2}^{5}\\right) + s^{4} \\left(6 m_{1}^{4} - 557 m_{1}^{3} m_{2} - 2324 m_{1}^{2} m_{2}^{2} - 3038 m_{1} m_{2}^{3} - 686 m_{2}^{4}\\right) + s^{3} \\left(34 m_{1}^{3} + 238 m_{1}^{2} m_{2} - 441 m_{1} m_{2}^{2} - 686 m_{2}^{3}\\right) + s^{2} \\left(112 m_{1}^{2} + 1029 m_{1} m_{2} + 686 m_{2}^{2}\\right) + s \\left(49 m_{1} + 343 m_{2}\\right)$$"
      ],
      "text/plain": [
       " 9 ⎛     7   2         6   3         5   4         4   5⎞    8 ⎛     7        \n",
       "s ⋅⎝36⋅m₁ ⋅m₂  + 108⋅m₁ ⋅m₂  + 135⋅m₁ ⋅m₂  + 126⋅m₁ ⋅m₂ ⎠ + s ⋅⎝72⋅m₁ ⋅m₂ + 48\n",
       "\n",
       "    6   2          5   3          4   4         3   5⎞    7 ⎛     7         6 \n",
       "3⋅m₁ ⋅m₂  + 1044⋅m₁ ⋅m₂  + 1161⋅m₁ ⋅m₂  + 885⋅m₁ ⋅m₂ ⎠ + s ⋅⎝20⋅m₁  + 510⋅m₁ ⋅\n",
       "\n",
       "            5   2          4   3          3   4          2   5⎞    6 ⎛     6  \n",
       "m₂ + 2008⋅m₁ ⋅m₂  + 3322⋅m₁ ⋅m₂  + 3381⋅m₁ ⋅m₂  + 2135⋅m₁ ⋅m₂ ⎠ + s ⋅⎝83⋅m₁  +\n",
       "\n",
       "        5             4   2          3   3          2   4             5⎞    5 \n",
       " 1097⋅m₁ ⋅m₂ + 2962⋅m₁ ⋅m₂  + 3492⋅m₁ ⋅m₂  + 3619⋅m₁ ⋅m₂  + 1911⋅m₁⋅m₂ ⎠ + s ⋅\n",
       "\n",
       "⎛     5         4            3   2          2   3            4         5⎞    4\n",
       "⎝92⋅m₁  + 501⋅m₁ ⋅m₂ + 213⋅m₁ ⋅m₂  - 1036⋅m₁ ⋅m₂  + 490⋅m₁⋅m₂  + 343⋅m₂ ⎠ + s \n",
       "\n",
       " ⎛    4         3             2   2             3         4⎞    3 ⎛     3     \n",
       "⋅⎝6⋅m₁  - 557⋅m₁ ⋅m₂ - 2324⋅m₁ ⋅m₂  - 3038⋅m₁⋅m₂  - 686⋅m₂ ⎠ + s ⋅⎝34⋅m₁  + 23\n",
       "\n",
       "    2               2         3⎞    2 ⎛      2                      2⎞        \n",
       "8⋅m₁ ⋅m₂ - 441⋅m₁⋅m₂  - 686⋅m₂ ⎠ + s ⋅⎝112⋅m₁  + 1029⋅m₁⋅m₂ + 686⋅m₂ ⎠ + s⋅(49\n",
       "\n",
       "             \n",
       "⋅m₁ + 343⋅m₂)"
      ]
     },
     "execution_count": 239,
     "metadata": {},
     "output_type": "execute_result"
    }
   ],
   "source": [
    "Pol.subs({m[1]:m[1]*s,m[2]:m[2]*s}).expand().collect(s)"
   ]
  },
  {
   "cell_type": "code",
   "execution_count": 234,
   "metadata": {
    "collapsed": false
   },
   "outputs": [
    {
     "data": {
      "image/png": "[encoded data removed]",
      "text/latex": [
       "$$\\left[\\begin{matrix}224 & 1029\\\\1029 & 1372\\end{matrix}\\right]$$"
      ],
      "text/plain": [
       "⎡224   1029⎤\n",
       "⎢          ⎥\n",
       "⎣1029  1372⎦"
      ]
     },
     "execution_count": 234,
     "metadata": {},
     "output_type": "execute_result"
    }
   ],
   "source": [
    "Matrix([[Pol.diff(m[1],2),Pol.diff(m[1]).diff(m[2])],[Pol.diff(m[1],1).diff(m[2]),Pol.diff(m[2],2)]]).subs({m[1]:0,m[2]:0})"
   ]
  },
  {
   "cell_type": "code",
   "execution_count": 245,
   "metadata": {
    "collapsed": false
   },
   "outputs": [
    {
     "data": {
      "image/png": "[encoded data removed]",
      "text/latex": [
       "$$m_{1}^{7} \\left(36 m_{2}^{2} + 72 m_{2} + 20\\right) + m_{1}^{6} \\left(108 m_{2}^{3} + 483 m_{2}^{2} + 510 m_{2} + 83\\right) + m_{1}^{5} \\left(135 m_{2}^{4} + 1044 m_{2}^{3} + 2008 m_{2}^{2} + 1097 m_{2} + 92\\right) + m_{1}^{4} \\left(126 m_{2}^{5} + 1161 m_{2}^{4} + 3322 m_{2}^{3} + 2962 m_{2}^{2} + 501 m_{2} + 6\\right) + m_{1}^{3} \\left(885 m_{2}^{5} + 3381 m_{2}^{4} + 3492 m_{2}^{3} + 213 m_{2}^{2} - 557 m_{2} + 34\\right) + m_{1}^{2} \\left(2135 m_{2}^{5} + 3619 m_{2}^{4} - 1036 m_{2}^{3} - 2324 m_{2}^{2} + 238 m_{2} + 112\\right) + m_{1} \\left(1911 m_{2}^{5} + 490 m_{2}^{4} - 3038 m_{2}^{3} - 441 m_{2}^{2} + 1029 m_{2} + 49\\right) + 343 m_{2}^{5} - 686 m_{2}^{4} - 686 m_{2}^{3} + 686 m_{2}^{2} + 343 m_{2}$$"
      ],
      "text/plain": [
       "  7 ⎛     2             ⎞     6 ⎛      3         2              ⎞     5 ⎛     \n",
       "m₁ ⋅⎝36⋅m₂  + 72⋅m₂ + 20⎠ + m₁ ⋅⎝108⋅m₂  + 483⋅m₂  + 510⋅m₂ + 83⎠ + m₁ ⋅⎝135⋅m\n",
       "\n",
       " 4          3          2               ⎞     4 ⎛      5          4          3 \n",
       "₂  + 1044⋅m₂  + 2008⋅m₂  + 1097⋅m₂ + 92⎠ + m₁ ⋅⎝126⋅m₂  + 1161⋅m₂  + 3322⋅m₂  \n",
       "\n",
       "         2             ⎞     3 ⎛      5          4          3         2       \n",
       "+ 2962⋅m₂  + 501⋅m₂ + 6⎠ + m₁ ⋅⎝885⋅m₂  + 3381⋅m₂  + 3492⋅m₂  + 213⋅m₂  - 557⋅\n",
       "\n",
       "       ⎞     2 ⎛       5          4          3          2               ⎞     \n",
       "m₂ + 34⎠ + m₁ ⋅⎝2135⋅m₂  + 3619⋅m₂  - 1036⋅m₂  - 2324⋅m₂  + 238⋅m₂ + 112⎠ + m₁\n",
       "\n",
       " ⎛       5         4          3         2               ⎞         5         4 \n",
       "⋅⎝1911⋅m₂  + 490⋅m₂  - 3038⋅m₂  - 441⋅m₂  + 1029⋅m₂ + 49⎠ + 343⋅m₂  - 686⋅m₂  \n",
       "\n",
       "        3         2         \n",
       "- 686⋅m₂  + 686⋅m₂  + 343⋅m₂"
      ]
     },
     "execution_count": 245,
     "metadata": {},
     "output_type": "execute_result"
    }
   ],
   "source": [
    "Pol.expand().collect(m[1])"
   ]
  },
  {
   "cell_type": "code",
   "execution_count": 259,
   "metadata": {
    "collapsed": true
   },
   "outputs": [],
   "source": [
    "Q=0\n",
    "for j in range(8):\n",
    "    for i in range(6):\n",
    "        Q=Q+Pol.diff(m[1],j).diff(m[2],i).subs({m[1]:0,m[2]:1})/factorial(i)/factorial(j)*m[1]**j*(m[2]-1)**i"
   ]
  },
  {
   "cell_type": "code",
   "execution_count": 249,
   "metadata": {
    "collapsed": false
   },
   "outputs": [
    {
     "data": {
      "image/png": "[encoded data removed]",
      "text/latex": [
       "$$135 m_{1}^{5} m_{2}^{4} + 1044 m_{1}^{5} m_{2}^{3} + 2008 m_{1}^{5} m_{2}^{2} + 1097 m_{1}^{5} m_{2} + 92 m_{1}^{5} + 126 m_{1}^{4} m_{2}^{5} + 1161 m_{1}^{4} m_{2}^{4} + 3322 m_{1}^{4} m_{2}^{3} + 2962 m_{1}^{4} m_{2}^{2} + 501 m_{1}^{4} m_{2} + 6 m_{1}^{4} + 885 m_{1}^{3} m_{2}^{5} + 3381 m_{1}^{3} m_{2}^{4} + 3492 m_{1}^{3} m_{2}^{3} + 213 m_{1}^{3} m_{2}^{2} - 557 m_{1}^{3} m_{2} + 34 m_{1}^{3} + 2135 m_{1}^{2} m_{2}^{5} + 3619 m_{1}^{2} m_{2}^{4} - 1036 m_{1}^{2} m_{2}^{3} - 2324 m_{1}^{2} m_{2}^{2} + 238 m_{1}^{2} m_{2} + 112 m_{1}^{2} + 1911 m_{1} m_{2}^{5} + 490 m_{1} m_{2}^{4} - 3038 m_{1} m_{2}^{3} - 441 m_{1} m_{2}^{2} + 1029 m_{1} m_{2} + 49 m_{1} + 343 m_{2}^{5} - 686 m_{2}^{4} - 686 m_{2}^{3} + 686 m_{2}^{2} + 343 m_{2}$$"
      ],
      "text/plain": [
       "      5   4          5   3          5   2          5           5         4   5\n",
       "135⋅m₁ ⋅m₂  + 1044⋅m₁ ⋅m₂  + 2008⋅m₁ ⋅m₂  + 1097⋅m₁ ⋅m₂ + 92⋅m₁  + 126⋅m₁ ⋅m₂ \n",
       "\n",
       "          4   4          4   3          4   2         4          4         3  \n",
       " + 1161⋅m₁ ⋅m₂  + 3322⋅m₁ ⋅m₂  + 2962⋅m₁ ⋅m₂  + 501⋅m₁ ⋅m₂ + 6⋅m₁  + 885⋅m₁ ⋅m\n",
       "\n",
       " 5          3   4          3   3         3   2         3           3          \n",
       "₂  + 3381⋅m₁ ⋅m₂  + 3492⋅m₁ ⋅m₂  + 213⋅m₁ ⋅m₂  - 557⋅m₁ ⋅m₂ + 34⋅m₁  + 2135⋅m₁\n",
       "\n",
       "2   5          2   4          2   3          2   2         2            2     \n",
       " ⋅m₂  + 3619⋅m₁ ⋅m₂  - 1036⋅m₁ ⋅m₂  - 2324⋅m₁ ⋅m₂  + 238⋅m₁ ⋅m₂ + 112⋅m₁  + 19\n",
       "\n",
       "        5            4             3            2                             \n",
       "11⋅m₁⋅m₂  + 490⋅m₁⋅m₂  - 3038⋅m₁⋅m₂  - 441⋅m₁⋅m₂  + 1029⋅m₁⋅m₂ + 49⋅m₁ + 343⋅m\n",
       "\n",
       " 5         4         3         2         \n",
       "₂  - 686⋅m₂  - 686⋅m₂  + 686⋅m₂  + 343⋅m₂"
      ]
     },
     "execution_count": 249,
     "metadata": {},
     "output_type": "execute_result"
    }
   ],
   "source": [
    "Q"
   ]
  },
  {
   "cell_type": "code",
   "execution_count": 251,
   "metadata": {
    "collapsed": false
   },
   "outputs": [
    {
     "data": {
      "image/png": "[encoded data removed]",
      "text/latex": [
       "$$- m_{1}^{6} \\left(36 m_{1} m_{2}^{2} + 72 m_{1} m_{2} + 20 m_{1} + 108 m_{2}^{3} + 483 m_{2}^{2} + 510 m_{2} + 83\\right)$$"
      ],
      "text/plain": [
       "   6 ⎛        2                            3         2              ⎞\n",
       "-m₁ ⋅⎝36⋅m₁⋅m₂  + 72⋅m₁⋅m₂ + 20⋅m₁ + 108⋅m₂  + 483⋅m₂  + 510⋅m₂ + 83⎠"
      ]
     },
     "execution_count": 251,
     "metadata": {},
     "output_type": "execute_result"
    }
   ],
   "source": []
  },
  {
   "cell_type": "code",
   "execution_count": 257,
   "metadata": {
    "collapsed": false
   },
   "outputs": [
    {
     "data": {
      "image/png": "[encoded data removed]",
      "text/latex": [
       "$$0$$"
      ],
      "text/plain": [
       "0"
      ]
     },
     "execution_count": 257,
     "metadata": {},
     "output_type": "execute_result"
    }
   ],
   "source": [
    "simplify(Pol-Q)"
   ]
  },
  {
   "cell_type": "code",
   "execution_count": 258,
   "metadata": {
    "collapsed": false
   },
   "outputs": [
    {
     "data": {
      "image/png": "[encoded data removed]",
      "text/latex": [
       "$$36 m_{1}^{7} m_{2}^{2} + 72 m_{1}^{7} m_{2} + 20 m_{1}^{7} + 108 m_{1}^{6} m_{2}^{3} + 483 m_{1}^{6} m_{2}^{2} + 510 m_{1}^{6} m_{2} + 83 m_{1}^{6} + 135 m_{1}^{5} m_{2}^{4} + 1044 m_{1}^{5} m_{2}^{3} + 2008 m_{1}^{5} m_{2}^{2} + 1097 m_{1}^{5} m_{2} + 92 m_{1}^{5} + 126 m_{1}^{4} m_{2}^{5} + 1161 m_{1}^{4} m_{2}^{4} + 3322 m_{1}^{4} m_{2}^{3} + 2962 m_{1}^{4} m_{2}^{2} + 501 m_{1}^{4} m_{2} + 6 m_{1}^{4} + 885 m_{1}^{3} m_{2}^{5} + 3381 m_{1}^{3} m_{2}^{4} + 3492 m_{1}^{3} m_{2}^{3} + 213 m_{1}^{3} m_{2}^{2} - 557 m_{1}^{3} m_{2} + 34 m_{1}^{3} + 2135 m_{1}^{2} m_{2}^{5} + 3619 m_{1}^{2} m_{2}^{4} - 1036 m_{1}^{2} m_{2}^{3} - 2324 m_{1}^{2} m_{2}^{2} + 238 m_{1}^{2} m_{2} + 112 m_{1}^{2} + 1911 m_{1} m_{2}^{5} + 490 m_{1} m_{2}^{4} - 3038 m_{1} m_{2}^{3} - 441 m_{1} m_{2}^{2} + 1029 m_{1} m_{2} + 49 m_{1} + 343 m_{2}^{5} - 686 m_{2}^{4} - 686 m_{2}^{3} + 686 m_{2}^{2} + 343 m_{2}$$"
      ],
      "text/plain": [
       "     7   2        7           7         6   3         6   2         6         \n",
       "36⋅m₁ ⋅m₂  + 72⋅m₁ ⋅m₂ + 20⋅m₁  + 108⋅m₁ ⋅m₂  + 483⋅m₁ ⋅m₂  + 510⋅m₁ ⋅m₂ + 83⋅\n",
       "\n",
       "  6         5   4          5   3          5   2          5           5        \n",
       "m₁  + 135⋅m₁ ⋅m₂  + 1044⋅m₁ ⋅m₂  + 2008⋅m₁ ⋅m₂  + 1097⋅m₁ ⋅m₂ + 92⋅m₁  + 126⋅m\n",
       "\n",
       " 4   5          4   4          4   3          4   2         4          4      \n",
       "₁ ⋅m₂  + 1161⋅m₁ ⋅m₂  + 3322⋅m₁ ⋅m₂  + 2962⋅m₁ ⋅m₂  + 501⋅m₁ ⋅m₂ + 6⋅m₁  + 885\n",
       "\n",
       "   3   5          3   4          3   3         3   2         3           3    \n",
       "⋅m₁ ⋅m₂  + 3381⋅m₁ ⋅m₂  + 3492⋅m₁ ⋅m₂  + 213⋅m₁ ⋅m₂  - 557⋅m₁ ⋅m₂ + 34⋅m₁  + 2\n",
       "\n",
       "      2   5          2   4          2   3          2   2         2            \n",
       "135⋅m₁ ⋅m₂  + 3619⋅m₁ ⋅m₂  - 1036⋅m₁ ⋅m₂  - 2324⋅m₁ ⋅m₂  + 238⋅m₁ ⋅m₂ + 112⋅m₁\n",
       "\n",
       "2             5            4             3            2                       \n",
       "  + 1911⋅m₁⋅m₂  + 490⋅m₁⋅m₂  - 3038⋅m₁⋅m₂  - 441⋅m₁⋅m₂  + 1029⋅m₁⋅m₂ + 49⋅m₁ +\n",
       "\n",
       "       5         4         3         2         \n",
       " 343⋅m₂  - 686⋅m₂  - 686⋅m₂  + 686⋅m₂  + 343⋅m₂"
      ]
     },
     "execution_count": 258,
     "metadata": {},
     "output_type": "execute_result"
    }
   ],
   "source": [
    "Q"
   ]
  },
  {
   "cell_type": "code",
   "execution_count": 260,
   "metadata": {
    "collapsed": false
   },
   "outputs": [
    {
     "data": {
      "image/png": "[encoded data removed]",
      "text/latex": [
       "$$36 m_{1}^{7} \\left(m_{2} - 1\\right)^{2} + 144 m_{1}^{7} \\left(m_{2} - 1\\right) + 128 m_{1}^{7} + 108 m_{1}^{6} \\left(m_{2} - 1\\right)^{3} + 807 m_{1}^{6} \\left(m_{2} - 1\\right)^{2} + 1800 m_{1}^{6} \\left(m_{2} - 1\\right) + 1184 m_{1}^{6} + 135 m_{1}^{5} \\left(m_{2} - 1\\right)^{4} + 1584 m_{1}^{5} \\left(m_{2} - 1\\right)^{3} + 5950 m_{1}^{5} \\left(m_{2} - 1\\right)^{2} + 8785 m_{1}^{5} \\left(m_{2} - 1\\right) + 4376 m_{1}^{5} + 126 m_{1}^{4} \\left(m_{2} - 1\\right)^{5} + 1791 m_{1}^{4} \\left(m_{2} - 1\\right)^{4} + 9226 m_{1}^{4} \\left(m_{2} - 1\\right)^{3} + 21154 m_{1}^{4} \\left(m_{2} - 1\\right)^{2} + 21665 m_{1}^{4} \\left(m_{2} - 1\\right) + 8078 m_{1}^{4} + 885 m_{1}^{3} \\left(m_{2} - 1\\right)^{5} + 7806 m_{1}^{3} \\left(m_{2} - 1\\right)^{4} + 25866 m_{1}^{3} \\left(m_{2} - 1\\right)^{3} + 39825 m_{1}^{3} \\left(m_{2} - 1\\right)^{2} + 28294 m_{1}^{3} \\left(m_{2} - 1\\right) + 7448 m_{1}^{3} + 2135 m_{1}^{2} \\left(m_{2} - 1\\right)^{5} + 14294 m_{1}^{2} \\left(m_{2} - 1\\right)^{4} + 34790 m_{1}^{2} \\left(m_{2} - 1\\right)^{3} + 37632 m_{1}^{2} \\left(m_{2} - 1\\right)^{2} + 17633 m_{1}^{2} \\left(m_{2} - 1\\right) + 2744 m_{1}^{2} + 1911 m_{1} \\left(m_{2} - 1\\right)^{5} + 10045 m_{1} \\left(m_{2} - 1\\right)^{4} + 18032 m_{1} \\left(m_{2} - 1\\right)^{3} + 12495 m_{1} \\left(m_{2} - 1\\right)^{2} + 2548 m_{1} \\left(m_{2} - 1\\right) - 1372 m_{2} + 343 \\left(m_{2} - 1\\right)^{5} + 1029 \\left(m_{2} - 1\\right)^{4} - 2058 \\left(m_{2} - 1\\right)^{2} + 1372$$"
      ],
      "text/plain": [
       "     7         2         7                  7         6         3         6   \n",
       "36⋅m₁ ⋅(m₂ - 1)  + 144⋅m₁ ⋅(m₂ - 1) + 128⋅m₁  + 108⋅m₁ ⋅(m₂ - 1)  + 807⋅m₁ ⋅(m\n",
       "\n",
       "      2          6                   6         5         4          5         \n",
       "₂ - 1)  + 1800⋅m₁ ⋅(m₂ - 1) + 1184⋅m₁  + 135⋅m₁ ⋅(m₂ - 1)  + 1584⋅m₁ ⋅(m₂ - 1)\n",
       "\n",
       "3          5         2          5                   5         4         5     \n",
       "  + 5950⋅m₁ ⋅(m₂ - 1)  + 8785⋅m₁ ⋅(m₂ - 1) + 4376⋅m₁  + 126⋅m₁ ⋅(m₂ - 1)  + 17\n",
       "\n",
       "     4         4          4         3           4         2           4       \n",
       "91⋅m₁ ⋅(m₂ - 1)  + 9226⋅m₁ ⋅(m₂ - 1)  + 21154⋅m₁ ⋅(m₂ - 1)  + 21665⋅m₁ ⋅(m₂ - \n",
       "\n",
       "            4         3         5          3         4           3         3  \n",
       "1) + 8078⋅m₁  + 885⋅m₁ ⋅(m₂ - 1)  + 7806⋅m₁ ⋅(m₂ - 1)  + 25866⋅m₁ ⋅(m₂ - 1)  +\n",
       "\n",
       "         3         2           3                   3          2         5     \n",
       " 39825⋅m₁ ⋅(m₂ - 1)  + 28294⋅m₁ ⋅(m₂ - 1) + 7448⋅m₁  + 2135⋅m₁ ⋅(m₂ - 1)  + 14\n",
       "\n",
       "      2         4           2         3           2         2           2     \n",
       "294⋅m₁ ⋅(m₂ - 1)  + 34790⋅m₁ ⋅(m₂ - 1)  + 37632⋅m₁ ⋅(m₂ - 1)  + 17633⋅m₁ ⋅(m₂ \n",
       "\n",
       "              2                   5                    4                    3 \n",
       "- 1) + 2744⋅m₁  + 1911⋅m₁⋅(m₂ - 1)  + 10045⋅m₁⋅(m₂ - 1)  + 18032⋅m₁⋅(m₂ - 1)  \n",
       "\n",
       "                   2                                            5             \n",
       "+ 12495⋅m₁⋅(m₂ - 1)  + 2548⋅m₁⋅(m₂ - 1) - 1372⋅m₂ + 343⋅(m₂ - 1)  + 1029⋅(m₂ -\n",
       "\n",
       "   4                2       \n",
       " 1)  - 2058⋅(m₂ - 1)  + 1372"
      ]
     },
     "execution_count": 260,
     "metadata": {},
     "output_type": "execute_result"
    }
   ],
   "source": [
    "Q"
   ]
  },
  {
   "cell_type": "code",
   "execution_count": 261,
   "metadata": {
    "collapsed": false
   },
   "outputs": [
    {
     "data": {
      "image/png": "[encoded data removed]",
      "text/latex": [
       "$$20 t^{7} + 83 t^{6} + 92 t^{5} + 6 t^{4} + 34 t^{3} + 112 t^{2} + 49 t + \\left(- s + 1\\right)^{5} \\left(126 t^{4} + 885 t^{3} + 2135 t^{2} + 1911 t + 343\\right) + \\left(- s + 1\\right)^{4} \\left(135 t^{5} + 1161 t^{4} + 3381 t^{3} + 3619 t^{2} + 490 t - 686\\right) + \\left(- s + 1\\right)^{3} \\left(108 t^{6} + 1044 t^{5} + 3322 t^{4} + 3492 t^{3} - 1036 t^{2} - 3038 t - 686\\right) + \\left(- s + 1\\right)^{2} \\left(36 t^{7} + 483 t^{6} + 2008 t^{5} + 2962 t^{4} + 213 t^{3} - 2324 t^{2} - 441 t + 686\\right) + \\left(- s + 1\\right) \\left(72 t^{7} + 510 t^{6} + 1097 t^{5} + 501 t^{4} - 557 t^{3} + 238 t^{2} + 1029 t + 343\\right)$$"
      ],
      "text/plain": [
       "    7       6       5      4       3        2                  5 ⎛     4      \n",
       "20⋅t  + 83⋅t  + 92⋅t  + 6⋅t  + 34⋅t  + 112⋅t  + 49⋅t + (-s + 1) ⋅⎝126⋅t  + 885\n",
       "\n",
       "  3         2               ⎞           4 ⎛     5         4         3         \n",
       "⋅t  + 2135⋅t  + 1911⋅t + 343⎠ + (-s + 1) ⋅⎝135⋅t  + 1161⋅t  + 3381⋅t  + 3619⋅t\n",
       "\n",
       "2              ⎞           3 ⎛     6         5         4         3         2  \n",
       "  + 490⋅t - 686⎠ + (-s + 1) ⋅⎝108⋅t  + 1044⋅t  + 3322⋅t  + 3492⋅t  - 1036⋅t  -\n",
       "\n",
       "             ⎞           2 ⎛    7        6         5         4        3       \n",
       " 3038⋅t - 686⎠ + (-s + 1) ⋅⎝36⋅t  + 483⋅t  + 2008⋅t  + 2962⋅t  + 213⋅t  - 2324\n",
       "\n",
       "  2              ⎞            ⎛    7        6         5        4        3     \n",
       "⋅t  - 441⋅t + 686⎠ + (-s + 1)⋅⎝72⋅t  + 510⋅t  + 1097⋅t  + 501⋅t  - 557⋅t  + 23\n",
       "\n",
       "   2               ⎞\n",
       "8⋅t  + 1029⋅t + 343⎠"
      ]
     },
     "execution_count": 261,
     "metadata": {},
     "output_type": "execute_result"
    }
   ],
   "source": [
    "var('t')\n",
    "Pol.subs({m[1]:t,m[2]:1-s})"
   ]
  },
  {
   "cell_type": "code",
   "execution_count": 267,
   "metadata": {
    "collapsed": false
   },
   "outputs": [
    {
     "data": {
      "image/png": "[encoded data removed]",
      "text/latex": [
       "$$- 272 \\alpha^{7} + \\frac{20 \\alpha^{7}}{s^{7}} + 2108 \\alpha^{6} - 4922 \\alpha^{5} + 3647 \\alpha^{4} + 1148 \\alpha^{3} - 2688 \\alpha^{2} + 980 \\alpha + s^{5} \\left(126 \\alpha^{4} - 885 \\alpha^{3} + 2135 \\alpha^{2} - 1911 \\alpha + 343\\right) + s^{4} \\left(- 135 \\alpha^{5} + 657 \\alpha^{4} - 726 \\alpha^{3} - 651 \\alpha^{2} + 1421 \\alpha - 686\\right) + s^{3} \\left(108 \\alpha^{6} - 369 \\alpha^{5} - 566 \\alpha^{4} + 3996 \\alpha^{3} - 6139 \\alpha^{2} + 3528 \\alpha - 686\\right) + s^{2} \\left(- 36 \\alpha^{7} - 165 \\alpha^{6} + 1862 \\alpha^{5} - 3864 \\alpha^{4} + 1005 \\alpha^{3} + 3367 \\alpha^{2} - 2597 \\alpha + 686\\right) + s \\left(180 \\alpha^{7} - 768 \\alpha^{6} - 147 \\alpha^{5} + 4067 \\alpha^{4} - 5899 \\alpha^{3} + 3850 \\alpha^{2} - 1470 \\alpha + 343\\right) + \\frac{1}{s} \\left(- 112 \\alpha^{7} - 888 \\alpha^{6} + 4485 \\alpha^{5} - 5544 \\alpha^{4} + 1986 \\alpha^{3} + 14 \\alpha^{2} + 49 \\alpha\\right) + \\frac{1}{s^{2}} \\left(840 \\alpha^{7} - 2358 \\alpha^{6} + 1054 \\alpha^{5} + 994 \\alpha^{4} - 659 \\alpha^{3} + 112 \\alpha^{2}\\right) + \\frac{1}{s^{3}} \\left(- 1064 \\alpha^{7} + 3200 \\alpha^{6} - 2557 \\alpha^{5} + 477 \\alpha^{4} + 34 \\alpha^{3}\\right) + \\frac{1}{s^{4}} \\left(560 \\alpha^{7} - 1332 \\alpha^{6} + 637 \\alpha^{5} + 6 \\alpha^{4}\\right) + \\frac{1}{s^{5}} \\left(- 48 \\alpha^{7} + 12 \\alpha^{6} + 92 \\alpha^{5}\\right) + \\frac{1}{s^{6}} \\left(- 68 \\alpha^{7} + 83 \\alpha^{6}\\right)$$"
      ],
      "text/plain": [
       "               7                                                              \n",
       "       7   20⋅α          6         5         4         3         2            \n",
       "- 272⋅α  + ───── + 2108⋅α  - 4922⋅α  + 3647⋅α  + 1148⋅α  - 2688⋅α  + 980⋅α + s\n",
       "              7                                                               \n",
       "             s                                                                \n",
       "\n",
       "                                                                              \n",
       "5 ⎛     4        3         2               ⎞    4 ⎛       5        4        3 \n",
       " ⋅⎝126⋅α  - 885⋅α  + 2135⋅α  - 1911⋅α + 343⎠ + s ⋅⎝- 135⋅α  + 657⋅α  - 726⋅α  \n",
       "                                                                              \n",
       "                                                                              \n",
       "\n",
       "                                                                              \n",
       "       2               ⎞    3 ⎛     6        5        4         3         2   \n",
       "- 651⋅α  + 1421⋅α - 686⎠ + s ⋅⎝108⋅α  - 369⋅α  - 566⋅α  + 3996⋅α  - 6139⋅α  + \n",
       "                                                                              \n",
       "                                                                              \n",
       "\n",
       "                                                                              \n",
       "            ⎞    2 ⎛      7        6         5         4         3         2  \n",
       "3528⋅α - 686⎠ + s ⋅⎝- 36⋅α  - 165⋅α  + 1862⋅α  - 3864⋅α  + 1005⋅α  + 3367⋅α  -\n",
       "                                                                              \n",
       "                                                                              \n",
       "\n",
       "                                                                              \n",
       "             ⎞     ⎛     7        6        5         4         3         2    \n",
       " 2597⋅α + 686⎠ + s⋅⎝180⋅α  - 768⋅α  - 147⋅α  + 4067⋅α  - 5899⋅α  + 3850⋅α  - 1\n",
       "                                                                              \n",
       "                                                                              \n",
       "\n",
       "                      7        6         5         4         3       2        \n",
       "           ⎞   - 112⋅α  - 888⋅α  + 4485⋅α  - 5544⋅α  + 1986⋅α  + 14⋅α  + 49⋅α \n",
       "470⋅α + 343⎠ + ────────────────────────────────────────────────────────────── \n",
       "                                             s                                \n",
       "                                                                              \n",
       "\n",
       "       7         6         5        4        3        2           7         6 \n",
       "  840⋅α  - 2358⋅α  + 1054⋅α  + 994⋅α  - 659⋅α  + 112⋅α    - 1064⋅α  + 3200⋅α  \n",
       "+ ───────────────────────────────────────────────────── + ────────────────────\n",
       "                             2                                                \n",
       "                            s                                                 \n",
       "\n",
       "        5        4       3        7         6        5      4         7       \n",
       "- 2557⋅α  + 477⋅α  + 34⋅α    560⋅α  - 1332⋅α  + 637⋅α  + 6⋅α    - 48⋅α  + 12⋅α\n",
       "────────────────────────── + ──────────────────────────────── + ──────────────\n",
       "   3                                         4                              5 \n",
       "  s                                         s                              s  \n",
       "\n",
       "6       5         7       6\n",
       "  + 92⋅α    - 68⋅α  + 83⋅α \n",
       "───────── + ───────────────\n",
       "                    6      \n",
       "                   s       "
      ]
     },
     "execution_count": 267,
     "metadata": {},
     "output_type": "execute_result"
    }
   ],
   "source": [
    "Pol.subs({m[1]:(1-s)/s*alpha, m[2]:s}).expand().collect(s)\n"
   ]
  },
  {
   "cell_type": "code",
   "execution_count": 35,
   "metadata": {
    "collapsed": false
   },
   "outputs": [],
   "source": [
    "var('r')\n",
    "def SolEu(m1,m2,iter):\n",
    "    SolEu=1.0\n",
    "    h=lambda r: ((m1*(r+1)**2+m2*(3*r**2+3*r+1))/(m1*(r+1)**2.0+r**2.0+3.0*r+3.0))**(1.0/3.0)\n",
    "    for j in range(iter):\n",
    "        SolEu=h(SolEu)\n",
    "    return SolEu"
   ]
  },
  {
   "cell_type": "markdown",
   "metadata": {},
   "source": [
    "Estimamos una recto por debajo de $r(m_1,m_2)$ para $m_1$ fijo. La buscamos que pase por $(1,1)$ y $(0,y_0)$. Tratemos de estimar $y_0$. "
   ]
  },
  {
   "cell_type": "code",
   "execution_count": 56,
   "metadata": {
    "collapsed": false
   },
   "outputs": [],
   "source": [
    "m1=np.arange(0,10,0.1)\n",
    "m2=np.zeros(np.shape(m1))\n",
    "r_aprox=SolEu(m1,m2,20)\n",
    "plt.plot(m1,r_aprox)\n",
    "plt.plot(m1,m1/(m1+1))\n",
    "plt.show()\n"
   ]
  },
  {
   "cell_type": "markdown",
   "metadata": {},
   "source": [
    "<img src=\"https://raw.githubusercontent.com/fdmazzone/ArchivosProyecto/master/MEcanica%20Celeste/r_corte_m1.png\" width=\"50%\" height=\"50%\"/>\n",
    "\n",
    "Se parece a $m_1\\mapsto m_1/(m_1+1)$."
   ]
  }
 ],
 "metadata": {
  "kernelspec": {
   "display_name": "Python 2",
   "language": "python",
   "name": "python2"
  },
  "language_info": {
   "codemirror_mode": {
    "name": "ipython",
    "version": 2
   },
   "file_extension": ".py",
   "mimetype": "text/x-python",
   "name": "python",
   "nbconvert_exporter": "python",
   "pygments_lexer": "ipython2",
   "version": "2.7.11"
  }
 },
 "nbformat": 4,
 "nbformat_minor": 0
}
