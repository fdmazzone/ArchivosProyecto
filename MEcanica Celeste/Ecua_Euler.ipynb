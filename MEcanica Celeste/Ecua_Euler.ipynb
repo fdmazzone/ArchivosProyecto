{
 "cells": [
  {
   "cell_type": "code",
   "execution_count": 1,
   "metadata": {
    "collapsed": true
   },
   "outputs": [],
   "source": [
    "from sympy import *\n",
    "init_printing() #muestra símbolos más agradables  "
   ]
  },
  {
   "cell_type": "code",
   "execution_count": 2,
   "metadata": {
    "collapsed": false
   },
   "outputs": [],
   "source": [
    "Cant_Cuerpos=3\n",
    "m=symbols('m0:%s' %Cant_Cuerpos, positive=True) #masas\n",
    "x=symbols('x0:%s' %Cant_Cuerpos, real=True) #posiciones\n"
   ]
  },
  {
   "cell_type": "code",
   "execution_count": 3,
   "metadata": {
    "collapsed": false
   },
   "outputs": [],
   "source": [
    "#potencial\n",
    "U=sum([ sum([m[i]*m[j]/abs(x[i]-x[j]) for i in range(j) ]) for j in range(Cant_Cuerpos)])"
   ]
  },
  {
   "cell_type": "code",
   "execution_count": 4,
   "metadata": {
    "collapsed": false
   },
   "outputs": [],
   "source": [
    "#centro masas (hay que considerarlo porque usaremos, más adelante, un sistema de coordenadas no baricéntrico)\n",
    "c=sum([m[j]*x[j]/sum(m) for j in range(Cant_Cuerpos)])\n",
    "#momento de inercia\n",
    "I=sum([m[j]*(x[j]-c)**2 for j in range(Cant_Cuerpos)])"
   ]
  },
  {
   "cell_type": "code",
   "execution_count": 5,
   "metadata": {
    "collapsed": false
   },
   "outputs": [
    {
     "data": {
      "image/png": "[encoded data removed]",
      "text/latex": [
       "$$\\left [ \\lambda_{} \\left(- \\frac{2 m_{0} m_{1}}{m_{0} + m_{1} + m_{2}} \\left(- \\frac{m_{0} x_{0}}{m_{0} + m_{1} + m_{2}} - \\frac{m_{1} x_{1}}{m_{0} + m_{1} + m_{2}} - \\frac{m_{2} x_{2}}{m_{0} + m_{1} + m_{2}} + x_{1}\\right) - \\frac{2 m_{0} m_{2}}{m_{0} + m_{1} + m_{2}} \\left(- \\frac{m_{0} x_{0}}{m_{0} + m_{1} + m_{2}} - \\frac{m_{1} x_{1}}{m_{0} + m_{1} + m_{2}} - \\frac{m_{2} x_{2}}{m_{0} + m_{1} + m_{2}} + x_{2}\\right) + m_{0} \\left(- \\frac{2 m_{0}}{m_{0} + m_{1} + m_{2}} + 2\\right) \\left(- \\frac{m_{0} x_{0}}{m_{0} + m_{1} + m_{2}} - \\frac{m_{1} x_{1}}{m_{0} + m_{1} + m_{2}} - \\frac{m_{2} x_{2}}{m_{0} + m_{1} + m_{2}} + x_{0}\\right)\\right) - \\frac{m_{0} m_{1}}{\\left(x_{0} - x_{1}\\right)^{2}} \\operatorname{sign}{\\left (x_{0} - x_{1} \\right )} - \\frac{m_{0} m_{2}}{\\left(x_{0} - x_{2}\\right)^{2}} \\operatorname{sign}{\\left (x_{0} - x_{2} \\right )}, \\quad \\lambda_{} \\left(- \\frac{2 m_{0} m_{1}}{m_{0} + m_{1} + m_{2}} \\left(- \\frac{m_{0} x_{0}}{m_{0} + m_{1} + m_{2}} - \\frac{m_{1} x_{1}}{m_{0} + m_{1} + m_{2}} - \\frac{m_{2} x_{2}}{m_{0} + m_{1} + m_{2}} + x_{0}\\right) - \\frac{2 m_{1} m_{2}}{m_{0} + m_{1} + m_{2}} \\left(- \\frac{m_{0} x_{0}}{m_{0} + m_{1} + m_{2}} - \\frac{m_{1} x_{1}}{m_{0} + m_{1} + m_{2}} - \\frac{m_{2} x_{2}}{m_{0} + m_{1} + m_{2}} + x_{2}\\right) + m_{1} \\left(- \\frac{2 m_{1}}{m_{0} + m_{1} + m_{2}} + 2\\right) \\left(- \\frac{m_{0} x_{0}}{m_{0} + m_{1} + m_{2}} - \\frac{m_{1} x_{1}}{m_{0} + m_{1} + m_{2}} - \\frac{m_{2} x_{2}}{m_{0} + m_{1} + m_{2}} + x_{1}\\right)\\right) + \\frac{m_{0} m_{1}}{\\left(x_{0} - x_{1}\\right)^{2}} \\operatorname{sign}{\\left (x_{0} - x_{1} \\right )} - \\frac{m_{1} m_{2}}{\\left(x_{1} - x_{2}\\right)^{2}} \\operatorname{sign}{\\left (x_{1} - x_{2} \\right )}, \\quad \\lambda_{} \\left(- \\frac{2 m_{0} m_{2}}{m_{0} + m_{1} + m_{2}} \\left(- \\frac{m_{0} x_{0}}{m_{0} + m_{1} + m_{2}} - \\frac{m_{1} x_{1}}{m_{0} + m_{1} + m_{2}} - \\frac{m_{2} x_{2}}{m_{0} + m_{1} + m_{2}} + x_{0}\\right) - \\frac{2 m_{1} m_{2}}{m_{0} + m_{1} + m_{2}} \\left(- \\frac{m_{0} x_{0}}{m_{0} + m_{1} + m_{2}} - \\frac{m_{1} x_{1}}{m_{0} + m_{1} + m_{2}} - \\frac{m_{2} x_{2}}{m_{0} + m_{1} + m_{2}} + x_{1}\\right) + m_{2} \\left(- \\frac{2 m_{2}}{m_{0} + m_{1} + m_{2}} + 2\\right) \\left(- \\frac{m_{0} x_{0}}{m_{0} + m_{1} + m_{2}} - \\frac{m_{1} x_{1}}{m_{0} + m_{1} + m_{2}} - \\frac{m_{2} x_{2}}{m_{0} + m_{1} + m_{2}} + x_{2}\\right)\\right) + \\frac{m_{0} m_{2}}{\\left(x_{0} - x_{2}\\right)^{2}} \\operatorname{sign}{\\left (x_{0} - x_{2} \\right )} + \\frac{m_{1} m_{2}}{\\left(x_{1} - x_{2}\\right)^{2}} \\operatorname{sign}{\\left (x_{1} - x_{2} \\right )}\\right ]$$"
      ],
      "text/plain": [
       "⎡  ⎛          ⎛     m₀⋅x₀          m₁⋅x₁          m₂⋅x₂         ⎞           ⎛ \n",
       "⎢  ⎜  2⋅m₀⋅m₁⋅⎜- ──────────── - ──────────── - ──────────── + x₁⎟   2⋅m₀⋅m₂⋅⎜-\n",
       "⎢  ⎜          ⎝  m₀ + m₁ + m₂   m₀ + m₁ + m₂   m₀ + m₁ + m₂     ⎠           ⎝ \n",
       "⎢λ⋅⎜- ─────────────────────────────────────────────────────────── - ──────────\n",
       "⎢  ⎝                          m₀ + m₁ + m₂                                    \n",
       "⎣                                                                             \n",
       "\n",
       "    m₀⋅x₀          m₁⋅x₁          m₂⋅x₂         ⎞                             \n",
       " ──────────── - ──────────── - ──────────── + x₂⎟                             \n",
       " m₀ + m₁ + m₂   m₀ + m₁ + m₂   m₀ + m₁ + m₂     ⎠      ⎛      2⋅m₀        ⎞ ⎛ \n",
       "───────────────────────────────────────────────── + m₀⋅⎜- ──────────── + 2⎟⋅⎜-\n",
       "              m₀ + m₁ + m₂                             ⎝  m₀ + m₁ + m₂    ⎠ ⎝ \n",
       "                                                                              \n",
       "\n",
       "                                                 ⎞                            \n",
       "                                                 ⎟                            \n",
       "    m₀⋅x₀          m₁⋅x₁          m₂⋅x₂         ⎞⎟   m₀⋅m₁⋅sign(x₀ - x₁)   m₀⋅\n",
       " ──────────── - ──────────── - ──────────── + x₀⎟⎟ - ─────────────────── - ───\n",
       " m₀ + m₁ + m₂   m₀ + m₁ + m₂   m₀ + m₁ + m₂     ⎠⎠                 2          \n",
       "                                                          (x₀ - x₁)           \n",
       "\n",
       "                    ⎛          ⎛     m₀⋅x₀          m₁⋅x₁          m₂⋅x₂      \n",
       "                    ⎜  2⋅m₀⋅m₁⋅⎜- ──────────── - ──────────── - ──────────── +\n",
       "m₂⋅sign(x₀ - x₂)    ⎜          ⎝  m₀ + m₁ + m₂   m₀ + m₁ + m₂   m₀ + m₁ + m₂  \n",
       "────────────────, λ⋅⎜- ───────────────────────────────────────────────────────\n",
       "           2        ⎝                          m₀ + m₁ + m₂                   \n",
       "  (x₀ - x₂)                                                                   \n",
       "\n",
       "   ⎞           ⎛     m₀⋅x₀          m₁⋅x₁          m₂⋅x₂         ⎞            \n",
       " x₀⎟   2⋅m₁⋅m₂⋅⎜- ──────────── - ──────────── - ──────────── + x₂⎟            \n",
       "   ⎠           ⎝  m₀ + m₁ + m₂   m₀ + m₁ + m₂   m₀ + m₁ + m₂     ⎠      ⎛     \n",
       "──── - ─────────────────────────────────────────────────────────── + m₁⋅⎜- ───\n",
       "                               m₀ + m₁ + m₂                             ⎝  m₀ \n",
       "                                                                              \n",
       "\n",
       "                                                                  ⎞           \n",
       "                                                                  ⎟           \n",
       " 2⋅m₁        ⎞ ⎛     m₀⋅x₀          m₁⋅x₁          m₂⋅x₂         ⎞⎟   m₀⋅m₁⋅si\n",
       "───────── + 2⎟⋅⎜- ──────────── - ──────────── - ──────────── + x₁⎟⎟ + ────────\n",
       "+ m₁ + m₂    ⎠ ⎝  m₀ + m₁ + m₂   m₀ + m₁ + m₂   m₀ + m₁ + m₂     ⎠⎠           \n",
       "                                                                           (x₀\n",
       "\n",
       "                                     ⎛          ⎛     m₀⋅x₀          m₁⋅x₁    \n",
       "                                     ⎜  2⋅m₀⋅m₂⋅⎜- ──────────── - ────────────\n",
       "gn(x₀ - x₁)   m₁⋅m₂⋅sign(x₁ - x₂)    ⎜          ⎝  m₀ + m₁ + m₂   m₀ + m₁ + m₂\n",
       "─────────── - ───────────────────, λ⋅⎜- ──────────────────────────────────────\n",
       "      2                     2        ⎝                          m₀ + m₁ + m₂  \n",
       " - x₁)             (x₁ - x₂)                                                  \n",
       "\n",
       "      m₂⋅x₂         ⎞           ⎛     m₀⋅x₀          m₁⋅x₁          m₂⋅x₂     \n",
       " - ──────────── + x₀⎟   2⋅m₁⋅m₂⋅⎜- ──────────── - ──────────── - ──────────── \n",
       "   m₀ + m₁ + m₂     ⎠           ⎝  m₀ + m₁ + m₂   m₀ + m₁ + m₂   m₀ + m₁ + m₂ \n",
       "───────────────────── - ──────────────────────────────────────────────────────\n",
       "                                                m₀ + m₁ + m₂                  \n",
       "                                                                              \n",
       "\n",
       "    ⎞                                                                         \n",
       "+ x₁⎟                                                                         \n",
       "    ⎠      ⎛      2⋅m₂        ⎞ ⎛     m₀⋅x₀          m₁⋅x₁          m₂⋅x₂     \n",
       "───── + m₂⋅⎜- ──────────── + 2⎟⋅⎜- ──────────── - ──────────── - ──────────── \n",
       "           ⎝  m₀ + m₁ + m₂    ⎠ ⎝  m₀ + m₁ + m₂   m₀ + m₁ + m₂   m₀ + m₁ + m₂ \n",
       "                                                                              \n",
       "\n",
       "     ⎞                                            ⎤\n",
       "     ⎟                                            ⎥\n",
       "    ⎞⎟   m₀⋅m₂⋅sign(x₀ - x₂)   m₁⋅m₂⋅sign(x₁ - x₂)⎥\n",
       "+ x₂⎟⎟ + ─────────────────── + ───────────────────⎥\n",
       "    ⎠⎠                 2                     2    ⎥\n",
       "              (x₀ - x₂)             (x₁ - x₂)     ⎦"
      ]
     },
     "execution_count": 5,
     "metadata": {},
     "output_type": "execute_result"
    }
   ],
   "source": [
    "var('lambda_') #multiplicador, el guión bajo _ es para no entrar en conflicto con el operador lambda de python \n",
    "#Construímos el sistema de ecuaciones\n",
    "Ecuaciones=[]\n",
    "for j in range(Cant_Cuerpos):\n",
    "    Ecuaciones+=[(U+lambda_*I).diff(x[j])]\n",
    "Ecuaciones"
   ]
  },
  {
   "cell_type": "code",
   "execution_count": 6,
   "metadata": {
    "collapsed": false
   },
   "outputs": [
    {
     "data": {
      "image/png": "[encoded data removed]",
      "text/latex": [
       "$$\\left [ \\frac{m_{0}}{\\left(r + 1\\right)^{2} \\left(m_{0} + m_{1} + m_{2}\\right)^{2}} \\left(2 \\lambda_{} \\left(r + 1\\right)^{2} \\left(m_{1} \\left(- m_{0} + m_{2} \\left(r + 1\\right) - m_{2}\\right) + m_{2} \\left(m_{1} + m_{2} \\left(r + 1\\right) - \\left(r + 1\\right) \\left(m_{0} + m_{1} + m_{2}\\right)\\right) - \\left(m_{1} + m_{2}\\right) \\left(m_{1} + m_{2} \\left(r + 1\\right)\\right)\\right) + m_{1} \\left(r + 1\\right)^{2} \\left(m_{0} + m_{1} + m_{2}\\right)^{2} + m_{2} \\left(m_{0} + m_{1} + m_{2}\\right)^{2}\\right), \\quad \\frac{m_{1}}{r^{2} \\left(m_{0} + m_{1} + m_{2}\\right)} \\left(2 \\lambda_{} m_{0} r^{2} - 2 \\lambda_{} m_{2} r^{3} - m_{0}^{2} r^{2} - m_{0} m_{1} r^{2} - m_{0} m_{2} r^{2} + m_{0} m_{2} + m_{1} m_{2} + m_{2}^{2}\\right), \\quad \\frac{m_{2}}{r^{2} \\left(r + 1\\right)^{2} \\left(m_{0} + m_{1} + m_{2}\\right)^{2}} \\left(2 \\lambda_{} r^{2} \\left(r + 1\\right)^{2} \\left(m_{0} \\left(m_{1} + m_{2} \\left(r + 1\\right)\\right) + m_{1} \\left(- m_{0} + m_{2} \\left(r + 1\\right) - m_{2}\\right) - \\left(m_{0} + m_{1}\\right) \\left(m_{1} + m_{2} \\left(r + 1\\right) - \\left(r + 1\\right) \\left(m_{0} + m_{1} + m_{2}\\right)\\right)\\right) - m_{0} r^{2} \\left(m_{0} + m_{1} + m_{2}\\right)^{2} - m_{1} \\left(r + 1\\right)^{2} \\left(m_{0} + m_{1} + m_{2}\\right)^{2}\\right)\\right ]$$"
      ],
      "text/plain": [
       "⎡   ⎛           2                                                             \n",
       "⎢m₀⋅⎝2⋅λ⋅(r + 1) ⋅(m₁⋅(-m₀ + m₂⋅(r + 1) - m₂) + m₂⋅(m₁ + m₂⋅(r + 1) - (r + 1)⋅\n",
       "⎢─────────────────────────────────────────────────────────────────────────────\n",
       "⎢                                                                             \n",
       "⎣                                                                            (\n",
       "\n",
       "                                                           2               2  \n",
       "(m₀ + m₁ + m₂)) - (m₁ + m₂)⋅(m₁ + m₂⋅(r + 1))) + m₁⋅(r + 1) ⋅(m₀ + m₁ + m₂)  +\n",
       "──────────────────────────────────────────────────────────────────────────────\n",
       "      2               2                                                       \n",
       "r + 1) ⋅(m₀ + m₁ + m₂)                                                        \n",
       "\n",
       "                  2⎞     ⎛        2           3     2  2          2          2\n",
       " m₂⋅(m₀ + m₁ + m₂) ⎠  m₁⋅⎝2⋅λ⋅m₀⋅r  - 2⋅λ⋅m₂⋅r  - m₀ ⋅r  - m₀⋅m₁⋅r  - m₀⋅m₂⋅r \n",
       "────────────────────, ────────────────────────────────────────────────────────\n",
       "                                                      2                       \n",
       "                                                     r ⋅(m₀ + m₁ + m₂)        \n",
       "\n",
       "                     2⎞     ⎛     2        2                                  \n",
       " + m₀⋅m₂ + m₁⋅m₂ + m₂ ⎠  m₂⋅⎝2⋅λ⋅r ⋅(r + 1) ⋅(m₀⋅(m₁ + m₂⋅(r + 1)) + m₁⋅(-m₀ +\n",
       "───────────────────────, ─────────────────────────────────────────────────────\n",
       "                                                                              \n",
       "                                                                              \n",
       "\n",
       "                                                                              \n",
       " m₂⋅(r + 1) - m₂) - (m₀ + m₁)⋅(m₁ + m₂⋅(r + 1) - (r + 1)⋅(m₀ + m₁ + m₂))) - m₀\n",
       "──────────────────────────────────────────────────────────────────────────────\n",
       "                         2        2               2                           \n",
       "                        r ⋅(r + 1) ⋅(m₀ + m₁ + m₂)                            \n",
       "\n",
       "  2               2             2               2⎞⎤\n",
       "⋅r ⋅(m₀ + m₁ + m₂)  - m₁⋅(r + 1) ⋅(m₀ + m₁ + m₂) ⎠⎥\n",
       "──────────────────────────────────────────────────⎥\n",
       "                                                  ⎥\n",
       "                                                  ⎦"
      ]
     },
     "execution_count": 6,
     "metadata": {},
     "output_type": "execute_result"
    }
   ],
   "source": [
    "#sustituímos x0=0, x1=1, x2=1+r\n",
    "var('r',positive=True)\n",
    "EcuacionesT=[ec.subs({x[0]:0,x[1]:1,x[2]:1+r}).simplify() for ec in Ecuaciones]\n",
    "EcuacionesT"
   ]
  },
  {
   "cell_type": "code",
   "execution_count": 7,
   "metadata": {
    "collapsed": false
   },
   "outputs": [
    {
     "data": {
      "image/png": "[encoded data removed]",
      "text/latex": [
       "$$\\frac{\\left(m_{1} \\left(r + 1\\right)^{2} + m_{2}\\right) \\left(m_{0} + m_{1} + m_{2}\\right)^{2}}{2 \\left(r + 1\\right)^{2} \\left(m_{0} m_{1} + m_{0} m_{2} r + m_{0} m_{2} + m_{1}^{2} + m_{1} m_{2} r + 2 m_{1} m_{2} + m_{2}^{2} r + m_{2}^{2}\\right)}$$"
      ],
      "text/plain": [
       "                     ⎛          2     ⎞               2                     \n",
       "                     ⎝m₁⋅(r + 1)  + m₂⎠⋅(m₀ + m₁ + m₂)                      \n",
       "────────────────────────────────────────────────────────────────────────────\n",
       "         2 ⎛                            2                         2       2⎞\n",
       "2⋅(r + 1) ⋅⎝m₀⋅m₁ + m₀⋅m₂⋅r + m₀⋅m₂ + m₁  + m₁⋅m₂⋅r + 2⋅m₁⋅m₂ + m₂ ⋅r + m₂ ⎠"
      ]
     },
     "execution_count": 7,
     "metadata": {},
     "output_type": "execute_result"
    }
   ],
   "source": [
    "#según Moeckel de las tres ecuaciones sólo dos son independientes. Sólo trabajo con las dos primeras,\n",
    "#primero despejemos lambda de la primer ecuacion\n",
    "sol_lambda=solve(EcuacionesT[0],lambda_)\n",
    "sol_lambda[0]"
   ]
  },
  {
   "cell_type": "code",
   "execution_count": 8,
   "metadata": {
    "collapsed": false
   },
   "outputs": [
    {
     "data": {
      "image/png": "[encoded data removed]",
      "text/latex": [
       "$$- \\frac{m_{1} m_{2} \\left(m_{0} r^{5} + 3 m_{0} r^{4} + 3 m_{0} r^{3} + m_{1} r^{5} + 2 m_{1} r^{4} + m_{1} r^{3} - m_{1} r^{2} - 2 m_{1} r - m_{1} - 3 m_{2} r^{2} - 3 m_{2} r - m_{2}\\right)}{r^{2} \\left(m_{1} r^{2} + 2 m_{1} r + m_{1} + m_{2} r^{3} + 3 m_{2} r^{2} + 3 m_{2} r + m_{2}\\right)}$$"
      ],
      "text/plain": [
       "       ⎛    5         4         3       5         4       3       2           \n",
       "-m₁⋅m₂⋅⎝m₀⋅r  + 3⋅m₀⋅r  + 3⋅m₀⋅r  + m₁⋅r  + 2⋅m₁⋅r  + m₁⋅r  - m₁⋅r  - 2⋅m₁⋅r -\n",
       "──────────────────────────────────────────────────────────────────────────────\n",
       "                           2 ⎛    2                     3         2           \n",
       "                          r ⋅⎝m₁⋅r  + 2⋅m₁⋅r + m₁ + m₂⋅r  + 3⋅m₂⋅r  + 3⋅m₂⋅r +\n",
       "\n",
       "            2              ⎞ \n",
       " m₁ - 3⋅m₂⋅r  - 3⋅m₂⋅r - m₂⎠ \n",
       "─────────────────────────────\n",
       "   ⎞                         \n",
       " m₂⎠                         "
      ]
     },
     "execution_count": 8,
     "metadata": {},
     "output_type": "execute_result"
    }
   ],
   "source": [
    "#sustituyamos en la segunda\n",
    "Ecuacion=EcuacionesT[1].subs(lambda_,sol_lambda[0]).simplify()\n",
    "Ecuacion"
   ]
  },
  {
   "cell_type": "code",
   "execution_count": 9,
   "metadata": {
    "collapsed": false
   },
   "outputs": [
    {
     "data": {
      "image/png": "[encoded data removed]",
      "text/latex": [
       "$$- m_{1} - m_{2} + r^{5} \\left(m_{0} + m_{1}\\right) + r^{4} \\left(3 m_{0} + 2 m_{1}\\right) + r^{3} \\left(3 m_{0} + m_{1}\\right) + r^{2} \\left(- m_{1} - 3 m_{2}\\right) + r \\left(- 2 m_{1} - 3 m_{2}\\right)$$"
      ],
      "text/plain": [
       "            5              4                  3                2              \n",
       "-m₁ - m₂ + r ⋅(m₀ + m₁) + r ⋅(3⋅m₀ + 2⋅m₁) + r ⋅(3⋅m₀ + m₁) + r ⋅(-m₁ - 3⋅m₂) \n",
       "\n",
       "                  \n",
       "+ r⋅(-2⋅m₁ - 3⋅m₂)"
      ]
     },
     "execution_count": 9,
     "metadata": {},
     "output_type": "execute_result"
    }
   ],
   "source": [
    "#Esta ecuación esta igualada a cero, mirando la expresión nos damos cuenta que debe ser cero\n",
    "Ecuacion=m[0]*r**5 + 3*m[0]*r**4 + 3*m[0]*r**3 + m[1]*r**5 + 2*m[1]*r**4 + m[1]*r**3 - m[1]*r**2 - 2*m[1]*r - m[1] - 3*m[2]*r**2 - 3*m[2]*r - m[2]\n",
    "Ecuacion.collect(r)\n",
    "#!!!!!!!!!!!!  Da lo mismo que el artículo de la scholarpedia!!!!!!!!!!!!!!!!!!!!!!!!!!!"
   ]
  },
  {
   "cell_type": "code",
   "execution_count": 10,
   "metadata": {
    "collapsed": false
   },
   "outputs": [
    {
     "data": {
      "image/png": "[encoded data removed]",
      "text/latex": [
       "$$\\left [ m_{0} + m_{1}, \\quad 3 m_{0} + 2 m_{1}, \\quad 3 m_{0} + m_{1}, \\quad - m_{1} - 3 m_{2}, \\quad - 2 m_{1} - 3 m_{2}, \\quad - m_{1} - m_{2}\\right ]$$"
      ],
      "text/plain": [
       "[m₀ + m₁, 3⋅m₀ + 2⋅m₁, 3⋅m₀ + m₁, -m₁ - 3⋅m₂, -2⋅m₁ - 3⋅m₂, -m₁ - m₂]"
      ]
     },
     "execution_count": 10,
     "metadata": {},
     "output_type": "execute_result"
    }
   ],
   "source": [
    "#No hay fórmula general para hallar raíces de polinomios de grado mayor a 4, se pueden encontrar numéricamente\n",
    "#Voy a usar el módulo numpy (numeric python) para hallar soluciones. \n",
    "#numpy tiene el comando roots que haya numéricamente raíces de polinomios. El argumento de roots es la lista\n",
    "#de coeficientes, por eso primero pongo los coeficientes del polinomio en una lista\n",
    "L=[Ecuacion.diff(r,i).subs(r,0)/factorial(i) for i in range(6)]\n",
    "L=L[::-1]\n",
    "L\n"
   ]
  },
  {
   "cell_type": "code",
   "execution_count": 11,
   "metadata": {
    "collapsed": false
   },
   "outputs": [
    {
     "data": {
      "image/png": "[encoded data removed]",
      "text/latex": [
       "$$\\left [ 5, \\quad 13, \\quad 11, \\quad -5, \\quad -7, \\quad -3\\right ]$$"
      ],
      "text/plain": [
       "[5, 13, 11, -5, -7, -3]"
      ]
     },
     "execution_count": 11,
     "metadata": {},
     "output_type": "execute_result"
    }
   ],
   "source": [
    "# No podemos usar masas arbitrarias, hay que especificarles un valor. tome m0=3,m1=2, m2=1\n",
    "L_part=[coef.subs({m[0]:3,m[1]:2,m[2]:1}) for coef in L]\n",
    "L_part"
   ]
  },
  {
   "cell_type": "code",
   "execution_count": 12,
   "metadata": {
    "collapsed": false
   },
   "outputs": [
    {
     "data": {
      "text/plain": [
       "array([-1.28934480+0.89224847j, -1.28934480-0.89224847j,\n",
       "        0.78067186+0.j        , -0.40099113+0.38964196j,\n",
       "       -0.40099113-0.38964196j])"
      ]
     },
     "execution_count": 12,
     "metadata": {},
     "output_type": "execute_result"
    }
   ],
   "source": [
    "#importo numpy. El adverbio \"as\" -propio del lenguaje- me permite asignarle un prefijo a los comandos de \n",
    "#numpy -en este caso-sirve para distinguir los comandos de módulos distintos y prevenir conflictos de que un \n",
    "#comando que este en 2 módulos )\n",
    "import numpy as np\n",
    "sol=np.roots(L_part)\n",
    "sol"
   ]
  },
  {
   "cell_type": "code",
   "execution_count": 13,
   "metadata": {
    "collapsed": false
   },
   "outputs": [
    {
     "data": {
      "text/plain": [
       "array([ 0.89224847, -0.89224847,  0.        ,  0.38964196, -0.38964196])"
      ]
     },
     "execution_count": 13,
     "metadata": {},
     "output_type": "execute_result"
    }
   ],
   "source": [
    "sol.imag"
   ]
  },
  {
   "cell_type": "code",
   "execution_count": 14,
   "metadata": {
    "collapsed": false
   },
   "outputs": [
    {
     "data": {
      "image/png": "[encoded data removed]",
      "text/latex": [
       "$$0.780671858824$$"
      ],
      "text/plain": [
       "0.780671858824"
      ]
     },
     "execution_count": 14,
     "metadata": {},
     "output_type": "execute_result"
    }
   ],
   "source": [
    "#La única solución real es la tercera de la lista\n",
    "sol[2].real"
   ]
  },
  {
   "cell_type": "code",
   "execution_count": null,
   "metadata": {
    "collapsed": true
   },
   "outputs": [],
   "source": []
  }
 ],
 "metadata": {
  "kernelspec": {
   "display_name": "Python 2",
   "language": "python",
   "name": "python2"
  },
  "language_info": {
   "codemirror_mode": {
    "name": "ipython",
    "version": 2
   },
   "file_extension": ".py",
   "mimetype": "text/x-python",
   "name": "python",
   "nbconvert_exporter": "python",
   "pygments_lexer": "ipython2",
   "version": "2.7.11"
  }
 },
 "nbformat": 4,
 "nbformat_minor": 0
}
