{
 "cells": [
  {
   "cell_type": "code",
   "execution_count": 1,
   "metadata": {
    "collapsed": true
   },
   "outputs": [],
   "source": [
    "from sympy import *\n",
    "init_printing() #muestra símbolos más agradab"
   ]
  },
  {
   "cell_type": "code",
   "execution_count": 2,
   "metadata": {
    "collapsed": false
   },
   "outputs": [
    {
     "data": {
      "image/png": "[encoded data removed]",
      "text/latex": [
       "$$r$$"
      ],
      "text/plain": [
       "r"
      ]
     },
     "execution_count": 2,
     "metadata": {},
     "output_type": "execute_result"
    }
   ],
   "source": [
    "Cant_Cuerpos=3\n",
    "m=symbols('m0:%s' %Cant_Cuerpos, positive=True) #masas\n",
    "var('r',positive=True)"
   ]
  },
  {
   "cell_type": "code",
   "execution_count": 3,
   "metadata": {
    "collapsed": false
   },
   "outputs": [
    {
     "data": {
      "image/png": "[encoded data removed]",
      "text/latex": [
       "$$\\frac{m_{1} \\left(r + 1\\right)^{2} + m_{2} \\left(3 r^{2} + 3 r + 1\\right)}{m_{0} \\left(r^{2} + 3 r + 3\\right) + m_{1} \\left(r + 1\\right)^{2}}$$"
      ],
      "text/plain": [
       "          2      ⎛   2          ⎞\n",
       "m₁⋅(r + 1)  + m₂⋅⎝3⋅r  + 3⋅r + 1⎠\n",
       "─────────────────────────────────\n",
       "    ⎛ 2          ⎞             2 \n",
       " m₀⋅⎝r  + 3⋅r + 3⎠ + m₁⋅(r + 1)  "
      ]
     },
     "execution_count": 3,
     "metadata": {},
     "output_type": "execute_result"
    }
   ],
   "source": [
    "f=(m[2]*(3*r**2+3*r+1)+m[1]*(r+1)**2)/(m[0]*(r**2+3*r+3)+m[1]*(r+1)**2)\n",
    "f"
   ]
  },
  {
   "cell_type": "code",
   "execution_count": 4,
   "metadata": {
    "collapsed": false
   },
   "outputs": [
    {
     "data": {
      "image/png": "[encoded data removed]",
      "text/latex": [
       "$$\\frac{1}{\\left(m_{0} r^{2} + 3 m_{0} r + 3 m_{0} + m_{1} r^{2} + 2 m_{1} r + m_{1}\\right)^{2}} \\left(m_{0} m_{1} r^{2} + 4 m_{0} m_{1} r + 3 m_{0} m_{1} + 6 m_{0} m_{2} r^{2} + 16 m_{0} m_{2} r + 6 m_{0} m_{2} + 3 m_{1} m_{2} r^{2} + 4 m_{1} m_{2} r + m_{1} m_{2}\\right)$$"
      ],
      "text/plain": [
       "       2                                  2                                   \n",
       "m₀⋅m₁⋅r  + 4⋅m₀⋅m₁⋅r + 3⋅m₀⋅m₁ + 6⋅m₀⋅m₂⋅r  + 16⋅m₀⋅m₂⋅r + 6⋅m₀⋅m₂ + 3⋅m₁⋅m₂⋅r\n",
       "──────────────────────────────────────────────────────────────────────────────\n",
       "                                                                        2     \n",
       "                           ⎛    2                       2              ⎞      \n",
       "                           ⎝m₀⋅r  + 3⋅m₀⋅r + 3⋅m₀ + m₁⋅r  + 2⋅m₁⋅r + m₁⎠      \n",
       "\n",
       "2                    \n",
       "  + 4⋅m₁⋅m₂⋅r + m₁⋅m₂\n",
       "─────────────────────\n",
       "                     \n",
       "                     \n",
       "                     "
      ]
     },
     "execution_count": 4,
     "metadata": {},
     "output_type": "execute_result"
    }
   ],
   "source": [
    "f.diff(r).simplify().factor()\n",
    "\n",
    "\n"
   ]
  },
  {
   "cell_type": "code",
   "execution_count": 5,
   "metadata": {
    "collapsed": false
   },
   "outputs": [
    {
     "data": {
      "image/png": "[encoded data removed]",
      "text/latex": [
       "$$\\frac{m_{1} + m_{2}}{3 m_{0} + m_{1}}$$"
      ],
      "text/plain": [
       " m₁ + m₂ \n",
       "─────────\n",
       "3⋅m₀ + m₁"
      ]
     },
     "execution_count": 5,
     "metadata": {},
     "output_type": "execute_result"
    }
   ],
   "source": [
    "f.subs(r,0)"
   ]
  },
  {
   "cell_type": "code",
   "execution_count": 6,
   "metadata": {
    "collapsed": false
   },
   "outputs": [
    {
     "data": {
      "image/png": "[encoded data removed]",
      "text/latex": [
       "$$\\frac{m_{1} + 3 m_{2}}{m_{0} + m_{1}}$$"
      ],
      "text/plain": [
       "m₁ + 3⋅m₂\n",
       "─────────\n",
       " m₀ + m₁ "
      ]
     },
     "execution_count": 6,
     "metadata": {},
     "output_type": "execute_result"
    }
   ],
   "source": [
    "limit(f,r,oo)"
   ]
  },
  {
   "cell_type": "code",
   "execution_count": 7,
   "metadata": {
    "collapsed": true
   },
   "outputs": [],
   "source": [
    "x=symbols('x0:%s' %Cant_Cuerpos, real=True) #posiciones"
   ]
  },
  {
   "cell_type": "code",
   "execution_count": 8,
   "metadata": {
    "collapsed": false
   },
   "outputs": [],
   "source": [
    "U=sum([ sum([m[i]*m[j]/abs(x[i]-x[j]) for i in range(j) ]) for j in range(Cant_Cuerpos)])\n",
    "c=sum([m[j]*x[j]/sum(m) for j in range(Cant_Cuerpos)])\n",
    "#momento de inercia\n",
    "I=sum([m[j]*(x[j]-c)**2 for j in range(Cant_Cuerpos)])\n",
    "S=sum([m[j]/(abs(x[j]-c))**3 for j in range(Cant_Cuerpos)])\n",
    "i=0\n",
    "j=2\n",
    "#G=m[i]**2/2/abs(x[i]-c)+m[i]*m[j]*((x[i]-c)**2/abs((x[j]-c)**3)+(x[j]-c)**2/abs((x[i]-c)**3))+m[j]**2/2/abs(x[j]-c)-m[i]*m[j]/abs(x[i]-x[j])"
   ]
  },
  {
   "cell_type": "code",
   "execution_count": 12,
   "metadata": {
    "collapsed": false
   },
   "outputs": [],
   "source": [
    "epsilon=symbols('epsilon')\n",
    "U0=U.subs({x[0]:0,x[1]:1,x[2]:1+r,m[1]:1,m[0]:1,m[2]:1+epsilon}).simplify()\n",
    "I0=I.subs({x[0]:0,x[1]:1,x[2]:1+r,m[1]:1,m[0]:1,m[2]:1+epsilon}).simplify()\n",
    "S0=S.subs({x[0]:0,x[1]:1,x[2]:1+r,m[1]:1,m[0]:1,m[2]:1+epsilon}).simplify()\n",
    "#G0=G.subs({x[0]:0,x[1]:1,x[2]:1+r,m[1]:1,m[0]:1}).simplify()"
   ]
  },
  {
   "cell_type": "code",
   "execution_count": 14,
   "metadata": {
    "collapsed": false
   },
   "outputs": [
    {
     "data": {
      "image/png": "[encoded data removed]",
      "text/latex": [
       "$$\\frac{1}{\\epsilon + 3} \\left(\\frac{\\epsilon \\left(\\epsilon + 3\\right)^{2}}{\\left(2 r + 1\\right)^{2} \\left|{\\frac{2 r}{\\epsilon + 3} + \\frac{1}{\\epsilon + 3}}\\right|} + \\frac{\\left(\\epsilon + 3\\right)^{2}}{\\left(\\epsilon r + \\epsilon + r + 2\\right)^{2} \\left|{\\frac{\\epsilon r}{\\epsilon + 3} + \\frac{\\epsilon}{\\epsilon + 3} + \\frac{r}{\\epsilon + 3} + \\frac{2}{\\epsilon + 3}}\\right|} + \\frac{\\left(\\epsilon + 3\\right)^{2}}{\\left(\\epsilon r + r - 1\\right)^{2} \\left|{\\frac{\\epsilon r}{\\epsilon + 3} + \\frac{r}{\\epsilon + 3} - \\frac{1}{\\epsilon + 3}}\\right|} + \\frac{\\left(\\epsilon + 3\\right)^{2}}{\\left(2 r + 1\\right)^{2} \\left|{\\frac{2 r}{\\epsilon + 3} + \\frac{1}{\\epsilon + 3}}\\right|}\\right) \\left(2 \\epsilon r^{2} + 2 \\epsilon r + \\epsilon + 2 r^{2} + 2 r + 2\\right)$$"
      ],
      "text/plain": [
       "⎛                 2                                       2                   \n",
       "⎜        ε⋅(ε + 3)                                 (ε + 3)                    \n",
       "⎜────────────────────────── + ────────────────────────────────────────────────\n",
       "⎜         2 │ 2⋅r      1  │                    2 │ ε⋅r      ε       r       2 \n",
       "⎜(2⋅r + 1) ⋅│───── + ─────│   (ε⋅r + ε + r + 2) ⋅│───── + ───── + ───── + ────\n",
       "⎝           │ε + 3   ε + 3│                      │ε + 3   ε + 3   ε + 3   ε + \n",
       "──────────────────────────────────────────────────────────────────────────────\n",
       "                                                                              \n",
       "\n",
       "                           2                                  2         ⎞     \n",
       "                    (ε + 3)                            (ε + 3)          ⎟ ⎛   \n",
       "── + ────────────────────────────────────── + ──────────────────────────⎟⋅⎝2⋅ε\n",
       " │                2 │ ε⋅r      r       1  │            2 │ 2⋅r      1  │⎟     \n",
       "─│   (ε⋅r + r - 1) ⋅│───── + ───── - ─────│   (2⋅r + 1) ⋅│───── + ─────│⎟     \n",
       "3│                  │ε + 3   ε + 3   ε + 3│              │ε + 3   ε + 3│⎠     \n",
       "──────────────────────────────────────────────────────────────────────────────\n",
       "              ε + 3                                                           \n",
       "\n",
       "                                 \n",
       "  2                  2          ⎞\n",
       "⋅r  + 2⋅ε⋅r + ε + 2⋅r  + 2⋅r + 2⎠\n",
       "                                 \n",
       "                                 \n",
       "                                 \n",
       "─────────────────────────────────\n",
       "                                 "
      ]
     },
     "execution_count": 14,
     "metadata": {},
     "output_type": "execute_result"
    }
   ],
   "source": [
    "S0*I0"
   ]
  },
  {
   "cell_type": "code",
   "execution_count": null,
   "metadata": {
    "collapsed": true
   },
   "outputs": [],
   "source": []
  }
 ],
 "metadata": {
  "kernelspec": {
   "display_name": "Python 2",
   "language": "python",
   "name": "python2"
  },
  "language_info": {
   "codemirror_mode": {
    "name": "ipython",
    "version": 2
   },
   "file_extension": ".py",
   "mimetype": "text/x-python",
   "name": "python",
   "nbconvert_exporter": "python",
   "pygments_lexer": "ipython2",
   "version": "2.7.11"
  }
 },
 "nbformat": 4,
 "nbformat_minor": 0
}
