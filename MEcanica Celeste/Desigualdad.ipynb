{
 "cells": [
  {
   "cell_type": "markdown",
   "metadata": {},
   "source": [
    "<h2> Idea de Gastón </h2>"
   ]
  },
  {
   "cell_type": "code",
   "execution_count": 1,
   "metadata": {
    "collapsed": true
   },
   "outputs": [],
   "source": [
    "from sympy import *\n",
    "init_printing() #muestra símbolos más agradab"
   ]
  },
  {
   "cell_type": "code",
   "execution_count": 2,
   "metadata": {
    "collapsed": false
   },
   "outputs": [
    {
     "data": {
      "image/png": "[encoded data removed]",
      "text/latex": [
       "$$r$$"
      ],
      "text/plain": [
       "r"
      ]
     },
     "execution_count": 2,
     "metadata": {},
     "output_type": "execute_result"
    }
   ],
   "source": [
    "Cant_Cuerpos=3\n",
    "m=symbols('m0:%s' %Cant_Cuerpos, positive=True) #masas\n",
    "var('r',positive=True)"
   ]
  },
  {
   "cell_type": "code",
   "execution_count": 3,
   "metadata": {
    "collapsed": false
   },
   "outputs": [
    {
     "data": {
      "image/png": "[encoded data removed]",
      "text/latex": [
       "$$\\frac{m_{1} \\left(r + 1\\right)^{2} + m_{2} \\left(3 r^{2} + 3 r + 1\\right)}{m_{0} \\left(r^{2} + 3 r + 3\\right) + m_{1} \\left(r + 1\\right)^{2}}$$"
      ],
      "text/plain": [
       "          2      ⎛   2          ⎞\n",
       "m₁⋅(r + 1)  + m₂⋅⎝3⋅r  + 3⋅r + 1⎠\n",
       "─────────────────────────────────\n",
       "    ⎛ 2          ⎞             2 \n",
       " m₀⋅⎝r  + 3⋅r + 3⎠ + m₁⋅(r + 1)  "
      ]
     },
     "execution_count": 3,
     "metadata": {},
     "output_type": "execute_result"
    }
   ],
   "source": [
    "f=(m[2]*(3*r**2+3*r+1)+m[1]*(r+1)**2)/(m[0]*(r**2+3*r+3)+m[1]*(r+1)**2)\n",
    "f"
   ]
  },
  {
   "cell_type": "code",
   "execution_count": 4,
   "metadata": {
    "collapsed": false
   },
   "outputs": [
    {
     "data": {
      "image/png": "[encoded data removed]",
      "text/latex": [
       "$$\\frac{1}{\\left(m_{0} r^{2} + 3 m_{0} r + 3 m_{0} + m_{1} r^{2} + 2 m_{1} r + m_{1}\\right)^{2}} \\left(m_{0} m_{1} r^{2} + 4 m_{0} m_{1} r + 3 m_{0} m_{1} + 6 m_{0} m_{2} r^{2} + 16 m_{0} m_{2} r + 6 m_{0} m_{2} + 3 m_{1} m_{2} r^{2} + 4 m_{1} m_{2} r + m_{1} m_{2}\\right)$$"
      ],
      "text/plain": [
       "       2                                  2                                   \n",
       "m₀⋅m₁⋅r  + 4⋅m₀⋅m₁⋅r + 3⋅m₀⋅m₁ + 6⋅m₀⋅m₂⋅r  + 16⋅m₀⋅m₂⋅r + 6⋅m₀⋅m₂ + 3⋅m₁⋅m₂⋅r\n",
       "──────────────────────────────────────────────────────────────────────────────\n",
       "                                                                        2     \n",
       "                           ⎛    2                       2              ⎞      \n",
       "                           ⎝m₀⋅r  + 3⋅m₀⋅r + 3⋅m₀ + m₁⋅r  + 2⋅m₁⋅r + m₁⎠      \n",
       "\n",
       "2                    \n",
       "  + 4⋅m₁⋅m₂⋅r + m₁⋅m₂\n",
       "─────────────────────\n",
       "                     \n",
       "                     \n",
       "                     "
      ]
     },
     "execution_count": 4,
     "metadata": {},
     "output_type": "execute_result"
    }
   ],
   "source": [
    "f.diff(r).simplify().factor()\n",
    "\n",
    "\n"
   ]
  },
  {
   "cell_type": "code",
   "execution_count": 5,
   "metadata": {
    "collapsed": false
   },
   "outputs": [
    {
     "data": {
      "image/png": "[encoded data removed]",
      "text/latex": [
       "$$\\frac{m_{1} + m_{2}}{3 m_{0} + m_{1}}$$"
      ],
      "text/plain": [
       " m₁ + m₂ \n",
       "─────────\n",
       "3⋅m₀ + m₁"
      ]
     },
     "execution_count": 5,
     "metadata": {},
     "output_type": "execute_result"
    }
   ],
   "source": [
    "f.subs(r,0)"
   ]
  },
  {
   "cell_type": "code",
   "execution_count": 6,
   "metadata": {
    "collapsed": false
   },
   "outputs": [
    {
     "data": {
      "image/png": "[encoded data removed]",
      "text/latex": [
       "$$\\frac{m_{1} + 3 m_{2}}{m_{0} + m_{1}}$$"
      ],
      "text/plain": [
       "m₁ + 3⋅m₂\n",
       "─────────\n",
       " m₀ + m₁ "
      ]
     },
     "execution_count": 6,
     "metadata": {},
     "output_type": "execute_result"
    }
   ],
   "source": [
    "limit(f,r,oo)"
   ]
  },
  {
   "cell_type": "markdown",
   "metadata": {},
   "source": [
    "<h2> La función $f$ me da un algorítmo por punto fijo para encontrar soluciones ecuación de Euler </h2>"
   ]
  },
  {
   "cell_type": "code",
   "execution_count": 37,
   "metadata": {
    "collapsed": false
   },
   "outputs": [],
   "source": [
    "g=f**(1.0/3.0)\n",
    "Ecuacion=m[0]*r**5 + 3*m[0]*r**4 + 3*m[0]*r**3 + m[1]*r**5 + 2*m[1]*r**4 + m[1]*r**3 - m[1]*r**2 - 2*m[1]*r - m[1] - 3*m[2]*r**2 - 3*m[2]*r - m[2]\n"
   ]
  },
  {
   "cell_type": "code",
   "execution_count": 38,
   "metadata": {
    "collapsed": false
   },
   "outputs": [
    {
     "data": {
      "image/png": "[encoded data removed]",
      "text/latex": [
       "$$\\left ( 0.94624336178848, \\quad 7.46069872548105 \\cdot 10^{-14}\\right )$$"
      ],
      "text/plain": [
       "(0.94624336178848, 7.46069872548105e-14)"
      ]
     },
     "execution_count": 38,
     "metadata": {},
     "output_type": "execute_result"
    }
   ],
   "source": [
    "r0=10.0\n",
    "for i in range(10):\n",
    "    r0=g.subs({m[0]:1,m[1]:6,m[2]:.34234}).subs({r:r0})\n",
    "r0,Ecuacion.subs({m[0]:1,m[1]:6,m[2]:.34234}).subs(r,r0)"
   ]
  },
  {
   "cell_type": "code",
   "execution_count": null,
   "metadata": {
    "collapsed": true
   },
   "outputs": [],
   "source": []
  }
 ],
 "metadata": {
  "kernelspec": {
   "display_name": "Python [Root]",
   "language": "python",
   "name": "Python [Root]"
  },
  "language_info": {
   "codemirror_mode": {
    "name": "ipython",
    "version": 2
   },
   "file_extension": ".py",
   "mimetype": "text/x-python",
   "name": "python",
   "nbconvert_exporter": "python",
   "pygments_lexer": "ipython2",
   "version": "2.7.11"
  }
 },
 "nbformat": 4,
 "nbformat_minor": 0
}
