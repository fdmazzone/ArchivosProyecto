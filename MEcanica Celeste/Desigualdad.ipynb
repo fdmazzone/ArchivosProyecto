{
 "cells": [
  {
   "cell_type": "code",
   "execution_count": 1,
   "metadata": {
    "collapsed": true
   },
   "outputs": [],
   "source": [
    "from sympy import *\n",
    "init_printing() #muestra símbolos más agradab"
   ]
  },
  {
   "cell_type": "code",
   "execution_count": 2,
   "metadata": {
    "collapsed": false
   },
   "outputs": [
    {
     "data": {
      "image/png": "[encoded data removed]",
      "text/latex": [
       "$$r$$"
      ],
      "text/plain": [
       "r"
      ]
     },
     "execution_count": 2,
     "metadata": {},
     "output_type": "execute_result"
    }
   ],
   "source": [
    "Cant_Cuerpos=3\n",
    "m=symbols('m0:%s' %Cant_Cuerpos, positive=True) #masas\n",
    "var('r',positive=True)"
   ]
  },
  {
   "cell_type": "code",
   "execution_count": 3,
   "metadata": {
    "collapsed": false
   },
   "outputs": [
    {
     "data": {
      "image/png": "[encoded data removed]",
      "text/latex": [
       "$$\\frac{m_{1} \\left(r + 1\\right)^{2} + m_{2} \\left(3 r^{2} + 3 r + 1\\right)}{m_{0} \\left(r^{2} + 3 r + 3\\right) + m_{1} \\left(r + 1\\right)^{2}}$$"
      ],
      "text/plain": [
       "          2      ⎛   2          ⎞\n",
       "m₁⋅(r + 1)  + m₂⋅⎝3⋅r  + 3⋅r + 1⎠\n",
       "─────────────────────────────────\n",
       "    ⎛ 2          ⎞             2 \n",
       " m₀⋅⎝r  + 3⋅r + 3⎠ + m₁⋅(r + 1)  "
      ]
     },
     "execution_count": 3,
     "metadata": {},
     "output_type": "execute_result"
    }
   ],
   "source": [
    "f=(m[2]*(3*r**2+3*r+1)+m[1]*(r+1)**2)/(m[0]*(r**2+3*r+3)+m[1]*(r+1)**2)\n",
    "f"
   ]
  },
  {
   "cell_type": "code",
   "execution_count": 4,
   "metadata": {
    "collapsed": false
   },
   "outputs": [
    {
     "data": {
      "image/png": "[encoded data removed]",
      "text/latex": [
       "$$\\frac{1}{\\left(m_{0} r^{2} + 3 m_{0} r + 3 m_{0} + m_{1} r^{2} + 2 m_{1} r + m_{1}\\right)^{2}} \\left(m_{0} m_{1} r^{2} + 4 m_{0} m_{1} r + 3 m_{0} m_{1} + 6 m_{0} m_{2} r^{2} + 16 m_{0} m_{2} r + 6 m_{0} m_{2} + 3 m_{1} m_{2} r^{2} + 4 m_{1} m_{2} r + m_{1} m_{2}\\right)$$"
      ],
      "text/plain": [
       "       2                                  2                                   \n",
       "m₀⋅m₁⋅r  + 4⋅m₀⋅m₁⋅r + 3⋅m₀⋅m₁ + 6⋅m₀⋅m₂⋅r  + 16⋅m₀⋅m₂⋅r + 6⋅m₀⋅m₂ + 3⋅m₁⋅m₂⋅r\n",
       "──────────────────────────────────────────────────────────────────────────────\n",
       "                                                                        2     \n",
       "                           ⎛    2                       2              ⎞      \n",
       "                           ⎝m₀⋅r  + 3⋅m₀⋅r + 3⋅m₀ + m₁⋅r  + 2⋅m₁⋅r + m₁⎠      \n",
       "\n",
       "2                    \n",
       "  + 4⋅m₁⋅m₂⋅r + m₁⋅m₂\n",
       "─────────────────────\n",
       "                     \n",
       "                     \n",
       "                     "
      ]
     },
     "execution_count": 4,
     "metadata": {},
     "output_type": "execute_result"
    }
   ],
   "source": [
    "f.diff(r).simplify().factor()\n",
    "\n",
    "\n"
   ]
  },
  {
   "cell_type": "code",
   "execution_count": 5,
   "metadata": {
    "collapsed": false
   },
   "outputs": [
    {
     "data": {
      "image/png": "[encoded data removed]",
      "text/latex": [
       "$$\\frac{m_{1} + m_{2}}{3 m_{0} + m_{1}}$$"
      ],
      "text/plain": [
       " m₁ + m₂ \n",
       "─────────\n",
       "3⋅m₀ + m₁"
      ]
     },
     "execution_count": 5,
     "metadata": {},
     "output_type": "execute_result"
    }
   ],
   "source": [
    "f.subs(r,0)"
   ]
  },
  {
   "cell_type": "code",
   "execution_count": 6,
   "metadata": {
    "collapsed": false
   },
   "outputs": [
    {
     "data": {
      "image/png": "[encoded data removed]",
      "text/latex": [
       "$$\\frac{m_{1} + 3 m_{2}}{m_{0} + m_{1}}$$"
      ],
      "text/plain": [
       "m₁ + 3⋅m₂\n",
       "─────────\n",
       " m₀ + m₁ "
      ]
     },
     "execution_count": 6,
     "metadata": {},
     "output_type": "execute_result"
    }
   ],
   "source": [
    "limit(f,r,oo)"
   ]
  },
  {
   "cell_type": "code",
   "execution_count": 7,
   "metadata": {
    "collapsed": true
   },
   "outputs": [],
   "source": [
    "x=symbols('x0:%s' %Cant_Cuerpos, real=True) #posiciones"
   ]
  },
  {
   "cell_type": "code",
   "execution_count": 47,
   "metadata": {
    "collapsed": false
   },
   "outputs": [],
   "source": [
    "U=sum([ sum([m[i]*m[j]/abs(x[i]-x[j]) for i in range(j) ]) for j in range(Cant_Cuerpos)])\n",
    "c=sum([m[j]*x[j]/sum(m) for j in range(Cant_Cuerpos)])\n",
    "#momento de inercia\n",
    "I=sum([m[j]*(x[j]-c)**2 for j in range(Cant_Cuerpos)])\n",
    "S=sum([m[j]/(abs(x[j]-c))**3 for j in range(Cant_Cuerpos)])\n",
    "i=0\n",
    "j=2\n",
    "G=m[i]**2/2/abs(x[i]-c)+m[i]*m[j]*((x[i]-c)**2/abs((x[j]-c)**3)+(x[j]-c)**2/abs((x[i]-c)**3))+m[j]**2/2/abs(x[j]-c)-m[i]*m[j]/abs(x[i]-x[j])"
   ]
  },
  {
   "cell_type": "code",
   "execution_count": 49,
   "metadata": {
    "collapsed": false
   },
   "outputs": [],
   "source": [
    "#U0=U.subs({x[0]:0,x[1]:1,x[2]:1+r,m[1]:1,m[0]:1}).simplify()\n",
    "#I0=I.subs({x[0]:0,x[1]:1,x[2]:1+r,m[1]:1,m[0]:1}).simplify()\n",
    "#S0=S.subs({x[0]:0,x[1]:1,x[2]:1+r,m[1]:1,m[0]:1}).simplify()\n",
    "G0=G.subs({x[0]:0,x[1]:1,x[2]:1+r,m[1]:1,m[0]:1}).simplify()"
   ]
  },
  {
   "cell_type": "code",
   "execution_count": 52,
   "metadata": {
    "collapsed": false
   },
   "outputs": [
    {
     "data": {
      "image/png": "[encoded data removed]",
      "text/latex": [
       "$$\\frac{m_{2} \\left(r + 1\\right) + 1}{m_{2} + 2}$$"
      ],
      "text/plain": [
       "m₂⋅(r + 1) + 1\n",
       "──────────────\n",
       "    m₂ + 2    "
      ]
     },
     "execution_count": 52,
     "metadata": {},
     "output_type": "execute_result"
    }
   ],
   "source": [
    "c.subs({x[0]:0,x[1]:1,x[2]:1+r,m[1]:1,m[0]:1}).simplify()"
   ]
  },
  {
   "cell_type": "code",
   "execution_count": 16,
   "metadata": {
    "collapsed": false
   },
   "outputs": [
    {
     "data": {
      "image/png": "[encoded data removed]",
      "text/latex": [
       "$$- m_{1} - m_{2} + \\left(1 + \\frac{3 m_{2}}{m_{0}}\\right)^{\\frac{5}{3}} \\left(m_{0} + m_{1}\\right) + \\left(1 + \\frac{3 m_{2}}{m_{0}}\\right)^{\\frac{4}{3}} \\left(3 m_{0} + 2 m_{1}\\right) + \\left(1 + \\frac{3 m_{2}}{m_{0}}\\right)^{\\frac{2}{3}} \\left(- m_{1} - 3 m_{2}\\right) + \\sqrt[3]{1 + \\frac{3 m_{2}}{m_{0}}} \\left(- 2 m_{1} - 3 m_{2}\\right) + \\left(1 + \\frac{3 m_{2}}{m_{0}}\\right) \\left(3 m_{0} + m_{1}\\right)$$"
      ],
      "text/plain": [
       "                     5/3                       4/3                           2\n",
       "           ⎛    3⋅m₂⎞                ⎛    3⋅m₂⎞                    ⎛    3⋅m₂⎞ \n",
       "-m₁ - m₂ + ⎜1 + ────⎟   ⋅(m₀ + m₁) + ⎜1 + ────⎟   ⋅(3⋅m₀ + 2⋅m₁) + ⎜1 + ────⎟ \n",
       "           ⎝     m₀ ⎠                ⎝     m₀ ⎠                    ⎝     m₀ ⎠ \n",
       "\n",
       "/3                    __________                                        \n",
       "                     ╱     3⋅m₂                   ⎛    3⋅m₂⎞            \n",
       "  ⋅(-m₁ - 3⋅m₂) + 3 ╱  1 + ──── ⋅(-2⋅m₁ - 3⋅m₂) + ⎜1 + ────⎟⋅(3⋅m₀ + m₁)\n",
       "                  ╲╱        m₀                    ⎝     m₀ ⎠            "
      ]
     },
     "execution_count": 16,
     "metadata": {},
     "output_type": "execute_result"
    }
   ],
   "source": [
    "cion.subs(r,(3*m[2]/m[0]+1)**Rational(1,3))"
   ]
  },
  {
   "cell_type": "code",
   "execution_count": 53,
   "metadata": {
    "collapsed": false
   },
   "outputs": [
    {
     "data": {
      "image/png": "[encoded data removed]",
      "text/latex": [
       "$$\\frac{m_{0}^{2}}{2 \\left|{x_{0}}\\right|} - \\frac{m_{0} m_{2}}{\\left|{x_{0} - x_{2}}\\right|} + \\frac{m_{2}^{2}}{2 \\left|{x_{2}}\\right|}$$"
      ],
      "text/plain": [
       "   2                    2  \n",
       " m₀        m₀⋅m₂      m₂   \n",
       "────── - ───────── + ──────\n",
       "2⋅│x₀│   │x₀ - x₂│   2⋅│x₂│"
      ]
     },
     "execution_count": 53,
     "metadata": {},
     "output_type": "execute_result"
    }
   ],
   "source": [
    "m[i]**2/2/abs(x[i])+m[j]**2/2/abs(x[j])-m[i]*m[j]/abs(x[i]-x[j])"
   ]
  },
  {
   "cell_type": "code",
   "execution_count": 75,
   "metadata": {
    "collapsed": false
   },
   "outputs": [
    {
     "data": {
      "text/plain": [
       "<sympy.plotting.plot.Plot at 0x7f5f681ced50>"
      ]
     },
     "execution_count": 75,
     "metadata": {},
     "output_type": "execute_result"
    }
   ],
   "source": [
    "var('y',positive=True)\n",
    "f=y**2/abs(1-y)**3+(1-y)**2/y**3\n",
    "plot(f,(y,0.1,10),ylim=(-1,30))"
   ]
  },
  {
   "cell_type": "code",
   "execution_count": 73,
   "metadata": {
    "collapsed": false
   },
   "outputs": [
    {
     "data": {
      "image/png": "[encoded data removed]",
      "text/latex": [
       "$$\\frac{159049}{729000}$$"
      ],
      "text/plain": [
       "159049\n",
       "──────\n",
       "729000"
      ]
     },
     "execution_count": 73,
     "metadata": {},
     "output_type": "execute_result"
    }
   ],
   "source": [
    "f.subs(y,10)"
   ]
  },
  {
   "cell_type": "code",
   "execution_count": null,
   "metadata": {
    "collapsed": true
   },
   "outputs": [],
   "source": []
  }
 ],
 "metadata": {
  "kernelspec": {
   "display_name": "Python 2",
   "language": "python",
   "name": "python2"
  },
  "language_info": {
   "codemirror_mode": {
    "name": "ipython",
    "version": 2
   },
   "file_extension": ".py",
   "mimetype": "text/x-python",
   "name": "python",
   "nbconvert_exporter": "python",
   "pygments_lexer": "ipython2",
   "version": "2.7.11"
  }
 },
 "nbformat": 4,
 "nbformat_minor": 0
}
