{
 "cells": [
  {
   "cell_type": "code",
   "execution_count": 1,
   "metadata": {
    "collapsed": false
   },
   "outputs": [
    {
     "name": "stderr",
     "output_type": "stream",
     "text": [
      "/home/fernando/anaconda2/lib/python2.7/site-packages/matplotlib/font_manager.py:273: UserWarning: Matplotlib is building the font cache using fc-list. This may take a moment.\n",
      "  warnings.warn('Matplotlib is building the font cache using fc-list. This may take a moment.')\n"
     ]
    }
   ],
   "source": [
    "from matplotlib.pyplot import *\n",
    "from mpl_toolkits.mplot3d import *\n",
    "from pylab import *\n",
    "from numpy import *\n"
   ]
  },
  {
   "cell_type": "code",
   "execution_count": 2,
   "metadata": {
    "collapsed": true
   },
   "outputs": [],
   "source": [
    "Cant_Cuerpos=3\n",
    "def func(m):\n",
    "    L=[m[0]+m[1],3*m[0]+2*m[1], 3*m[0]+m[1], -(m[1]+3*m[2]), -(2*m[1]+3*m[2]), -(m[1]+m[2])]\n",
    "    sol=roots(L)\n",
    "    for s in sol:\n",
    "        if s.imag==0 and s.real>0:\n",
    "            Solreal=s.real\n",
    "    return  Solreal\n"
   ]
  },
  {
   "cell_type": "code",
   "execution_count": 5,
   "metadata": {
    "collapsed": false
   },
   "outputs": [],
   "source": [
    "M1=arange(0.01,20,.1)\n",
    "M2=arange(.01,20,.1)\n",
    "Z=zeros([shape(M1)[0],shape(M2)[0]])\n",
    "for  i in range(shape(M1)[0]):\n",
    "    for j in range(shape(M2)[0]):\n",
    "        Z[i,j]=func([1,M1[i],M2[j]])\n",
    "Z=minimum(Z,1000*ones(shape(Z)))\n",
    "X,Y=meshgrid(M1,M2)\n",
    "fig=figure()\n",
    "ax=Axes3D(fig)\n",
    "ax.plot_surface(X,Y,Z.transpose())\n",
    "xlabel('m1')\n",
    "ylabel('m2')\n",
    "show()"
   ]
  },
  {
   "cell_type": "markdown",
   "metadata": {},
   "source": [
    "<img src=\"https://raw.githubusercontent.com/fdmazzone/ArchivosProyecto/master/MEcanica%20Celeste/Funcion%20r(m1,m2).png\" width=\"50%\" height=\"50%\"/>"
   ]
  },
  {
   "cell_type": "code",
   "execution_count": 6,
   "metadata": {
    "collapsed": true
   },
   "outputs": [],
   "source": [
    "fig=figure()\n",
    "V=[k for k in arange(0,10,.1)]\n",
    "cp = contour(X, Y, Z.transpose(),V)\n",
    "clabel(cp, inline=True,fontsize=10)\n",
    "title('Contour Plot')\n",
    "xlabel('m1')\n",
    "ylabel('m2')\n",
    "\n",
    "show()"
   ]
  },
  {
   "cell_type": "markdown",
   "metadata": {},
   "source": [
    "<img src=\"https://raw.githubusercontent.com/fdmazzone/ArchivosProyecto/master/MEcanica%20Celeste/Funcion%20r(m1,m2)contour.png\" width=\"50%\" height=\"50%\"/>"
   ]
  },
  {
   "cell_type": "code",
   "execution_count": null,
   "metadata": {
    "collapsed": true
   },
   "outputs": [],
   "source": []
  }
 ],
 "metadata": {
  "kernelspec": {
   "display_name": "Python 2",
   "language": "python",
   "name": "python2"
  },
  "language_info": {
   "codemirror_mode": {
    "name": "ipython",
    "version": 2
   },
   "file_extension": ".py",
   "mimetype": "text/x-python",
   "name": "python",
   "nbconvert_exporter": "python",
   "pygments_lexer": "ipython2",
   "version": "2.7.11"
  }
 },
 "nbformat": 4,
 "nbformat_minor": 0
}
