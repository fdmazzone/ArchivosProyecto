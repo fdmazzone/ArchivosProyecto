{
 "cells": [
  {
   "cell_type": "code",
   "execution_count": 1,
   "metadata": {
    "collapsed": true
   },
   "outputs": [],
   "source": [
    "from sympy import*\n",
    "init_printing()\n"
   ]
  },
  {
   "cell_type": "code",
   "execution_count": 2,
   "metadata": {
    "collapsed": true
   },
   "outputs": [],
   "source": [
    "m1,m2,r1,r2,alpha,lam=symbols('m_1,m_2,r_1,r_2,alpha,lambda',positive=true)"
   ]
  },
  {
   "cell_type": "markdown",
   "metadata": {},
   "source": []
  },
  {
   "cell_type": "code",
   "execution_count": 3,
   "metadata": {
    "collapsed": false
   },
   "outputs": [
    {
     "data": {
      "image/png": "[encoded data removed]",
      "text/latex": [
       "$$\\left ( - \\frac{m_{1}}{4 r_{1}^{2}} - \\frac{m_{2}}{\\left(r_{1} + r_{2}\\right)^{2}} + \\frac{m_{2}}{\\left(- r_{1} + r_{2}\\right)^{2}} = - \\lambda r_{1}, \\quad - \\frac{m_{1}}{\\left(r_{1} + r_{2}\\right)^{2}} - \\frac{m_{1}}{\\left(- r_{1} + r_{2}\\right)^{2}} - \\frac{m_{2}}{4 r_{2}^{2}} = - \\lambda r_{2}\\right )$$"
      ],
      "text/plain": [
       "⎛    m₁        m₂            m₂                    m₁            m₁         m₂\n",
       "⎜- ───── - ────────── + ─────────── = -λ⋅r₁, - ────────── - ─────────── - ────\n",
       "⎜      2            2             2                     2             2       \n",
       "⎝  4⋅r₁    (r₁ + r₂)    (-r₁ + r₂)             (r₁ + r₂)    (-r₁ + r₂)    4⋅r₂\n",
       "\n",
       "         ⎞\n",
       "─ = -λ⋅r₂⎟\n",
       "2        ⎟\n",
       "         ⎠"
      ]
     },
     "execution_count": 3,
     "metadata": {},
     "output_type": "execute_result"
    }
   ],
   "source": [
    "#ecuaciones de configuracion central para la masa m1 y m2\n",
    "eq1=Eq(m2/(r2-r1)**2-m1/4/r1**2-m2/(r2+r1)**2,-lam*r1)\n",
    "eq2=Eq(-m1/(r2-r1)**2-m2/4/r2**2-m1/(r2+r1)**2,-lam*r2)\n",
    "eq1, eq2"
   ]
  },
  {
   "cell_type": "code",
   "execution_count": 4,
   "metadata": {
    "collapsed": false
   },
   "outputs": [
    {
     "data": {
      "image/png": "[encoded data removed]",
      "text/latex": [
       "$$\\left ( - \\frac{m_{1}}{4} - \\frac{m_{2}}{\\left(\\alpha + 1\\right)^{2}} + \\frac{m_{2}}{\\left(\\alpha - 1\\right)^{2}} = -1, \\quad - \\frac{m_{1}}{\\left(\\alpha + 1\\right)^{2}} - \\frac{m_{1}}{\\left(\\alpha - 1\\right)^{2}} - \\frac{m_{2}}{4 \\alpha^{2}} = - \\alpha\\right )$$"
      ],
      "text/plain": [
       "⎛  m₁      m₂         m₂               m₁         m₁       m₂      ⎞\n",
       "⎜- ── - ──────── + ──────── = -1, - ──────── - ──────── - ──── = -α⎟\n",
       "⎜  4           2          2                2          2      2     ⎟\n",
       "⎝       (α + 1)    (α - 1)          (α + 1)    (α - 1)    4⋅α      ⎠"
      ]
     },
     "execution_count": 4,
     "metadata": {},
     "output_type": "execute_result"
    }
   ],
   "source": [
    "#asumimos r1=1, r2=alpha y lambda=1\n",
    "eq1=eq1.subs(r2,alpha).subs(r1,1).subs(lam,1)\n",
    "eq2=eq2.subs(r2,alpha).subs(r1,1).subs(lam,1)\n",
    "eq1, eq2"
   ]
  },
  {
   "cell_type": "code",
   "execution_count": 7,
   "metadata": {
    "collapsed": false
   },
   "outputs": [
    {
     "data": {
      "image/png": "[encoded data removed]",
      "text/latex": [
       "$$\\left \\{ m_{1} : \\frac{4 \\left(\\alpha^{4} - 2 \\alpha^{2} + 1\\right) \\left(17 \\alpha^{4} - 2 \\alpha^{2} + 1\\right)}{128 \\alpha^{3} \\left(\\alpha^{2} + 1\\right) + \\left(\\alpha^{4} - 2 \\alpha^{2} + 1\\right)^{2}}, \\quad m_{2} : \\frac{4 \\alpha^{2} \\left(- 8 \\alpha^{2} + \\alpha \\left(\\alpha^{4} - 2 \\alpha^{2} + 1\\right) - 8\\right) \\left(\\alpha^{4} - 2 \\alpha^{2} + 1\\right)}{128 \\alpha^{3} \\left(\\alpha^{2} + 1\\right) + \\left(\\alpha^{4} - 2 \\alpha^{2} + 1\\right)^{2}}\\right \\}$$"
      ],
      "text/plain": [
       "⎧      ⎛ 4      2    ⎞ ⎛    4      2    ⎞         2 ⎛     2     ⎛ 4      2    \n",
       "⎪    4⋅⎝α  - 2⋅α  + 1⎠⋅⎝17⋅α  - 2⋅α  + 1⎠      4⋅α ⋅⎝- 8⋅α  + α⋅⎝α  - 2⋅α  + 1\n",
       "⎪m₁: ────────────────────────────────────, m₂: ───────────────────────────────\n",
       "⎨                                      2                                      \n",
       "⎪          3 ⎛ 2    ⎞   ⎛ 4      2    ⎞                       3 ⎛ 2    ⎞   ⎛ 4\n",
       "⎪     128⋅α ⋅⎝α  + 1⎠ + ⎝α  - 2⋅α  + 1⎠                  128⋅α ⋅⎝α  + 1⎠ + ⎝α \n",
       "⎩                                                                             \n",
       "\n",
       "⎞    ⎞ ⎛ 4      2    ⎞⎫\n",
       "⎠ - 8⎠⋅⎝α  - 2⋅α  + 1⎠⎪\n",
       "──────────────────────⎪\n",
       "            2         ⎬\n",
       "      2    ⎞          ⎪\n",
       " - 2⋅α  + 1⎠          ⎪\n",
       "                      ⎭"
      ]
     },
     "execution_count": 7,
     "metadata": {},
     "output_type": "execute_result"
    }
   ],
   "source": [
    "#resolvemos\n",
    "sol=solve([eq1,eq2],[m1,m2])\n",
    "sol"
   ]
  },
  {
   "cell_type": "code",
   "execution_count": 8,
   "metadata": {},
   "outputs": [
    {
     "data": {
      "image/png": "[encoded data removed]",
      "text/latex": [
       "$$\\frac{4 \\left(\\alpha - 1\\right)^{2} \\left(\\alpha + 1\\right)^{2} \\left(17 \\alpha^{4} - 2 \\alpha^{2} + 1\\right)}{\\alpha^{8} - 4 \\alpha^{6} + 128 \\alpha^{5} + 6 \\alpha^{4} + 128 \\alpha^{3} - 4 \\alpha^{2} + 1}$$"
      ],
      "text/plain": [
       "             2        2 ⎛    4      2    ⎞   \n",
       "    4⋅(α - 1) ⋅(α + 1) ⋅⎝17⋅α  - 2⋅α  + 1⎠   \n",
       "─────────────────────────────────────────────\n",
       " 8      6        5      4        3      2    \n",
       "α  - 4⋅α  + 128⋅α  + 6⋅α  + 128⋅α  - 4⋅α  + 1"
      ]
     },
     "execution_count": 8,
     "metadata": {},
     "output_type": "execute_result"
    }
   ],
   "source": [
    "sol[m1].factor()"
   ]
  },
  {
   "cell_type": "code",
   "execution_count": 6,
   "metadata": {
    "collapsed": false
   },
   "outputs": [
    {
     "data": {
      "image/png": "[encoded data removed]",
      "text/latex": [
       "$$\\alpha^{5} - 2 \\alpha^{3} - 8 \\alpha^{2} + \\alpha - 8 = 0$$"
      ],
      "text/plain": [
       " 5      3      2            \n",
       "α  - 2⋅α  - 8⋅α  + α - 8 = 0"
      ]
     },
     "execution_count": 6,
     "metadata": {},
     "output_type": "execute_result"
    }
   ],
   "source": [
    "#el denominador de m1 y m2 es siempre positivo\n",
    "#el numerador de m1 es siempre positivo\n",
    "#analizamos cuando es positivo el numerador de m2\n",
    "#que es lo mismo que analizar cuando es positivo el término -8a^2+a(a^4-2a^2+1)-8\n",
    "\n",
    "eq=Eq(-8*alpha**2 + alpha*(alpha**4 - 2*alpha**2 + 1) - 8)\n",
    "eq.expand()"
   ]
  },
  {
   "cell_type": "code",
   "execution_count": 7,
   "metadata": {
    "collapsed": true
   },
   "outputs": [],
   "source": [
    "#la ecuacion anterior tiene dos cambio de signo asi que tendria que tener solo una raiz positiva o tres raices positivas"
   ]
  },
  {
   "cell_type": "code",
   "execution_count": 8,
   "metadata": {
    "collapsed": false
   },
   "outputs": [
    {
     "data": {
      "image/png": "[encoded data removed]",
      "text/latex": [
       "$$1.0 x^{5} - 2 x^{3} - 8 x^{2} + x - 8 = 0$$"
      ],
      "text/plain": [
       "     5      3      2            \n",
       "1.0⋅x  - 2⋅x  - 8⋅x  + x - 8 = 0"
      ]
     },
     "execution_count": 8,
     "metadata": {},
     "output_type": "execute_result"
    }
   ],
   "source": [
    "x=symbols('x')\n",
    "eqq=Eq(1.0*x**5-2*x**3-8*x**2+x-8)\n",
    "eqq"
   ]
  },
  {
   "cell_type": "code",
   "execution_count": 9,
   "metadata": {
    "collapsed": false
   },
   "outputs": [
    {
     "data": {
      "image/png": "[encoded data removed]",
      "text/latex": [
       "$$\\left [ 2.39681228910984, \\quad -1.3786402754479 - 1.4061504512212 i, \\quad -1.3786402754479 + 1.4061504512212 i, \\quad 0.180234130892978 - 0.910070785252552 i, \\quad 0.180234130892978 + 0.910070785252552 i\\right ]$$"
      ],
      "text/plain": [
       "[2.39681228910984, -1.3786402754479 - 1.4061504512212⋅ⅈ, -1.3786402754479 + 1.\n",
       "4061504512212⋅ⅈ, 0.180234130892978 - 0.910070785252552⋅ⅈ, 0.180234130892978 + \n",
       "0.910070785252552⋅ⅈ]"
      ]
     },
     "execution_count": 9,
     "metadata": {},
     "output_type": "execute_result"
    }
   ],
   "source": [
    "solve(eqq)"
   ]
  },
  {
   "cell_type": "code",
   "execution_count": 10,
   "metadata": {
    "collapsed": false
   },
   "outputs": [],
   "source": [
    "#luego el numerador de m2 es mayor que cero si a>2.39681228910984"
   ]
  },
  {
   "cell_type": "code",
   "execution_count": 12,
   "metadata": {
    "collapsed": false
   },
   "outputs": [
    {
     "data": {
      "image/png": "[encoded data removed]",
      "text/latex": [
       "$$\\infty$$"
      ],
      "text/plain": [
       "∞"
      ]
     },
     "execution_count": 12,
     "metadata": {},
     "output_type": "execute_result"
    }
   ],
   "source": [
    "limit(sol[m1],alpha,2.39681228910984)\n",
    "limit(sol[m1],alpha,oo)\n",
    "limit(sol[m2],alpha,2.39681228910984)\n",
    "limit(sol[m2],alpha,oo)\n"
   ]
  },
  {
   "cell_type": "code",
   "execution_count": 10,
   "metadata": {},
   "outputs": [
    {
     "data": {
      "image/png": "[encoded data removed]",
      "text/latex": [
       "$$68$$"
      ],
      "text/plain": [
       "68"
      ]
     },
     "execution_count": 10,
     "metadata": {},
     "output_type": "execute_result"
    }
   ],
   "source": [
    "limit(sol[m1],alpha,oo)"
   ]
  },
  {
   "cell_type": "code",
   "execution_count": 13,
   "metadata": {
    "collapsed": false
   },
   "outputs": [
    {
     "data": {
      "image/png": "[encoded data removed]",
      "text/latex": [
       "$$\\frac{17 \\alpha^{4} - 2 \\alpha^{2} + 1}{\\alpha^{2} \\left(- 8 \\alpha^{2} + \\alpha \\left(\\alpha^{4} - 2 \\alpha^{2} + 1\\right) - 8\\right)}$$"
      ],
      "text/plain": [
       "              4      2             \n",
       "          17⋅α  - 2⋅α  + 1         \n",
       "───────────────────────────────────\n",
       " 2 ⎛     2     ⎛ 4      2    ⎞    ⎞\n",
       "α ⋅⎝- 8⋅α  + α⋅⎝α  - 2⋅α  + 1⎠ - 8⎠"
      ]
     },
     "execution_count": 13,
     "metadata": {},
     "output_type": "execute_result"
    }
   ],
   "source": [
    "sol[m1]/sol[m2]"
   ]
  },
  {
   "cell_type": "code",
   "execution_count": 14,
   "metadata": {
    "collapsed": false
   },
   "outputs": [
    {
     "data": {
      "image/png": "[encoded data removed]",
      "text/latex": [
       "$$\\left [ 3.16212039808682\\right ]$$"
      ],
      "text/plain": [
       "[3.16212039808682]"
      ]
     },
     "execution_count": 14,
     "metadata": {},
     "output_type": "execute_result"
    }
   ],
   "source": [
    "solve(Eq(sol[m1]*1.0/sol[m2],1))"
   ]
  },
  {
   "cell_type": "code",
   "execution_count": null,
   "metadata": {},
   "outputs": [],
   "source": []
  }
 ],
 "metadata": {
  "kernelspec": {
   "display_name": "Python 2",
   "language": "python",
   "name": "python2"
  },
  "language_info": {
   "codemirror_mode": {
    "name": "ipython",
    "version": 2
   },
   "file_extension": ".py",
   "mimetype": "text/x-python",
   "name": "python",
   "nbconvert_exporter": "python",
   "pygments_lexer": "ipython2",
   "version": "2.7.14"
  }
 },
 "nbformat": 4,
 "nbformat_minor": 2
}
