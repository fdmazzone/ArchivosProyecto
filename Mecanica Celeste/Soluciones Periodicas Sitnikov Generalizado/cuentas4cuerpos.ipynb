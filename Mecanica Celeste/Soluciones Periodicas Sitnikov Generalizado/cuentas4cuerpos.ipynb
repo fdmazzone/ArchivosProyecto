{
 "cells": [
  {
   "cell_type": "code",
   "execution_count": 95,
   "metadata": {
    "collapsed": true
   },
   "outputs": [],
   "source": [
    "from sympy import *\n",
    "init_printing()"
   ]
  },
  {
   "cell_type": "markdown",
   "metadata": {},
   "source": [
    " Primero planteamos la desigualdad que se tiene que cumplir para que haya existencia de una trayectoria periódica\n",
    "$$ \\sum_{i<j}\\frac{m_im_j}{\\left|q_i-q_j\\right|} <\\left(\\sum_{i=1}^{n}\\frac{m_i}{|q_i|^3}\\right)\\left(\\sum_{i=1}^{n}m_i|q_i|^2\\right)$$ y queda lo siguiente\n",
    "\n",
    "$$  \\frac{\\mu(1-\\mu)}{1-x}+\\frac{\\mu(1-\\mu)}{1+x}+\\frac{\\mu^2}{2}+\\frac{(1-\\mu)^1}{2x}+\\frac{\\mu(1-\\mu)}{1+x}+\\frac{\\mu(1-\\mu)}{1-x}<\\left( \\mu+\\frac{1-\\mu}{x^3}+\\frac{1-\\mu}{x^3}+\\mu  \\right) \\left( \\mu+(1-\\mu)x^2+(1-\\mu)x^2+\\mu \\right) $$\n",
    "\n",
    "\n",
    "simplificando queda que\n",
    "\n",
    "$$ \\frac{2\\mu(1-\\mu)}{1-x} +\\frac{2\\mu(1-\\mu)}{1+x}+\\frac{\\mu^2}{2}+\\frac{(1-\\mu)^2}{2x}<4\\mu^2+4\\mu(1-\\mu)x^2+\\frac{4\\mu(1-\\mu)}{x^3}+\\frac{4(1-\\mu)^2}{x}$$\n",
    "\n",
    "Como $\\frac{\\mu^2}{2}<4\\mu^2$ y $\\frac{(1-\\mu)^2}{2x}<\\frac{4(1-\\mu)^2}{x}$ (sin tener en cuenta el término $4\\mu(1-\\mu)x^2$) sólo quedaría demostrar que \n",
    "\n",
    "$$ \\frac{2\\mu(1-\\mu)}{1-x} +\\frac{2\\mu(1-\\mu)}{1+x}<\\frac{4\\mu(1-\\mu)}{x^3}$$\n",
    "y esto es equivalente a demostrar que\n",
    "\n",
    "$$\\frac{x^3}{1-x^2}<2$$\n",
    "\n",
    "El lado izquierdo de la desigualdad anterior es una función creciente para $0<x<1$. Luego, si ponemos $x$ como función de $\\mu$ y vemos que esta función $x(\\mu)$ es decreciente, para $0<\\mu<1$, entonces va a valer que  $$\\frac{x(\\mu)^3}{1-x(\\mu)^2}<2,\\qquad \\text{para todo} \\qquad 0<\\mu<1$$  si vale que $$\\frac{x(0)^3}{1-x(0)^2}<2$$\n",
    "\n",
    "\n"
   ]
  },
  {
   "cell_type": "markdown",
   "metadata": {},
   "source": [
    " Para demostrar que la función $x(\\mu)$ es decreciente vamos a usar la ecuación que proviene del hecho que los cuerpos están en una configuración central, y que relaciona  $x$ con $\\mu$. La ecuación es la siguiente: "
   ]
  },
  {
   "cell_type": "code",
   "execution_count": 8,
   "metadata": {
    "collapsed": false
   },
   "outputs": [
    {
     "data": {
      "image/png": "[encoded data removed]",
      "text/latex": [
       "$$\\frac{\\mu}{4} - \\frac{\\mu}{x \\left(x + 1\\right)^{2}} + \\frac{\\mu}{x \\left(- x + 1\\right)^{2}} + \\frac{- \\mu + 1}{\\left(x + 1\\right)^{2}} + \\frac{- \\mu + 1}{\\left(- x + 1\\right)^{2}} - \\frac{1}{x^{3}} \\left(- \\frac{\\mu}{4} + \\frac{1}{4}\\right) = 0$$"
      ],
      "text/plain": [
       "                                                        μ   1    \n",
       "                                                      - ─ + ─    \n",
       "μ       μ             μ         -μ + 1      -μ + 1      4   4    \n",
       "─ - ────────── + ─────────── + ──────── + ───────── - ─────── = 0\n",
       "4            2             2          2           2       3      \n",
       "    x⋅(x + 1)    x⋅(-x + 1)    (x + 1)    (-x + 1)       x       "
      ]
     },
     "execution_count": 8,
     "metadata": {},
     "output_type": "execute_result"
    }
   ],
   "source": [
    "mu,x=symbols('mu,x',positive=True)\n",
    "ec=mu/4+(1-mu)/(1+x)**2+(1-mu)/(1-x)**2-mu/x/(1+x)**2-(1-mu)/4/x**3+mu/x/(1-x)**2\n",
    "Eq(ec)"
   ]
  },
  {
   "cell_type": "markdown",
   "metadata": {},
   "source": [
    "Simplificando queda "
   ]
  },
  {
   "cell_type": "code",
   "execution_count": 88,
   "metadata": {
    "collapsed": false
   },
   "outputs": [
    {
     "data": {
      "image/png": "[encoded data removed]",
      "text/latex": [
       "$$\\frac{1}{4 x^{3} \\left(x - 1\\right)^{2} \\left(x + 1\\right)^{2}} \\left(\\mu x^{7} - 10 \\mu x^{5} + \\mu x^{4} + 9 \\mu x^{3} - 2 \\mu x^{2} + \\mu + 8 x^{5} - x^{4} + 8 x^{3} + 2 x^{2} - 1\\right) = 0$$"
      ],
      "text/plain": [
       "   7         5      4        3        2          5    4      3      2        \n",
       "μ⋅x  - 10⋅μ⋅x  + μ⋅x  + 9⋅μ⋅x  - 2⋅μ⋅x  + μ + 8⋅x  - x  + 8⋅x  + 2⋅x  - 1    \n",
       "───────────────────────────────────────────────────────────────────────── = 0\n",
       "                             3        2        2                             \n",
       "                          4⋅x ⋅(x - 1) ⋅(x + 1)                              "
      ]
     },
     "execution_count": 88,
     "metadata": {},
     "output_type": "execute_result"
    }
   ],
   "source": [
    "ec=ec.simplify()\n",
    "ecuacion=Eq(ec)\n",
    "ecuacion"
   ]
  },
  {
   "cell_type": "markdown",
   "metadata": {},
   "source": [
    "Para que la expresión de arriba sea igual a cero el numerador tiene que ser igual a cero. Luego la relación que hay entre $x$ y $\\mu$ es la siguiente"
   ]
  },
  {
   "cell_type": "code",
   "execution_count": 54,
   "metadata": {
    "collapsed": false
   },
   "outputs": [
    {
     "data": {
      "image/png": "[encoded data removed]",
      "text/latex": [
       "$$\\mu x^{7} - 10 \\mu x^{5} + \\mu x^{4} + 9 \\mu x^{3} - 2 \\mu x^{2} + \\mu + 8 x^{5} - x^{4} + 8 x^{3} + 2 x^{2} - 1 = 0$$"
      ],
      "text/plain": [
       "   7         5      4        3        2          5    4      3      2        \n",
       "μ⋅x  - 10⋅μ⋅x  + μ⋅x  + 9⋅μ⋅x  - 2⋅μ⋅x  + μ + 8⋅x  - x  + 8⋅x  + 2⋅x  - 1 = 0"
      ]
     },
     "execution_count": 54,
     "metadata": {},
     "output_type": "execute_result"
    }
   ],
   "source": [
    "ecua=Eq(mu*x**7 - 10*mu*x**5 + mu*x**4 + 9*mu*x**3 - 2*mu*x**2 + mu + 8*x**5 - x**4 + 8*x**3 + 2*x**2 - 1)\n",
    "ecua"
   ]
  },
  {
   "cell_type": "markdown",
   "metadata": {},
   "source": [
    "Aplicando el teorema de la función implícita podemos hayar $\\frac{dx}{d\\mu}$"
   ]
  },
  {
   "cell_type": "code",
   "execution_count": 89,
   "metadata": {
    "collapsed": false
   },
   "outputs": [
    {
     "data": {
      "image/png": "[encoded data removed]",
      "text/latex": [
       "$$\\frac{- x^{7} + 10 x^{5} - x^{4} - 9 x^{3} + 2 x^{2} - 1}{x \\left(7 \\mu x^{5} - 50 \\mu x^{3} + 4 \\mu x^{2} + 27 \\mu x - 4 \\mu + 40 x^{3} - 4 x^{2} + 24 x + 4\\right)}$$"
      ],
      "text/plain": [
       "                    7       5    4      3      2                      \n",
       "                 - x  + 10⋅x  - x  - 9⋅x  + 2⋅x  - 1                  \n",
       "──────────────────────────────────────────────────────────────────────\n",
       "  ⎛     5         3        2                      3      2           ⎞\n",
       "x⋅⎝7⋅μ⋅x  - 50⋅μ⋅x  + 4⋅μ⋅x  + 27⋅μ⋅x - 4⋅μ + 40⋅x  - 4⋅x  + 24⋅x + 4⎠"
      ]
     },
     "execution_count": 89,
     "metadata": {},
     "output_type": "execute_result"
    }
   ],
   "source": [
    "X=Function('X')(mu)\n",
    "f1=(ecua.lhs).subs(x,X)\n",
    "f1=f1.diff(mu)\n",
    "f1\n",
    "dx=solve(Eq(f1),X.diff(mu))[0]\n",
    "dx\n",
    "dx=dx.subs(X,x)\n",
    "dx"
   ]
  },
  {
   "cell_type": "markdown",
   "metadata": {},
   "source": [
    "<h3> Veamos que la derivada $\\frac{dx}{d\\mu}$ es siempre negativa <h3>"
   ]
  },
  {
   "cell_type": "code",
   "execution_count": 56,
   "metadata": {
    "collapsed": false
   },
   "outputs": [
    {
     "name": "stdout",
     "output_type": "stream",
     "text": [
      "(-x**7 + 10*x**5 - x**4 - 9*x**3 + 2*x**2 - 1)/(x*(7*mu*x**5 - 50*mu*x**3 + 4*mu*x**2 + 27*mu*x - 4*mu + 40*x**3 - 4*x**2 + 24*x + 4))\n"
     ]
    }
   ],
   "source": [
    "print(dx)"
   ]
  },
  {
   "cell_type": "markdown",
   "metadata": {},
   "source": [
    "Veamos primero que el numerador de $\\frac{dx}{d\\mu}$ es siempre negativo"
   ]
  },
  {
   "cell_type": "code",
   "execution_count": 57,
   "metadata": {
    "collapsed": false
   },
   "outputs": [
    {
     "data": {
      "image/png": "[encoded data removed]",
      "text/latex": [
       "$$- \\left(x - 1\\right) \\left(x + 1\\right) \\left(x^{5} - 9 x^{3} + x^{2} - 1\\right)$$"
      ],
      "text/plain": [
       "                 ⎛ 5      3    2    ⎞\n",
       "-(x - 1)⋅(x + 1)⋅⎝x  - 9⋅x  + x  - 1⎠"
      ]
     },
     "execution_count": 57,
     "metadata": {},
     "output_type": "execute_result"
    }
   ],
   "source": [
    "num=-x**7 + 10*x**5 - x**4 - 9*x**3 + 2*x**2 - 1\n",
    "num.factor()"
   ]
  },
  {
   "cell_type": "code",
   "execution_count": 85,
   "metadata": {
    "collapsed": false
   },
   "outputs": [
    {
     "data": {
      "text/plain": [
       "array([ 2.94956549+0.j        , -3.04839961+0.j        ,\n",
       "        1.00000000+0.j        , -1.00000000+0.j        ,\n",
       "        0.27407809+0.41521363j,  0.27407809-0.41521363j, -0.44932206+0.j        ])"
      ]
     },
     "execution_count": 85,
     "metadata": {},
     "output_type": "execute_result"
    }
   ],
   "source": [
    "#calculemos las raices del numerador\n",
    "L=[num.diff(x,i).subs(x,0)/factorial(i) for i in range(8)]\n",
    "L=L[::-1]\n",
    "L\n",
    "import numpy as np\n",
    "sol=np.roots(L)\n",
    "sol"
   ]
  },
  {
   "cell_type": "markdown",
   "metadata": {},
   "source": [
    "como las raices reales son $-3.0483999$, $-1$, $-0,449322$, $1$ y $2,94956549$ (además $1$ es una raiz exacta), entonces para valores de $x$ entre $0$ y $1$ el numerador no cambia de signo. Si evaluamos el numerador en $0$ nos da $-1$. Luego el numerador es siempre negativo."
   ]
  },
  {
   "cell_type": "markdown",
   "metadata": {},
   "source": [
    "Veamos ahora que el denominador de $\\frac{dx}{d\\mu}$ es siempre positivo"
   ]
  },
  {
   "cell_type": "code",
   "execution_count": 59,
   "metadata": {
    "collapsed": false
   },
   "outputs": [
    {
     "data": {
      "image/png": "[encoded data removed]",
      "text/latex": [
       "$$x \\left(7 \\mu x^{5} - 50 \\mu x^{3} + 4 \\mu x^{2} + 27 \\mu x - 4 \\mu + 40 x^{3} - 4 x^{2} + 24 x + 4\\right)$$"
      ],
      "text/plain": [
       "  ⎛     5         3        2                      3      2           ⎞\n",
       "x⋅⎝7⋅μ⋅x  - 50⋅μ⋅x  + 4⋅μ⋅x  + 27⋅μ⋅x - 4⋅μ + 40⋅x  - 4⋅x  + 24⋅x + 4⎠"
      ]
     },
     "execution_count": 59,
     "metadata": {},
     "output_type": "execute_result"
    }
   ],
   "source": [
    "den=x*(7*mu*x**5 - 50*mu*x**3 + 4*mu*x**2 + 27*mu*x - 4*mu + 40*x**3 - 4*x**2 + 24*x + 4)\n",
    "den"
   ]
  },
  {
   "cell_type": "code",
   "execution_count": 76,
   "metadata": {
    "collapsed": false
   },
   "outputs": [
    {
     "data": {
      "image/png": "[encoded data removed]",
      "text/latex": [
       "$$7 \\mu x^{6} + x^{4} \\left(- 50 \\mu + 40\\right) + x^{3} \\left(4 \\mu - 4\\right) + x^{2} \\left(27 \\mu + 24\\right) + x \\left(- 4 \\mu + 4\\right)$$"
      ],
      "text/plain": [
       "     6    4                 3              2                           \n",
       "7⋅μ⋅x  + x ⋅(-50⋅μ + 40) + x ⋅(4⋅μ - 4) + x ⋅(27⋅μ + 24) + x⋅(-4⋅μ + 4)"
      ]
     },
     "execution_count": 76,
     "metadata": {},
     "output_type": "execute_result"
    }
   ],
   "source": [
    "den.expand().collect(x).collect(mu)"
   ]
  },
  {
   "cell_type": "code",
   "execution_count": 87,
   "metadata": {
    "collapsed": false
   },
   "outputs": [
    {
     "data": {
      "image/png": "[encoded data removed]",
      "text/latex": [
       "$$7 \\mu x^{6} - 10 \\mu x^{4} + 51 \\mu x^{2} + x^{4} \\left(- 40 \\mu + 40\\right) + x^{3} \\left(4 \\mu - 4\\right) + x^{2} \\left(- 24 \\mu + 24\\right) + x \\left(- 4 \\mu + 4\\right)$$"
      ],
      "text/plain": [
       "     6         4         2    4                 3              2              \n",
       "7⋅μ⋅x  - 10⋅μ⋅x  + 51⋅μ⋅x  + x ⋅(-40⋅μ + 40) + x ⋅(4⋅μ - 4) + x ⋅(-24⋅μ + 24) \n",
       "\n",
       "              \n",
       "+ x⋅(-4⋅μ + 4)"
      ]
     },
     "execution_count": 87,
     "metadata": {},
     "output_type": "execute_result"
    }
   ],
   "source": [
    "#El denominador se puede reescribir dejando algunos términos multiplicados por \\mu y otros multiplicados por 1-\\mu\n",
    "(7*mu*x**6 + x**4*(-40*mu + 40) -10*mu*x**4+ x**3*(4*mu - 4) + x**2*(-24*mu + 24) +51*mu*x**2+ x*(-4*mu + 4))"
   ]
  },
  {
   "cell_type": "code",
   "execution_count": 84,
   "metadata": {
    "collapsed": false
   },
   "outputs": [
    {
     "data": {
      "image/png": "[encoded data removed]",
      "text/latex": [
       "$$\\mu \\left(7 x^{6} - 10 x^{4} + 51 x^{2}\\right) + 40 x^{4} \\left(- \\mu + 1\\right) + 20 x^{3} \\left(- \\mu + 1\\right) + 4 x \\left(- \\mu + 1\\right)$$"
      ],
      "text/plain": [
       "  ⎛   6       4       2⎞       4                3                        \n",
       "μ⋅⎝7⋅x  - 10⋅x  + 51⋅x ⎠ + 40⋅x ⋅(-μ + 1) + 20⋅x ⋅(-μ + 1) + 4⋅x⋅(-μ + 1)"
      ]
     },
     "execution_count": 84,
     "metadata": {},
     "output_type": "execute_result"
    }
   ],
   "source": [
    "#y factorizando queda de esta forma\n",
    "denn=7*mu*x**6-10*mu*x**4+40*x**4*(1-mu)-4*x**3*(1-mu)+51*x**2*mu+24*x**3*(1-mu)+4*x*(1-mu)\n",
    "denn.collect(mu)"
   ]
  },
  {
   "cell_type": "markdown",
   "metadata": {},
   "source": [
    "como los polinomios $7x^6-10x^4+51x^2=x^2(7x^4-10x^2+51)$ y $40x^4+20x^3+4x=x(40x^3+20x^2+4)$ son siempre positivos para $0<x<1$ entonces el denominador es siempre positivo."
   ]
  },
  {
   "cell_type": "markdown",
   "metadata": {},
   "source": [
    "<h4> Luego, como $\\frac{dx}{d\\mu}$ es siempre negativa, la función $x(\\mu)$ es decreciente. Entonces $x(\\mu)\\leq x(0)$ para todo $0<\\mu<1$. Luego $$\\frac{x(\\mu)^3}{1-x(\\mu)^2}\\leq\\frac{x(0)^3}{1-x(0)^2} $$ <h4>\n",
    "\n",
    "Probemos ahora que $$\\frac{x(0)^3}{1-x(0)^2}<2.$$ La relación que hay entre $x$ y $\\mu$ es la siguiente"
   ]
  },
  {
   "cell_type": "code",
   "execution_count": 90,
   "metadata": {
    "collapsed": false
   },
   "outputs": [
    {
     "data": {
      "image/png": "[encoded data removed]",
      "text/latex": [
       "$$\\mu x^{7} - 10 \\mu x^{5} + \\mu x^{4} + 9 \\mu x^{3} - 2 \\mu x^{2} + \\mu + 8 x^{5} - x^{4} + 8 x^{3} + 2 x^{2} - 1 = 0$$"
      ],
      "text/plain": [
       "   7         5      4        3        2          5    4      3      2        \n",
       "μ⋅x  - 10⋅μ⋅x  + μ⋅x  + 9⋅μ⋅x  - 2⋅μ⋅x  + μ + 8⋅x  - x  + 8⋅x  + 2⋅x  - 1 = 0"
      ]
     },
     "execution_count": 90,
     "metadata": {},
     "output_type": "execute_result"
    }
   ],
   "source": [
    "ecua"
   ]
  },
  {
   "cell_type": "code",
   "execution_count": 92,
   "metadata": {
    "collapsed": false
   },
   "outputs": [
    {
     "data": {
      "image/png": "[encoded data removed]",
      "text/latex": [
       "$$8 x^{5} - x^{4} + 8 x^{3} + 2 x^{2} - 1 = 0$$"
      ],
      "text/plain": [
       "   5    4      3      2        \n",
       "8⋅x  - x  + 8⋅x  + 2⋅x  - 1 = 0"
      ]
     },
     "execution_count": 92,
     "metadata": {},
     "output_type": "execute_result"
    }
   ],
   "source": [
    "#si sustituimos $\\mu$ por $0$ entonces queda que\n",
    "ecua.subs(mu,0)"
   ]
  },
  {
   "cell_type": "code",
   "execution_count": 94,
   "metadata": {
    "collapsed": false
   },
   "outputs": [
    {
     "data": {
      "image/png": "[encoded data removed]",
      "text/latex": [
       "$$8 x^{5} + 8 x^{3} = \\left(x^{2} - 1\\right)^{2}$$"
      ],
      "text/plain": [
       "                      2\n",
       "   5      3   ⎛ 2    ⎞ \n",
       "8⋅x  + 8⋅x  = ⎝x  - 1⎠ "
      ]
     },
     "execution_count": 94,
     "metadata": {},
     "output_type": "execute_result"
    }
   ],
   "source": [
    "#esta ecuación se puede escribir de esta manera\n",
    "Eq(8*(x**5+x**3),(x**2-1)**2)"
   ]
  },
  {
   "cell_type": "markdown",
   "metadata": {},
   "source": [
    "Como $0<x<1$ entonces $0<8(x^5+x^3)<1$. Y luego, $$x^3<\\frac{1}{8(x^2+1)}<\\frac{1}{8}.$$ De esta última desigualdad tenemos que $$x^2<\\frac{1}{8^{2/3}}, $$ lo que implica que $$\\frac{1}{1-x^2}<\\frac{1}{1-(\\frac{1}{8})^{2/3}}.$$ Entonces\n",
    "$$ \\frac{x^3}{1-x^2}< \\frac{1}{8}\\frac{1}{1-(\\frac{1}{8})^{2/3}}=\\frac{1}{8-8^{1/3}}=\\frac{1}{6}<2.$$ Que es lo que queríamos probar."
   ]
  },
  {
   "cell_type": "code",
   "execution_count": null,
   "metadata": {
    "collapsed": true
   },
   "outputs": [],
   "source": []
  }
 ],
 "metadata": {
  "kernelspec": {
   "display_name": "Python 3",
   "language": "python",
   "name": "python3"
  },
  "language_info": {
   "codemirror_mode": {
    "name": "ipython",
    "version": 3
   },
   "file_extension": ".py",
   "mimetype": "text/x-python",
   "name": "python",
   "nbconvert_exporter": "python",
   "pygments_lexer": "ipython3",
   "version": "3.6.0"
  }
 },
 "nbformat": 4,
 "nbformat_minor": 2
}
