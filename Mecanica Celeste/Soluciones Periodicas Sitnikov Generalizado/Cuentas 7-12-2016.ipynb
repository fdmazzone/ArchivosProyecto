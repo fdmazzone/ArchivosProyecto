{
 "cells": [
  {
   "cell_type": "markdown",
   "metadata": {},
   "source": [
    "<h1> Cuentas del día 7/12/2016 </h1>\n"
   ]
  },
  {
   "cell_type": "markdown",
   "metadata": {},
   "source": [
    "<h2> Hoja 3</h2>"
   ]
  },
  {
   "cell_type": "code",
   "execution_count": 5,
   "metadata": {
    "collapsed": false
   },
   "outputs": [
    {
     "data": {
      "image/png": "[encoded data removed]",
      "text/latex": [
       "$$\\frac{8}{9}$$"
      ],
      "text/plain": [
       "8/9"
      ]
     },
     "execution_count": 5,
     "metadata": {},
     "output_type": "execute_result"
    }
   ],
   "source": [
    "from sympy import *\n",
    "init_printing()\n",
    "R=lambda n,d:Rational(n,d)\n",
    "R(8,9)"
   ]
  },
  {
   "cell_type": "code",
   "execution_count": 6,
   "metadata": {
    "collapsed": true
   },
   "outputs": [],
   "source": [
    "eps=symbols('epsilon')\n",
    "f=(3+eps)*(1+eps)**2*(2*eps+eps**2)+(3+eps)*(3+2*eps)-(5+3*eps)/2*(3+2*eps)*(2*eps+eps**2)"
   ]
  },
  {
   "cell_type": "code",
   "execution_count": 9,
   "metadata": {
    "collapsed": false
   },
   "outputs": [],
   "source": [
    "f=f.simplify()"
   ]
  },
  {
   "cell_type": "code",
   "execution_count": 12,
   "metadata": {
    "collapsed": false
   },
   "outputs": [
    {
     "data": {
      "text/plain": [
       "<sympy.plotting.plot.Plot at 0x7fe037b8dc90>"
      ]
     },
     "execution_count": 12,
     "metadata": {},
     "output_type": "execute_result"
    }
   ],
   "source": [
    "plot(f,(eps,0,10))"
   ]
  },
  {
   "cell_type": "code",
   "execution_count": 11,
   "metadata": {
    "collapsed": false
   },
   "outputs": [
    {
     "data": {
      "image/png": "[encoded data removed]",
      "text/latex": [
       "$$\\epsilon^{5} + 4 \\epsilon^{4} + \\frac{3 \\epsilon^{3}}{2} - \\frac{15 \\epsilon^{2}}{2} + 9$$"
      ],
      "text/plain": [
       "               3       2    \n",
       " 5      4   3⋅ε    15⋅ε     \n",
       "ε  + 4⋅ε  + ──── - ───── + 9\n",
       "             2       2      "
      ]
     },
     "execution_count": 11,
     "metadata": {},
     "output_type": "execute_result"
    }
   ],
   "source": [
    "f"
   ]
  },
  {
   "cell_type": "markdown",
   "metadata": {},
   "source": [
    "<h1> 7/12/2016 Hoja 1 de Gastón </h1>"
   ]
  },
  {
   "cell_type": "code",
   "execution_count": 16,
   "metadata": {
    "collapsed": false
   },
   "outputs": [
    {
     "data": {
      "image/png": "[encoded data removed]",
      "text/latex": [
       "$$- m_{1} - m_{2} + r^{5} \\left(m_{0} + m_{1}\\right) + r^{4} \\left(3 m_{0} + 2 m_{1}\\right) + r^{3} \\left(3 m_{0} + m_{1}\\right) + r^{2} \\left(- m_{1} - 3 m_{2}\\right) + r \\left(- 2 m_{1} - 3 m_{2}\\right)$$"
      ],
      "text/plain": [
       "            5              4                  3                2              \n",
       "-m₁ - m₂ + r ⋅(m₀ + m₁) + r ⋅(3⋅m₀ + 2⋅m₁) + r ⋅(3⋅m₀ + m₁) + r ⋅(-m₁ - 3⋅m₂) \n",
       "\n",
       "                  \n",
       "+ r⋅(-2⋅m₁ - 3⋅m₂)"
      ]
     },
     "execution_count": 16,
     "metadata": {},
     "output_type": "execute_result"
    }
   ],
   "source": [
    "r=symbols('r')\n",
    "m=symbols('m0:%s' %3, positive=True)\n",
    "Ecuacion=m[0]*r**5 + 3*m[0]*r**4 + 3*m[0]*r**3 + m[1]*r**5 + 2*m[1]*r**4 + m[1]*r**3 - m[1]*r**2 - 2*m[1]*r - m[1] - 3*m[2]*r**2 - 3*m[2]*r - m[2]\n",
    "Ecuacion.collect(r)"
   ]
  },
  {
   "cell_type": "code",
   "execution_count": 18,
   "metadata": {
    "collapsed": false
   },
   "outputs": [],
   "source": [
    "f=Ecuacion.subs({m[1]:1,m[0]:1,m[2]:1+eps})"
   ]
  },
  {
   "cell_type": "code",
   "execution_count": 19,
   "metadata": {
    "collapsed": false
   },
   "outputs": [
    {
     "data": {
      "image/png": "[encoded data removed]",
      "text/latex": [
       "$$- \\epsilon + 2 r^{5} + 5 r^{4} + 4 r^{3} - 3 r^{2} \\left(\\epsilon + 1\\right) - r^{2} - 3 r \\left(\\epsilon + 1\\right) - 2 r - 2$$"
      ],
      "text/plain": [
       "        5      4      3      2            2                        \n",
       "-ε + 2⋅r  + 5⋅r  + 4⋅r  - 3⋅r ⋅(ε + 1) - r  - 3⋅r⋅(ε + 1) - 2⋅r - 2"
      ]
     },
     "execution_count": 19,
     "metadata": {},
     "output_type": "execute_result"
    }
   ],
   "source": [
    "f"
   ]
  },
  {
   "cell_type": "code",
   "execution_count": 56,
   "metadata": {
    "collapsed": false
   },
   "outputs": [
    {
     "data": {
      "image/png": "[encoded data removed]",
      "text/latex": [
       "$$\\epsilon \\left(- 2 \\epsilon^{499} + 15 \\epsilon^{399} - 44 \\epsilon^{299} - 3 \\epsilon^{200} + 58 \\epsilon^{199} + 9 \\epsilon^{100} - 29 \\epsilon^{99} - 7\\right)$$"
      ],
      "text/plain": [
       "  ⎛     499       399       299      200       199      100       99    ⎞\n",
       "ε⋅⎝- 2⋅ε    + 15⋅ε    - 44⋅ε    - 3⋅ε    + 58⋅ε    + 9⋅ε    - 29⋅ε   - 7⎠"
      ]
     },
     "execution_count": 56,
     "metadata": {},
     "output_type": "execute_result"
    }
   ],
   "source": [
    "p=f.subs(r,(1-eps**100)).simplify()\n",
    "p"
   ]
  },
  {
   "cell_type": "code",
   "execution_count": 58,
   "metadata": {
    "collapsed": false
   },
   "outputs": [
    {
     "data": {
      "text/plain": [
       "<sympy.plotting.plot.Plot at 0x7fe03223c0d0>"
      ]
     },
     "execution_count": 58,
     "metadata": {},
     "output_type": "execute_result"
    }
   ],
   "source": [
    "plot(p,(eps,-1,0))"
   ]
  },
  {
   "cell_type": "code",
   "execution_count": 36,
   "metadata": {
    "collapsed": false
   },
   "outputs": [
    {
     "data": {
      "text/plain": [
       "<sympy.plotting.plot.Plot at 0x7fe033efa910>"
      ]
     },
     "execution_count": 36,
     "metadata": {},
     "output_type": "execute_result"
    }
   ],
   "source": [
    "q=f.subs(r,1+eps/5).simplify()\n",
    "plot(p,(eps,-1,0))"
   ]
  },
  {
   "cell_type": "markdown",
   "metadata": {},
   "source": [
    "g=(m[2]*(3*r**2+3*r+1)+m[1]*(r+1)**2)/(m[0]*(r**2+3*r+3)+m[1]*(r+1)**2)"
   ]
  },
  {
   "cell_type": "code",
   "execution_count": 59,
   "metadata": {
    "collapsed": true
   },
   "outputs": [],
   "source": [
    "g=(m[2]*(3*r**2+3*r+1)+m[1]*(r+1)**2)/(m[0]*(r**2+3*r+3)+m[1]*(r+1)**2)"
   ]
  },
  {
   "cell_type": "code",
   "execution_count": 60,
   "metadata": {
    "collapsed": false
   },
   "outputs": [
    {
     "data": {
      "image/png": "[encoded data removed]",
      "text/latex": [
       "$$\\frac{m_{1} \\left(r + 1\\right)^{2} + m_{2} \\left(3 r^{2} + 3 r + 1\\right)}{m_{0} \\left(r^{2} + 3 r + 3\\right) + m_{1} \\left(r + 1\\right)^{2}}$$"
      ],
      "text/plain": [
       "          2      ⎛   2          ⎞\n",
       "m₁⋅(r + 1)  + m₂⋅⎝3⋅r  + 3⋅r + 1⎠\n",
       "─────────────────────────────────\n",
       "    ⎛ 2          ⎞             2 \n",
       " m₀⋅⎝r  + 3⋅r + 3⎠ + m₁⋅(r + 1)  "
      ]
     },
     "execution_count": 60,
     "metadata": {},
     "output_type": "execute_result"
    }
   ],
   "source": [
    "g"
   ]
  },
  {
   "cell_type": "code",
   "execution_count": 62,
   "metadata": {
    "collapsed": false
   },
   "outputs": [
    {
     "data": {
      "image/png": "[encoded data removed]",
      "text/latex": [
       "$$\\frac{7 \\epsilon}{11} + 1$$"
      ],
      "text/plain": [
       "7⋅ε    \n",
       "─── + 1\n",
       " 11    "
      ]
     },
     "execution_count": 62,
     "metadata": {},
     "output_type": "execute_result"
    }
   ],
   "source": [
    "g.subs(r,1).subs({m[1]:1,m[0]:1,m[2]:1+eps})"
   ]
  },
  {
   "cell_type": "code",
   "execution_count": 65,
   "metadata": {
    "collapsed": false
   },
   "outputs": [
    {
     "data": {
      "text/plain": [
       "<sympy.plotting.plot.Plot at 0x7fe032490550>"
      ]
     },
     "execution_count": 65,
     "metadata": {},
     "output_type": "execute_result"
    }
   ],
   "source": [
    "plot(g.subs(r,1+eps).subs({m[1]:1,m[0]:1,m[2]:1+eps}).simplify(),(eps,-1,0))"
   ]
  },
  {
   "cell_type": "code",
   "execution_count": 68,
   "metadata": {
    "collapsed": false
   },
   "outputs": [],
   "source": [
    "g=g.subs(r,1+eps).subs({m[1]:1,m[0]:1,m[2]:1+eps}).simplify()"
   ]
  },
  {
   "cell_type": "code",
   "execution_count": 69,
   "metadata": {
    "collapsed": false
   },
   "outputs": [
    {
     "data": {
      "image/png": "[encoded data removed]",
      "text/latex": [
       "$$\\frac{3 \\epsilon^{3} + 13 \\epsilon^{2} + 20 \\epsilon + 11}{2 \\epsilon^{2} + 9 \\epsilon + 11}$$"
      ],
      "text/plain": [
       "   3       2            \n",
       "3⋅ε  + 13⋅ε  + 20⋅ε + 11\n",
       "────────────────────────\n",
       "       2                \n",
       "    2⋅ε  + 9⋅ε + 11     "
      ]
     },
     "execution_count": 69,
     "metadata": {},
     "output_type": "execute_result"
    }
   ],
   "source": [
    "g"
   ]
  },
  {
   "cell_type": "code",
   "execution_count": 70,
   "metadata": {
    "collapsed": false
   },
   "outputs": [
    {
     "data": {
      "text/plain": [
       "<sympy.plotting.plot.Plot at 0x7fe0326638d0>"
      ]
     },
     "execution_count": 70,
     "metadata": {},
     "output_type": "execute_result"
    }
   ],
   "source": [
    "plot(g,(eps,-1,0))"
   ]
  },
  {
   "cell_type": "code",
   "execution_count": 71,
   "metadata": {
    "collapsed": false
   },
   "outputs": [
    {
     "data": {
      "text/plain": [
       "<sympy.plotting.plot.Plot at 0x7fe034fb6810>"
      ]
     },
     "execution_count": 71,
     "metadata": {},
     "output_type": "execute_result"
    }
   ],
   "source": [
    "plot(2+(eps+1)/(2+eps),(eps,-1,0))"
   ]
  },
  {
   "cell_type": "code",
   "execution_count": 72,
   "metadata": {
    "collapsed": true
   },
   "outputs": [],
   "source": [
    "Q=(3+eps)*(2+eps)*(3+2*eps)+(3+eps)*(2+eps)*(-2*eps-eps**2)-2*(2+eps)*(-2*eps-eps**2)*(3+2*eps)-(1+eps)*(-2*eps-eps**2)*(3+2*eps)"
   ]
  },
  {
   "cell_type": "code",
   "execution_count": 74,
   "metadata": {
    "collapsed": false
   },
   "outputs": [
    {
     "data": {
      "image/png": "[encoded data removed]",
      "text/latex": [
       "$$5 \\epsilon^{4} + 26 \\epsilon^{3} + 50 \\epsilon^{2} + 45 \\epsilon + 18$$"
      ],
      "text/plain": [
       "   4       3       2            \n",
       "5⋅ε  + 26⋅ε  + 50⋅ε  + 45⋅ε + 18"
      ]
     },
     "execution_count": 74,
     "metadata": {},
     "output_type": "execute_result"
    }
   ],
   "source": [
    "Q.simplify()"
   ]
  },
  {
   "cell_type": "code",
   "execution_count": 75,
   "metadata": {
    "collapsed": false
   },
   "outputs": [
    {
     "data": {
      "text/plain": [
       "<sympy.plotting.plot.Plot at 0x7fe032049510>"
      ]
     },
     "execution_count": 75,
     "metadata": {},
     "output_type": "execute_result"
    }
   ],
   "source": [
    "plot(Q,(eps,-1,0))"
   ]
  },
  {
   "cell_type": "markdown",
   "metadata": {},
   "source": [
    "<h1> Conjetura </h1>\n",
    "<h2>\n",
    "\n",
    "Creemos que $U<\\frac{m_i^2}{|q_i|}+\\frac{m_{i+1}^2}{|q_{i+1}|}$ donde el centro de masas $c$ satisface $c\\in [q_i,q_{i+1}]$\n",
    "\n",
    "</h2>"
   ]
  },
  {
   "cell_type": "code",
   "execution_count": 83,
   "metadata": {
    "collapsed": false
   },
   "outputs": [
    {
     "data": {
      "image/png": "[encoded data removed]",
      "text/latex": [
       "$$m_{1} r^{5} + 2 m_{1} r^{4} + m_{1} r^{3} - m_{1} r^{2} - 2 m_{1} r - m_{1} - 3 m_{2} r^{2} - 3 m_{2} r - m_{2} + r^{5} + 3 r^{4} + 3 r^{3}$$"
      ],
      "text/plain": [
       "    5         4       3       2                       2                  5    \n",
       "m₁⋅r  + 2⋅m₁⋅r  + m₁⋅r  - m₁⋅r  - 2⋅m₁⋅r - m₁ - 3⋅m₂⋅r  - 3⋅m₂⋅r - m₂ + r  + 3\n",
       "\n",
       "  4      3\n",
       "⋅r  + 3⋅r "
      ]
     },
     "execution_count": 83,
     "metadata": {},
     "output_type": "execute_result"
    }
   ],
   "source": [
    "p=Ecuacion.subs({m[0]:1}).simplify()\n",
    "p"
   ]
  },
  {
   "cell_type": "code",
   "execution_count": 89,
   "metadata": {
    "collapsed": false
   },
   "outputs": [
    {
     "data": {
      "image/png": "[encoded data removed]",
      "text/latex": [
       "$$- 3 \\epsilon m_{1}^{2} - 3 \\epsilon m_{1} - \\epsilon + m_{1}^{6} + 3 m_{1}^{5} + 4 m_{1}^{4} - m_{1}^{3} - 5 m_{1}^{2} - 2 m_{1}$$"
      ],
      "text/plain": [
       "        2                  6       5       4     3       2       \n",
       "- 3⋅ε⋅m₁  - 3⋅ε⋅m₁ - ε + m₁  + 3⋅m₁  + 4⋅m₁  - m₁  - 5⋅m₁  - 2⋅m₁"
      ]
     },
     "execution_count": 89,
     "metadata": {},
     "output_type": "execute_result"
    }
   ],
   "source": [
    "p.subs({r:m[1],m[2]:m[1]+eps}).simplify()"
   ]
  },
  {
   "cell_type": "code",
   "execution_count": null,
   "metadata": {
    "collapsed": true
   },
   "outputs": [],
   "source": []
  }
 ],
 "metadata": {
  "kernelspec": {
   "display_name": "Python 2",
   "language": "python",
   "name": "python2"
  },
  "language_info": {
   "codemirror_mode": {
    "name": "ipython",
    "version": 2
   },
   "file_extension": ".py",
   "mimetype": "text/x-python",
   "name": "python",
   "nbconvert_exporter": "python",
   "pygments_lexer": "ipython2",
   "version": "2.7.11"
  }
 },
 "nbformat": 4,
 "nbformat_minor": 0
}
