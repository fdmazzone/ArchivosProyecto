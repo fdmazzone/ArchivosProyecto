{
 "cells": [
  {
   "cell_type": "code",
   "execution_count": 18,
   "metadata": {
    "collapsed": true
   },
   "outputs": [],
   "source": [
    "from sympy import *\n",
    "init_printing() #muestra símbolos más agradab\n",
    "R=lambda n,d: Rational(n,d)"
   ]
  },
  {
   "cell_type": "code",
   "execution_count": 9,
   "metadata": {
    "collapsed": false
   },
   "outputs": [],
   "source": [
    "Cant_Cuerpos=3\n",
    "m=symbols('m0:%s' %Cant_Cuerpos, positive=True) #masas\n",
    "var('r',positive=True)\n",
    "m=[1,m[1],m[2]]\n",
    "x=[0,1,1+r]\n",
    "c=sum([m[j]*x[j]/sum(m) for j in range(Cant_Cuerpos)])\n",
    "q=[(h-c).simplify() for h in x]\n",
    "U=sum([ sum([m[i]*m[j]/abs(x[i]-x[j]) for i in range(j) ]) for j in range(Cant_Cuerpos)])\n",
    "#momento de inercia\n",
    "Q=[m[i]**2/abs(q[i]) for i in range(Cant_Cuerpos)]"
   ]
  },
  {
   "cell_type": "code",
   "execution_count": 10,
   "metadata": {
    "collapsed": false
   },
   "outputs": [
    {
     "data": {
      "image/png": "[encoded data removed]",
      "text/latex": [
       "$$\\frac{m_{1} + m_{2} \\left(r + 1\\right)}{m_{1} + m_{2} + 1}$$"
      ],
      "text/plain": [
       "m₁ + m₂⋅(r + 1)\n",
       "───────────────\n",
       "  m₁ + m₂ + 1  "
      ]
     },
     "execution_count": 10,
     "metadata": {},
     "output_type": "execute_result"
    }
   ],
   "source": [
    "c.simplify()"
   ]
  },
  {
   "cell_type": "markdown",
   "metadata": {},
   "source": [
    "<h3> Hallemos cuando el centro de masas $q_1<0$ y $q_1>0$ </h3>"
   ]
  },
  {
   "cell_type": "code",
   "execution_count": 12,
   "metadata": {
    "collapsed": false
   },
   "outputs": [
    {
     "data": {
      "image/png": "[encoded data removed]",
      "text/latex": [
       "$$r < \\frac{1}{m_{2}}$$"
      ],
      "text/plain": [
       "    1 \n",
       "r < ──\n",
       "    m₂"
      ]
     },
     "execution_count": 12,
     "metadata": {},
     "output_type": "execute_result"
    }
   ],
   "source": [
    "solve(q[1]>0,r)"
   ]
  },
  {
   "cell_type": "code",
   "execution_count": 15,
   "metadata": {
    "collapsed": false
   },
   "outputs": [
    {
     "data": {
      "image/png": "[encoded data removed]",
      "text/latex": [
       "$$- m_{1} - m_{2} + r^{5} \\left(m_{1} + 1\\right) + r^{4} \\left(2 m_{1} + 3\\right) + r^{3} \\left(m_{1} + 3\\right) + r^{2} \\left(- m_{1} - 3 m_{2}\\right) + r \\left(- 2 m_{1} - 3 m_{2}\\right)$$"
      ],
      "text/plain": [
       "            5             4               3             2                     \n",
       "-m₁ - m₂ + r ⋅(m₁ + 1) + r ⋅(2⋅m₁ + 3) + r ⋅(m₁ + 3) + r ⋅(-m₁ - 3⋅m₂) + r⋅(-2\n",
       "\n",
       "           \n",
       "⋅m₁ - 3⋅m₂)"
      ]
     },
     "execution_count": 15,
     "metadata": {},
     "output_type": "execute_result"
    }
   ],
   "source": [
    "Ecuacion=m[0]*r**5 + 3*m[0]*r**4 + 3*m[0]*r**3 + m[1]*r**5 + 2*m[1]*r**4 + m[1]*r**3 - m[1]*r**2 - 2*m[1]*r - m[1] - 3*m[2]*r**2 - 3*m[2]*r - m[2]\n",
    "Ecuacion=Ecuacion.collect(r)\n",
    "Ecuacion"
   ]
  },
  {
   "cell_type": "code",
   "execution_count": 51,
   "metadata": {
    "collapsed": false
   },
   "outputs": [
    {
     "data": {
      "image/png": "[encoded data removed]",
      "text/latex": [
       "$$\\frac{m_{2}^{2} \\left(m_{2}^{2} + 3 m_{2} + 3\\right)}{5 m_{1} - m_{2}^{4} \\left(2 m_{1} + 3 m_{2}\\right) - 2 m_{2}^{3} \\left(m_{1} + 3 m_{2}\\right) + 3 m_{2}^{2} \\left(m_{1} + 3\\right) + 4 m_{2} \\left(2 m_{1} + 3\\right) + 5}$$"
      ],
      "text/plain": [
       "                                  2 ⎛  2           ⎞                          \n",
       "                                m₂ ⋅⎝m₂  + 3⋅m₂ + 3⎠                          \n",
       "──────────────────────────────────────────────────────────────────────────────\n",
       "         4                     3                   2                          \n",
       "5⋅m₁ - m₂ ⋅(2⋅m₁ + 3⋅m₂) - 2⋅m₂ ⋅(m₁ + 3⋅m₂) + 3⋅m₂ ⋅(m₁ + 3) + 4⋅m₂⋅(2⋅m₁ + 3\n",
       "\n",
       "     \n",
       "     \n",
       "─────\n",
       "     \n",
       ") + 5"
      ]
     },
     "execution_count": 51,
     "metadata": {},
     "output_type": "execute_result"
    }
   ],
   "source": [
    "(-Ecuacion.diff(m[2])/Ecuacion.diff(r)).subs(r,1/m[2]).simplify()"
   ]
  },
  {
   "cell_type": "code",
   "execution_count": 50,
   "metadata": {
    "collapsed": false
   },
   "outputs": [
    {
     "data": {
      "image/png": "[encoded data removed]",
      "text/latex": [
       "$$0.241379310345$$"
      ],
      "text/plain": [
       "0.241379310345"
      ]
     },
     "execution_count": 50,
     "metadata": {},
     "output_type": "execute_result"
    }
   ],
   "source": []
  },
  {
   "cell_type": "code",
   "execution_count": null,
   "metadata": {
    "collapsed": true
   },
   "outputs": [],
   "source": []
  }
 ],
 "metadata": {
  "kernelspec": {
   "display_name": "Python 2",
   "language": "python",
   "name": "python2"
  },
  "language_info": {
   "codemirror_mode": {
    "name": "ipython",
    "version": 2
   },
   "file_extension": ".py",
   "mimetype": "text/x-python",
   "name": "python",
   "nbconvert_exporter": "python",
   "pygments_lexer": "ipython2",
   "version": "2.7.11"
  }
 },
 "nbformat": 4,
 "nbformat_minor": 0
}
