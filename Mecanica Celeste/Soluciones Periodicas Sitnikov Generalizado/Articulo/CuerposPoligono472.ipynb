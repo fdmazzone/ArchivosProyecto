{
 "cells": [
  {
   "cell_type": "code",
   "execution_count": 1,
   "metadata": {
    "collapsed": true
   },
   "outputs": [],
   "source": [
    "from sympy import *\n",
    "init_printing()\n",
    "import numpy as num"
   ]
  },
  {
   "cell_type": "markdown",
   "metadata": {},
   "source": [
    "Hay que tratar de estimar establecer cuando vale que\n",
    "$$\\frac{1}{n}\\sum_{j=1}^{n-1}\\frac{1}{\\sin\\left(\\frac{j\\pi}{n}\\right)}< 4.$$\n",
    "Vamos a tratar de usar la forma de suma de Riemann del miembro izquierdo. Vamos a suponer primero que $n=2k$ es par.\n",
    "\n",
    "$$ \\sum_{j=1}^{2k-1}\\frac{1}{\\sin\\left(\\frac{j\\pi}{2k}\\right)}= \\sum_{j=1}^{k-1}\\frac{1}{\\sin\\left(\\frac{j\\pi}{2k}\\right)}+1 +\\sum_{j=k+1}^{2k-1}\\frac{1}{\\sin\\left(\\frac{j\\pi}{2k}\\right)}$$\n",
    "\n",
    "Ahora \n",
    "$$ \\sin\\left(\\frac{(k-j)\\pi}{2k}\\right)=\\sin\\left(\\frac{(k+j)\\pi}{2k}\\right)=\\cos\\left(\\frac{j\\pi}{2k}\\right).$$\n",
    "Luego\n",
    "$$\\sum_{j=1}^{2k-1}\\frac{1}{\\sin\\left(\\frac{j\\pi}{2k}\\right)} = 2 \\sum_{j=1}^{k-1}\\frac{1}{\\cos\\left(\\frac{j\\pi}{2k}\\right)}+1$$\n",
    "\n",
    "Entonces\n",
    "$$\\frac{1}{2k} \\sum_{j=1}^{2k-1}\\frac{1}{\\sin\\left(\\frac{j\\pi}{2k}\\right)}<4 \\iff \\frac{1}{k}\\sum_{j=1}^{k-1}\\frac{1}{\\cos\\left(\\frac{j\\pi}{2k}\\right)}+\\frac{1}\n",
    "{2k}<4\\tag{ 1}$$\n",
    " \n",
    "\n",
    "\n",
    "Necesitamos la primitiva de $1/cos(x)$ \n"
   ]
  },
  {
   "cell_type": "code",
   "execution_count": 2,
   "metadata": {
    "collapsed": false
   },
   "outputs": [
    {
     "data": {
      "image/png": "[encoded data removed]",
      "text/latex": [
       "$$- \\frac{1}{2} \\log{\\left (\\sin{\\left (x \\right )} - 1 \\right )} + \\frac{1}{2} \\log{\\left (\\sin{\\left (x \\right )} + 1 \\right )}$$"
      ],
      "text/plain": [
       "  log(sin(x) - 1)   log(sin(x) + 1)\n",
       "- ─────────────── + ───────────────\n",
       "         2                 2       "
      ]
     },
     "execution_count": 2,
     "metadata": {},
     "output_type": "execute_result"
    }
   ],
   "source": [
    "x=symbols('x')\n",
    "integrate(1/cos(x),x)"
   ]
  },
  {
   "cell_type": "markdown",
   "metadata": {},
   "source": [
    "No pone los módulos que llevan los logarítmos. La primitiva en $[0,\\frac{\\pi}{2})$ es\n",
    "$$f(x)=\\log\\sqrt{\\frac{1+sin(x)}{1-\\sin(x)}   }$$\n",
    "Luego, pensando en la suma de Riemann con una partición equi-espaciada con $\\delta x=\\frac{\\pi}{2k}$ del intervalo $\\left[\\left. 0,\\frac{\\pi}{2 }\\frac{(k-1)}{k} \\right)\\right.$ y como $1/\\cos x$ es creciente.\n",
    "$$ f\\left(\\frac{\\pi}{2 }\\frac{(k-1)}{k}  \\right)=\n",
    "\\int_0^{\\frac{\\pi}{2 }\\frac{(k-1)}{k} }\\frac{dx}{\\cos x}\n",
    "\\leq \\frac{\\pi}{2k}\\sum_{j=1}^{k-1}\\frac{1}{\\cos\\left(\\frac{j\\pi}{2k}\\right)} $$\n",
    "\n",
    "Luego la condición (1) no se satisface cuando \n",
    "\n",
    "$$4\\leq \\frac{2}{\\pi}f\\left(\\frac{\\pi}{2 }\\frac{(k-1)}{k}  \\right) +\\frac{1}{2k}\\iff 4\\leq \\frac{2}{\\pi}f\\left(x \\right)+\\frac12-\\frac{x}{\\pi},\\quad\\text{ donde}\\quad x=\\frac{\\pi}{2 }\\frac{(k-1)}{k}   $$\n",
    "\n",
    "o lo que es lo mismo\n",
    "\n",
    "$$ 3.5\\pi <2f(x)-x$$\n",
    "\n",
    "Ahora $g(x)=2f(x)-x$ tiene derivada $-1+2/cos(x)$ que es positiva en $[0,\\pi/2)$ luego $g(x)$ es creciente. Como $x$ es creciente respecto a $k$, tenemos $2f\\left(x \\right)-x$ creciente respecto a $k$. De modo que si encontramos un valor de $k_0$ tal que  $3.5\\pi\\leq 2f\\left(x \\right)-x$, lo mismo ocurrirá para todos los $k\\geq k_0$ y habremos establecido que la condición (1) no ocurre para ninguno de ellos. \n",
    "\n",
    "Hagamos ese cálculo con numpy.\n"
   ]
  },
  {
   "cell_type": "code",
   "execution_count": 3,
   "metadata": {
    "collapsed": false
   },
   "outputs": [
    {
     "data": {
      "image/png": "[encoded data removed]",
      "text/latex": [
       "$$0.0010054187283739$$"
      ],
      "text/plain": [
       "0.00100541872837390"
      ]
     },
     "execution_count": 3,
     "metadata": {},
     "output_type": "execute_result"
    }
   ],
   "source": [
    "def f(k):\n",
    "    x=num.pi/2*(k-1)/k\n",
    "    return 2*log(sqrt((1+sin(x))/(1-sin(x))))-x-3.5*num.pi\n",
    "f(420)\n",
    "\n"
   ]
  },
  {
   "cell_type": "markdown",
   "metadata": {},
   "source": [
    "Si tomamos $k=420$ ya nos da $2f(x)-x>3.5\\pi$. Este $k$ corresponde a  $n=2k=840$. Que es mucho más grande que el valor hipotético de 472. Pero no importa, ya sabemos que para $k\\geq 840$ ninguno la cumple. solo resta ver de los finitos $1\\leq k\\leq 840$ cuales la cumplen."
   ]
  },
  {
   "cell_type": "code",
   "execution_count": 4,
   "metadata": {
    "collapsed": true
   },
   "outputs": [],
   "source": [
    "def suma(k):\n",
    "    return sum([1/num.sin(j*num.pi/k) for j in range(1,k)])/k-4"
   ]
  },
  {
   "cell_type": "code",
   "execution_count": 5,
   "metadata": {
    "collapsed": false
   },
   "outputs": [],
   "source": [
    "L=[suma(k) for k in range(1,840)]"
   ]
  },
  {
   "cell_type": "code",
   "execution_count": 6,
   "metadata": {
    "collapsed": false
   },
   "outputs": [
    {
     "name": "stderr",
     "output_type": "stream",
     "text": [
      "/home/fernando/anaconda2/lib/python2.7/site-packages/matplotlib/font_manager.py:273: UserWarning: Matplotlib is building the font cache using fc-list. This may take a moment.\n",
      "  warnings.warn('Matplotlib is building the font cache using fc-list. This may take a moment.')\n"
     ]
    }
   ],
   "source": [
    "import matplotlib.pyplot as plt"
   ]
  },
  {
   "cell_type": "code",
   "execution_count": 7,
   "metadata": {
    "collapsed": false
   },
   "outputs": [],
   "source": [
    "plt.plot(range(1,840),L)\n",
    "plt.show()"
   ]
  },
  {
   "cell_type": "code",
   "execution_count": 8,
   "metadata": {
    "collapsed": false
   },
   "outputs": [
    {
     "data": {
      "image/png": "[encoded data removed]",
      "text/latex": [
       "$$\\left [ -0.00171560845613, \\quad -0.000365405283065, \\quad 0.000981940307929, \\quad 0.00232644038704, \\quad 0.003668106948\\right ]$$"
      ],
      "text/plain": [
       "[-0.00171560845613, -0.000365405283065, 0.000981940307929, 0.00232644038704, 0\n",
       ".003668106948]"
      ]
     },
     "execution_count": 8,
     "metadata": {},
     "output_type": "execute_result"
    }
   ],
   "source": [
    "L[470:475]"
   ]
  },
  {
   "cell_type": "markdown",
   "metadata": {},
   "source": [
    "Faltaría el caso $n$ impar"
   ]
  },
  {
   "cell_type": "code",
   "execution_count": null,
   "metadata": {
    "collapsed": true
   },
   "outputs": [],
   "source": []
  }
 ],
 "metadata": {
  "kernelspec": {
   "display_name": "Python 2",
   "language": "python",
   "name": "python2"
  },
  "language_info": {
   "codemirror_mode": {
    "name": "ipython",
    "version": 2
   },
   "file_extension": ".py",
   "mimetype": "text/x-python",
   "name": "python",
   "nbconvert_exporter": "python",
   "pygments_lexer": "ipython2",
   "version": "2.7.11"
  }
 },
 "nbformat": 4,
 "nbformat_minor": 0
}
