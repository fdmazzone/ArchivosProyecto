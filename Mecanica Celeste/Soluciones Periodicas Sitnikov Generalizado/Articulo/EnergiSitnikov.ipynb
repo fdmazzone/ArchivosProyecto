{
 "cells": [
  {
   "cell_type": "code",
   "execution_count": 1,
   "metadata": {
    "collapsed": false
   },
   "outputs": [
    {
     "name": "stderr",
     "output_type": "stream",
     "text": [
      "/home/fernando/anaconda2/lib/python2.7/site-packages/matplotlib/font_manager.py:273: UserWarning: Matplotlib is building the font cache using fc-list. This may take a moment.\n",
      "  warnings.warn('Matplotlib is building the font cache using fc-list. This may take a moment.')\n"
     ]
    }
   ],
   "source": [
    "import matplotlib.pyplot as plt\n",
    "from mpl_toolkits.mplot3d import Axes3D\n",
    "from matplotlib import cm\n",
    "import numpy as np"
   ]
  },
  {
   "cell_type": "code",
   "execution_count": null,
   "metadata": {
    "collapsed": true
   },
   "outputs": [],
   "source": []
  },
  {
   "cell_type": "code",
   "execution_count": 5,
   "metadata": {
    "collapsed": true
   },
   "outputs": [],
   "source": [
    "x=np.arange(-10,10,.1)\n",
    "v=np.arange(-5,5,.05)\n",
    "X,V=np.meshgrid(x,v)\n",
    "E=.5*V**2-2/(0.9062**2+X**2)**(0.5)-1/(1.3283**2+X**2)**(0.5)"
   ]
  },
  {
   "cell_type": "code",
   "execution_count": 6,
   "metadata": {
    "collapsed": true
   },
   "outputs": [],
   "source": [
    "fig=plt.figure()\n",
    "ax=Axes3D(fig)\n",
    "#Z=np.minimum(Z,100*np.ones(np.shape(Z)))\n",
    "#Z=np.maximum(Z,-1*np.ones(np.shape(Z)))\n",
    "ax.plot_surface(X,V,E,rstride=1, cstride=1, cmap=cm.coolwarm,linewidth=0, antialiased=False)\n",
    "#V=[k for k in [-20,0,20]]#np.arange(-20,20,1)]\n",
    "#cp = plt.contour(X, Y, Z,V)\n",
    "#plt.clabel(cp, inline=True,fontsize=10)\n",
    "plt.xlabel('X')\n",
    "plt.ylabel('V')\n",
    "plt.show()"
   ]
  },
  {
   "cell_type": "code",
   "execution_count": null,
   "metadata": {
    "collapsed": false
   },
   "outputs": [],
   "source": [
    "fig=plt.figure()\n",
    "H=np.concatenate((np.arange(-20,0,.5),np.arange(0,10,1)))\n",
    "cp = plt.contour(X, V, E,H)\n",
    "plt.clabel(cp, inline=True,fontsize=10)\n",
    "plt.xlabel('X')\n",
    "plt.ylabel('V')\n",
    "plt.show()"
   ]
  },
  {
   "cell_type": "code",
   "execution_count": 3,
   "metadata": {
    "collapsed": false
   },
   "outputs": [
    {
     "data": {
      "text/plain": [
       "45"
      ]
     },
     "execution_count": 3,
     "metadata": {},
     "output_type": "execute_result"
    }
   ],
   "source": [
    "sum(np.arange(1,10,1))"
   ]
  },
  {
   "cell_type": "code",
   "execution_count": null,
   "metadata": {
    "collapsed": true
   },
   "outputs": [],
   "source": []
  }
 ],
 "metadata": {
  "kernelspec": {
   "display_name": "Python 2",
   "language": "python",
   "name": "python2"
  },
  "language_info": {
   "codemirror_mode": {
    "name": "ipython",
    "version": 2
   },
   "file_extension": ".py",
   "mimetype": "text/x-python",
   "name": "python",
   "nbconvert_exporter": "python",
   "pygments_lexer": "ipython2",
   "version": "2.7.11"
  }
 },
 "nbformat": 4,
 "nbformat_minor": 0
}
