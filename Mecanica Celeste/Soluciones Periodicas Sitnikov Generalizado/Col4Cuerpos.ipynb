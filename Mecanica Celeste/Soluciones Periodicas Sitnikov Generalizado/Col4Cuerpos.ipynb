{
 "cells": [
  {
   "cell_type": "code",
   "execution_count": 1,
   "metadata": {
    "collapsed": true
   },
   "outputs": [],
   "source": [
    "from sympy import *\n",
    "init_printing()\n"
   ]
  },
  {
   "cell_type": "code",
   "execution_count": 21,
   "metadata": {
    "collapsed": false
   },
   "outputs": [
    {
     "data": {
      "image/png": "[encoded data removed]",
      "text/latex": [
       "$$\\frac{1}{4 x^{3} \\left(x^{4} - 2 x^{2} + 1\\right)} \\left(\\mu x^{7} - 10 \\mu x^{5} + \\mu x^{4} + 9 \\mu x^{3} - 2 \\mu x^{2} + \\mu + 8 x^{5} - x^{4} + 8 x^{3} + 2 x^{2} - 1\\right)$$"
      ],
      "text/plain": [
       "   7         5      4        3        2          5    4      3      2    \n",
       "μ⋅x  - 10⋅μ⋅x  + μ⋅x  + 9⋅μ⋅x  - 2⋅μ⋅x  + μ + 8⋅x  - x  + 8⋅x  + 2⋅x  - 1\n",
       "─────────────────────────────────────────────────────────────────────────\n",
       "                              3 ⎛ 4      2    ⎞                          \n",
       "                           4⋅x ⋅⎝x  - 2⋅x  + 1⎠                          "
      ]
     },
     "execution_count": 21,
     "metadata": {},
     "output_type": "execute_result"
    }
   ],
   "source": [
    "mu,x=symbols('mu,x')\n",
    "ec=mu/4+(1-mu)/(1+x)**2+(1-mu)/(1-x)**2-mu/x/(1+x)**2-(1-mu)/4/x**3+mu/x/(1-x)**2\n",
    "ec.simplify()"
   ]
  },
  {
   "cell_type": "code",
   "execution_count": 22,
   "metadata": {
    "collapsed": false
   },
   "outputs": [
    {
     "data": {
      "image/png": "[encoded data removed]",
      "text/latex": [
       "$$\\mu x^{7} - 10 \\mu x^{5} + \\mu x^{4} + 9 \\mu x^{3} - 2 \\mu x^{2} + \\mu + 8 x^{5} - x^{4} + 8 x^{3} + 2 x^{2} - 1$$"
      ],
      "text/plain": [
       "   7         5      4        3        2          5    4      3      2    \n",
       "μ⋅x  - 10⋅μ⋅x  + μ⋅x  + 9⋅μ⋅x  - 2⋅μ⋅x  + μ + 8⋅x  - x  + 8⋅x  + 2⋅x  - 1"
      ]
     },
     "execution_count": 22,
     "metadata": {},
     "output_type": "execute_result"
    }
   ],
   "source": [
    "ec2=(mu*x**7 - 10*mu*x**5 + mu*x**4 + 9*mu*x**3 - 2*mu*x**2 + mu + 8*x**5 - x**4 + 8*x**3 + 2*x**2 - 1)\n",
    "ec2"
   ]
  },
  {
   "cell_type": "code",
   "execution_count": 27,
   "metadata": {
    "collapsed": false
   },
   "outputs": [
    {
     "data": {
      "image/png": "[encoded data removed]",
      "text/latex": [
       "$$\\left [ \\mu, \\quad 0, \\quad - 10 \\mu + 8, \\quad \\mu - 1, \\quad 9 \\mu + 8, \\quad - 2 \\mu + 2, \\quad 0, \\quad \\mu - 1\\right ]$$"
      ],
      "text/plain": [
       "[μ, 0, -10⋅μ + 8, μ - 1, 9⋅μ + 8, -2⋅μ + 2, 0, μ - 1]"
      ]
     },
     "execution_count": 27,
     "metadata": {},
     "output_type": "execute_result"
    }
   ],
   "source": [
    "L=[ec2.diff(x,i).subs(x,0)/factorial(i) for i in range(8)]\n",
    "L=L[::-1]\n",
    "L"
   ]
  },
  {
   "cell_type": "code",
   "execution_count": 24,
   "metadata": {
    "collapsed": false
   },
   "outputs": [
    {
     "data": {
      "text/plain": [
       "array([-1.60048518+1.24962107j, -1.60048518-1.24962107j,\n",
       "        1.60048518+1.24962107j,  1.60048518-1.24962107j,\n",
       "        0.00000000+0.j        ,  0.00000000+0.j        ,  0.00000000+0.j        ])"
      ]
     },
     "execution_count": 24,
     "metadata": {},
     "output_type": "execute_result"
    }
   ],
   "source": [
    "import numpy as np\n",
    "sol=np.roots(L)\n",
    "sol"
   ]
  },
  {
   "cell_type": "code",
   "execution_count": 15,
   "metadata": {
    "collapsed": false
   },
   "outputs": [
    {
     "data": {
      "image/png": "[encoded data removed]",
      "text/latex": [
       "$$\\left [ \\right ]$$"
      ],
      "text/plain": [
       "[]"
      ]
     },
     "execution_count": 15,
     "metadata": {},
     "output_type": "execute_result"
    }
   ],
   "source": [
    "solve(ec2.subs(mu,1)/x**3,x)"
   ]
  },
  {
   "cell_type": "code",
   "execution_count": 25,
   "metadata": {
    "collapsed": false
   },
   "outputs": [
    {
     "data": {
      "image/png": "[encoded data removed]",
      "text/latex": [
       "$$x^{4} - 2 x^{2} + 17$$"
      ],
      "text/plain": [
       " 4      2     \n",
       "x  - 2⋅x  + 17"
      ]
     },
     "execution_count": 25,
     "metadata": {},
     "output_type": "execute_result"
    }
   ],
   "source": [
    "ec3=simplify(ec2.subs(mu,1)/x**3)\n",
    "ec3"
   ]
  },
  {
   "cell_type": "code",
   "execution_count": 26,
   "metadata": {
    "collapsed": false
   },
   "outputs": [
    {
     "data": {
      "image/png": "[encoded data removed]",
      "text/latex": [
       "$$\\left [ - \\sqrt[4]{17} \\cos{\\left (\\frac{1}{2} \\operatorname{atan}{\\left (4 \\right )} \\right )} - \\sqrt[4]{17} i \\sin{\\left (\\frac{1}{2} \\operatorname{atan}{\\left (4 \\right )} \\right )}, \\quad - \\sqrt[4]{17} \\cos{\\left (\\frac{1}{2} \\operatorname{atan}{\\left (4 \\right )} \\right )} + \\sqrt[4]{17} i \\sin{\\left (\\frac{1}{2} \\operatorname{atan}{\\left (4 \\right )} \\right )}, \\quad \\sqrt[4]{17} \\cos{\\left (\\frac{1}{2} \\operatorname{atan}{\\left (4 \\right )} \\right )} - \\sqrt[4]{17} i \\sin{\\left (\\frac{1}{2} \\operatorname{atan}{\\left (4 \\right )} \\right )}, \\quad \\sqrt[4]{17} \\cos{\\left (\\frac{1}{2} \\operatorname{atan}{\\left (4 \\right )} \\right )} + \\sqrt[4]{17} i \\sin{\\left (\\frac{1}{2} \\operatorname{atan}{\\left (4 \\right )} \\right )}\\right ]$$"
      ],
      "text/plain": [
       "⎡  4 ____    ⎛atan(4)⎞   4 ____      ⎛atan(4)⎞    4 ____    ⎛atan(4)⎞   4 ____\n",
       "⎢- ╲╱ 17 ⋅cos⎜───────⎟ - ╲╱ 17 ⋅ⅈ⋅sin⎜───────⎟, - ╲╱ 17 ⋅cos⎜───────⎟ + ╲╱ 17 \n",
       "⎣            ⎝   2   ⎠               ⎝   2   ⎠              ⎝   2   ⎠         \n",
       "\n",
       "      ⎛atan(4)⎞  4 ____    ⎛atan(4)⎞   4 ____      ⎛atan(4)⎞  4 ____    ⎛atan(\n",
       "⋅ⅈ⋅sin⎜───────⎟, ╲╱ 17 ⋅cos⎜───────⎟ - ╲╱ 17 ⋅ⅈ⋅sin⎜───────⎟, ╲╱ 17 ⋅cos⎜─────\n",
       "      ⎝   2   ⎠            ⎝   2   ⎠               ⎝   2   ⎠            ⎝   2 \n",
       "\n",
       "4)⎞   4 ____      ⎛atan(4)⎞⎤\n",
       "──⎟ + ╲╱ 17 ⋅ⅈ⋅sin⎜───────⎟⎥\n",
       "  ⎠               ⎝   2   ⎠⎦"
      ]
     },
     "execution_count": 26,
     "metadata": {},
     "output_type": "execute_result"
    }
   ],
   "source": [
    "solve(ec3,x)"
   ]
  },
  {
   "cell_type": "code",
   "execution_count": 30,
   "metadata": {
    "collapsed": true
   },
   "outputs": [],
   "source": [
    "def func(m):\n",
    "    Lp=[p.subs(mu,m) for p in L]\n",
    "    sol=np.roots(Lp)\n",
    "    return sol\n",
    "    \n",
    "    "
   ]
  },
  {
   "cell_type": "code",
   "execution_count": 31,
   "metadata": {
    "collapsed": false
   },
   "outputs": [
    {
     "data": {
      "text/plain": [
       "array([-1.60048518+1.24962107j, -1.60048518-1.24962107j,\n",
       "        1.60048518+1.24962107j,  1.60048518-1.24962107j,\n",
       "        0.00000000+0.j        ,  0.00000000+0.j        ,  0.00000000+0.j        ])"
      ]
     },
     "execution_count": 31,
     "metadata": {},
     "output_type": "execute_result"
    }
   ],
   "source": [
    "func(1)"
   ]
  },
  {
   "cell_type": "code",
   "execution_count": null,
   "metadata": {
    "collapsed": true
   },
   "outputs": [],
   "source": []
  }
 ],
 "metadata": {
  "kernelspec": {
   "display_name": "Python 2",
   "language": "python",
   "name": "python2"
  },
  "language_info": {
   "codemirror_mode": {
    "name": "ipython",
    "version": 2
   },
   "file_extension": ".py",
   "mimetype": "text/x-python",
   "name": "python",
   "nbconvert_exporter": "python",
   "pygments_lexer": "ipython2",
   "version": "2.7.11"
  }
 },
 "nbformat": 4,
 "nbformat_minor": 0
}
